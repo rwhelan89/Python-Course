{
 "cells": [
  {
   "cell_type": "code",
   "execution_count": 7,
   "id": "01b518cb-7b36-4a3c-8f93-3eeabe260e42",
   "metadata": {},
   "outputs": [],
   "source": [
    "import pandas as pd\n",
    "import numpy as np\n",
    "\n",
    "data_df = pd.read_csv(\"c3_bike-sharing.csv\")"
   ]
  },
  {
   "cell_type": "code",
   "execution_count": 4,
   "id": "10bfdcf2-564e-441b-867b-5b8dcce3e97d",
   "metadata": {},
   "outputs": [
    {
     "data": {
      "text/html": [
       "<div>\n",
       "<style scoped>\n",
       "    .dataframe tbody tr th:only-of-type {\n",
       "        vertical-align: middle;\n",
       "    }\n",
       "\n",
       "    .dataframe tbody tr th {\n",
       "        vertical-align: top;\n",
       "    }\n",
       "\n",
       "    .dataframe thead th {\n",
       "        text-align: right;\n",
       "    }\n",
       "</style>\n",
       "<table border=\"1\" class=\"dataframe\">\n",
       "  <thead>\n",
       "    <tr style=\"text-align: right;\">\n",
       "      <th></th>\n",
       "      <th>temp</th>\n",
       "      <th>users</th>\n",
       "    </tr>\n",
       "  </thead>\n",
       "  <tbody>\n",
       "    <tr>\n",
       "      <th>0</th>\n",
       "      <td>0.1964</td>\n",
       "      <td>120</td>\n",
       "    </tr>\n",
       "    <tr>\n",
       "      <th>1</th>\n",
       "      <td>0.2000</td>\n",
       "      <td>108</td>\n",
       "    </tr>\n",
       "    <tr>\n",
       "      <th>2</th>\n",
       "      <td>0.2270</td>\n",
       "      <td>82</td>\n",
       "    </tr>\n",
       "    <tr>\n",
       "      <th>3</th>\n",
       "      <td>0.2043</td>\n",
       "      <td>88</td>\n",
       "    </tr>\n",
       "    <tr>\n",
       "      <th>4</th>\n",
       "      <td>0.1508</td>\n",
       "      <td>41</td>\n",
       "    </tr>\n",
       "  </tbody>\n",
       "</table>\n",
       "</div>"
      ],
      "text/plain": [
       "     temp  users\n",
       "0  0.1964    120\n",
       "1  0.2000    108\n",
       "2  0.2270     82\n",
       "3  0.2043     88\n",
       "4  0.1508     41"
      ]
     },
     "execution_count": 4,
     "metadata": {},
     "output_type": "execute_result"
    }
   ],
   "source": [
    "temp = data_df.temp.values\n",
    "users = data_df.users.values\n",
    "\n",
    "data_df.head()"
   ]
  },
  {
   "cell_type": "code",
   "execution_count": 5,
   "id": "81b35bf6-80d7-4839-83d6-6d40d442010c",
   "metadata": {},
   "outputs": [],
   "source": [
    "# collinearity appears when there is an exact linear relationship between one of more of the features\n",
    "\n",
    "# test by converting the temp to celsius\n",
    "\n",
    "temp_C = 47 * temp - 8"
   ]
  },
  {
   "cell_type": "code",
   "execution_count": 13,
   "id": "b96a1e51-dd9a-493a-8b36-5ddec7fa4b2d",
   "metadata": {},
   "outputs": [
    {
     "name": "stdout",
     "output_type": "stream",
     "text": [
      "Rank: 2\n"
     ]
    }
   ],
   "source": [
    "# illustrate OLS solution does not exist\n",
    "\n",
    "# create input matrix\n",
    "X = np.c_[temp, temp_C]\n",
    "\n",
    "# add ones\n",
    "X1 = np.c_[np.ones(X.shape[0]), X]\n",
    "\n",
    "# compute rank\n",
    "rank = np.linalg.matrix_rank(X1)\n",
    "print(\"Rank:\", rank)"
   ]
  },
  {
   "cell_type": "markdown",
   "id": "71bcca56-aabe-435d-b0e0-8e7e715ff1fa",
   "metadata": {},
   "source": [
    "Rank deficient as rank is not maximal ie 3"
   ]
  },
  {
   "cell_type": "code",
   "execution_count": 14,
   "id": "43cc95be-6532-416d-a63f-3295e6c405c0",
   "metadata": {},
   "outputs": [
    {
     "name": "stdout",
     "output_type": "stream",
     "text": [
      "w: [155.34445517  27.10638524  31.24446504]\n",
      "rank: 2\n",
      "RSS: []\n"
     ]
    }
   ],
   "source": [
    "from scipy.linalg import lstsq\n",
    "\n",
    "# compute OLS using lstsq\n",
    "w, rss, rank, _ = lstsq(X1, users)\n",
    "\n",
    "print(\"w:\", w)\n",
    "print(\"rank:\", rank)\n",
    "print(\"RSS:\", rss)"
   ]
  },
  {
   "cell_type": "code",
   "execution_count": 17,
   "id": "e69f779d-a878-4a9b-ac8f-6959b30b3c11",
   "metadata": {},
   "outputs": [
    {
     "name": "stdout",
     "output_type": "stream",
     "text": [
      "R^2 normal: 0.5954233080185317\n"
     ]
    }
   ],
   "source": [
    "# compare performance\n",
    "\n",
    "from sklearn.metrics import r2_score\n",
    "\n",
    "# R^2 coeff of simple linear regresiion\n",
    "coefs = np.polyfit(temp, users, deg=1)\n",
    "y_pred_normal = np.polyval(coefs, temp)\n",
    "r2_normal = r2_score(users, y_pred_normal)\n",
    "print(\"R^2 normal:\", r2_normal)"
   ]
  },
  {
   "cell_type": "code",
   "execution_count": 18,
   "id": "950f9c4b-6a32-4d0c-8185-b493f53344b5",
   "metadata": {},
   "outputs": [
    {
     "name": "stdout",
     "output_type": "stream",
     "text": [
      "R^2 collinear: 0.5954233080185317\n"
     ]
    }
   ],
   "source": [
    "# r^2 coefficient with collinear features\n",
    "y_pred_collinear = np.matmul(X1, w)\n",
    "r2_collinear = r2_score(users, y_pred_collinear)\n",
    "print(\"R^2 collinear:\", r2_collinear)"
   ]
  },
  {
   "cell_type": "markdown",
   "id": "868e1727-5bc5-4fc0-8dbf-3d77a7f1bfe3",
   "metadata": {},
   "source": [
    "Testing nearly collinear features"
   ]
  },
  {
   "cell_type": "code",
   "execution_count": 19,
   "id": "7761eac2-6664-4166-8761-43835a7a3f3f",
   "metadata": {},
   "outputs": [],
   "source": [
    "# convert to degrees celsius to fahrenheit\n",
    "temp_F = 1.8 * temp_C + 32"
   ]
  },
  {
   "cell_type": "code",
   "execution_count": 22,
   "id": "f1f8862a-5319-4d9e-b33f-b1aefe6d9c55",
   "metadata": {},
   "outputs": [
    {
     "name": "stdout",
     "output_type": "stream",
     "text": [
      "rank: 3\n",
      "RMSE: 232.95329660235728\n",
      "w: [-42213.79222862  -2351.85666849   1324.23221356]\n"
     ]
    }
   ],
   "source": [
    "# add small noise to temp_F variable\n",
    "\n",
    "def compute_ols_with_noise(temp_c, users):\n",
    "    # convert to deg F\n",
    "    temp_F = 1.8 * temp_C + 32\n",
    "    \n",
    "    # add small variations\n",
    "    noise = np.random.normal(loc=0, scale=0.01, size=temp_F.shape)\n",
    "    temp_F += noise\n",
    "    \n",
    "    # create input matrix X\n",
    "    X = np.c_[temp_C, temp_F]\n",
    "    \n",
    "    # compute OLS using lstsq\n",
    "    X1 = np.c_[np.ones(X.shape[0]), X]\n",
    "    w, rss, rank, _ = lstsq(X1, users)\n",
    "    \n",
    "    return w, rss, rank, X1\n",
    "\n",
    "\n",
    "w, rss, rank, X1 = compute_ols_with_noise(temp_C, users)\n",
    "\n",
    "print(\"rank:\", rank)\n",
    "print(\"RMSE:\", np.sqrt(rss / len(users)))\n",
    "print(\"w:\", w)"
   ]
  },
  {
   "cell_type": "code",
   "execution_count": 26,
   "id": "4209c3a4-96f4-4b88-a4ce-ddbc77b5e0fb",
   "metadata": {},
   "outputs": [
    {
     "name": "stdout",
     "output_type": "stream",
     "text": [
      "run  rank  RMSE                coefficients\n",
      "0    3     232.47004192329436  [64400.06978346  3645.62699786 -2007.59786619]\n",
      "1    3     233.35151569103408  [9268.50425309  544.16315104 -284.63940954]\n",
      "2    3     233.19960790857675  [-29072.27514584  -1612.36352665    913.46536364]\n",
      "3    3     233.2570038885482   [-24689.63064063  -1366.07997074    776.5800606 ]\n",
      "4    3     232.7793255309521   [-53089.39037663  -2963.37666439   1664.0040854 ]\n"
     ]
    }
   ],
   "source": [
    "# run several times see coefficients vary a lot\n",
    "\n",
    "txt_fmt = \"{:<5}{:<6}{:<20}{:}\"\n",
    "print(txt_fmt.format(\"run\", \"rank\", \"RMSE\", \"coefficients\"))\n",
    "\n",
    "for i in range(5):\n",
    "    w, rss, rank, X1 = compute_ols_with_noise(temp_C, users)\n",
    "    print(txt_fmt.format(i, rank, np.sqrt(rss/ len(users)), w))"
   ]
  },
  {
   "cell_type": "markdown",
   "id": "07b46fe5-9a3e-49d6-b20e-3fa643e8132c",
   "metadata": {},
   "source": [
    "ill-conditioning"
   ]
  },
  {
   "cell_type": "code",
   "execution_count": 28,
   "id": "9c058047-7ea5-46ae-9219-e0f1bdef444d",
   "metadata": {},
   "outputs": [
    {
     "name": "stdout",
     "output_type": "stream",
     "text": [
      "Condition number: 213799.11622193834\n"
     ]
    }
   ],
   "source": [
    "# inverting a matrix with large condition number is numerically unstable\n",
    "\n",
    "# condition number\n",
    "cn = np.linalg.cond(X1)\n",
    "print(\"Condition number:\", cn)"
   ]
  },
  {
   "cell_type": "code",
   "execution_count": 30,
   "id": "94a185c7-9064-42a6-9049-0adf7c4cc24b",
   "metadata": {},
   "outputs": [
    {
     "name": "stdout",
     "output_type": "stream",
     "text": [
      "R^2 nearly collinear: 0.597458040904572\n"
     ]
    }
   ],
   "source": [
    "# same with nearly collinear matrix\n",
    "y_pred_nearcol = np.matmul(X1, w)\n",
    "r2_nearcol = r2_score(users, y_pred_nearcol)\n",
    "\n",
    "print(\"R^2 nearly collinear:\", r2_nearcol)"
   ]
  },
  {
   "cell_type": "code",
   "execution_count": 32,
   "id": "3731392d-cfbe-40f4-98f8-93d6e8966f54",
   "metadata": {},
   "outputs": [
    {
     "name": "stdout",
     "output_type": "stream",
     "text": [
      "Coefficients: [ 7.39498492 13.55373162]\n",
      "Intercept: -273.2687438185834\n",
      "R^2: 0.5954391250709111\n"
     ]
    }
   ],
   "source": [
    "# solve ill conditioning using constraint on coefficients. Add regularization term that penalizes large coefficients\n",
    "\n",
    "from sklearn.linear_model import Ridge\n",
    "\n",
    "def compute_with_regularization(temp_C, users):\n",
    "    \n",
    "     # add small variations\n",
    "    noise = np.random.normal(loc=0, scale=0.01, size=temp_C.shape)\n",
    "    temp_F = (1.8 * temp_C + 32) + noise\n",
    "    \n",
    "    # create input matrix X\n",
    "    X = np.c_[temp_C, temp_F]\n",
    "    \n",
    "    # fit ridge regression\n",
    "    ridge = Ridge(alpha=100)\n",
    "    ridge.fit(X, users)\n",
    "    \n",
    "    return ridge, X\n",
    "\n",
    "ridge, X = compute_with_regularization(temp_C, users)\n",
    "\n",
    "print(\"Coefficients:\", ridge.coef_)\n",
    "print(\"Intercept:\", ridge.intercept_)\n",
    "print(\"R^2:\", ridge.score(X, users))\n",
    "    \n",
    "    "
   ]
  },
  {
   "cell_type": "code",
   "execution_count": 33,
   "id": "7da10c28-c718-48e0-bf09-559aff142d77",
   "metadata": {},
   "outputs": [
    {
     "name": "stdout",
     "output_type": "stream",
     "text": [
      "run  coefficients               intercept            R^2\n",
      "0    [7.55336854, 13.46406903]  -270.355577608103    0.5954140728932338\n",
      "1    [7.26542626, 13.62463543]  -275.50596646476356  0.5954595200772208\n",
      "2    [7.55898202, 13.46119364]  -270.27511547311985  0.5954132298144229\n",
      "3    [7.27748969, 13.6179956]   -275.30058971359153  0.5954575998217178\n",
      "4    [7.590474, 13.4436044]     -269.71237091509147  0.5954083138188453\n"
     ]
    }
   ],
   "source": [
    "txt_fmt = \"{:<5}{:<27}{:<21}{:}\"\n",
    "print(txt_fmt.format(\"run\", \"coefficients\", \"intercept\", \"R^2\"))\n",
    "for i in range(5):\n",
    "    ridge, X = compute_with_regularization(temp_C, users)\n",
    "    print(txt_fmt.format(i, str(list(ridge.coef_.round(8))),\n",
    "                         ridge.intercept_, ridge.score(X, users)))"
   ]
  },
  {
   "cell_type": "code",
   "execution_count": null,
   "id": "2134fe44-3339-4be9-b11f-f0ec987bea61",
   "metadata": {},
   "outputs": [],
   "source": []
  }
 ],
 "metadata": {
  "kernelspec": {
   "display_name": "Python [conda env:adsml] *",
   "language": "python",
   "name": "conda-env-adsml-py"
  },
  "language_info": {
   "codemirror_mode": {
    "name": "ipython",
    "version": 3
   },
   "file_extension": ".py",
   "mimetype": "text/x-python",
   "name": "python",
   "nbconvert_exporter": "python",
   "pygments_lexer": "ipython3",
   "version": "3.9.7"
  }
 },
 "nbformat": 4,
 "nbformat_minor": 5
}
