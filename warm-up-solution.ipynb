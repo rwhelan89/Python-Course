{
 "cells": [
  {
   "cell_type": "markdown",
   "id": "ffd020c2-9a8d-4bc9-882a-fdce7f9e1d6d",
   "metadata": {},
   "source": [
    "TASK 1"
   ]
  },
  {
   "cell_type": "code",
   "execution_count": 1,
   "id": "abd90784-973b-458e-804f-aeb7dbc59763",
   "metadata": {},
   "outputs": [
    {
     "data": {
      "text/html": [
       "<div>\n",
       "<style scoped>\n",
       "    .dataframe tbody tr th:only-of-type {\n",
       "        vertical-align: middle;\n",
       "    }\n",
       "\n",
       "    .dataframe tbody tr th {\n",
       "        vertical-align: top;\n",
       "    }\n",
       "\n",
       "    .dataframe thead th {\n",
       "        text-align: right;\n",
       "    }\n",
       "</style>\n",
       "<table border=\"1\" class=\"dataframe\">\n",
       "  <thead>\n",
       "    <tr style=\"text-align: right;\">\n",
       "      <th></th>\n",
       "      <th>x</th>\n",
       "      <th>y</th>\n",
       "    </tr>\n",
       "  </thead>\n",
       "  <tbody>\n",
       "    <tr>\n",
       "      <th>0</th>\n",
       "      <td>10.529</td>\n",
       "      <td>39.105</td>\n",
       "    </tr>\n",
       "    <tr>\n",
       "      <th>1</th>\n",
       "      <td>10.799</td>\n",
       "      <td>40.584</td>\n",
       "    </tr>\n",
       "    <tr>\n",
       "      <th>2</th>\n",
       "      <td>11.698</td>\n",
       "      <td>39.883</td>\n",
       "    </tr>\n",
       "    <tr>\n",
       "      <th>3</th>\n",
       "      <td>12.851</td>\n",
       "      <td>39.411</td>\n",
       "    </tr>\n",
       "    <tr>\n",
       "      <th>4</th>\n",
       "      <td>13.565</td>\n",
       "      <td>40.760</td>\n",
       "    </tr>\n",
       "  </tbody>\n",
       "</table>\n",
       "</div>"
      ],
      "text/plain": [
       "        x       y\n",
       "0  10.529  39.105\n",
       "1  10.799  40.584\n",
       "2  11.698  39.883\n",
       "3  12.851  39.411\n",
       "4  13.565  40.760"
      ]
     },
     "execution_count": 1,
     "metadata": {},
     "output_type": "execute_result"
    }
   ],
   "source": [
    "import pandas as pd\n",
    "\n",
    "# import task 1 file\n",
    "df1 = pd.read_csv(\"p3_task-1.csv\")\n",
    "df1.head()"
   ]
  },
  {
   "cell_type": "code",
   "execution_count": 2,
   "id": "27868799-f60e-4e44-8eb0-620da63012d2",
   "metadata": {},
   "outputs": [
    {
     "data": {
      "image/png": "[encoded data removed]",
      "text/plain": [
       "<Figure size 432x288 with 1 Axes>"
      ]
     },
     "metadata": {
      "needs_background": "light"
     },
     "output_type": "display_data"
    }
   ],
   "source": [
    "%matplotlib inline\n",
    "import matplotlib.pyplot as plt\n",
    "\n",
    "# identify x & y values\n",
    "x = df1.x.values\n",
    "y = df1.y.values\n",
    "\n",
    "# plot data\n",
    "plt.scatter(x, y)\n",
    "\n",
    "# label chart\n",
    "plt.xlabel(\"x\")\n",
    "plt.ylabel(\"y\")\n",
    "plt.show()"
   ]
  },
  {
   "cell_type": "code",
   "execution_count": 3,
   "id": "a8b62717-4654-445b-92f5-0375a30acf92",
   "metadata": {},
   "outputs": [
    {
     "name": "stdout",
     "output_type": "stream",
     "text": [
      "Coefficients: [3.390241]\n",
      "Intercept: 31.52920121929614\n"
     ]
    }
   ],
   "source": [
    "import numpy as np\n",
    "\n",
    "# define new variable log(x)\n",
    "df1['log_x'] = np.log(df1['x'])\n",
    "\n",
    "X = df1.log_x.values\n",
    "\n",
    "# Fit a linear regression\n",
    "from sklearn.linear_model import LinearRegression\n",
    "\n",
    "lr = LinearRegression()\n",
    "lr.fit(X[:, np.newaxis], y)\n",
    "\n",
    "# print coefficients\n",
    "print(\"Coefficients:\", lr.coef_)\n",
    "print(\"Intercept:\", lr.intercept_)"
   ]
  },
  {
   "cell_type": "code",
   "execution_count": 4,
   "id": "2a9f8710-80bd-4a1d-9a42-fa9614ef8344",
   "metadata": {},
   "outputs": [
    {
     "data": {
      "image/png": "[encoded data removed]",
      "text/plain": [
       "<Figure size 432x288 with 1 Axes>"
      ]
     },
     "metadata": {
      "needs_background": "light"
     },
     "output_type": "display_data"
    }
   ],
   "source": [
    "# plot logarithmic curve against original data\n",
    "\n",
    "# plot original data\n",
    "plt.scatter(x, y)\n",
    "\n",
    "# plot logarithmic curve\n",
    "x_values = np.linspace(min(x), max(x), num=100)\n",
    "y_values_lr = (lr.coef_*(np.log(x_values)) + lr.intercept_)\n",
    "plt.plot(x_values, y_values_lr, c=\"C3\")\n",
    "\n",
    "# label chart\n",
    "plt.xlabel(\"x\")\n",
    "plt.ylabel(\"y\")\n",
    "plt.show()"
   ]
  },
  {
   "cell_type": "code",
   "execution_count": 5,
   "id": "8502fa4a-540d-40b4-b775-30d19c657adb",
   "metadata": {},
   "outputs": [
    {
     "name": "stdout",
     "output_type": "stream",
     "text": [
      "RSS values: 31.84265175275671\n"
     ]
    }
   ],
   "source": [
    "# compute RSS \n",
    "def RSS(y, y_pred):\n",
    "    return np.sum(np.square(y - y_pred))\n",
    "\n",
    "y_pred = lr.predict(X[:, np.newaxis])\n",
    "\n",
    "print(\"RSS values:\", RSS(y, y_pred))"
   ]
  },
  {
   "cell_type": "code",
   "execution_count": 6,
   "id": "5fd7f544-2fa1-47ef-aee1-e20963b2cb4a",
   "metadata": {},
   "outputs": [
    {
     "name": "stdout",
     "output_type": "stream",
     "text": [
      "R2: 0.9411567093138288\n"
     ]
    }
   ],
   "source": [
    "# compute R^2 coefficient\n",
    "R2 = lr.score(X[:, np.newaxis], y)\n",
    "print(\"R2:\", R2)"
   ]
  },
  {
   "cell_type": "markdown",
   "id": "09881d10-d442-405a-9ea4-7498bdfbf510",
   "metadata": {},
   "source": [
    "R^2 score close to one suggests model fits the data significantly better than the mean baseline "
   ]
  },
  {
   "cell_type": "markdown",
   "id": "36722959-2c7c-4ae4-bb1d-a912cb39691c",
   "metadata": {},
   "source": [
    "TASK 2"
   ]
  },
  {
   "cell_type": "code",
   "execution_count": 7,
   "id": "22635641-b8ee-4b32-a47b-2920b3ecd80c",
   "metadata": {
    "tags": []
   },
   "outputs": [
    {
     "data": {
      "text/html": [
       "<div>\n",
       "<style scoped>\n",
       "    .dataframe tbody tr th:only-of-type {\n",
       "        vertical-align: middle;\n",
       "    }\n",
       "\n",
       "    .dataframe tbody tr th {\n",
       "        vertical-align: top;\n",
       "    }\n",
       "\n",
       "    .dataframe thead th {\n",
       "        text-align: right;\n",
       "    }\n",
       "</style>\n",
       "<table border=\"1\" class=\"dataframe\">\n",
       "  <thead>\n",
       "    <tr style=\"text-align: right;\">\n",
       "      <th></th>\n",
       "      <th>x1</th>\n",
       "      <th>x2</th>\n",
       "      <th>x3</th>\n",
       "      <th>y</th>\n",
       "    </tr>\n",
       "  </thead>\n",
       "  <tbody>\n",
       "    <tr>\n",
       "      <th>0</th>\n",
       "      <td>7.892</td>\n",
       "      <td>318.818</td>\n",
       "      <td>162.970</td>\n",
       "      <td>2112.420</td>\n",
       "    </tr>\n",
       "    <tr>\n",
       "      <th>1</th>\n",
       "      <td>8.830</td>\n",
       "      <td>303.180</td>\n",
       "      <td>181.399</td>\n",
       "      <td>2096.231</td>\n",
       "    </tr>\n",
       "    <tr>\n",
       "      <th>2</th>\n",
       "      <td>13.811</td>\n",
       "      <td>296.231</td>\n",
       "      <td>145.849</td>\n",
       "      <td>2067.045</td>\n",
       "    </tr>\n",
       "    <tr>\n",
       "      <th>3</th>\n",
       "      <td>12.863</td>\n",
       "      <td>325.830</td>\n",
       "      <td>167.996</td>\n",
       "      <td>2269.262</td>\n",
       "    </tr>\n",
       "    <tr>\n",
       "      <th>4</th>\n",
       "      <td>13.698</td>\n",
       "      <td>254.035</td>\n",
       "      <td>171.892</td>\n",
       "      <td>1966.604</td>\n",
       "    </tr>\n",
       "  </tbody>\n",
       "</table>\n",
       "</div>"
      ],
      "text/plain": [
       "       x1       x2       x3         y\n",
       "0   7.892  318.818  162.970  2112.420\n",
       "1   8.830  303.180  181.399  2096.231\n",
       "2  13.811  296.231  145.849  2067.045\n",
       "3  12.863  325.830  167.996  2269.262\n",
       "4  13.698  254.035  171.892  1966.604"
      ]
     },
     "execution_count": 7,
     "metadata": {},
     "output_type": "execute_result"
    }
   ],
   "source": [
    "# import task 2 file\n",
    "df2 = pd.read_csv(\"p3_task-2.csv\")\n",
    "df2.head()"
   ]
  },
  {
   "cell_type": "code",
   "execution_count": 8,
   "id": "431d32a1-97ae-480b-b829-4c107be4bbe2",
   "metadata": {
    "tags": []
   },
   "outputs": [
    {
     "name": "stdout",
     "output_type": "stream",
     "text": [
      "Train X Shape: (800, 3)\n",
      "Test X Shape: (200, 3)\n"
     ]
    }
   ],
   "source": [
    "from sklearn.model_selection import train_test_split\n",
    "\n",
    "X = df2.drop(\"y\", axis=1).values\n",
    "y = df2.y.values\n",
    "\n",
    "\n",
    "# Split data using sklearn function\n",
    "x_tr, x_te, y_tr, y_te = train_test_split(\n",
    "    X, y, train_size=0.8, test_size=0.2, random_state=0\n",
    ")\n",
    "\n",
    "print(\"Train X Shape:\", x_tr.shape)\n",
    "print(\"Test X Shape:\", x_te.shape)"
   ]
  },
  {
   "cell_type": "code",
   "execution_count": 9,
   "id": "bf2be148-1074-4d8e-85c8-df21e7061132",
   "metadata": {},
   "outputs": [
    {
     "name": "stdout",
     "output_type": "stream",
     "text": [
      "Train Dataframe Shape: (800, 4)\n",
      "Test Dataframe Shape (200, 4)\n"
     ]
    }
   ],
   "source": [
    "# Split data using sklearn function\n",
    "train_df, test_df = train_test_split(\n",
    "    df2, train_size=0.8, test_size=0.2, random_state=0\n",
    ")\n",
    "\n",
    "print(\"Train Dataframe Shape:\", train_df.shape)\n",
    "print(\"Test Dataframe Shape\", test_df.shape)"
   ]
  },
  {
   "cell_type": "code",
   "execution_count": 10,
   "id": "7838b96a-0085-4ad5-b625-1c00f82ec026",
   "metadata": {},
   "outputs": [
    {
     "data": {
      "image/png": "[encoded data removed]",
      "text/plain": [
       "<Figure size 864x216 with 3 Axes>"
      ]
     },
     "metadata": {
      "needs_background": "light"
     },
     "output_type": "display_data"
    }
   ],
   "source": [
    "# plot 3 variables to observe outliers\n",
    "fig, (ax1, ax2, ax3) = plt.subplots(nrows=1, ncols=3, figsize=(12,3), sharey=True)\n",
    "fig.suptitle(\"Graphical representation of data\")\n",
    "\n",
    "ax1.scatter(train_df.x1, train_df.y)\n",
    "ax1.set_xlabel(\"x1\")\n",
    "ax1.set_ylabel(\"y\")\n",
    "\n",
    "ax2.scatter(train_df.x2, train_df.y)\n",
    "ax2.set_xlabel(\"x2\")\n",
    "\n",
    "ax3.scatter(train_df.x3, train_df.y)\n",
    "ax3.set_xlabel(\"x3\")\n",
    "\n",
    "plt.show()"
   ]
  },
  {
   "cell_type": "markdown",
   "id": "40639c2c-7465-4f21-ba8b-6c4138b7dd37",
   "metadata": {},
   "source": [
    "Clearly visible that outliers exist within all 3 variables"
   ]
  },
  {
   "cell_type": "code",
   "execution_count": 26,
   "id": "4e3c2744-9c95-48fe-828f-9773dda910ae",
   "metadata": {},
   "outputs": [],
   "source": [
    "# build cleaning strategy to remove outliers\n",
    "\n",
    "def remove_outliers(df):\n",
    "    #create 2 copies of dataframe\n",
    "    df = df.copy()\n",
    "    df_wo = df.copy()\n",
    "    \n",
    "    #create list of variables without y\n",
    "    variables = df.drop(\"y\", axis=1).columns\n",
    "    \n",
    "    # standardise variable columns of first copy to z values\n",
    "    for c in variables:\n",
    "        df[c] = (df[c] - df[c].mean()) / df[c].std()\n",
    "    \n",
    "    # create filter for any z values that exceed 2\n",
    "    idx = np.abs(df) > 2\n",
    "    \n",
    "    # use filter on second copy to return original values without outliers  \n",
    "    df_wo[variables] = df_wo.drop(\"y\",axis=1)[~idx]\n",
    "      \n",
    "    # add back the y values\n",
    "    df_wo['y'] = df['y']\n",
    "    \n",
    "    #remove rows with outliers\n",
    "    df_wo = df_wo.dropna()\n",
    "    \n",
    "    return df_wo\n",
    "\n",
    "# create new dataframe with outliers removed\n",
    "train_df_wo = remove_outliers(train_df)"
   ]
  },
  {
   "cell_type": "code",
   "execution_count": 27,
   "id": "2d982918-592b-446e-b533-caca3b2371eb",
   "metadata": {},
   "outputs": [
    {
     "data": {
      "image/png": "[encoded data removed]",
      "text/plain": [
       "<Figure size 432x288 with 2 Axes>"
      ]
     },
     "metadata": {
      "needs_background": "light"
     },
     "output_type": "display_data"
    }
   ],
   "source": [
    "# diagram to show why remove z values above 2\n",
    "\n",
    "variables = train_df.drop(\"y\", axis=1).columns\n",
    "\n",
    "z_scores = (train_df['x1'] - train_df['x1'].mean()) / train_df['x1'].std()\n",
    "\n",
    "plt.scatter(train_df.x1, train_df.y, c=z_scores, cmap=\"coolwarm\")\n",
    "plt.xlabel(\"x1\")\n",
    "plt.ylabel(\"y\")\n",
    "plt.colorbar()\n",
    "plt.show()"
   ]
  },
  {
   "cell_type": "markdown",
   "id": "bf0ddd05-b303-466e-8f7f-3faf1348720a",
   "metadata": {},
   "source": [
    "Above diagram confirming that all extreme values have z values greater than 2"
   ]
  },
  {
   "cell_type": "code",
   "execution_count": 28,
   "id": "efa728b3-69f6-444b-a769-c3c97be9f26f",
   "metadata": {},
   "outputs": [
    {
     "data": {
      "text/plain": [
       "(755, 4)"
      ]
     },
     "execution_count": 28,
     "metadata": {},
     "output_type": "execute_result"
    }
   ],
   "source": [
    "# view how many values removed\n",
    "\n",
    "train_df_wo.dropna().shape"
   ]
  },
  {
   "cell_type": "code",
   "execution_count": 29,
   "id": "0b74c4e1-baa5-4ef8-bc95-6b19934147af",
   "metadata": {},
   "outputs": [
    {
     "data": {
      "image/png": "[encoded data removed]",
      "text/plain": [
       "<Figure size 864x216 with 3 Axes>"
      ]
     },
     "metadata": {
      "needs_background": "light"
     },
     "output_type": "display_data"
    }
   ],
   "source": [
    "# plot clean data\n",
    "fig, (ax1, ax2, ax3) = plt.subplots(nrows=1, ncols=3, figsize=(12,3), sharey=True)\n",
    "fig.suptitle(\"Graphical representation of data without outliers\")\n",
    "\n",
    "ax1.scatter(train_df_wo.x1, train_df_wo.y)\n",
    "ax1.set_xlabel(\"x1\")\n",
    "ax1.set_ylabel(\"y\")\n",
    "\n",
    "ax2.scatter(train_df_wo.x2, train_df_wo.y)\n",
    "ax2.set_xlabel(\"x2\")\n",
    "\n",
    "ax3.scatter(train_df_wo.x3, train_df_wo.y)\n",
    "ax3.set_xlabel(\"x3\")\n",
    "\n",
    "plt.show()"
   ]
  },
  {
   "cell_type": "markdown",
   "id": "1c77ccc8-f62f-4370-aef8-e28a6624bf1f",
   "metadata": {},
   "source": [
    "Charts now exclude all most extreme results"
   ]
  },
  {
   "cell_type": "code",
   "execution_count": 30,
   "id": "384f0fe0-72b4-458d-85e3-69ac37e6fd6c",
   "metadata": {},
   "outputs": [],
   "source": [
    "# define train variables with original data \n",
    "X_tr = train_df[variables]\n",
    "y_tr = train_df.y\n",
    "\n",
    "# define train variables with outliers omitted\n",
    "X_tr_wo = train_df_wo[variables]\n",
    "y_tr_wo = train_df_wo.y\n",
    "\n",
    "# define test variables\n",
    "X_te = test_df[variables]\n",
    "y_te = test_df.y\n",
    "\n",
    "# import Huber regressor\n",
    "from sklearn.linear_model import HuberRegressor\n",
    "\n",
    "# Create a linear regression with Huber loss\n",
    "lr_huber = HuberRegressor(epsilon=1.35)\n",
    "\n",
    "# fit linear regressor & compute predictions from test data\n",
    "lr.fit(X_tr, y_tr)\n",
    "y_pred_lr = lr.predict(X_te)\n",
    "\n",
    "# fit Huber regressor\n",
    "lr_huber.fit(X_tr, y_tr)\n",
    "y_pred_hr = lr_huber.predict(X_te)\n",
    "\n",
    "# fit linear regressor without outliers\n",
    "lr.fit(X_tr_wo, y_tr_wo)\n",
    "y_pred_lr_wo = lr.predict(X_te)\n"
   ]
  },
  {
   "cell_type": "code",
   "execution_count": 42,
   "id": "591421fc-8d26-457e-9dbc-b11503d96672",
   "metadata": {},
   "outputs": [
    {
     "name": "stdout",
     "output_type": "stream",
     "text": [
      "MAE mean baseline 117.26195640000003\n",
      "MAE linear regression with outliers 104.78843301492125\n",
      "MAE huber regression 83.90812400807437\n",
      "MAE linear regression without outliers 69.30261030814663\n"
     ]
    }
   ],
   "source": [
    "# definte calculation of Mean absolute error\n",
    "def MAE(y, y_pred):\n",
    "    return np.mean(np.abs(y - y_pred))\n",
    "\n",
    "# view and compare the three models MAE vs teh mean baseline\n",
    "print(\"MAE mean baseline {}\".format(MAE(y_te, np.mean(y_tr))))\n",
    "print(\"MAE linear regression with outliers {}\".format(MAE(y_te, y_pred_lr)))\n",
    "print(\"MAE huber regression {}\".format(MAE(y_te, y_pred_hr)))\n",
    "print(\"MAE linear regression without outliers {}\".format(MAE(y_te, y_pred_lr_wo)))"
   ]
  },
  {
   "cell_type": "code",
   "execution_count": 44,
   "id": "638deb19-33a2-4573-b8b7-0c86f2205425",
   "metadata": {},
   "outputs": [
    {
     "data": {
      "image/png": "[encoded data removed]",
      "text/plain": [
       "<Figure size 432x288 with 1 Axes>"
      ]
     },
     "metadata": {
      "needs_background": "light"
     },
     "output_type": "display_data"
    }
   ],
   "source": [
    "mae_baseline = MAE(y_te, np.mean(y_tr))\n",
    "mae_lr     = MAE(y_te, y_pred_lr)\n",
    "mae_huber  = MAE(y_te, y_pred_hr)\n",
    "mae_lr_wo = MAE(y_te, y_pred_lr_wo)\n",
    "\n",
    "# bar chart to show comparison\n",
    "plt.bar([1, 2, 3, 4], [mae_baseline, mae_lr, mae_huber, mae_lr_wo])\n",
    "plt.xticks([1, 2, 3, 4], [\"baseline (mean)\", \"linreg\", \"huber\", \"linreg without outliers\"])\n",
    "plt.title('comparing predictions errors (MAE)')\n",
    "plt.xlabel('models')\n",
    "plt.ylabel('MAE')\n",
    "plt.show()"
   ]
  },
  {
   "cell_type": "markdown",
   "id": "9cbfe5b8-a6a6-473f-abb5-577ac69b4862",
   "metadata": {},
   "source": [
    "All models fit data better than the mean baseline. Huber regressor improves the fit, however the best model is the linear regressor without outliers."
   ]
  },
  {
   "cell_type": "code",
   "execution_count": null,
   "id": "9728c829-6bbb-44ad-b7ac-8b4522bb71cb",
   "metadata": {},
   "outputs": [],
   "source": []
  }
 ],
 "metadata": {
  "kernelspec": {
   "display_name": "Python [conda env:adsml] *",
   "language": "python",
   "name": "conda-env-adsml-py"
  },
  "language_info": {
   "codemirror_mode": {
    "name": "ipython",
    "version": 3
   },
   "file_extension": ".py",
   "mimetype": "text/x-python",
   "name": "python",
   "nbconvert_exporter": "python",
   "pygments_lexer": "ipython3",
   "version": "3.9.7"
  }
 },
 "nbformat": 4,
 "nbformat_minor": 5
}
