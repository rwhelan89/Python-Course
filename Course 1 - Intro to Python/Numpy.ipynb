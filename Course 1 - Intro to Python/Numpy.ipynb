{
 "cells": [
  {
   "cell_type": "code",
   "execution_count": 49,
   "id": "222c53b9-cdd7-434f-9191-24d6afc28600",
   "metadata": {},
   "outputs": [],
   "source": [
    "import numpy as np"
   ]
  },
  {
   "cell_type": "code",
   "execution_count": 4,
   "id": "20c0c1e6-d932-4ec3-a695-45ff62ad8346",
   "metadata": {},
   "outputs": [
    {
     "data": {
      "text/plain": [
       "array([1, 2, 3])"
      ]
     },
     "execution_count": 4,
     "metadata": {},
     "output_type": "execute_result"
    }
   ],
   "source": [
    "a1 = np.array([1, 2, 3])\n",
    "a1"
   ]
  },
  {
   "cell_type": "code",
   "execution_count": 5,
   "id": "3f13c5eb-f204-4b45-8015-00f922b1a2d6",
   "metadata": {},
   "outputs": [
    {
     "data": {
      "text/plain": [
       "1"
      ]
     },
     "execution_count": 5,
     "metadata": {},
     "output_type": "execute_result"
    }
   ],
   "source": [
    "#check dimensions of an array with .ndim\n",
    "a1.ndim"
   ]
  },
  {
   "cell_type": "code",
   "execution_count": 7,
   "id": "79650e9e-acd6-452b-a9b1-c6fa5fd8cfbf",
   "metadata": {},
   "outputs": [
    {
     "data": {
      "text/plain": [
       "(3,)"
      ]
     },
     "execution_count": 7,
     "metadata": {},
     "output_type": "execute_result"
    }
   ],
   "source": [
    "a1.shape"
   ]
  },
  {
   "cell_type": "code",
   "execution_count": 9,
   "id": "abe62e33-d50c-4806-97d7-154c2f5b8f82",
   "metadata": {},
   "outputs": [
    {
     "data": {
      "text/plain": [
       "array([[1, 2, 3],\n",
       "       [3, 4, 5]])"
      ]
     },
     "execution_count": 9,
     "metadata": {},
     "output_type": "execute_result"
    }
   ],
   "source": [
    "#create two dimensional array\n",
    "a2 = np.array([[1, 2, 3], [3, 4, 5]])\n",
    "a2"
   ]
  },
  {
   "cell_type": "code",
   "execution_count": 11,
   "id": "9e58c593-6ad7-4211-8cd1-a8625c593be3",
   "metadata": {},
   "outputs": [
    {
     "data": {
      "text/plain": [
       "2"
      ]
     },
     "execution_count": 11,
     "metadata": {},
     "output_type": "execute_result"
    }
   ],
   "source": [
    "a2.ndim\n",
    "#axis is the amount of inner lists"
   ]
  },
  {
   "cell_type": "code",
   "execution_count": 13,
   "id": "c9c76d11-1729-4ae0-aa4f-59c98dd33b44",
   "metadata": {},
   "outputs": [
    {
     "data": {
      "text/plain": [
       "(2, 3)"
      ]
     },
     "execution_count": 13,
     "metadata": {},
     "output_type": "execute_result"
    }
   ],
   "source": [
    "a2.shape"
   ]
  },
  {
   "cell_type": "markdown",
   "id": "7ade5a08-9f1b-46b8-bcfb-2a6f999dc9fa",
   "metadata": {},
   "source": [
    "for a 2d numpy array first axis corresponds to down direction (rows) and second to the across (columns)\n",
    "so intuitively axis=0 is rows and axis=1 is columns"
   ]
  },
  {
   "cell_type": "code",
   "execution_count": 17,
   "id": "5ea283f2-a30e-4623-8046-23ca598a1c45",
   "metadata": {},
   "outputs": [
    {
     "data": {
      "text/plain": [
       "array([1, 2, 3])"
      ]
     },
     "execution_count": 17,
     "metadata": {},
     "output_type": "execute_result"
    }
   ],
   "source": [
    "#if multiple data types np.array will use most general.. specify type if required ie\n",
    "a3 = np.array([1, 2, 3.3], dtype=int)\n",
    "a3\n",
    "#3.3 has been rounded down to an integer (from float) as a result"
   ]
  },
  {
   "cell_type": "code",
   "execution_count": 18,
   "id": "49ca1a64-0765-4e7f-8393-f86f8df97d58",
   "metadata": {},
   "outputs": [
    {
     "data": {
      "text/plain": [
       "(3, 5)"
      ]
     },
     "execution_count": 18,
     "metadata": {},
     "output_type": "execute_result"
    }
   ],
   "source": [
    "a4 = np.array([[\"f\", \"l\", \"a\", \"k\", \"e\"], [\"s\", \"n\", \"a\", \"k\", \"e\"], [\"a\", \"w\", \"a\", \"k\", \"e\"]])\n",
    "a4.shape"
   ]
  },
  {
   "cell_type": "code",
   "execution_count": 20,
   "id": "8ed4d0ce-4203-49f1-a9c7-e8e1f013932b",
   "metadata": {},
   "outputs": [
    {
     "data": {
      "text/plain": [
       "array([ 0,  1,  2,  3,  4,  5,  6,  7,  8,  9, 10, 11, 12, 13, 14])"
      ]
     },
     "execution_count": 20,
     "metadata": {},
     "output_type": "execute_result"
    }
   ],
   "source": [
    "np.arange(0, 15)"
   ]
  },
  {
   "cell_type": "code",
   "execution_count": 21,
   "id": "c405380c-34e4-4378-b95b-06c99b6c400a",
   "metadata": {},
   "outputs": [
    {
     "data": {
      "text/plain": [
       "array([ 0,  2,  4,  6,  8, 10, 12, 14])"
      ]
     },
     "execution_count": 21,
     "metadata": {},
     "output_type": "execute_result"
    }
   ],
   "source": [
    "np.arange(0, 15, 2)"
   ]
  },
  {
   "cell_type": "code",
   "execution_count": 22,
   "id": "e9996a8c-8e83-4cf1-aac7-1cda89e51bcc",
   "metadata": {},
   "outputs": [
    {
     "data": {
      "text/plain": [
       "array([  0.,  50., 100.])"
      ]
     },
     "execution_count": 22,
     "metadata": {},
     "output_type": "execute_result"
    }
   ],
   "source": [
    "#use np.linspace() if want to specify the number of points\n",
    "np.linspace(0, 100, 3)"
   ]
  },
  {
   "cell_type": "code",
   "execution_count": 25,
   "id": "be57d2df-bca8-4033-84e5-1c3d2abdebaa",
   "metadata": {},
   "outputs": [
    {
     "data": {
      "text/plain": [
       "array([ 0,  1,  2,  3,  4,  5,  6,  7,  8,  9, 10, 11])"
      ]
     },
     "execution_count": 25,
     "metadata": {},
     "output_type": "execute_result"
    }
   ],
   "source": [
    "a = np.arange(12)\n",
    "a"
   ]
  },
  {
   "cell_type": "code",
   "execution_count": 26,
   "id": "db443bf1-9279-4497-a404-8b0bfd1ef450",
   "metadata": {},
   "outputs": [
    {
     "data": {
      "text/plain": [
       "array([[ 0,  1,  2],\n",
       "       [ 3,  4,  5],\n",
       "       [ 6,  7,  8],\n",
       "       [ 9, 10, 11]])"
      ]
     },
     "execution_count": 26,
     "metadata": {},
     "output_type": "execute_result"
    }
   ],
   "source": [
    "a.reshape(4, 3)"
   ]
  },
  {
   "cell_type": "code",
   "execution_count": 29,
   "id": "7e229457-b509-4115-86f8-7fa9f3e790e8",
   "metadata": {},
   "outputs": [
    {
     "data": {
      "text/plain": [
       "array([[[ 0,  1,  2],\n",
       "        [ 3,  4,  5]],\n",
       "\n",
       "       [[ 6,  7,  8],\n",
       "        [ 9, 10, 11]]])"
      ]
     },
     "execution_count": 29,
     "metadata": {},
     "output_type": "execute_result"
    }
   ],
   "source": [
    "#reshape to a 3D shape!\n",
    "a.reshape(2, 2, 3)"
   ]
  },
  {
   "cell_type": "code",
   "execution_count": 30,
   "id": "a0ad14fc-25cd-43d6-b1f4-9710052be4a1",
   "metadata": {},
   "outputs": [],
   "source": [
    "A = np.array([[1, 1], [0, 1]])\n",
    "B = np.array([[2, 0], [3, 4]])"
   ]
  },
  {
   "cell_type": "code",
   "execution_count": 31,
   "id": "ee4ba25f-023f-474b-a597-1c0fe03816a8",
   "metadata": {},
   "outputs": [
    {
     "data": {
      "text/plain": [
       "array([[2, 0],\n",
       "       [0, 4]])"
      ]
     },
     "execution_count": 31,
     "metadata": {},
     "output_type": "execute_result"
    }
   ],
   "source": [
    "A * B"
   ]
  },
  {
   "cell_type": "code",
   "execution_count": 33,
   "id": "006541fa-5d30-4a6d-ba03-42fe19640285",
   "metadata": {},
   "outputs": [
    {
     "data": {
      "text/plain": [
       "array([[5, 4],\n",
       "       [3, 4]])"
      ]
     },
     "execution_count": 33,
     "metadata": {},
     "output_type": "execute_result"
    }
   ],
   "source": [
    "#dot() for matrix multiplication\n",
    "A.dot(B)"
   ]
  },
  {
   "cell_type": "code",
   "execution_count": 34,
   "id": "e5efbf7f-0214-43c2-90cb-886fbb9eed52",
   "metadata": {},
   "outputs": [],
   "source": [
    "x = np.array([[1, 2], [3, 4]])\n",
    "y = np.array([[5,6]])"
   ]
  },
  {
   "cell_type": "code",
   "execution_count": 37,
   "id": "96472689-c4e9-4460-b01f-9030a8dc3936",
   "metadata": {},
   "outputs": [
    {
     "data": {
      "text/plain": [
       "array([[1, 2],\n",
       "       [3, 4],\n",
       "       [5, 6]])"
      ]
     },
     "execution_count": 37,
     "metadata": {},
     "output_type": "execute_result"
    }
   ],
   "source": [
    "np.concatenate((x, y), axis=0)"
   ]
  },
  {
   "cell_type": "code",
   "execution_count": 41,
   "id": "fe0d37a3-1662-473e-80c1-5f2d3c195c11",
   "metadata": {},
   "outputs": [
    {
     "data": {
      "text/plain": [
       "array([[1, 2],\n",
       "       [3, 4],\n",
       "       [5, 6],\n",
       "       [7, 8]])"
      ]
     },
     "execution_count": 41,
     "metadata": {},
     "output_type": "execute_result"
    }
   ],
   "source": [
    "a = np.array([[1, 2], [3, 4]])\n",
    "b = np.array([[5, 6], [7, 8]])\n",
    "np.concatenate((a, b), axis=0)"
   ]
  },
  {
   "cell_type": "code",
   "execution_count": 42,
   "id": "be8f645f-9c0a-41e1-8e3e-ceb04c20aa8a",
   "metadata": {},
   "outputs": [
    {
     "data": {
      "text/plain": [
       "array([[1, 2, 5, 6],\n",
       "       [3, 4, 7, 8]])"
      ]
     },
     "execution_count": 42,
     "metadata": {},
     "output_type": "execute_result"
    }
   ],
   "source": [
    "a = np.array([[1, 2], [3, 4]])\n",
    "b = np.array([[5, 6], [7, 8]])\n",
    "np.concatenate((a, b), axis=1)"
   ]
  },
  {
   "cell_type": "code",
   "execution_count": 45,
   "id": "1e7d4b03-8f6f-4f68-b0d2-53109cde9d3d",
   "metadata": {},
   "outputs": [
    {
     "data": {
      "text/plain": [
       "array([[ 0,  1,  2],\n",
       "       [ 3,  4,  5],\n",
       "       [ 6,  7,  8],\n",
       "       [ 9, 10, 11]])"
      ]
     },
     "execution_count": 45,
     "metadata": {},
     "output_type": "execute_result"
    }
   ],
   "source": [
    "a = np.reshape(np.arange(12), (4, 3))\n",
    "a"
   ]
  },
  {
   "cell_type": "code",
   "execution_count": 46,
   "id": "b9a2bc6e-49e7-43e9-87bc-4452cef35d23",
   "metadata": {},
   "outputs": [
    {
     "data": {
      "text/plain": [
       "0"
      ]
     },
     "execution_count": 46,
     "metadata": {},
     "output_type": "execute_result"
    }
   ],
   "source": [
    "#select subset of data\n",
    "a[0, 0]"
   ]
  },
  {
   "cell_type": "code",
   "execution_count": 47,
   "id": "6c067708-fed5-446c-9d13-9e5a782751cb",
   "metadata": {},
   "outputs": [
    {
     "data": {
      "text/plain": [
       "9"
      ]
     },
     "execution_count": 47,
     "metadata": {},
     "output_type": "execute_result"
    }
   ],
   "source": [
    "a[3, 0]"
   ]
  },
  {
   "cell_type": "code",
   "execution_count": 48,
   "id": "d0832efc-82e5-47d8-b006-beb0c55701d3",
   "metadata": {},
   "outputs": [
    {
     "data": {
      "text/plain": [
       "array([3, 6])"
      ]
     },
     "execution_count": 48,
     "metadata": {},
     "output_type": "execute_result"
    }
   ],
   "source": [
    "a[1:3, 0]"
   ]
  },
  {
   "cell_type": "code",
   "execution_count": 51,
   "id": "eb47e6d4-fa7b-4c9e-9c27-b44d920119e4",
   "metadata": {},
   "outputs": [
    {
     "data": {
      "text/plain": [
       "array([ 2,  5,  8, 11])"
      ]
     },
     "execution_count": 51,
     "metadata": {},
     "output_type": "execute_result"
    }
   ],
   "source": [
    "# colon selects all values\n",
    "a[:, 2]"
   ]
  },
  {
   "cell_type": "code",
   "execution_count": 52,
   "id": "23d1ed31-594f-4eab-9dd2-6dd926b99cbe",
   "metadata": {},
   "outputs": [
    {
     "data": {
      "text/plain": [
       "array([0, 6])"
      ]
     },
     "execution_count": 52,
     "metadata": {},
     "output_type": "execute_result"
    }
   ],
   "source": [
    "#select all elements from 0:4 in increments of 2\n",
    "a[0:4:2, 0]"
   ]
  },
  {
   "cell_type": "code",
   "execution_count": 53,
   "id": "dad8e54e-9597-4bc3-9ad2-411ecf876584",
   "metadata": {},
   "outputs": [],
   "source": [
    "#modify view changes array\n",
    "a[0, 0] = 5"
   ]
  },
  {
   "cell_type": "code",
   "execution_count": 54,
   "id": "76c39e6d-f480-433f-863c-bba85654ec2c",
   "metadata": {},
   "outputs": [
    {
     "data": {
      "text/plain": [
       "array([[ 5,  1,  2],\n",
       "       [ 3,  4,  5],\n",
       "       [ 6,  7,  8],\n",
       "       [ 9, 10, 11]])"
      ]
     },
     "execution_count": 54,
     "metadata": {},
     "output_type": "execute_result"
    }
   ],
   "source": [
    "a"
   ]
  },
  {
   "cell_type": "code",
   "execution_count": 55,
   "id": "e528f324-368c-4309-8143-caaf3a5adcdb",
   "metadata": {},
   "outputs": [
    {
     "data": {
      "text/plain": [
       "array([1, 2, 3, 4, 5])"
      ]
     },
     "execution_count": 55,
     "metadata": {},
     "output_type": "execute_result"
    }
   ],
   "source": [
    "a = np.array([1, 2, 3, 4, 5])\n",
    "a"
   ]
  },
  {
   "cell_type": "code",
   "execution_count": 57,
   "id": "5160b9b4-09c3-4168-8f78-67a360817d67",
   "metadata": {},
   "outputs": [
    {
     "data": {
      "text/plain": [
       "array([2, 3, 4])"
      ]
     },
     "execution_count": 57,
     "metadata": {},
     "output_type": "execute_result"
    }
   ],
   "source": [
    "b = a[1:4]\n",
    "b"
   ]
  },
  {
   "cell_type": "code",
   "execution_count": 58,
   "id": "2e56df0d-441c-420a-ad3f-65f712f5241e",
   "metadata": {},
   "outputs": [
    {
     "data": {
      "text/plain": [
       "array([200,   3,   4])"
      ]
     },
     "execution_count": 58,
     "metadata": {},
     "output_type": "execute_result"
    }
   ],
   "source": [
    "b[0] = 200\n",
    "b"
   ]
  },
  {
   "cell_type": "code",
   "execution_count": 60,
   "id": "b087c0ee-7069-46cf-9e4a-daa6021013f1",
   "metadata": {},
   "outputs": [
    {
     "data": {
      "text/plain": [
       "200"
      ]
     },
     "execution_count": 60,
     "metadata": {},
     "output_type": "execute_result"
    }
   ],
   "source": [
    "a[1]"
   ]
  },
  {
   "cell_type": "code",
   "execution_count": 64,
   "id": "a6512018-2c55-48ab-a047-bed0a89cdad8",
   "metadata": {},
   "outputs": [
    {
     "data": {
      "text/plain": [
       "array([ 1,  2,  3,  4,  5,  6,  7,  8,  9, 10, 11, 12, 13, 14, 15, 16, 17,\n",
       "       18, 19, 20, 21, 22, 23, 24, 25, 26, 27, 28, 29, 30, 31, 32, 33, 34,\n",
       "       35, 36])"
      ]
     },
     "execution_count": 64,
     "metadata": {},
     "output_type": "execute_result"
    }
   ],
   "source": [
    "a = np.arange(1, 37)\n",
    "a"
   ]
  },
  {
   "cell_type": "code",
   "execution_count": 66,
   "id": "66ef9aa8-43c0-46c0-a895-24ba79242b5f",
   "metadata": {},
   "outputs": [
    {
     "data": {
      "text/plain": [
       "array([[ 1,  2,  3,  4,  5,  6],\n",
       "       [ 7,  8,  9, 10, 11, 12],\n",
       "       [13, 14, 15, 16, 17, 18],\n",
       "       [19, 20, 21, 22, 23, 24],\n",
       "       [25, 26, 27, 28, 29, 30],\n",
       "       [31, 32, 33, 34, 35, 36]])"
      ]
     },
     "execution_count": 66,
     "metadata": {},
     "output_type": "execute_result"
    }
   ],
   "source": [
    "a = a.reshape(6, 6)\n",
    "a"
   ]
  },
  {
   "cell_type": "code",
   "execution_count": 70,
   "id": "f977fd8e-e80e-4983-8ffd-92b50052e4d2",
   "metadata": {},
   "outputs": [
    {
     "data": {
      "text/plain": [
       "array([ 2,  8, 14, 20, 26, 32])"
      ]
     },
     "execution_count": 70,
     "metadata": {},
     "output_type": "execute_result"
    }
   ],
   "source": [
    "blue = a[:, 1]\n",
    "blue"
   ]
  },
  {
   "cell_type": "code",
   "execution_count": 72,
   "id": "c82ee701-4bb1-40ed-b20e-f84284f74a3d",
   "metadata": {},
   "outputs": [
    {
     "data": {
      "text/plain": [
       "array([[ 5,  6],\n",
       "       [11, 12]])"
      ]
     },
     "execution_count": 72,
     "metadata": {},
     "output_type": "execute_result"
    }
   ],
   "source": [
    "yellow = a[0:2, 4:6]\n",
    "yellow"
   ]
  },
  {
   "cell_type": "code",
   "execution_count": 74,
   "id": "ad0b696a-4aff-4ebe-a301-bdba9556e768",
   "metadata": {},
   "outputs": [
    {
     "data": {
      "text/plain": [
       "array([35, 36])"
      ]
     },
     "execution_count": 74,
     "metadata": {},
     "output_type": "execute_result"
    }
   ],
   "source": [
    "red = a[5, 4:6]\n",
    "red"
   ]
  },
  {
   "cell_type": "code",
   "execution_count": 77,
   "id": "2bd31e22-421d-459c-aa9b-c82bb9af3d9c",
   "metadata": {},
   "outputs": [
    {
     "data": {
      "text/plain": [
       "array([[13, 15, 17],\n",
       "       [25, 27, 29]])"
      ]
     },
     "execution_count": 77,
     "metadata": {},
     "output_type": "execute_result"
    }
   ],
   "source": [
    "green = a[2:5:2, 0:5:2]\n",
    "green"
   ]
  },
  {
   "cell_type": "code",
   "execution_count": 78,
   "id": "130f7add-23c5-4817-80c9-5a19ab5ea84c",
   "metadata": {},
   "outputs": [
    {
     "data": {
      "text/plain": [
       "array([[ 0,  1,  2],\n",
       "       [ 3,  4,  5],\n",
       "       [ 6,  7,  8],\n",
       "       [ 9, 10, 11]])"
      ]
     },
     "execution_count": 78,
     "metadata": {},
     "output_type": "execute_result"
    }
   ],
   "source": [
    "a = np.reshape(np.arange(12), (4, 3))\n",
    "a"
   ]
  },
  {
   "cell_type": "code",
   "execution_count": 79,
   "id": "9e3e525b-5c6b-4549-8f71-ebf873a43134",
   "metadata": {},
   "outputs": [
    {
     "data": {
      "text/plain": [
       "array([[False, False, False],\n",
       "       [False, False, False],\n",
       "       [False, False, False],\n",
       "       [ True,  True,  True]])"
      ]
     },
     "execution_count": 79,
     "metadata": {},
     "output_type": "execute_result"
    }
   ],
   "source": [
    "a > 8"
   ]
  },
  {
   "cell_type": "code",
   "execution_count": 80,
   "id": "99f3a0c9-2857-4023-a4c0-c40fc992ddc2",
   "metadata": {},
   "outputs": [
    {
     "data": {
      "text/plain": [
       "array([ 9, 10, 11])"
      ]
     },
     "execution_count": 80,
     "metadata": {},
     "output_type": "execute_result"
    }
   ],
   "source": [
    "a[a>8]"
   ]
  },
  {
   "cell_type": "code",
   "execution_count": 81,
   "id": "6119fd3f-10d6-43ba-889d-c4534af707fd",
   "metadata": {},
   "outputs": [
    {
     "data": {
      "text/plain": [
       "array([[0, 1, 2],\n",
       "       [3, 4, 5],\n",
       "       [6, 7, 8],\n",
       "       [0, 0, 0]])"
      ]
     },
     "execution_count": 81,
     "metadata": {},
     "output_type": "execute_result"
    }
   ],
   "source": [
    "a[a>8] = 0\n",
    "a"
   ]
  },
  {
   "cell_type": "markdown",
   "id": "c711e23c-f6ae-4fa3-8d8a-ba7a2f7b6008",
   "metadata": {},
   "source": [
    "this is called masking"
   ]
  },
  {
   "cell_type": "code",
   "execution_count": 82,
   "id": "2cf4c323-af7d-4361-9c76-43db4ad97dd9",
   "metadata": {},
   "outputs": [
    {
     "data": {
      "text/plain": [
       "array([[ 0,  1,  2],\n",
       "       [ 3,  4,  5],\n",
       "       [ 6,  7,  8],\n",
       "       [ 9, 10, 11]])"
      ]
     },
     "execution_count": 82,
     "metadata": {},
     "output_type": "execute_result"
    }
   ],
   "source": [
    "a = np.reshape(np.arange(12), (4, 3))\n",
    "a"
   ]
  },
  {
   "cell_type": "code",
   "execution_count": 89,
   "id": "bb589ff6-6d80-4279-9367-019e7dd6941d",
   "metadata": {},
   "outputs": [
    {
     "data": {
      "text/plain": [
       "array([10, 20, 30])"
      ]
     },
     "execution_count": 89,
     "metadata": {},
     "output_type": "execute_result"
    }
   ],
   "source": [
    "a = np.array([1, 2, 3])\n",
    "a * 10"
   ]
  },
  {
   "cell_type": "code",
   "execution_count": 92,
   "id": "ee00d2e6-6f5d-4aa8-8d53-c18e69e56683",
   "metadata": {},
   "outputs": [
    {
     "data": {
      "text/plain": [
       "array([[11, 21, 31],\n",
       "       [12, 22, 32],\n",
       "       [13, 23, 33],\n",
       "       [14, 24, 34]])"
      ]
     },
     "execution_count": 92,
     "metadata": {},
     "output_type": "execute_result"
    }
   ],
   "source": [
    "#broadcasting = stretching arrays to be same dimension\n",
    "a = np.array([[1], [2], [3], [4,]])\n",
    "b = np.array([10, 20, 30])\n",
    "a + b"
   ]
  },
  {
   "cell_type": "markdown",
   "id": "33caf0d4-3220-445f-b63e-585d13e1d49f",
   "metadata": {},
   "source": [
    "both arrays a and b have been \"stretched\" to match shapes"
   ]
  },
  {
   "cell_type": "code",
   "execution_count": 1,
   "id": "6ce5b898-c60e-4108-acb1-ed0a80271f8c",
   "metadata": {},
   "outputs": [],
   "source": [
    "dist_to_origin = [0, 1498, 1063, 1968, 1498, 1758, 1469, 1472, 2230, 2391]"
   ]
  },
  {
   "cell_type": "code",
   "execution_count": 37,
   "id": "e81e4fc3-4ba5-4599-b8ba-6f47a82575e5",
   "metadata": {},
   "outputs": [],
   "source": [
    "#create numpy array of list\n",
    "dist = np.array([dist_to_origin])"
   ]
  },
  {
   "cell_type": "code",
   "execution_count": 38,
   "id": "fef74e96-f779-46e4-a353-8673b820f9df",
   "metadata": {},
   "outputs": [
    {
     "data": {
      "text/plain": [
       "array([[   0, 1498, 1063, 1968, 1498, 1758, 1469, 1472, 2230, 2391]])"
      ]
     },
     "execution_count": 38,
     "metadata": {},
     "output_type": "execute_result"
    }
   ],
   "source": [
    "dist"
   ]
  },
  {
   "cell_type": "code",
   "execution_count": 39,
   "id": "ecdb4cc1-5a32-41a1-8402-0c315c7a0dde",
   "metadata": {},
   "outputs": [
    {
     "data": {
      "text/plain": [
       "array([[   0],\n",
       "       [1498],\n",
       "       [1063],\n",
       "       [1968],\n",
       "       [1498],\n",
       "       [1758],\n",
       "       [1469],\n",
       "       [1472],\n",
       "       [2230],\n",
       "       [2391]])"
      ]
     },
     "execution_count": 39,
     "metadata": {},
     "output_type": "execute_result"
    }
   ],
   "source": [
    "dist_T = dist.reshape(10, 1)\n",
    "dist_T"
   ]
  },
  {
   "cell_type": "code",
   "execution_count": 44,
   "id": "3001c4f3-ac3f-4b14-a850-7e86af974b86",
   "metadata": {},
   "outputs": [
    {
     "data": {
      "text/plain": [
       "array([[   0, 1498, 1063, 1968, 1498, 1758, 1469, 1472, 2230, 2391],\n",
       "       [1498,    0,  435,  470,    0,  260,   29,   26,  732,  893],\n",
       "       [1063,  435,    0,  905,  435,  695,  406,  409, 1167, 1328],\n",
       "       [1968,  470,  905,    0,  470,  210,  499,  496,  262,  423],\n",
       "       [1498,    0,  435,  470,    0,  260,   29,   26,  732,  893],\n",
       "       [1758,  260,  695,  210,  260,    0,  289,  286,  472,  633],\n",
       "       [1469,   29,  406,  499,   29,  289,    0,    3,  761,  922],\n",
       "       [1472,   26,  409,  496,   26,  286,    3,    0,  758,  919],\n",
       "       [2230,  732, 1167,  262,  732,  472,  761,  758,    0,  161],\n",
       "       [2391,  893, 1328,  423,  893,  633,  922,  919,  161,    0]])"
      ]
     },
     "execution_count": 44,
     "metadata": {},
     "output_type": "execute_result"
    }
   ],
   "source": [
    "#distance is the absolute value of diff\n",
    "dist_matrix = np.abs(dist-dist_T)\n",
    "dist_matrix"
   ]
  },
  {
   "cell_type": "markdown",
   "id": "4ce3af91-fbdb-4b5c-9e78-c6b59664278c",
   "metadata": {},
   "source": [
    "if want to work on copy of original array use copy function"
   ]
  },
  {
   "cell_type": "code",
   "execution_count": 48,
   "id": "b3ede5a2-cf13-4206-9da4-856d0503d260",
   "metadata": {},
   "outputs": [
    {
     "data": {
      "text/plain": [
       "array([ 0,  1,  2,  3,  4,  5,  6,  7,  8,  9, 10, 11])"
      ]
     },
     "execution_count": 48,
     "metadata": {},
     "output_type": "execute_result"
    }
   ],
   "source": [
    "a = np.arange(12)\n",
    "b = a.copy()[:2]\n",
    "b[0] = 10\n",
    "a"
   ]
  },
  {
   "cell_type": "code",
   "execution_count": 50,
   "id": "274bbf5a-5b7a-419d-bfca-6f9b64f74a1d",
   "metadata": {},
   "outputs": [
    {
     "data": {
      "text/plain": [
       "array([[10, 10, 10, 10],\n",
       "       [ 4,  5,  6,  7],\n",
       "       [ 8,  9, 10, 11]])"
      ]
     },
     "execution_count": 50,
     "metadata": {},
     "output_type": "execute_result"
    }
   ],
   "source": [
    "#reshaping\n",
    "a = np.arange(12)\n",
    "b = a.reshape(3, 4)\n",
    "b[0] = 10\n",
    "b"
   ]
  },
  {
   "cell_type": "code",
   "execution_count": 51,
   "id": "2a4b9290-d172-4d20-ac4a-6e034be97b96",
   "metadata": {},
   "outputs": [
    {
     "data": {
      "text/plain": [
       "array([10, 10, 10, 10,  4,  5,  6,  7,  8,  9, 10, 11])"
      ]
     },
     "execution_count": 51,
     "metadata": {},
     "output_type": "execute_result"
    }
   ],
   "source": [
    "#a has changed too\n",
    "a"
   ]
  },
  {
   "cell_type": "code",
   "execution_count": null,
   "id": "366821eb-d563-4471-a287-9bdd2ddab7e2",
   "metadata": {},
   "outputs": [],
   "source": []
  }
 ],
 "metadata": {
  "kernelspec": {
   "display_name": "Python [conda env:adsml] *",
   "language": "python",
   "name": "conda-env-adsml-py"
  },
  "language_info": {
   "codemirror_mode": {
    "name": "ipython",
    "version": 3
   },
   "file_extension": ".py",
   "mimetype": "text/x-python",
   "name": "python",
   "nbconvert_exporter": "python",
   "pygments_lexer": "ipython3",
   "version": "3.9.7"
  }
 },
 "nbformat": 4,
 "nbformat_minor": 5
}
