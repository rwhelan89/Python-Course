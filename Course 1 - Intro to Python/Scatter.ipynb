{
 "cells": [
  {
   "cell_type": "code",
   "execution_count": 52,
   "id": "b98834d0-5aa1-4c45-822e-5885932c58fc",
   "metadata": {},
   "outputs": [],
   "source": [
    "import pandas as pd\n",
    "import matplotlib.pyplot as plt\n",
    "\n",
    "%matplotlib inline\n",
    "from sklearn import datasets\n",
    "\n",
    "iris = datasets.load_iris()\n"
   ]
  },
  {
   "cell_type": "code",
   "execution_count": 42,
   "id": "9d808f7c-ae49-4d26-94b4-87057eb290a5",
   "metadata": {},
   "outputs": [],
   "source": [
    "iris_df = pd.DataFrame(iris[\"data\"], columns=iris[\"feature_names\"])\n",
    "iris_df[\"species\"] = iris[\"target\"]"
   ]
  },
  {
   "cell_type": "code",
   "execution_count": 43,
   "id": "e5a11fae-a719-46eb-bef8-c01fca80a39e",
   "metadata": {},
   "outputs": [
    {
     "data": {
      "text/html": [
       "<div>\n",
       "<style scoped>\n",
       "    .dataframe tbody tr th:only-of-type {\n",
       "        vertical-align: middle;\n",
       "    }\n",
       "\n",
       "    .dataframe tbody tr th {\n",
       "        vertical-align: top;\n",
       "    }\n",
       "\n",
       "    .dataframe thead th {\n",
       "        text-align: right;\n",
       "    }\n",
       "</style>\n",
       "<table border=\"1\" class=\"dataframe\">\n",
       "  <thead>\n",
       "    <tr style=\"text-align: right;\">\n",
       "      <th></th>\n",
       "      <th>sepal length (cm)</th>\n",
       "      <th>sepal width (cm)</th>\n",
       "      <th>petal length (cm)</th>\n",
       "      <th>petal width (cm)</th>\n",
       "      <th>species</th>\n",
       "    </tr>\n",
       "  </thead>\n",
       "  <tbody>\n",
       "    <tr>\n",
       "      <th>0</th>\n",
       "      <td>5.1</td>\n",
       "      <td>3.5</td>\n",
       "      <td>1.4</td>\n",
       "      <td>0.2</td>\n",
       "      <td>0</td>\n",
       "    </tr>\n",
       "    <tr>\n",
       "      <th>1</th>\n",
       "      <td>4.9</td>\n",
       "      <td>3.0</td>\n",
       "      <td>1.4</td>\n",
       "      <td>0.2</td>\n",
       "      <td>0</td>\n",
       "    </tr>\n",
       "    <tr>\n",
       "      <th>2</th>\n",
       "      <td>4.7</td>\n",
       "      <td>3.2</td>\n",
       "      <td>1.3</td>\n",
       "      <td>0.2</td>\n",
       "      <td>0</td>\n",
       "    </tr>\n",
       "    <tr>\n",
       "      <th>3</th>\n",
       "      <td>4.6</td>\n",
       "      <td>3.1</td>\n",
       "      <td>1.5</td>\n",
       "      <td>0.2</td>\n",
       "      <td>0</td>\n",
       "    </tr>\n",
       "    <tr>\n",
       "      <th>4</th>\n",
       "      <td>5.0</td>\n",
       "      <td>3.6</td>\n",
       "      <td>1.4</td>\n",
       "      <td>0.2</td>\n",
       "      <td>0</td>\n",
       "    </tr>\n",
       "  </tbody>\n",
       "</table>\n",
       "</div>"
      ],
      "text/plain": [
       "   sepal length (cm)  sepal width (cm)  petal length (cm)  petal width (cm)  \\\n",
       "0                5.1               3.5                1.4               0.2   \n",
       "1                4.9               3.0                1.4               0.2   \n",
       "2                4.7               3.2                1.3               0.2   \n",
       "3                4.6               3.1                1.5               0.2   \n",
       "4                5.0               3.6                1.4               0.2   \n",
       "\n",
       "   species  \n",
       "0        0  \n",
       "1        0  \n",
       "2        0  \n",
       "3        0  \n",
       "4        0  "
      ]
     },
     "execution_count": 43,
     "metadata": {},
     "output_type": "execute_result"
    }
   ],
   "source": [
    "iris_df.head()"
   ]
  },
  {
   "cell_type": "code",
   "execution_count": 44,
   "id": "343f0e22-dc3a-444f-bd6c-90a9e0a9e1ad",
   "metadata": {},
   "outputs": [
    {
     "name": "stdout",
     "output_type": "stream",
     "text": [
      "[0 1 2]\n"
     ]
    }
   ],
   "source": [
    "#use unique functino to show potential values\n",
    "print(iris_df[\"species\"].unique())"
   ]
  },
  {
   "cell_type": "code",
   "execution_count": 45,
   "id": "1bc3615f-8634-4755-8cb4-f160fb889aa9",
   "metadata": {},
   "outputs": [],
   "source": [
    "species = [\"Iris Setosa\", \"Iris versicolor\", \"Iris virginica\"]\n",
    "colors = [\"red\", \"orange\", \"green\"]"
   ]
  },
  {
   "cell_type": "code",
   "execution_count": 46,
   "id": "af794712-508a-4f72-b642-a90f44b36fdd",
   "metadata": {},
   "outputs": [
    {
     "name": "stdout",
     "output_type": "stream",
     "text": [
      "['Iris setosa', 'Iris versicolor', 'Iris virginica']\n"
     ]
    }
   ],
   "source": [
    "species = [\"Iris \" + x for x in iris.target_names]\n",
    "print(species)"
   ]
  },
  {
   "cell_type": "code",
   "execution_count": 47,
   "id": "12b061a0-d328-41a3-8158-7df5fbb00944",
   "metadata": {},
   "outputs": [
    {
     "data": {
      "image/png": "[encoded data removed]",
      "text/plain": [
       "<Figure size 432x288 with 1 Axes>"
      ]
     },
     "metadata": {
      "needs_background": "light"
     },
     "output_type": "display_data"
    }
   ],
   "source": [
    "for i in range(0,3):\n",
    "    species_df = iris_df[iris_df[\"species\"]==i]\n",
    "    plt.scatter(species_df[\"sepal length (cm)\"], species_df[\"petal length (cm)\"], color=colors[i], label = species[i])\n",
    "    plt.xlabel(\"sepal length\")\n",
    "    plt.ylabel(\"petal length\")\n",
    "    plt.legend(loc=\"lower right\")\n",
    "plt.show()    "
   ]
  },
  {
   "cell_type": "code",
   "execution_count": 50,
   "id": "68e27bcf-751b-4db3-ab33-ef20ea357feb",
   "metadata": {},
   "outputs": [
    {
     "data": {
      "image/png": "[encoded data removed]",
      "text/plain": [
       "<Figure size 864x252 with 3 Axes>"
      ]
     },
     "metadata": {
      "needs_background": "light"
     },
     "output_type": "display_data"
    }
   ],
   "source": [
    "fig, axes = plt.subplots(nrows = 1, #sets number of rows in subplot grid\n",
    "                         ncols = 3, #sets cols\n",
    "                         figsize = (12, 3.5)) #sets width and height\n",
    "\n",
    "#plot data for iris setosa\n",
    "species_df = iris_df[iris_df[\"species\"] == 0],\n",
    "axes[0].scatter(species_df[\"sepal length (cm)\"], species_df[\"petal length (cm)\"])\n",
    "axes[0].set_title(species[0])\n",
    "\n",
    "species_df = iris_df[iris_df[\"species\"] == 1],\n",
    "axes[1].scatter(species_df[\"sepal length (cm)\"], species_df[\"petal length (cm)\"])\n",
    "axes[1].set_title(species[1])\n",
    "\n",
    "species_df = iris_df[iris_df[\"species\"] == 2],\n",
    "axes[2].scatter(species_df[\"sepal length (cm)\"], species_df[\"petal length (cm)\"])\n",
    "axes[2].set_title(species[2])\n"
   ]
  },
  {
   "cell_type": "code",
   "execution_count": 54,
   "id": "1ff43117-d1fc-4fac-ac4e-443d3e1d9c09",
   "metadata": {},
   "outputs": [
    {
     "name": "stdout",
     "output_type": "stream",
     "text": [
      "0 AxesSubplot(0.125,0.125;0.227941x0.755)\n",
      "1 AxesSubplot(0.398529,0.125;0.227941x0.755)\n",
      "2 AxesSubplot(0.672059,0.125;0.227941x0.755)\n"
     ]
    }
   ],
   "source": [
    "# simple for loop using zip function\n",
    "for i, ax in zip(range(0, 3), axes.flatten()):\n",
    "    print(i, ax)"
   ]
  },
  {
   "cell_type": "code",
   "execution_count": 55,
   "id": "a89bd043-f778-4a11-a6dc-2eb4427d8cbc",
   "metadata": {},
   "outputs": [
    {
     "name": "stdout",
     "output_type": "stream",
     "text": [
      "0 AxesSubplot(0.125,0.125;0.227941x0.755)\n",
      "1 AxesSubplot(0.398529,0.125;0.227941x0.755)\n",
      "2 AxesSubplot(0.672059,0.125;0.227941x0.755)\n"
     ]
    }
   ],
   "source": [
    "for i, ax in enumerate(axes.flatten()):\n",
    "    print(i, ax)"
   ]
  },
  {
   "cell_type": "code",
   "execution_count": 64,
   "id": "e9fd45d2-638b-4155-9d9e-5ff68129290a",
   "metadata": {},
   "outputs": [
    {
     "data": {
      "image/png": "[encoded data removed]",
      "text/plain": [
       "<Figure size 864x252 with 3 Axes>"
      ]
     },
     "metadata": {
      "needs_background": "light"
     },
     "output_type": "display_data"
    }
   ],
   "source": [
    "fig, axes = plt.subplots(nrows = 1,\n",
    "                         ncols = 3,\n",
    "                         figsize = (12, 3.5))\n",
    "\n",
    "for i, ax in zip(range(0, 3), axes.flatten()):\n",
    "    \n",
    "    #filter data for each species\n",
    "    species_df = iris_df[iris_df[\"species\"] == i]\n",
    "    \n",
    "    #populate subplots.. alpha adjusts transparency of data points\n",
    "    ax.scatter(species_df[\"sepal length (cm)\"], species_df[\"petal length (cm)\"], alpha = 0.7)\n",
    "    \n",
    "    ax.set_xlabel(\"sepal length (cm)\")\n",
    "    ax.set_ylabel(\"petal length (cm)\")\n",
    "    ax.set_title(species[i])\n",
    "    \n",
    "    ax.set_xlim([4.0, 8.2])\n",
    "    ax.set_ylim([0.5,7.5])\n",
    "    \n",
    "fig.tight_layout()  # tight layout adjusts patting between subplots"
   ]
  },
  {
   "cell_type": "code",
   "execution_count": null,
   "id": "49427868-b847-4926-ab1c-3263ea4d9f15",
   "metadata": {},
   "outputs": [],
   "source": []
  }
 ],
 "metadata": {
  "kernelspec": {
   "display_name": "Python [conda env:adsml] *",
   "language": "python",
   "name": "conda-env-adsml-py"
  },
  "language_info": {
   "codemirror_mode": {
    "name": "ipython",
    "version": 3
   },
   "file_extension": ".py",
   "mimetype": "text/x-python",
   "name": "python",
   "nbconvert_exporter": "python",
   "pygments_lexer": "ipython3",
   "version": "3.9.7"
  }
 },
 "nbformat": 4,
 "nbformat_minor": 5
}
