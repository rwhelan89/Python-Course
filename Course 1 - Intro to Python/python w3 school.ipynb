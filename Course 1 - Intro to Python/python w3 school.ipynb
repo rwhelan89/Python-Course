{
 "cells": [
  {
   "cell_type": "code",
   "execution_count": null,
   "id": "868d727e-1010-4797-8e0d-1c52f3f8d803",
   "metadata": {},
   "outputs": [],
   "source": [
    "import pandas as pd"
   ]
  },
  {
   "cell_type": "code",
   "execution_count": null,
   "id": "69d3a6d1-9749-4b95-9f01-aa2653bfa3e7",
   "metadata": {},
   "outputs": [],
   "source": [
    "#append adds to the newlist as currently no values\n",
    "\n",
    "fruits = [\"apple\", \"banana\", \"cherry\", \"kiwi\", \"mango\"]\n",
    "newlist = []\n",
    "\n",
    "for x in fruits:\n",
    "           if \"a\" in x:\n",
    "               newlist.append(x)\n",
    "\n",
    "print(newlist)"
   ]
  },
  {
   "cell_type": "code",
   "execution_count": null,
   "id": "32fc52e3-8927-4749-a181-e90af4abb9e4",
   "metadata": {},
   "outputs": [],
   "source": [
    "#with list comprehension can do all in one line\n",
    "\n",
    "fruits = [\"apple\", \"banana\", \"cherry\", \"kiwi\", \"mango\"]\n",
    "\n",
    "newlist = [x for x in fruits if \"a\" in x]\n",
    "\n",
    "print(newlist)"
   ]
  },
  {
   "cell_type": "code",
   "execution_count": null,
   "id": "174074eb-ec79-4dc9-9710-9c53f03d3774",
   "metadata": {},
   "outputs": [],
   "source": [
    "newlist = [expression for item in iterable if condition == True]"
   ]
  },
  {
   "cell_type": "code",
   "execution_count": null,
   "id": "198a9fc8-39e0-4706-b4e9-a3b52e32447b",
   "metadata": {},
   "outputs": [],
   "source": [
    "#all values except those with apple in\n",
    "newlist = [x for x in fruits if x != \"apple\"]"
   ]
  },
  {
   "cell_type": "code",
   "execution_count": null,
   "id": "ae2763ed-f1be-4d98-9630-f810736cc635",
   "metadata": {},
   "outputs": [],
   "source": [
    "print(newlist)"
   ]
  },
  {
   "cell_type": "code",
   "execution_count": null,
   "id": "7d95113a-59fe-4272-9c8e-19481decbdc2",
   "metadata": {},
   "outputs": [],
   "source": [
    "fruits = [\"apple\", \"banana\", \"cherry\", \"kiwi\", \"mango\"]\n",
    "newlist = [x for x in fruits]"
   ]
  },
  {
   "cell_type": "code",
   "execution_count": null,
   "id": "b57f06db-ea57-4771-82ef-6676b821218d",
   "metadata": {},
   "outputs": [],
   "source": [
    "print(newlist)"
   ]
  },
  {
   "cell_type": "code",
   "execution_count": null,
   "id": "b1d4a91a-59d8-4d00-9575-044d72bbc9cc",
   "metadata": {},
   "outputs": [],
   "source": [
    "fruits = [\"apple\", \"banana\", \"cherry\", \"kiwi\", \"mango\"]\n",
    "newlist = [x for x in range(2)]"
   ]
  },
  {
   "cell_type": "code",
   "execution_count": null,
   "id": "07c1c1b6-6d1a-4e10-b44d-4da6973d92a6",
   "metadata": {},
   "outputs": [],
   "source": [
    "print(newlist)"
   ]
  },
  {
   "cell_type": "code",
   "execution_count": null,
   "id": "2549d7ca-a18c-4e94-bb59-f13e0e2648b8",
   "metadata": {},
   "outputs": [],
   "source": [
    "newlist = [x for x in range(10) if x < 5]"
   ]
  },
  {
   "cell_type": "code",
   "execution_count": null,
   "id": "a7bf4354-6a7e-49ea-83c3-13ed49d75cd9",
   "metadata": {},
   "outputs": [],
   "source": [
    "print(newlist)"
   ]
  },
  {
   "cell_type": "code",
   "execution_count": null,
   "id": "9054c80c-60cf-45cd-ba52-dddb22684401",
   "metadata": {},
   "outputs": [],
   "source": [
    "#manipulate expression at beginning.. eg set all values to upper case\n",
    "fruits = [\"apple\", \"banana\", \"cherry\", \"kiwi\", \"mango\"]\n",
    "newlist = [x.upper() for x in fruits]"
   ]
  },
  {
   "cell_type": "code",
   "execution_count": null,
   "id": "597d4433-46aa-48ae-a5f5-1dd3cdaa194e",
   "metadata": {},
   "outputs": [],
   "source": [
    "print(newlist)"
   ]
  },
  {
   "cell_type": "code",
   "execution_count": null,
   "id": "c78b053a-6dc0-416e-b3b6-06ab9ad50254",
   "metadata": {},
   "outputs": [],
   "source": [
    "#set all values to hello\n",
    "newlist = ['hello' for x in fruits]\n",
    "\n",
    "print(newlist)"
   ]
  },
  {
   "cell_type": "code",
   "execution_count": null,
   "id": "1c21fd4c-3c0e-4013-94ed-34f3798a12cd",
   "metadata": {},
   "outputs": [],
   "source": [
    "#return orange instead of banana\n",
    "newlist = [x if x != \"banana\" else \"orange\" for x in fruits]\n",
    "\n",
    "print(newlist)"
   ]
  },
  {
   "cell_type": "code",
   "execution_count": null,
   "id": "ff04c439-9992-4a8b-a097-d1ee43346986",
   "metadata": {},
   "outputs": [],
   "source": [
    "a = \"Hello, World!\"\n",
    "print(a[1])"
   ]
  },
  {
   "cell_type": "code",
   "execution_count": null,
   "id": "3fea1434-4b87-40aa-95df-5e1b5fe0907d",
   "metadata": {},
   "outputs": [],
   "source": [
    "for x in \"banana\":\n",
    "    print(x)"
   ]
  },
  {
   "cell_type": "code",
   "execution_count": null,
   "id": "4b603f36-f658-4ce6-ba89-a8172c60ccd6",
   "metadata": {},
   "outputs": [],
   "source": [
    "txt = \"the best things in life are free!\"\n",
    "if \"free\" in txt:\n",
    "    print(\"yes, 'free' is present\")"
   ]
  },
  {
   "cell_type": "code",
   "execution_count": null,
   "id": "abc44629-7c96-4b33-8b12-ddff5b9e990e",
   "metadata": {},
   "outputs": [],
   "source": [
    "#strip removes any whitespace at beginning or end\n",
    "a = \" Hello, World! \"\n",
    "print(a.strip())"
   ]
  },
  {
   "cell_type": "code",
   "execution_count": null,
   "id": "ce27b9c4-92d4-4d45-945b-042f4d90ca28",
   "metadata": {},
   "outputs": [],
   "source": [
    "#replace method\n",
    "a = \"Hello, World!\"\n",
    "print(a.replace(\"H\", \"J\"))"
   ]
  },
  {
   "cell_type": "code",
   "execution_count": null,
   "id": "1164e404-3ad9-4990-bafb-7f3d508567ea",
   "metadata": {},
   "outputs": [],
   "source": [
    "#format functions allows numbers added to strings in placeholder {}\n",
    "age = 36\n",
    "txt = \"my name is john, and i am {}\"\n",
    "print(txt.format(age))"
   ]
  },
  {
   "cell_type": "code",
   "execution_count": null,
   "id": "1443e763-4906-4fea-bf6e-eef25d569166",
   "metadata": {},
   "outputs": [],
   "source": [
    "quantity = 3\n",
    "itemno = 567\n",
    "price = 49.95\n",
    "myorder = \"I want {} pieces of item {} for {} dollars\"\n",
    "print(myorder.format(quantity, itemno, price))"
   ]
  },
  {
   "cell_type": "code",
   "execution_count": null,
   "id": "e0f50071-3148-4066-90c3-b90096254208",
   "metadata": {},
   "outputs": [],
   "source": [
    "#boolean function is true or false\n",
    "print(10>9)"
   ]
  },
  {
   "cell_type": "code",
   "execution_count": null,
   "id": "01355099-7281-4013-9067-018a7a6fa8db",
   "metadata": {},
   "outputs": [],
   "source": [
    "a = 200\n",
    "b = 33\n",
    "if b > a:\n",
    "    print(\"b is greater than a\")\n",
    "else: \n",
    "    print(\"a is greater than b\")"
   ]
  },
  {
   "cell_type": "code",
   "execution_count": null,
   "id": "10ea582a-5f40-4220-a2b0-0584ab661189",
   "metadata": {},
   "outputs": [],
   "source": [
    "#change elements in a list\n",
    "thislist = [\"apple\", \"banana\", \"cherry\", \"orange\", \"kiwi\", \"mango\"]\n",
    "thislist[1:3] = [\"blackcurrent\", \"watermelon\"]\n",
    "print(thislist)"
   ]
  },
  {
   "cell_type": "code",
   "execution_count": null,
   "id": "0819676b-1473-494e-b77f-8cf98c6d9723",
   "metadata": {},
   "outputs": [],
   "source": [
    "#insert function adds without removing current\n",
    "thislist = [\"apple\", \"banana\", \"cherry\", \"orange\", \"kiwi\", \"mango\"]\n",
    "thislist.insert(2, \"watermelon\")\n",
    "print(thislist)"
   ]
  },
  {
   "cell_type": "code",
   "execution_count": null,
   "id": "3f5a7ac6-7417-449e-ac44-cb80ab4a07fd",
   "metadata": {},
   "outputs": [],
   "source": [
    "thislist = [\"apple\", \"banana\", \"cherry\", \"orange\", \"kiwi\", \"mango\"]\n",
    "tropical = [\"mango\", \"pineapple\", \"papaya\"]\n",
    "thislist.extend(tropical)\n",
    "print(thislist)"
   ]
  },
  {
   "cell_type": "code",
   "execution_count": null,
   "id": "7a34b0fe-df21-4cfd-861b-4b84646dba4c",
   "metadata": {},
   "outputs": [],
   "source": [
    "#pop removes specified index\n",
    "thislist = [\"apple\", \"banana\", \"cherry\", \"orange\", \"kiwi\", \"mango\"]\n",
    "thislist.pop(1)\n",
    "print(thislist)"
   ]
  },
  {
   "cell_type": "code",
   "execution_count": null,
   "id": "22f4752f-dc29-44fc-9967-15cdc66edf70",
   "metadata": {},
   "outputs": [],
   "source": [
    "thislist = [\"apple\", \"banana\", \"cherry\"]\n",
    "i = 0\n",
    "while i < len(thislist):\n",
    "    print(thislist[i])\n",
    "    i = i + 1"
   ]
  },
  {
   "cell_type": "code",
   "execution_count": 2,
   "id": "b6568083-c306-45e4-af6b-2550c037c9e7",
   "metadata": {},
   "outputs": [
    {
     "name": "stdout",
     "output_type": "stream",
     "text": [
      "[50, 65, 23, 82, 100]\n"
     ]
    }
   ],
   "source": [
    "#customise sort function\n",
    "def myfunc(n):\n",
    "    return abs(n - 50)\n",
    "\n",
    "thislist = [100, 50, 65, 82, 23]\n",
    "thislist.sort(key = myfunc)\n",
    "print(thislist)"
   ]
  },
  {
   "cell_type": "code",
   "execution_count": 1,
   "id": "531e3746-837c-4ff6-b929-2f7849db973c",
   "metadata": {},
   "outputs": [
    {
     "name": "stdout",
     "output_type": "stream",
     "text": [
      "a > b\n"
     ]
    }
   ],
   "source": [
    "#if elif & else\n",
    "a = 200\n",
    "b = 33\n",
    "if b > a:\n",
    "    print(\"b > a\")\n",
    "elif a == b:\n",
    "    print(\"a = b\")\n",
    "else:\n",
    "    print(\"a > b\")\n",
    "    "
   ]
  },
  {
   "cell_type": "code",
   "execution_count": 6,
   "id": "15eabafe-b8e5-4339-b507-0ebccdc3347e",
   "metadata": {},
   "outputs": [
    {
     "name": "stdout",
     "output_type": "stream",
     "text": [
      "apple\n",
      "banana\n"
     ]
    }
   ],
   "source": [
    "#break statement\n",
    "fruits = [\"apple\", \"banana\", \"cherry\"]\n",
    "for x in fruits:\n",
    "    print(x)\n",
    "    if x == \"banana\":\n",
    "        break"
   ]
  },
  {
   "cell_type": "code",
   "execution_count": 7,
   "id": "08058d70-d3d2-4c41-b0a7-7a051f3d2b66",
   "metadata": {},
   "outputs": [
    {
     "name": "stdout",
     "output_type": "stream",
     "text": [
      "apple\n"
     ]
    }
   ],
   "source": [
    "#break statement\n",
    "fruits = [\"apple\", \"banana\", \"cherry\"]\n",
    "for x in fruits:\n",
    "    if x == \"banana\":\n",
    "        break\n",
    "    print(x)"
   ]
  },
  {
   "cell_type": "code",
   "execution_count": 8,
   "id": "f9f4a79f-41c9-40b4-a4eb-91ed0b40d050",
   "metadata": {},
   "outputs": [
    {
     "name": "stdout",
     "output_type": "stream",
     "text": [
      "apple\n",
      "cherry\n"
     ]
    }
   ],
   "source": [
    "#continue statement\n",
    "fruits = [\"apple\", \"banana\", \"cherry\"]\n",
    "for x in fruits:\n",
    "    if x == \"banana\":\n",
    "        continue\n",
    "    print(x)"
   ]
  },
  {
   "cell_type": "code",
   "execution_count": 9,
   "id": "42b5b64c-affa-4bd2-b791-827c933f195c",
   "metadata": {},
   "outputs": [
    {
     "name": "stdout",
     "output_type": "stream",
     "text": [
      "2\n",
      "5\n",
      "8\n",
      "11\n",
      "14\n",
      "17\n",
      "20\n",
      "23\n",
      "26\n",
      "29\n"
     ]
    }
   ],
   "source": [
    "#third coordinate for sequence number\n",
    "for x in range(2, 30, 3):\n",
    "    print(x)"
   ]
  },
  {
   "cell_type": "code",
   "execution_count": 10,
   "id": "62f37ba5-6286-462b-9723-48ab44d9ac67",
   "metadata": {},
   "outputs": [
    {
     "name": "stdout",
     "output_type": "stream",
     "text": [
      "Emil Refsnes\n",
      "Tobias Refsnes\n",
      "Linus Refsnes\n"
     ]
    }
   ],
   "source": [
    "#functions\n",
    "def my_function(fname):\n",
    "    print(fname + \" Refsnes\")\n",
    "    \n",
    "my_function(\"Emil\")\n",
    "my_function(\"Tobias\")\n",
    "my_function(\"Linus\")"
   ]
  },
  {
   "cell_type": "code",
   "execution_count": 14,
   "id": "cb39c072-23dd-470f-854f-e304188828b1",
   "metadata": {},
   "outputs": [
    {
     "name": "stdout",
     "output_type": "stream",
     "text": [
      "Rob Whelan\n"
     ]
    }
   ],
   "source": [
    "def my_function(fname, lname):\n",
    "    print(fname + \" \" + lname)\n",
    "    \n",
    "my_function(\"Rob\", \"Whelan\")"
   ]
  },
  {
   "cell_type": "code",
   "execution_count": 16,
   "id": "439ddb59-5f1e-4a48-8bdf-1f4c9b3e8332",
   "metadata": {},
   "outputs": [
    {
     "name": "stdout",
     "output_type": "stream",
     "text": [
      "the youngest child is linus\n"
     ]
    }
   ],
   "source": [
    "#functions with arbitrary args add *.. if uknown use kwargs **\n",
    "def my_function(*kids):\n",
    "    print(\"the youngest child is \" + kids[2])\n",
    "    \n",
    "my_function(\"emil\", \"tobias\", \"linus\")"
   ]
  },
  {
   "cell_type": "code",
   "execution_count": 17,
   "id": "9fc40d18-d5d3-4b71-af46-9c9ca8181417",
   "metadata": {},
   "outputs": [
    {
     "name": "stdout",
     "output_type": "stream",
     "text": [
      "25\n"
     ]
    }
   ],
   "source": [
    "#return values\n",
    "def my_function(x):\n",
    "    return 5 * x\n",
    "\n",
    "print(my_function(5))"
   ]
  },
  {
   "cell_type": "code",
   "execution_count": null,
   "id": "457a125f-0b70-4606-971c-4b015e3e9917",
   "metadata": {},
   "outputs": [],
   "source": []
  }
 ],
 "metadata": {
  "kernelspec": {
   "display_name": "Python [conda env:adsml] *",
   "language": "python",
   "name": "conda-env-adsml-py"
  },
  "language_info": {
   "codemirror_mode": {
    "name": "ipython",
    "version": 3
   },
   "file_extension": ".py",
   "mimetype": "text/x-python",
   "name": "python",
   "nbconvert_exporter": "python",
   "pygments_lexer": "ipython3",
   "version": "3.9.7"
  }
 },
 "nbformat": 4,
 "nbformat_minor": 5
}
