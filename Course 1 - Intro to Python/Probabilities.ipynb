{
 "cells": [
  {
   "cell_type": "code",
   "execution_count": 1,
   "id": "26f37ba8-8e73-4c18-b7e9-4a0e92e7a0fb",
   "metadata": {},
   "outputs": [],
   "source": [
    "import random"
   ]
  },
  {
   "cell_type": "code",
   "execution_count": 2,
   "id": "ff0a3c85-c09f-45cb-8230-79cb254dcf48",
   "metadata": {},
   "outputs": [],
   "source": [
    "bag = ['r', 'r', 'r', 'g', 'g', 'g', 'g',]"
   ]
  },
  {
   "cell_type": "code",
   "execution_count": 3,
   "id": "34729a23-6820-44ab-ae99-5ff0ed6764aa",
   "metadata": {},
   "outputs": [
    {
     "data": {
      "text/plain": [
       "3"
      ]
     },
     "execution_count": 3,
     "metadata": {},
     "output_type": "execute_result"
    }
   ],
   "source": [
    "random.randrange(len(bag))\n",
    "#returns random value between 0 and 7(excluding 7)"
   ]
  },
  {
   "cell_type": "code",
   "execution_count": 5,
   "id": "ddb2f94b-8011-4f13-8d4d-ae9824f7ea53",
   "metadata": {},
   "outputs": [
    {
     "data": {
      "text/plain": [
       "'r'"
      ]
     },
     "execution_count": 5,
     "metadata": {},
     "output_type": "execute_result"
    }
   ],
   "source": [
    "color1 = bag[random.randrange(len(bag))]\n",
    "color1"
   ]
  },
  {
   "cell_type": "code",
   "execution_count": 6,
   "id": "6d423643-b0af-493d-b7b6-0434bf06a833",
   "metadata": {},
   "outputs": [],
   "source": [
    "#repeat drawing many times\n",
    "color1 = bag[random.randrange(len(bag))]\n",
    "color2 = bag[random.randrange(len(bag))]"
   ]
  },
  {
   "cell_type": "code",
   "execution_count": 8,
   "id": "7c8cdc79-8215-410a-9de5-b9d9dc40e259",
   "metadata": {},
   "outputs": [
    {
     "ename": "IndentationError",
     "evalue": "expected an indented block (Temp/ipykernel_10092/1003853301.py, line 1)",
     "output_type": "error",
     "traceback": [
      "\u001b[1;36m  File \u001b[1;32m\"C:\\Users\\Rob\\AppData\\Local\\Temp/ipykernel_10092/1003853301.py\"\u001b[1;36m, line \u001b[1;32m1\u001b[0m\n\u001b[1;33m    if color1=='r' and color2=='r':\u001b[0m\n\u001b[1;37m                                   ^\u001b[0m\n\u001b[1;31mIndentationError\u001b[0m\u001b[1;31m:\u001b[0m expected an indented block\n"
     ]
    }
   ],
   "source": []
  },
  {
   "cell_type": "code",
   "execution_count": 15,
   "id": "6bae566c-1974-4dd4-b085-19758febd173",
   "metadata": {},
   "outputs": [
    {
     "data": {
      "text/plain": [
       "0.18262"
      ]
     },
     "execution_count": 15,
     "metadata": {},
     "output_type": "execute_result"
    }
   ],
   "source": [
    "#marble is replaced in bag and therefore A does not affect outcome of B\n",
    "\n",
    "import random\n",
    "\n",
    "bag = ['r', 'r', 'r', 'g', 'g', 'g', 'g',]\n",
    "experiments = 100000\n",
    "counter = 0\n",
    "for i in range(experiments):\n",
    "    color1 = bag[random.randrange(len(bag))]\n",
    "    color2 = bag[random.randrange(len(bag))]\n",
    "    if color1=='r' and color2=='r':\n",
    "            counter +=1\n",
    "\n",
    "counter / experiments\n",
    "\n",
    "#should be close to 3/7 * 3/7 eg 0.18367"
   ]
  },
  {
   "cell_type": "code",
   "execution_count": 16,
   "id": "da72b40c-b8ad-47b0-8943-f0bc020ff700",
   "metadata": {},
   "outputs": [
    {
     "data": {
      "text/plain": [
       "0.14285"
      ]
     },
     "execution_count": 16,
     "metadata": {},
     "output_type": "execute_result"
    }
   ],
   "source": [
    "#marble is removed in bag and therefore A does affect outcome of B\n",
    "#remember to add the marble back in bag after experiment!\n",
    "\n",
    "import random\n",
    "\n",
    "bag = ['r', 'r', 'r', 'g', 'g', 'g', 'g',]\n",
    "experiments = 100000\n",
    "counter = 0\n",
    "for i in range(experiments):\n",
    "    color1 = bag[random.randrange(len(bag))]\n",
    "    bag.remove(color1)\n",
    "    color2 = bag[random.randrange(len(bag))]\n",
    "    if color1=='r' and color2=='r':\n",
    "            counter +=1\n",
    "    bag.append(color1)        \n",
    "\n",
    "counter / experiments\n",
    "\n",
    "#should be close to expected value eg 0.1407"
   ]
  },
  {
   "cell_type": "code",
   "execution_count": 19,
   "id": "05190e37-53fc-4344-83cb-e081e391bd18",
   "metadata": {},
   "outputs": [
    {
     "data": {
      "text/plain": [
       "1.462"
      ]
     },
     "execution_count": 19,
     "metadata": {},
     "output_type": "execute_result"
    }
   ],
   "source": [
    "#tossing a coin three times.. number of tails to appear\n",
    "\n",
    "import random \n",
    "\n",
    "outcome_space = ['H', 'T']\n",
    "experiments = 1000\n",
    "tails = 0\n",
    "for i in range(experiments):\n",
    "    for toss in range(3):\n",
    "        result = outcome_space[random.randrange(len(outcome_space))]\n",
    "        if result=='T':\n",
    "            tails += 1\n",
    "                               \n",
    "tails/experiments                \n",
    "#xpected value"
   ]
  },
  {
   "cell_type": "code",
   "execution_count": 22,
   "id": "227cb2ef-986f-468f-b0c5-bbb76e8cd9ca",
   "metadata": {},
   "outputs": [
    {
     "data": {
      "text/plain": [
       "2.024"
      ]
     },
     "execution_count": 22,
     "metadata": {},
     "output_type": "execute_result"
    }
   ],
   "source": [
    "#tossing a coin until heads comes up\n",
    "\n",
    "import random \n",
    "\n",
    "outcome_space = ['H', 'T']\n",
    "experiments = 1000\n",
    "trials = 0\n",
    "for i in range(experiments):\n",
    "    seen_heads = False\n",
    "    while not seen_heads:\n",
    "        trials += 1\n",
    "        result = outcome_space[random.randrange(len(outcome_space))]\n",
    "        if result=='H':\n",
    "            break\n",
    "                               \n",
    "trials/experiments                \n",
    "#xpected value should be close to 2"
   ]
  },
  {
   "cell_type": "code",
   "execution_count": 27,
   "id": "e6cd4441-11af-4cb5-82e5-0c50aa3c3d68",
   "metadata": {},
   "outputs": [
    {
     "data": {
      "text/plain": [
       "1.0135"
      ]
     },
     "execution_count": 27,
     "metadata": {},
     "output_type": "execute_result"
    }
   ],
   "source": [
    "#hat check problem\n",
    "import random\n",
    "\n",
    "experiments = 10000\n",
    "proper_hats = 0\n",
    "men = list(range(10))\n",
    "for i in range(experiments):\n",
    "    hats = list(range(len(men)))\n",
    "    for man in men:\n",
    "        hat = hats[random.randrange(len(hats))]\n",
    "        if man == hat:\n",
    "            proper_hats += 1\n",
    "        hats.remove(hat)\n",
    "        \n",
    "proper_hats / experiments \n",
    "#should be close to 1"
   ]
  },
  {
   "cell_type": "code",
   "execution_count": 28,
   "id": "bf6e448b-79c1-4973-ab7e-407a8bc781e5",
   "metadata": {},
   "outputs": [
    {
     "data": {
      "text/plain": [
       "0.0497"
      ]
     },
     "execution_count": 28,
     "metadata": {},
     "output_type": "execute_result"
    }
   ],
   "source": [
    "#binomial distro of finding 2 heads tosses in 10 coin flips\n",
    "\n",
    "import random\n",
    "\n",
    "experiments = 10000\n",
    "experiments_k2 = 0\n",
    "coinflips = 10\n",
    "for i in range(experiments):\n",
    "    heads = 0\n",
    "    for flip in range(coinflips):\n",
    "        if random.random() < 0.5: #random() returns random floating point number between 0 and 1 so can use <0.5 to represent fair coin flip\n",
    "            heads += 1\n",
    "    if heads == 2:\n",
    "        experiments_k2 += 1\n",
    "        \n",
    "experiments_k2 / experiments        \n",
    "        \n",
    "    "
   ]
  },
  {
   "cell_type": "code",
   "execution_count": 33,
   "id": "157a854a-dd30-43b3-88dd-5548ed8e1f4f",
   "metadata": {},
   "outputs": [
    {
     "data": {
      "text/plain": [
       "3.50127"
      ]
     },
     "execution_count": 33,
     "metadata": {},
     "output_type": "execute_result"
    }
   ],
   "source": [
    "# expected value of a dice roll\n",
    "\n",
    "import random\n",
    "\n",
    "outcome_space = [1, 2, 3, 4, 5, 6]\n",
    "experiments = 10000\n",
    "sum = 0\n",
    "rolls = 100\n",
    "for i in range(experiments):\n",
    "    for roll in range(rolls):\n",
    "        result = outcome_space[random.randrange(len(outcome_space))]\n",
    "        sum += result\n",
    "        \n",
    "(sum / rolls) / experiments        \n",
    "    "
   ]
  },
  {
   "cell_type": "code",
   "execution_count": 49,
   "id": "7fb58606-79d8-4455-a717-9d6712d835d3",
   "metadata": {},
   "outputs": [
    {
     "data": {
      "text/plain": [
       "11.4203"
      ]
     },
     "execution_count": 49,
     "metadata": {},
     "output_type": "execute_result"
    }
   ],
   "source": [
    "#random does not mean anything\n",
    "\n",
    "import random\n",
    "\n",
    "outcome_space = [11, 12, 13, 14, 15, 16, 17, 18, 19, 20, 21, 22, 23, 24, 25, 26, 27, 28, 29, 30, 31, 32, 33, 34, 35, 36, 37, 38, 39, 40]\n",
    "experiments = 10000\n",
    "sum = 0\n",
    "rolls = 1\n",
    "for i in range(experiments):\n",
    "    for roll in range(rolls):\n",
    "        result = outcome_space[random.randrange(len(outcome_space))]\n",
    "        if 16 <= result <= 30:\n",
    "            sum += result\n",
    "        \n",
    "sum / experiments     "
   ]
  },
  {
   "cell_type": "code",
   "execution_count": 50,
   "id": "105786a7-36ad-4200-973e-4e58314ed9c9",
   "metadata": {},
   "outputs": [],
   "source": [
    "import matplotlib.pyplot as plt\n",
    "\n",
    "%matplotlib inline\n",
    "import numpy as np"
   ]
  },
  {
   "cell_type": "code",
   "execution_count": 55,
   "id": "18e22f56-db22-4096-8ce9-98ebb4a9dad3",
   "metadata": {},
   "outputs": [
    {
     "data": {
      "image/png": "[encoded data removed]",
      "text/plain": [
       "<Figure size 432x288 with 1 Axes>"
      ]
     },
     "metadata": {
      "needs_background": "light"
     },
     "output_type": "display_data"
    }
   ],
   "source": [
    "#fill list with numbers between 0 and 1\n",
    "random_numbers = [random.random() for i in range(100000)]\n",
    "#plot to show that numbers are not distributed equally\n",
    "plt.hist(random_numbers, bins=np.linspace(0, 1, 101))\n",
    "plt.xlabel('random values')\n",
    "plt.ylabel('frequency')\n",
    "plt.show()"
   ]
  },
  {
   "cell_type": "code",
   "execution_count": 56,
   "id": "2d5f2f99-fdea-4b14-ac88-36b55d1f115d",
   "metadata": {},
   "outputs": [],
   "source": [
    "import random"
   ]
  },
  {
   "cell_type": "code",
   "execution_count": 59,
   "id": "0c70d650-d0e4-46ba-8da0-073ec2cc4475",
   "metadata": {},
   "outputs": [
    {
     "data": {
      "image/png": "[encoded data removed]",
      "text/plain": [
       "<Figure size 432x288 with 1 Axes>"
      ]
     },
     "metadata": {
      "needs_background": "light"
     },
     "output_type": "display_data"
    }
   ],
   "source": [
    "means = []\n",
    "samplesize = 20\n",
    "experiments = 100000\n",
    "for i in range(experiments):\n",
    "    total = 0\n",
    "    for ii in range(samplesize):\n",
    "        total += random.random()\n",
    "    mean = total/samplesize\n",
    "    means.append(mean)\n",
    "plt.hist(means, bins=np.linspace(0,1,101));\n",
    "plt.xlabel('sample means')\n",
    "plt.ylabel('frequency')\n",
    "plt.show()"
   ]
  },
  {
   "cell_type": "code",
   "execution_count": null,
   "id": "16f790cc-a18b-4b5c-8b85-cf8ed8f11779",
   "metadata": {},
   "outputs": [],
   "source": []
  }
 ],
 "metadata": {
  "kernelspec": {
   "display_name": "Python [conda env:adsml] *",
   "language": "python",
   "name": "conda-env-adsml-py"
  },
  "language_info": {
   "codemirror_mode": {
    "name": "ipython",
    "version": 3
   },
   "file_extension": ".py",
   "mimetype": "text/x-python",
   "name": "python",
   "nbconvert_exporter": "python",
   "pygments_lexer": "ipython3",
   "version": "3.9.7"
  }
 },
 "nbformat": 4,
 "nbformat_minor": 5
}
