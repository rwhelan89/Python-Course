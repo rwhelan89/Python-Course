{
 "cells": [
  {
   "cell_type": "markdown",
   "id": "eded8ac9-75a3-44ee-8675-828aad847fa7",
   "metadata": {},
   "source": [
    "<a id=\"top\"></a>"
   ]
  },
  {
   "cell_type": "markdown",
   "id": "755e0976-e527-43ed-90e9-4870435d5646",
   "metadata": {},
   "source": [
    "here is the top of the notebook"
   ]
  },
  {
   "cell_type": "markdown",
   "id": "43c42aa9-de98-44cb-9c9c-06594542e557",
   "metadata": {},
   "source": [
    "[go to bottom of this notebook](#bottom)"
   ]
  },
  {
   "cell_type": "markdown",
   "id": "6437ec0c-3d3b-4774-acee-fdcb5aa14386",
   "metadata": {
    "tags": []
   },
   "source": [
    "# This is a heading\n",
    "\n",
    "This is a list\n",
    "* item a\n",
    "* item b\n",
    "* item c\n",
    "\n",
    "This is inline code `str.contains('x')`\n",
    "\n",
    "This is a block of code\n",
    "\n",
    "```Python\n",
    "a = 5\n",
    "b = 3\n",
    "if a < 3:\n",
    "    print (True\n",
    "```"
   ]
  },
  {
   "cell_type": "code",
   "execution_count": 17,
   "id": "5ce03251-ff06-4365-afc4-9d439be2f955",
   "metadata": {},
   "outputs": [
    {
     "name": "stdout",
     "output_type": "stream",
     "text": [
      "Hello world\n"
     ]
    }
   ],
   "source": [
    "print('Hello world')"
   ]
  },
  {
   "cell_type": "code",
   "execution_count": 18,
   "id": "a151184e-f56f-433f-9067-ac6e1f2f790e",
   "metadata": {},
   "outputs": [
    {
     "data": {
      "text/plain": [
       "1"
      ]
     },
     "execution_count": 18,
     "metadata": {},
     "output_type": "execute_result"
    }
   ],
   "source": [
    "x = 1\n",
    "x"
   ]
  },
  {
   "cell_type": "code",
   "execution_count": 19,
   "id": "d4c93922-d9d4-4ef1-9082-f7a2e0324841",
   "metadata": {},
   "outputs": [
    {
     "data": {
      "text/plain": [
       "2"
      ]
     },
     "execution_count": 19,
     "metadata": {},
     "output_type": "execute_result"
    }
   ],
   "source": [
    "y = x*2\n",
    "y"
   ]
  },
  {
   "cell_type": "markdown",
   "id": "1c99ce11-4d62-4409-9273-93b39a56197f",
   "metadata": {
    "tags": []
   },
   "source": [
    "<a id=\"bottom\"></a>"
   ]
  },
  {
   "cell_type": "markdown",
   "id": "283f812c-506d-4fbc-870f-16f17c3270a5",
   "metadata": {},
   "source": [
    "Here is the end of the notebook"
   ]
  },
  {
   "cell_type": "markdown",
   "id": "a2b74d7d-b76e-4738-acaf-9f4f3466bd08",
   "metadata": {},
   "source": [
    "[Go to top of the notebook](#top)\n"
   ]
  },
  {
   "cell_type": "code",
   "execution_count": 22,
   "id": "d75a39a6-02cd-4eb9-9635-d3a92e32db87",
   "metadata": {},
   "outputs": [],
   "source": [
    "%run script.py"
   ]
  },
  {
   "cell_type": "code",
   "execution_count": 23,
   "id": "54fbc99b-5208-4e89-a855-04d410f9c4b7",
   "metadata": {},
   "outputs": [
    {
     "data": {
      "text/plain": [
       "20.202020202020204"
      ]
     },
     "execution_count": 23,
     "metadata": {},
     "output_type": "execute_result"
    }
   ],
   "source": [
    "bmi"
   ]
  },
  {
   "cell_type": "code",
   "execution_count": null,
   "id": "87a2de3f-db4e-40f1-a7cc-f3aa1d581172",
   "metadata": {},
   "outputs": [],
   "source": []
  }
 ],
 "metadata": {
  "kernelspec": {
   "display_name": "Python [conda env:adsml] *",
   "language": "python",
   "name": "conda-env-adsml-py"
  },
  "language_info": {
   "codemirror_mode": {
    "name": "ipython",
    "version": 3
   },
   "file_extension": ".py",
   "mimetype": "text/x-python",
   "name": "python",
   "nbconvert_exporter": "python",
   "pygments_lexer": "ipython3",
   "version": "3.9.7"
  },
  "toc-showcode": false,
  "toc-showmarkdowntxt": false
 },
 "nbformat": 4,
 "nbformat_minor": 5
}
