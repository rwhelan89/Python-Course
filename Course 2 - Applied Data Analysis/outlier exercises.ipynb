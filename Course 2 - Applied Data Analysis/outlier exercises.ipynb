{
 "cells": [
  {
   "cell_type": "code",
   "execution_count": 1,
   "id": "fe1e3deb-ecc0-4b7b-af4c-542eb9ab2a97",
   "metadata": {},
   "outputs": [],
   "source": [
    "import pandas as pd\n",
    "import numpy as np\n",
    "import matplotlib.pyplot as plt\n",
    "%matplotlib inline"
   ]
  },
  {
   "cell_type": "code",
   "execution_count": 2,
   "id": "0a654be5-d80d-4d4c-a231-0863ffeb1880",
   "metadata": {},
   "outputs": [],
   "source": [
    "movies = pd.read_csv(\"c2_tmdb_5000_movies.csv\")"
   ]
  },
  {
   "cell_type": "code",
   "execution_count": 3,
   "id": "54716447-0274-48e4-9051-68aa8696efe6",
   "metadata": {},
   "outputs": [
    {
     "data": {
      "text/plain": [
       "Index(['budget', 'genres', 'homepage', 'id', 'keywords', 'original_language',\n",
       "       'original_title', 'overview', 'popularity', 'production_companies',\n",
       "       'production_countries', 'release_date', 'revenue', 'runtime',\n",
       "       'spoken_languages', 'status', 'tagline', 'title', 'vote_average',\n",
       "       'vote_count'],\n",
       "      dtype='object')"
      ]
     },
     "execution_count": 3,
     "metadata": {},
     "output_type": "execute_result"
    }
   ],
   "source": [
    "movies.columns"
   ]
  },
  {
   "cell_type": "code",
   "execution_count": 4,
   "id": "f697c87f-6ad8-4df7-818f-203057d466e0",
   "metadata": {},
   "outputs": [
    {
     "data": {
      "text/plain": [
       "24                                          King Kong\n",
       "25                                            Titanic\n",
       "110                                      Pearl Harbor\n",
       "329     The Lord of the Rings: The Return of the King\n",
       "676                                        Wyatt Earp\n",
       "690                                    The Green Mile\n",
       "855                                 Gods and Generals\n",
       "880                                        Grindhouse\n",
       "1091                                            Nixon\n",
       "1109                                    Heaven's Gate\n",
       "1125                                        Cleopatra\n",
       "1181                                              JFK\n",
       "1333                                         Magnolia\n",
       "1387                                        Malcolm X\n",
       "1477                                             Reds\n",
       "1663                      Once Upon a Time in America\n",
       "1759                                  The Right Stuff\n",
       "1818                                 Schindler's List\n",
       "1922                                       Gettysburg\n",
       "2024                                           Gandhi\n",
       "2192                     The Greatest Story Ever Told\n",
       "2278                               Dances with Wolves\n",
       "2300                     The Fall of the Roman Empire\n",
       "2373                                           Hamlet\n",
       "2384                                           Carlos\n",
       "2536                                  The Deer Hunter\n",
       "2550                               Lawrence of Arabia\n",
       "2631                                      The Company\n",
       "2731                           The Godfather: Part II\n",
       "2914                                   Doctor Zhivago\n",
       "2936                                     Barry Lyndon\n",
       "2962                               कभी अलविदा ना कहना\n",
       "3161                              Fiddler on the Roof\n",
       "3191                                         สุริโยไท\n",
       "3374                                       Veer-Zaara\n",
       "3510                                             Emma\n",
       "3723                             Anne of Green Gables\n",
       "3813                               Gone with the Wind\n",
       "3852                                       The Secret\n",
       "3914                            Judgment at Nuremberg\n",
       "4389                     Chocolate: Deep Dark Secrets\n",
       "4497                                        Woodstock\n",
       "4535                                             七人の侍\n",
       "4592                                      Intolerance\n",
       "Name: original_title, dtype: object"
      ]
     },
     "execution_count": 4,
     "metadata": {},
     "output_type": "execute_result"
    }
   ],
   "source": [
    "movies_long = movies[movies[\"runtime\"] > 180]\n",
    "movies_long[\"original_title\"]"
   ]
  },
  {
   "cell_type": "code",
   "execution_count": 8,
   "id": "ea96789f-3edd-4b65-9a67-59e891e9856c",
   "metadata": {},
   "outputs": [
    {
     "data": {
      "text/plain": [
       "24                         King Kong\n",
       "25                           Titanic\n",
       "65                   The Dark Knight\n",
       "77                        Inside Out\n",
       "95                      Interstellar\n",
       "                    ...             \n",
       "4606             Tupac: Resurrection\n",
       "4662                  Little Big Top\n",
       "4678    The Business of Fancydancing\n",
       "4679                 Call + Response\n",
       "4755                        Counting\n",
       "Name: original_title, Length: 125, dtype: object"
      ]
     },
     "execution_count": 8,
     "metadata": {},
     "output_type": "execute_result"
    }
   ],
   "source": [
    "d1 = movies[(movies.runtime >= 180) | (movies.vote_average >= 8.0)]\n",
    "d1.original_title\n"
   ]
  },
  {
   "cell_type": "code",
   "execution_count": 10,
   "id": "56b5ea20-780f-49a5-9096-ff63af848375",
   "metadata": {},
   "outputs": [
    {
     "data": {
      "text/plain": [
       "329     The Lord of the Rings: The Return of the King\n",
       "690                                    The Green Mile\n",
       "1663                      Once Upon a Time in America\n",
       "1818                                 Schindler's List\n",
       "2731                           The Godfather: Part II\n",
       "3723                             Anne of Green Gables\n",
       "4535                                             七人の侍\n",
       "Name: original_title, dtype: object"
      ]
     },
     "execution_count": 10,
     "metadata": {},
     "output_type": "execute_result"
    }
   ],
   "source": [
    "d2 = movies[(movies.runtime >= 180) & (movies.vote_average >= 8.0)]\n",
    "d2.original_title"
   ]
  },
  {
   "cell_type": "code",
   "execution_count": 14,
   "id": "801d6e9c-41b7-4d4d-af28-b38343c928aa",
   "metadata": {},
   "outputs": [
    {
     "data": {
      "text/plain": [
       "4535    Seven Samurai\n",
       "Name: title, dtype: object"
      ]
     },
     "execution_count": 14,
     "metadata": {},
     "output_type": "execute_result"
    }
   ],
   "source": [
    "d3 = d2 = movies[(movies.runtime >= 180) & (movies.vote_average >= 8.0) & (movies.original_language != \"en\")] \n",
    "d3.title"
   ]
  },
  {
   "cell_type": "code",
   "execution_count": null,
   "id": "1e2ef2b5-44bb-47ae-8f25-6d15918ee30c",
   "metadata": {},
   "outputs": [],
   "source": []
  }
 ],
 "metadata": {
  "kernelspec": {
   "display_name": "Python [conda env:adsml] *",
   "language": "python",
   "name": "conda-env-adsml-py"
  },
  "language_info": {
   "codemirror_mode": {
    "name": "ipython",
    "version": 3
   },
   "file_extension": ".py",
   "mimetype": "text/x-python",
   "name": "python",
   "nbconvert_exporter": "python",
   "pygments_lexer": "ipython3",
   "version": "3.9.7"
  }
 },
 "nbformat": 4,
 "nbformat_minor": 5
}
