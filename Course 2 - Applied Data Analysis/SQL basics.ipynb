{
 "cells": [
  {
   "cell_type": "code",
   "execution_count": 2,
   "id": "74b5cdc0-8025-4805-9ba0-96f80ec697c8",
   "metadata": {},
   "outputs": [],
   "source": [
    "import pandas as pd\n",
    "import sqlite3\n",
    "\n",
    "db = sqlite3.connect(\"my_database.db\")"
   ]
  },
  {
   "cell_type": "code",
   "execution_count": 3,
   "id": "792803ec-9fd2-4bb1-b1ef-b054aeec6ff7",
   "metadata": {},
   "outputs": [],
   "source": [
    "# create own database\n",
    "# primary key indicates index\n",
    "\n",
    "query = \"CREATE TABLE customer (id INTEGER PRIMARY KEY, first_name TEXT, last_name TEXT, age INTEGER)\""
   ]
  },
  {
   "cell_type": "code",
   "execution_count": 4,
   "id": "fd6e3ef4-266d-4cef-9bdc-0e7e689b1fc4",
   "metadata": {},
   "outputs": [],
   "source": [
    "cursor = db.cursor()"
   ]
  },
  {
   "cell_type": "code",
   "execution_count": 6,
   "id": "d4fb49ab-1b7f-4866-8294-564dfe8b6047",
   "metadata": {},
   "outputs": [
    {
     "data": {
      "text/plain": [
       "<sqlite3.Cursor at 0x15e5bab97a0>"
      ]
     },
     "execution_count": 6,
     "metadata": {},
     "output_type": "execute_result"
    }
   ],
   "source": [
    "cursor.execute(query)"
   ]
  },
  {
   "cell_type": "code",
   "execution_count": 7,
   "id": "5927bcd6-6362-4a28-98eb-b58fe6aed9ef",
   "metadata": {},
   "outputs": [
    {
     "data": {
      "text/plain": [
       "<sqlite3.Cursor at 0x15e5bab97a0>"
      ]
     },
     "execution_count": 7,
     "metadata": {},
     "output_type": "execute_result"
    }
   ],
   "source": [
    "cursor.execute(\"SELECT name FROM sqlite_master WHERE type='table';\")"
   ]
  },
  {
   "cell_type": "code",
   "execution_count": 8,
   "id": "1423ad47-9d37-4912-99ac-fd54bca54503",
   "metadata": {},
   "outputs": [
    {
     "name": "stdout",
     "output_type": "stream",
     "text": [
      "[('customer',)]\n"
     ]
    }
   ],
   "source": [
    "results = cursor.fetchall()\n",
    "print(results)"
   ]
  },
  {
   "cell_type": "code",
   "execution_count": 9,
   "id": "8ad32c17-bc43-443d-8304-7ce764182a40",
   "metadata": {},
   "outputs": [
    {
     "data": {
      "text/plain": [
       "<sqlite3.Cursor at 0x15e5bab97a0>"
      ]
     },
     "execution_count": 9,
     "metadata": {},
     "output_type": "execute_result"
    }
   ],
   "source": [
    "# add row into database\n",
    "\n",
    "query = \"INSERT INTO customer VALUES (701, 'Mackenzie', 'Fox', 35)\"\n",
    "cursor.execute(query)"
   ]
  },
  {
   "cell_type": "code",
   "execution_count": 10,
   "id": "f756b5df-0e5f-4611-8830-dac6cec8ec5f",
   "metadata": {},
   "outputs": [],
   "source": [
    "db.commit()"
   ]
  },
  {
   "cell_type": "code",
   "execution_count": 11,
   "id": "1f723336-1a23-44a5-a680-1120a96f512b",
   "metadata": {},
   "outputs": [
    {
     "name": "stdout",
     "output_type": "stream",
     "text": [
      "[(701, 'Mackenzie', 'Fox', 35)]\n"
     ]
    }
   ],
   "source": [
    "cursor.execute(\"SELECT * FROM customer;\")\n",
    "results = cursor.fetchall()\n",
    "print(results)"
   ]
  },
  {
   "cell_type": "code",
   "execution_count": 12,
   "id": "c768f650-6b4f-4051-a605-e72d19b81350",
   "metadata": {},
   "outputs": [],
   "source": [
    "# add column\n",
    "\n",
    "cursor.execute(\"ALTER TABLE customer ADD COLUMN city TEXT DEFAULT 'Geneva';\")\n",
    "db.commit()"
   ]
  },
  {
   "cell_type": "code",
   "execution_count": 13,
   "id": "f4fdfd3f-9140-4066-bece-a723ca3f349a",
   "metadata": {},
   "outputs": [
    {
     "name": "stdout",
     "output_type": "stream",
     "text": [
      "[(701, 'Mackenzie', 'Fox', 35, 'Geneva')]\n"
     ]
    }
   ],
   "source": [
    "cursor.execute(\"SELECT * FROM customer;\")\n",
    "results = cursor.fetchall()\n",
    "print(results)"
   ]
  },
  {
   "cell_type": "code",
   "execution_count": 14,
   "id": "3f0e1342-c037-4a6e-a7ad-3fbe383588b9",
   "metadata": {},
   "outputs": [],
   "source": [
    "import pandas as pd\n",
    "\n",
    "df2 = pd.DataFrame(\n",
    "    [[702, \"Emily\", \"Joy\", 49, \"Geneva\"]],\n",
    "    columns=[\"id\", \"first_name\", \"last_name\", \"age\", \"city\"],\n",
    ")"
   ]
  },
  {
   "cell_type": "code",
   "execution_count": 15,
   "id": "67c46476-274a-41ac-b4bd-236f48359362",
   "metadata": {},
   "outputs": [],
   "source": [
    "# add to existing db\n",
    "\n",
    "df2.to_sql(name=\"customer\", con=db, if_exists=\"append\", index=False)"
   ]
  },
  {
   "cell_type": "code",
   "execution_count": 16,
   "id": "df6a6674-7545-4190-a387-ec37da53cfcf",
   "metadata": {},
   "outputs": [
    {
     "name": "stdout",
     "output_type": "stream",
     "text": [
      "[(701, 'Mackenzie', 'Fox', 35, 'Geneva'), (702, 'Emily', 'Joy', 49, 'Geneva')]\n"
     ]
    }
   ],
   "source": [
    "cursor.execute(\"SELECT * FROM customer;\")\n",
    "results = cursor.fetchall()\n",
    "print(results)"
   ]
  },
  {
   "cell_type": "code",
   "execution_count": 17,
   "id": "24010805-4074-4e8b-ad58-2df9b077716c",
   "metadata": {},
   "outputs": [],
   "source": [
    "# update row\n",
    "\n",
    "update = \"\"\"\n",
    "UPDATE customer\n",
    "SET city='Zurich'\n",
    "WHERE id=702;\n",
    "\"\"\""
   ]
  },
  {
   "cell_type": "code",
   "execution_count": 18,
   "id": "247e0127-a790-4ee6-b9c6-d7775ac6f536",
   "metadata": {},
   "outputs": [],
   "source": [
    "cursor.execute(update)\n",
    "db.commit()"
   ]
  },
  {
   "cell_type": "code",
   "execution_count": 19,
   "id": "84769f10-61e5-42ce-a9ad-55a4d771bcb2",
   "metadata": {},
   "outputs": [
    {
     "name": "stdout",
     "output_type": "stream",
     "text": [
      "[(701, 'Mackenzie', 'Fox', 35, 'Geneva'), (702, 'Emily', 'Joy', 49, 'Zurich')]\n"
     ]
    }
   ],
   "source": [
    "cursor.execute(\"SELECT * FROM customer;\")\n",
    "results = cursor.fetchall()\n",
    "print(results)"
   ]
  },
  {
   "cell_type": "code",
   "execution_count": 20,
   "id": "a7e6a2a5-e10f-48ee-bba3-29081ba82260",
   "metadata": {},
   "outputs": [],
   "source": [
    "# delete row\n",
    "\n",
    "delete = \"\"\"\n",
    "DELETE FROM customer\n",
    "WHERE id=702;\n",
    "\"\"\"\n",
    "\n",
    "cursor.execute(delete)\n",
    "db.commit()"
   ]
  },
  {
   "cell_type": "code",
   "execution_count": 21,
   "id": "6721942a-dd03-4e5b-9f48-6b234174874d",
   "metadata": {},
   "outputs": [
    {
     "name": "stdout",
     "output_type": "stream",
     "text": [
      "[(701, 'Mackenzie', 'Fox', 35, 'Geneva')]\n"
     ]
    }
   ],
   "source": [
    "cursor.execute(\"SELECT * FROM customer;\")\n",
    "results = cursor.fetchall()\n",
    "print(results)"
   ]
  },
  {
   "cell_type": "code",
   "execution_count": 22,
   "id": "b5c0360a-a9f3-410e-8d7d-ad83465d744f",
   "metadata": {},
   "outputs": [],
   "source": [
    "db = sqlite3.connect(\"songs.csv\")\n",
    "cursor = db.cursor()"
   ]
  },
  {
   "cell_type": "code",
   "execution_count": 23,
   "id": "f3ee914c-d9d0-4756-9780-137c929125c4",
   "metadata": {},
   "outputs": [
    {
     "name": "stdout",
     "output_type": "stream",
     "text": [
      "Stairway to Heaven\n",
      "Black Dog\n",
      "All My Love\n",
      "Rebel Rebel\n",
      "Golden Years\n"
     ]
    }
   ],
   "source": [
    "for chunk in pd.read_csv(\"c2_songs.csv\", chunksize=4):\n",
    "    chunk.to_sql(name='data', con=db, if_exists=\"append\", index=False)\n",
    "    print(chunk.iloc[0, 2])"
   ]
  },
  {
   "cell_type": "code",
   "execution_count": 25,
   "id": "cbdb3d1c-211c-45a2-96b7-db00d2dba8cd",
   "metadata": {},
   "outputs": [
    {
     "data": {
      "text/html": [
       "<div>\n",
       "<style scoped>\n",
       "    .dataframe tbody tr th:only-of-type {\n",
       "        vertical-align: middle;\n",
       "    }\n",
       "\n",
       "    .dataframe tbody tr th {\n",
       "        vertical-align: top;\n",
       "    }\n",
       "\n",
       "    .dataframe thead th {\n",
       "        text-align: right;\n",
       "    }\n",
       "</style>\n",
       "<table border=\"1\" class=\"dataframe\">\n",
       "  <thead>\n",
       "    <tr style=\"text-align: right;\">\n",
       "      <th></th>\n",
       "      <th>Musician</th>\n",
       "      <th>Genre</th>\n",
       "      <th>Name</th>\n",
       "      <th>Decade</th>\n",
       "      <th>Minutes</th>\n",
       "    </tr>\n",
       "  </thead>\n",
       "  <tbody>\n",
       "    <tr>\n",
       "      <th>0</th>\n",
       "      <td>Led Zeppelin</td>\n",
       "      <td>hard rock</td>\n",
       "      <td>Stairway to Heaven</td>\n",
       "      <td>70</td>\n",
       "      <td>08:02</td>\n",
       "    </tr>\n",
       "    <tr>\n",
       "      <th>1</th>\n",
       "      <td>Led Zeppelin</td>\n",
       "      <td>hard rock</td>\n",
       "      <td>Kashmir</td>\n",
       "      <td>70</td>\n",
       "      <td>08:37</td>\n",
       "    </tr>\n",
       "    <tr>\n",
       "      <th>2</th>\n",
       "      <td>Led Zeppelin</td>\n",
       "      <td>hard rock</td>\n",
       "      <td>Immigrant Song</td>\n",
       "      <td>70</td>\n",
       "      <td>02:26</td>\n",
       "    </tr>\n",
       "    <tr>\n",
       "      <th>3</th>\n",
       "      <td>Led Zeppelin</td>\n",
       "      <td>hard rock</td>\n",
       "      <td>Whole Lotta Love</td>\n",
       "      <td>60</td>\n",
       "      <td>05:33</td>\n",
       "    </tr>\n",
       "    <tr>\n",
       "      <th>4</th>\n",
       "      <td>Led Zeppelin</td>\n",
       "      <td>hard rock</td>\n",
       "      <td>Black Dog</td>\n",
       "      <td>70</td>\n",
       "      <td>04:55</td>\n",
       "    </tr>\n",
       "    <tr>\n",
       "      <th>5</th>\n",
       "      <td>Led Zeppelin</td>\n",
       "      <td>hard rock</td>\n",
       "      <td>Good Times Bad Times</td>\n",
       "      <td>60</td>\n",
       "      <td>02:43</td>\n",
       "    </tr>\n",
       "    <tr>\n",
       "      <th>6</th>\n",
       "      <td>Led Zeppelin</td>\n",
       "      <td>hard rock</td>\n",
       "      <td>Moby Dick</td>\n",
       "      <td>60</td>\n",
       "      <td>04:25</td>\n",
       "    </tr>\n",
       "    <tr>\n",
       "      <th>7</th>\n",
       "      <td>Led Zeppelin</td>\n",
       "      <td>hard rock</td>\n",
       "      <td>Ramble On</td>\n",
       "      <td>60</td>\n",
       "      <td>04:35</td>\n",
       "    </tr>\n",
       "    <tr>\n",
       "      <th>8</th>\n",
       "      <td>Led Zeppelin</td>\n",
       "      <td>hard rock</td>\n",
       "      <td>All My Love</td>\n",
       "      <td>70</td>\n",
       "      <td>05:53</td>\n",
       "    </tr>\n",
       "    <tr>\n",
       "      <th>9</th>\n",
       "      <td>Led Zeppelin</td>\n",
       "      <td>hard rock</td>\n",
       "      <td>The Song Remains the Same</td>\n",
       "      <td>70</td>\n",
       "      <td>05:24</td>\n",
       "    </tr>\n",
       "    <tr>\n",
       "      <th>10</th>\n",
       "      <td>Led Zeppelin</td>\n",
       "      <td>hard rock</td>\n",
       "      <td>I Can't Quit You Baby</td>\n",
       "      <td>60</td>\n",
       "      <td>04:42</td>\n",
       "    </tr>\n",
       "    <tr>\n",
       "      <th>11</th>\n",
       "      <td>David Bowie</td>\n",
       "      <td>pop rock</td>\n",
       "      <td>Space Oddity</td>\n",
       "      <td>60</td>\n",
       "      <td>05:15</td>\n",
       "    </tr>\n",
       "    <tr>\n",
       "      <th>12</th>\n",
       "      <td>David Bowie</td>\n",
       "      <td>pop rock</td>\n",
       "      <td>Rebel Rebel</td>\n",
       "      <td>70</td>\n",
       "      <td>04:22</td>\n",
       "    </tr>\n",
       "    <tr>\n",
       "      <th>13</th>\n",
       "      <td>David Bowie</td>\n",
       "      <td>pop rock</td>\n",
       "      <td>Under Pressure</td>\n",
       "      <td>80</td>\n",
       "      <td>04:08</td>\n",
       "    </tr>\n",
       "    <tr>\n",
       "      <th>14</th>\n",
       "      <td>David Bowie</td>\n",
       "      <td>pop rock</td>\n",
       "      <td>China Girl</td>\n",
       "      <td>70</td>\n",
       "      <td>05:08</td>\n",
       "    </tr>\n",
       "    <tr>\n",
       "      <th>15</th>\n",
       "      <td>David Bowie</td>\n",
       "      <td>pop rock</td>\n",
       "      <td>I'm Afraid of Americans</td>\n",
       "      <td>90</td>\n",
       "      <td>05:00</td>\n",
       "    </tr>\n",
       "    <tr>\n",
       "      <th>16</th>\n",
       "      <td>David Bowie</td>\n",
       "      <td>pop rock</td>\n",
       "      <td>Golden Years</td>\n",
       "      <td>70</td>\n",
       "      <td>04:00</td>\n",
       "    </tr>\n",
       "    <tr>\n",
       "      <th>17</th>\n",
       "      <td>Bob Dylan</td>\n",
       "      <td>folk rock</td>\n",
       "      <td>Like a Rolling Stone</td>\n",
       "      <td>60</td>\n",
       "      <td>06:13</td>\n",
       "    </tr>\n",
       "    <tr>\n",
       "      <th>18</th>\n",
       "      <td>Bob Dylan</td>\n",
       "      <td>folk rock</td>\n",
       "      <td>Blowin' in the Wind</td>\n",
       "      <td>60</td>\n",
       "      <td>02:48</td>\n",
       "    </tr>\n",
       "    <tr>\n",
       "      <th>19</th>\n",
       "      <td>Bob Dylan</td>\n",
       "      <td>folk rock</td>\n",
       "      <td>Tangled Up in Blue</td>\n",
       "      <td>70</td>\n",
       "      <td>05:42</td>\n",
       "    </tr>\n",
       "  </tbody>\n",
       "</table>\n",
       "</div>"
      ],
      "text/plain": [
       "        Musician       Genre                        Name  Decade Minutes\n",
       "0   Led Zeppelin   hard rock          Stairway to Heaven      70   08:02\n",
       "1   Led Zeppelin   hard rock                     Kashmir      70   08:37\n",
       "2   Led Zeppelin   hard rock              Immigrant Song      70   02:26\n",
       "3   Led Zeppelin   hard rock            Whole Lotta Love      60   05:33\n",
       "4   Led Zeppelin   hard rock                   Black Dog      70   04:55\n",
       "5   Led Zeppelin   hard rock        Good Times Bad Times      60   02:43\n",
       "6   Led Zeppelin   hard rock                   Moby Dick      60   04:25\n",
       "7   Led Zeppelin   hard rock                   Ramble On      60   04:35\n",
       "8   Led Zeppelin   hard rock                 All My Love      70   05:53\n",
       "9   Led Zeppelin   hard rock  The Song Remains the Same       70   05:24\n",
       "10  Led Zeppelin   hard rock       I Can't Quit You Baby      60   04:42\n",
       "11   David Bowie    pop rock                Space Oddity      60   05:15\n",
       "12   David Bowie    pop rock                 Rebel Rebel      70   04:22\n",
       "13   David Bowie    pop rock              Under Pressure      80   04:08\n",
       "14   David Bowie    pop rock                  China Girl      70   05:08\n",
       "15   David Bowie    pop rock     I'm Afraid of Americans      90   05:00\n",
       "16   David Bowie    pop rock                Golden Years      70   04:00\n",
       "17     Bob Dylan  folk rock         Like a Rolling Stone      60   06:13\n",
       "18     Bob Dylan  folk rock          Blowin' in the Wind      60   02:48\n",
       "19     Bob Dylan  folk rock           Tangled Up in Blue      70   05:42"
      ]
     },
     "execution_count": 25,
     "metadata": {},
     "output_type": "execute_result"
    }
   ],
   "source": [
    "# confirm it is parsing through selecting 0,2 value of every chunk\n",
    "\n",
    "pd.read_sql_query(\"SELECT * FROM data;\", db)"
   ]
  },
  {
   "cell_type": "code",
   "execution_count": null,
   "id": "348ec001-9193-4197-a312-d00f0b95e69a",
   "metadata": {},
   "outputs": [],
   "source": []
  }
 ],
 "metadata": {
  "kernelspec": {
   "display_name": "Python [conda env:adsml] *",
   "language": "python",
   "name": "conda-env-adsml-py"
  },
  "language_info": {
   "codemirror_mode": {
    "name": "ipython",
    "version": 3
   },
   "file_extension": ".py",
   "mimetype": "text/x-python",
   "name": "python",
   "nbconvert_exporter": "python",
   "pygments_lexer": "ipython3",
   "version": "3.9.7"
  }
 },
 "nbformat": 4,
 "nbformat_minor": 5
}
