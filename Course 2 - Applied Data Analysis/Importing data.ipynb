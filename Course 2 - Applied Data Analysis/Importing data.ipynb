{
 "cells": [
  {
   "cell_type": "code",
   "execution_count": 1,
   "id": "a97b3e39-f303-4c48-a9b1-563e47c8e865",
   "metadata": {},
   "outputs": [],
   "source": [
    "import numpy as np\n",
    "import pandas as pd"
   ]
  },
  {
   "cell_type": "code",
   "execution_count": 2,
   "id": "41f8844d-2996-4eb9-b80c-30378057392f",
   "metadata": {},
   "outputs": [
    {
     "data": {
      "text/html": [
       "<div>\n",
       "<style scoped>\n",
       "    .dataframe tbody tr th:only-of-type {\n",
       "        vertical-align: middle;\n",
       "    }\n",
       "\n",
       "    .dataframe tbody tr th {\n",
       "        vertical-align: top;\n",
       "    }\n",
       "\n",
       "    .dataframe thead th {\n",
       "        text-align: right;\n",
       "    }\n",
       "</style>\n",
       "<table border=\"1\" class=\"dataframe\">\n",
       "  <thead>\n",
       "    <tr style=\"text-align: right;\">\n",
       "      <th></th>\n",
       "      <th>a</th>\n",
       "      <th>b</th>\n",
       "      <th>c</th>\n",
       "      <th>d</th>\n",
       "    </tr>\n",
       "  </thead>\n",
       "  <tbody>\n",
       "    <tr>\n",
       "      <th>0</th>\n",
       "      <td>yellow</td>\n",
       "      <td>10</td>\n",
       "      <td>2</td>\n",
       "      <td>3.2</td>\n",
       "    </tr>\n",
       "    <tr>\n",
       "      <th>1</th>\n",
       "      <td>green</td>\n",
       "      <td>2</td>\n",
       "      <td>3</td>\n",
       "      <td>8.1</td>\n",
       "    </tr>\n",
       "    <tr>\n",
       "      <th>2</th>\n",
       "      <td>blue</td>\n",
       "      <td>7</td>\n",
       "      <td>1</td>\n",
       "      <td>0.4</td>\n",
       "    </tr>\n",
       "  </tbody>\n",
       "</table>\n",
       "</div>"
      ],
      "text/plain": [
       "        a   b  c    d\n",
       "0  yellow  10  2  3.2\n",
       "1   green   2  3  8.1\n",
       "2    blue   7  1  0.4"
      ]
     },
     "execution_count": 2,
     "metadata": {},
     "output_type": "execute_result"
    }
   ],
   "source": [
    "df = pd.read_csv(\"c2_file.csv\")\n",
    "df"
   ]
  },
  {
   "cell_type": "code",
   "execution_count": 3,
   "id": "4564de5b-bd08-49c8-be45-1300723a4737",
   "metadata": {},
   "outputs": [
    {
     "data": {
      "text/html": [
       "<div>\n",
       "<style scoped>\n",
       "    .dataframe tbody tr th:only-of-type {\n",
       "        vertical-align: middle;\n",
       "    }\n",
       "\n",
       "    .dataframe tbody tr th {\n",
       "        vertical-align: top;\n",
       "    }\n",
       "\n",
       "    .dataframe thead th {\n",
       "        text-align: right;\n",
       "    }\n",
       "</style>\n",
       "<table border=\"1\" class=\"dataframe\">\n",
       "  <thead>\n",
       "    <tr style=\"text-align: right;\">\n",
       "      <th></th>\n",
       "      <th>0</th>\n",
       "      <th>1</th>\n",
       "      <th>2</th>\n",
       "      <th>3</th>\n",
       "    </tr>\n",
       "  </thead>\n",
       "  <tbody>\n",
       "    <tr>\n",
       "      <th>0</th>\n",
       "      <td>a</td>\n",
       "      <td>b</td>\n",
       "      <td>c</td>\n",
       "      <td>d</td>\n",
       "    </tr>\n",
       "    <tr>\n",
       "      <th>1</th>\n",
       "      <td>yellow</td>\n",
       "      <td>10</td>\n",
       "      <td>2</td>\n",
       "      <td>3.2</td>\n",
       "    </tr>\n",
       "    <tr>\n",
       "      <th>2</th>\n",
       "      <td>green</td>\n",
       "      <td>2</td>\n",
       "      <td>3</td>\n",
       "      <td>8.1</td>\n",
       "    </tr>\n",
       "    <tr>\n",
       "      <th>3</th>\n",
       "      <td>blue</td>\n",
       "      <td>7</td>\n",
       "      <td>1</td>\n",
       "      <td>0.4</td>\n",
       "    </tr>\n",
       "  </tbody>\n",
       "</table>\n",
       "</div>"
      ],
      "text/plain": [
       "        0   1  2    3\n",
       "0       a   b  c    d\n",
       "1  yellow  10  2  3.2\n",
       "2   green   2  3  8.1\n",
       "3    blue   7  1  0.4"
      ]
     },
     "execution_count": 3,
     "metadata": {},
     "output_type": "execute_result"
    }
   ],
   "source": [
    "pd.read_csv(\"c2_file.csv\", header=None)"
   ]
  },
  {
   "cell_type": "code",
   "execution_count": 4,
   "id": "984276ef-1175-4d83-ad38-38c6ee759462",
   "metadata": {},
   "outputs": [
    {
     "data": {
      "text/html": [
       "<div>\n",
       "<style scoped>\n",
       "    .dataframe tbody tr th:only-of-type {\n",
       "        vertical-align: middle;\n",
       "    }\n",
       "\n",
       "    .dataframe tbody tr th {\n",
       "        vertical-align: top;\n",
       "    }\n",
       "\n",
       "    .dataframe thead th {\n",
       "        text-align: right;\n",
       "    }\n",
       "</style>\n",
       "<table border=\"1\" class=\"dataframe\">\n",
       "  <thead>\n",
       "    <tr style=\"text-align: right;\">\n",
       "      <th></th>\n",
       "      <th>column 1</th>\n",
       "      <th>column 2</th>\n",
       "      <th>column 3</th>\n",
       "      <th>column 4</th>\n",
       "    </tr>\n",
       "  </thead>\n",
       "  <tbody>\n",
       "    <tr>\n",
       "      <th>0</th>\n",
       "      <td>a</td>\n",
       "      <td>b</td>\n",
       "      <td>c</td>\n",
       "      <td>d</td>\n",
       "    </tr>\n",
       "    <tr>\n",
       "      <th>1</th>\n",
       "      <td>yellow</td>\n",
       "      <td>10</td>\n",
       "      <td>2</td>\n",
       "      <td>3.2</td>\n",
       "    </tr>\n",
       "    <tr>\n",
       "      <th>2</th>\n",
       "      <td>green</td>\n",
       "      <td>2</td>\n",
       "      <td>3</td>\n",
       "      <td>8.1</td>\n",
       "    </tr>\n",
       "    <tr>\n",
       "      <th>3</th>\n",
       "      <td>blue</td>\n",
       "      <td>7</td>\n",
       "      <td>1</td>\n",
       "      <td>0.4</td>\n",
       "    </tr>\n",
       "  </tbody>\n",
       "</table>\n",
       "</div>"
      ],
      "text/plain": [
       "  column 1 column 2 column 3 column 4\n",
       "0        a        b        c        d\n",
       "1   yellow       10        2      3.2\n",
       "2    green        2        3      8.1\n",
       "3     blue        7        1      0.4"
      ]
     },
     "execution_count": 4,
     "metadata": {},
     "output_type": "execute_result"
    }
   ],
   "source": [
    "pd.read_csv(\"c2_file.csv\", names=[\"column 1\", \"column 2\", \"column 3\", \"column 4\"])"
   ]
  },
  {
   "cell_type": "code",
   "execution_count": 5,
   "id": "98aabfb3-1d30-44fe-bb63-099059486ade",
   "metadata": {},
   "outputs": [
    {
     "data": {
      "text/plain": [
       "a     object\n",
       "b      int64\n",
       "c      int64\n",
       "d    float64\n",
       "dtype: object"
      ]
     },
     "execution_count": 5,
     "metadata": {},
     "output_type": "execute_result"
    }
   ],
   "source": [
    "df.dtypes"
   ]
  },
  {
   "cell_type": "code",
   "execution_count": 6,
   "id": "138c302e-80b4-4ac8-a032-c019c1a0d465",
   "metadata": {},
   "outputs": [
    {
     "data": {
      "text/plain": [
       "a     object\n",
       "b    float64\n",
       "c      int64\n",
       "d    float64\n",
       "dtype: object"
      ]
     },
     "execution_count": 6,
     "metadata": {},
     "output_type": "execute_result"
    }
   ],
   "source": [
    "# force data types when importing data\n",
    "\n",
    "df2 = pd.read_csv(\"c2_file.csv\", dtype={\"b\": np.float64})\n",
    "df2.dtypes"
   ]
  },
  {
   "cell_type": "code",
   "execution_count": 7,
   "id": "ef229534-037c-458d-880f-b8f96445479d",
   "metadata": {},
   "outputs": [
    {
     "data": {
      "text/html": [
       "<div>\n",
       "<style scoped>\n",
       "    .dataframe tbody tr th:only-of-type {\n",
       "        vertical-align: middle;\n",
       "    }\n",
       "\n",
       "    .dataframe tbody tr th {\n",
       "        vertical-align: top;\n",
       "    }\n",
       "\n",
       "    .dataframe thead th {\n",
       "        text-align: right;\n",
       "    }\n",
       "</style>\n",
       "<table border=\"1\" class=\"dataframe\">\n",
       "  <thead>\n",
       "    <tr style=\"text-align: right;\">\n",
       "      <th></th>\n",
       "      <th>a</th>\n",
       "      <th>b</th>\n",
       "    </tr>\n",
       "  </thead>\n",
       "  <tbody>\n",
       "    <tr>\n",
       "      <th>0</th>\n",
       "      <td>yellow</td>\n",
       "      <td>10</td>\n",
       "    </tr>\n",
       "    <tr>\n",
       "      <th>1</th>\n",
       "      <td>green</td>\n",
       "      <td>2</td>\n",
       "    </tr>\n",
       "    <tr>\n",
       "      <th>2</th>\n",
       "      <td>blue</td>\n",
       "      <td>7</td>\n",
       "    </tr>\n",
       "  </tbody>\n",
       "</table>\n",
       "</div>"
      ],
      "text/plain": [
       "        a   b\n",
       "0  yellow  10\n",
       "1   green   2\n",
       "2    blue   7"
      ]
     },
     "execution_count": 7,
     "metadata": {},
     "output_type": "execute_result"
    }
   ],
   "source": [
    "# import partial data\n",
    "\n",
    "pd.read_csv(\"c2_file.csv\", usecols=[\"a\", \"b\"])"
   ]
  },
  {
   "cell_type": "code",
   "execution_count": 8,
   "id": "2d1c0356-d45a-4f6c-b0b2-31d3e9a52907",
   "metadata": {},
   "outputs": [
    {
     "data": {
      "text/html": [
       "<div>\n",
       "<style scoped>\n",
       "    .dataframe tbody tr th:only-of-type {\n",
       "        vertical-align: middle;\n",
       "    }\n",
       "\n",
       "    .dataframe tbody tr th {\n",
       "        vertical-align: top;\n",
       "    }\n",
       "\n",
       "    .dataframe thead th {\n",
       "        text-align: right;\n",
       "    }\n",
       "</style>\n",
       "<table border=\"1\" class=\"dataframe\">\n",
       "  <thead>\n",
       "    <tr style=\"text-align: right;\">\n",
       "      <th></th>\n",
       "      <th>varA</th>\n",
       "      <th>varB</th>\n",
       "      <th>varC</th>\n",
       "    </tr>\n",
       "  </thead>\n",
       "  <tbody>\n",
       "    <tr>\n",
       "      <th>0</th>\n",
       "      <td>0.391723</td>\n",
       "      <td>-0.155122</td>\n",
       "      <td>0.381104</td>\n",
       "    </tr>\n",
       "    <tr>\n",
       "      <th>1</th>\n",
       "      <td>0.575125</td>\n",
       "      <td>-0.105817</td>\n",
       "      <td>0.232245</td>\n",
       "    </tr>\n",
       "    <tr>\n",
       "      <th>2</th>\n",
       "      <td>0.672305</td>\n",
       "      <td>0.424688</td>\n",
       "      <td>-0.694795</td>\n",
       "    </tr>\n",
       "    <tr>\n",
       "      <th>3</th>\n",
       "      <td>0.766115</td>\n",
       "      <td>-0.791350</td>\n",
       "      <td>-0.028739</td>\n",
       "    </tr>\n",
       "    <tr>\n",
       "      <th>4</th>\n",
       "      <td>0.677259</td>\n",
       "      <td>-0.817543</td>\n",
       "      <td>-0.537088</td>\n",
       "    </tr>\n",
       "    <tr>\n",
       "      <th>5</th>\n",
       "      <td>-0.029702</td>\n",
       "      <td>-0.891848</td>\n",
       "      <td>-0.682719</td>\n",
       "    </tr>\n",
       "    <tr>\n",
       "      <th>6</th>\n",
       "      <td>-0.161366</td>\n",
       "      <td>-0.659600</td>\n",
       "      <td>-0.727898</td>\n",
       "    </tr>\n",
       "    <tr>\n",
       "      <th>7</th>\n",
       "      <td>0.031672</td>\n",
       "      <td>0.016607</td>\n",
       "      <td>-0.940479</td>\n",
       "    </tr>\n",
       "    <tr>\n",
       "      <th>8</th>\n",
       "      <td>0.833212</td>\n",
       "      <td>-0.503236</td>\n",
       "      <td>-0.887210</td>\n",
       "    </tr>\n",
       "    <tr>\n",
       "      <th>9</th>\n",
       "      <td>0.907753</td>\n",
       "      <td>0.265177</td>\n",
       "      <td>-0.390762</td>\n",
       "    </tr>\n",
       "  </tbody>\n",
       "</table>\n",
       "</div>"
      ],
      "text/plain": [
       "       varA      varB      varC\n",
       "0  0.391723 -0.155122  0.381104\n",
       "1  0.575125 -0.105817  0.232245\n",
       "2  0.672305  0.424688 -0.694795\n",
       "3  0.766115 -0.791350 -0.028739\n",
       "4  0.677259 -0.817543 -0.537088\n",
       "5 -0.029702 -0.891848 -0.682719\n",
       "6 -0.161366 -0.659600 -0.727898\n",
       "7  0.031672  0.016607 -0.940479\n",
       "8  0.833212 -0.503236 -0.887210\n",
       "9  0.907753  0.265177 -0.390762"
      ]
     },
     "execution_count": 8,
     "metadata": {},
     "output_type": "execute_result"
    }
   ],
   "source": [
    "pd.read_excel(\"c2_data.xls\")"
   ]
  },
  {
   "cell_type": "code",
   "execution_count": 9,
   "id": "561fc981-08c7-48de-a475-68239667e1c3",
   "metadata": {},
   "outputs": [
    {
     "data": {
      "text/html": [
       "<div>\n",
       "<style scoped>\n",
       "    .dataframe tbody tr th:only-of-type {\n",
       "        vertical-align: middle;\n",
       "    }\n",
       "\n",
       "    .dataframe tbody tr th {\n",
       "        vertical-align: top;\n",
       "    }\n",
       "\n",
       "    .dataframe thead th {\n",
       "        text-align: right;\n",
       "    }\n",
       "</style>\n",
       "<table border=\"1\" class=\"dataframe\">\n",
       "  <thead>\n",
       "    <tr style=\"text-align: right;\">\n",
       "      <th></th>\n",
       "      <th>varD</th>\n",
       "      <th>varE</th>\n",
       "      <th>varF</th>\n",
       "    </tr>\n",
       "  </thead>\n",
       "  <tbody>\n",
       "    <tr>\n",
       "      <th>0</th>\n",
       "      <td>0.907753</td>\n",
       "      <td>0.265177</td>\n",
       "      <td>-0.390762</td>\n",
       "    </tr>\n",
       "    <tr>\n",
       "      <th>1</th>\n",
       "      <td>0.755019</td>\n",
       "      <td>-0.768056</td>\n",
       "      <td>-0.528307</td>\n",
       "    </tr>\n",
       "    <tr>\n",
       "      <th>2</th>\n",
       "      <td>0.850692</td>\n",
       "      <td>-0.537159</td>\n",
       "      <td>-0.601387</td>\n",
       "    </tr>\n",
       "    <tr>\n",
       "      <th>3</th>\n",
       "      <td>0.131663</td>\n",
       "      <td>0.941327</td>\n",
       "      <td>0.240073</td>\n",
       "    </tr>\n",
       "    <tr>\n",
       "      <th>4</th>\n",
       "      <td>0.574400</td>\n",
       "      <td>0.091735</td>\n",
       "      <td>-0.395277</td>\n",
       "    </tr>\n",
       "    <tr>\n",
       "      <th>5</th>\n",
       "      <td>0.816630</td>\n",
       "      <td>0.875612</td>\n",
       "      <td>-0.880044</td>\n",
       "    </tr>\n",
       "    <tr>\n",
       "      <th>6</th>\n",
       "      <td>0.536732</td>\n",
       "      <td>0.175428</td>\n",
       "      <td>-0.473053</td>\n",
       "    </tr>\n",
       "    <tr>\n",
       "      <th>7</th>\n",
       "      <td>-0.084641</td>\n",
       "      <td>-0.042827</td>\n",
       "      <td>0.053344</td>\n",
       "    </tr>\n",
       "    <tr>\n",
       "      <th>8</th>\n",
       "      <td>0.268271</td>\n",
       "      <td>-0.010628</td>\n",
       "      <td>-0.090952</td>\n",
       "    </tr>\n",
       "    <tr>\n",
       "      <th>9</th>\n",
       "      <td>0.166792</td>\n",
       "      <td>-0.872579</td>\n",
       "      <td>-0.556899</td>\n",
       "    </tr>\n",
       "  </tbody>\n",
       "</table>\n",
       "</div>"
      ],
      "text/plain": [
       "       varD      varE      varF\n",
       "0  0.907753  0.265177 -0.390762\n",
       "1  0.755019 -0.768056 -0.528307\n",
       "2  0.850692 -0.537159 -0.601387\n",
       "3  0.131663  0.941327  0.240073\n",
       "4  0.574400  0.091735 -0.395277\n",
       "5  0.816630  0.875612 -0.880044\n",
       "6  0.536732  0.175428 -0.473053\n",
       "7 -0.084641 -0.042827  0.053344\n",
       "8  0.268271 -0.010628 -0.090952\n",
       "9  0.166792 -0.872579 -0.556899"
      ]
     },
     "execution_count": 9,
     "metadata": {},
     "output_type": "execute_result"
    }
   ],
   "source": [
    "# specify import from different sheet\n",
    "\n",
    "pd.read_excel(\"c2_data.xls\", sheet_name=\"Sheet2\")"
   ]
  },
  {
   "cell_type": "code",
   "execution_count": 10,
   "id": "14e4889a-e90f-4a75-b4e3-6ef70bd91ed5",
   "metadata": {},
   "outputs": [
    {
     "data": {
      "text/html": [
       "<div>\n",
       "<style scoped>\n",
       "    .dataframe tbody tr th:only-of-type {\n",
       "        vertical-align: middle;\n",
       "    }\n",
       "\n",
       "    .dataframe tbody tr th {\n",
       "        vertical-align: top;\n",
       "    }\n",
       "\n",
       "    .dataframe thead th {\n",
       "        text-align: right;\n",
       "    }\n",
       "</style>\n",
       "<table border=\"1\" class=\"dataframe\">\n",
       "  <thead>\n",
       "    <tr style=\"text-align: right;\">\n",
       "      <th></th>\n",
       "      <th>col1</th>\n",
       "      <th>col2</th>\n",
       "      <th>col3</th>\n",
       "      <th>col4</th>\n",
       "    </tr>\n",
       "  </thead>\n",
       "  <tbody>\n",
       "    <tr>\n",
       "      <th>row1</th>\n",
       "      <td>0</td>\n",
       "      <td>1</td>\n",
       "      <td>2</td>\n",
       "      <td>3</td>\n",
       "    </tr>\n",
       "    <tr>\n",
       "      <th>row2</th>\n",
       "      <td>4</td>\n",
       "      <td>5</td>\n",
       "      <td>6</td>\n",
       "      <td>7</td>\n",
       "    </tr>\n",
       "    <tr>\n",
       "      <th>row3</th>\n",
       "      <td>8</td>\n",
       "      <td>9</td>\n",
       "      <td>10</td>\n",
       "      <td>11</td>\n",
       "    </tr>\n",
       "    <tr>\n",
       "      <th>row4</th>\n",
       "      <td>12</td>\n",
       "      <td>13</td>\n",
       "      <td>14</td>\n",
       "      <td>15</td>\n",
       "    </tr>\n",
       "  </tbody>\n",
       "</table>\n",
       "</div>"
      ],
      "text/plain": [
       "      col1  col2  col3  col4\n",
       "row1     0     1     2     3\n",
       "row2     4     5     6     7\n",
       "row3     8     9    10    11\n",
       "row4    12    13    14    15"
      ]
     },
     "execution_count": 10,
     "metadata": {},
     "output_type": "execute_result"
    }
   ],
   "source": [
    "pd.read_json(\"c2_frame.json\")"
   ]
  },
  {
   "cell_type": "code",
   "execution_count": 11,
   "id": "271a42ba-29a5-48ed-8d33-ff63fc873f68",
   "metadata": {},
   "outputs": [],
   "source": [
    "# # import java file format\n",
    "\n",
    "import json\n",
    "from pandas import json_normalize"
   ]
  },
  {
   "cell_type": "code",
   "execution_count": 12,
   "id": "7c6ea644-027f-4e9e-92a9-69456795cc61",
   "metadata": {},
   "outputs": [],
   "source": [
    "with open(\"c2_books.json\", \"r\") as f:\n",
    "    json_string = f.read()\n",
    "    dictionary = json.loads(json_string)"
   ]
  },
  {
   "cell_type": "code",
   "execution_count": 13,
   "id": "d715c74c-b3ee-49a2-a6f9-3e9233f562b1",
   "metadata": {},
   "outputs": [
    {
     "data": {
      "text/html": [
       "<div>\n",
       "<style scoped>\n",
       "    .dataframe tbody tr th:only-of-type {\n",
       "        vertical-align: middle;\n",
       "    }\n",
       "\n",
       "    .dataframe tbody tr th {\n",
       "        vertical-align: top;\n",
       "    }\n",
       "\n",
       "    .dataframe thead th {\n",
       "        text-align: right;\n",
       "    }\n",
       "</style>\n",
       "<table border=\"1\" class=\"dataframe\">\n",
       "  <thead>\n",
       "    <tr style=\"text-align: right;\">\n",
       "      <th></th>\n",
       "      <th>isbn</th>\n",
       "      <th>title</th>\n",
       "      <th>subtitle</th>\n",
       "      <th>author</th>\n",
       "      <th>published</th>\n",
       "      <th>publisher</th>\n",
       "      <th>pages</th>\n",
       "      <th>description</th>\n",
       "      <th>website</th>\n",
       "    </tr>\n",
       "  </thead>\n",
       "  <tbody>\n",
       "    <tr>\n",
       "      <th>0</th>\n",
       "      <td>9781593275846</td>\n",
       "      <td>Eloquent JavaScript, Second Edition</td>\n",
       "      <td>A Modern Introduction to Programming</td>\n",
       "      <td>Marijn Haverbeke</td>\n",
       "      <td>2014-12-14T00:00:00.000Z</td>\n",
       "      <td>No Starch Press</td>\n",
       "      <td>472</td>\n",
       "      <td>JavaScript lies at the heart of almost every m...</td>\n",
       "      <td>http://eloquentjavascript.net/</td>\n",
       "    </tr>\n",
       "    <tr>\n",
       "      <th>1</th>\n",
       "      <td>9781449331818</td>\n",
       "      <td>Learning JavaScript Design Patterns</td>\n",
       "      <td>A JavaScript and jQuery Developer's Guide</td>\n",
       "      <td>Addy Osmani</td>\n",
       "      <td>2012-07-01T00:00:00.000Z</td>\n",
       "      <td>O'Reilly Media</td>\n",
       "      <td>254</td>\n",
       "      <td>With Learning JavaScript Design Patterns, you'...</td>\n",
       "      <td>http://www.addyosmani.com/resources/essentialj...</td>\n",
       "    </tr>\n",
       "    <tr>\n",
       "      <th>2</th>\n",
       "      <td>9781449365035</td>\n",
       "      <td>Speaking JavaScript</td>\n",
       "      <td>An In-Depth Guide for Programmers</td>\n",
       "      <td>Axel Rauschmayer</td>\n",
       "      <td>2014-02-01T00:00:00.000Z</td>\n",
       "      <td>O'Reilly Media</td>\n",
       "      <td>460</td>\n",
       "      <td>Like it or not, JavaScript is everywhere these...</td>\n",
       "      <td>http://speakingjs.com/</td>\n",
       "    </tr>\n",
       "  </tbody>\n",
       "</table>\n",
       "</div>"
      ],
      "text/plain": [
       "            isbn                                title  \\\n",
       "0  9781593275846  Eloquent JavaScript, Second Edition   \n",
       "1  9781449331818  Learning JavaScript Design Patterns   \n",
       "2  9781449365035                  Speaking JavaScript   \n",
       "\n",
       "                                    subtitle            author  \\\n",
       "0       A Modern Introduction to Programming  Marijn Haverbeke   \n",
       "1  A JavaScript and jQuery Developer's Guide       Addy Osmani   \n",
       "2          An In-Depth Guide for Programmers  Axel Rauschmayer   \n",
       "\n",
       "                  published        publisher  pages  \\\n",
       "0  2014-12-14T00:00:00.000Z  No Starch Press    472   \n",
       "1  2012-07-01T00:00:00.000Z   O'Reilly Media    254   \n",
       "2  2014-02-01T00:00:00.000Z   O'Reilly Media    460   \n",
       "\n",
       "                                         description  \\\n",
       "0  JavaScript lies at the heart of almost every m...   \n",
       "1  With Learning JavaScript Design Patterns, you'...   \n",
       "2  Like it or not, JavaScript is everywhere these...   \n",
       "\n",
       "                                             website  \n",
       "0                     http://eloquentjavascript.net/  \n",
       "1  http://www.addyosmani.com/resources/essentialj...  \n",
       "2                             http://speakingjs.com/  "
      ]
     },
     "execution_count": 13,
     "metadata": {},
     "output_type": "execute_result"
    }
   ],
   "source": [
    "json_normalize(dictionary, 'books')"
   ]
  },
  {
   "cell_type": "code",
   "execution_count": 14,
   "id": "be5b1c38-535d-4045-a737-68e8de640a12",
   "metadata": {},
   "outputs": [],
   "source": [
    "# html / web scraping\n",
    "\n",
    "import requests"
   ]
  },
  {
   "cell_type": "code",
   "execution_count": 15,
   "id": "2849ec65-9de6-479f-a61b-4f98bb813483",
   "metadata": {},
   "outputs": [],
   "source": [
    "page = requests.get(\n",
    "    \"https://web.archive.org/web/20180908144902/en.proverbia.net/shortfamousquotes.asp\"\n",
    ")"
   ]
  },
  {
   "cell_type": "code",
   "execution_count": 16,
   "id": "51392708-4914-42d7-8073-4028d105ca50",
   "metadata": {},
   "outputs": [
    {
     "data": {
      "text/plain": [
       "'\\n<!DOCTYPE html>\\n\\n<html lang=\"en\" xml:lang=\"en\">\\n<head><script src=\"//archive.org/includes/analytics'"
      ]
     },
     "execution_count": 16,
     "metadata": {},
     "output_type": "execute_result"
    }
   ],
   "source": [
    "page.text[0:100]"
   ]
  },
  {
   "cell_type": "code",
   "execution_count": 17,
   "id": "fd70ba29-ce03-4a9e-892e-7a471e731c88",
   "metadata": {},
   "outputs": [
    {
     "data": {
      "text/plain": [
       "200"
      ]
     },
     "execution_count": 17,
     "metadata": {},
     "output_type": "execute_result"
    }
   ],
   "source": [
    "page.status_code"
   ]
  },
  {
   "cell_type": "code",
   "execution_count": 18,
   "id": "46721cc1-e949-4438-9518-ca4dbd3f9ed0",
   "metadata": {},
   "outputs": [],
   "source": [
    "from bs4 import BeautifulSoup"
   ]
  },
  {
   "cell_type": "code",
   "execution_count": 19,
   "id": "db93c123-d60c-4b7c-9702-acc033a45971",
   "metadata": {},
   "outputs": [],
   "source": [
    "soup = BeautifulSoup(page.text, \"html.parser\")"
   ]
  },
  {
   "cell_type": "code",
   "execution_count": 20,
   "id": "be9f8413-bb5c-4311-b3fa-8601dc4f9e33",
   "metadata": {},
   "outputs": [],
   "source": [
    "# identify patterns in the html code that allude to required data in this case blockquote\n",
    "\n",
    "quotes = soup.find_all(\"blockquote\")"
   ]
  },
  {
   "cell_type": "code",
   "execution_count": 21,
   "id": "44dda322-d8de-4db3-be43-a892f1e03a6c",
   "metadata": {},
   "outputs": [
    {
     "data": {
      "text/plain": [
       "[<blockquote>There is a natural aristocracy among men. The grounds of this are virtue and talents. </blockquote>,\n",
       " <blockquote>All our words from loose using have lost their edge. </blockquote>,\n",
       " <blockquote>God couldn't be everywhere, so he created mothers </blockquote>,\n",
       " <blockquote>Be not afraid of going slowly, be afraid only of standing still. </blockquote>,\n",
       " <blockquote>Learn from yesterday, live for today, hope for tomorrow. </blockquote>,\n",
       " <blockquote>Do not confine your children to your own learning, for they were born in another time. </blockquote>,\n",
       " <blockquote>I hear and I forget, I see and I remember. I do and I understand. </blockquote>,\n",
       " <blockquote>In teaching others we teach ourselves. </blockquote>,\n",
       " <blockquote>Happiness will never come to those who fail to appreciate what they already have. </blockquote>,\n",
       " <blockquote>Without His love I can do nothing, with His love there is nothing I cannot do. </blockquote>]"
      ]
     },
     "execution_count": 21,
     "metadata": {},
     "output_type": "execute_result"
    }
   ],
   "source": [
    "quotes"
   ]
  },
  {
   "cell_type": "code",
   "execution_count": 22,
   "id": "4d90f583-e767-4064-9452-0f49b37c0c83",
   "metadata": {},
   "outputs": [
    {
     "data": {
      "text/plain": [
       "'There is a natural aristocracy among men. The grounds of this are virtue and talents. '"
      ]
     },
     "execution_count": 22,
     "metadata": {},
     "output_type": "execute_result"
    }
   ],
   "source": [
    "# since object quotes behaves like python list can iterate over it\n",
    "\n",
    "quotes[0].text\n",
    "\n",
    "# text attribute extracts text and returns string object"
   ]
  },
  {
   "cell_type": "code",
   "execution_count": 23,
   "id": "3dc2ba7e-5e68-4c97-a1c3-3167d20aec21",
   "metadata": {},
   "outputs": [],
   "source": [
    "# now run a loop to extract all\n",
    "\n",
    "quote_list= []\n",
    "for quote in quotes:\n",
    "    string = quote.text\n",
    "    quote_list.append(string)"
   ]
  },
  {
   "cell_type": "code",
   "execution_count": 24,
   "id": "9df8b6f3-584a-47e0-97c6-8cbbd15c22d6",
   "metadata": {},
   "outputs": [
    {
     "data": {
      "text/html": [
       "<div>\n",
       "<style scoped>\n",
       "    .dataframe tbody tr th:only-of-type {\n",
       "        vertical-align: middle;\n",
       "    }\n",
       "\n",
       "    .dataframe tbody tr th {\n",
       "        vertical-align: top;\n",
       "    }\n",
       "\n",
       "    .dataframe thead th {\n",
       "        text-align: right;\n",
       "    }\n",
       "</style>\n",
       "<table border=\"1\" class=\"dataframe\">\n",
       "  <thead>\n",
       "    <tr style=\"text-align: right;\">\n",
       "      <th></th>\n",
       "      <th>Quote</th>\n",
       "    </tr>\n",
       "  </thead>\n",
       "  <tbody>\n",
       "    <tr>\n",
       "      <th>0</th>\n",
       "      <td>There is a natural aristocracy among men. The ...</td>\n",
       "    </tr>\n",
       "    <tr>\n",
       "      <th>1</th>\n",
       "      <td>All our words from loose using have lost their...</td>\n",
       "    </tr>\n",
       "    <tr>\n",
       "      <th>2</th>\n",
       "      <td>God couldn't be everywhere, so he created moth...</td>\n",
       "    </tr>\n",
       "    <tr>\n",
       "      <th>3</th>\n",
       "      <td>Be not afraid of going slowly, be afraid only ...</td>\n",
       "    </tr>\n",
       "    <tr>\n",
       "      <th>4</th>\n",
       "      <td>Learn from yesterday, live for today, hope for...</td>\n",
       "    </tr>\n",
       "    <tr>\n",
       "      <th>5</th>\n",
       "      <td>Do not confine your children to your own learn...</td>\n",
       "    </tr>\n",
       "    <tr>\n",
       "      <th>6</th>\n",
       "      <td>I hear and I forget, I see and I remember. I d...</td>\n",
       "    </tr>\n",
       "    <tr>\n",
       "      <th>7</th>\n",
       "      <td>In teaching others we teach ourselves.</td>\n",
       "    </tr>\n",
       "    <tr>\n",
       "      <th>8</th>\n",
       "      <td>Happiness will never come to those who fail to...</td>\n",
       "    </tr>\n",
       "    <tr>\n",
       "      <th>9</th>\n",
       "      <td>Without His love I can do nothing, with His lo...</td>\n",
       "    </tr>\n",
       "  </tbody>\n",
       "</table>\n",
       "</div>"
      ],
      "text/plain": [
       "                                               Quote\n",
       "0  There is a natural aristocracy among men. The ...\n",
       "1  All our words from loose using have lost their...\n",
       "2  God couldn't be everywhere, so he created moth...\n",
       "3  Be not afraid of going slowly, be afraid only ...\n",
       "4  Learn from yesterday, live for today, hope for...\n",
       "5  Do not confine your children to your own learn...\n",
       "6  I hear and I forget, I see and I remember. I d...\n",
       "7            In teaching others we teach ourselves. \n",
       "8  Happiness will never come to those who fail to...\n",
       "9  Without His love I can do nothing, with His lo..."
      ]
     },
     "execution_count": 24,
     "metadata": {},
     "output_type": "execute_result"
    }
   ],
   "source": [
    "# now create dataframe with\n",
    "\n",
    "df = pd.DataFrame(quote_list, columns=[\"Quote\"])\n",
    "df"
   ]
  },
  {
   "cell_type": "code",
   "execution_count": 25,
   "id": "bb0560dd-5dc9-44f5-9993-e96d42363090",
   "metadata": {},
   "outputs": [],
   "source": [
    "authors = soup.find_all(\"p\", class_=\"a\")"
   ]
  },
  {
   "cell_type": "code",
   "execution_count": 26,
   "id": "ac4a38c6-204e-4c20-82f4-c335d51602d4",
   "metadata": {},
   "outputs": [
    {
     "data": {
      "text/plain": [
       "'\\nThomas Jefferson (1743-1826) Third president of the United States.\\n'"
      ]
     },
     "execution_count": 26,
     "metadata": {},
     "output_type": "execute_result"
    }
   ],
   "source": [
    "authors[0].text"
   ]
  },
  {
   "cell_type": "code",
   "execution_count": 27,
   "id": "03964fac-9821-4d81-8fef-312b2142ed8b",
   "metadata": {},
   "outputs": [
    {
     "data": {
      "text/plain": [
       "'Thomas Jefferson (1743-1826) Third president of the United States.'"
      ]
     },
     "execution_count": 27,
     "metadata": {},
     "output_type": "execute_result"
    }
   ],
   "source": [
    "authors[0].text[1:-1]"
   ]
  },
  {
   "cell_type": "code",
   "execution_count": 28,
   "id": "0e3a16ed-92d5-4278-90d2-712c4020aa77",
   "metadata": {},
   "outputs": [
    {
     "data": {
      "text/html": [
       "<div>\n",
       "<style scoped>\n",
       "    .dataframe tbody tr th:only-of-type {\n",
       "        vertical-align: middle;\n",
       "    }\n",
       "\n",
       "    .dataframe tbody tr th {\n",
       "        vertical-align: top;\n",
       "    }\n",
       "\n",
       "    .dataframe thead th {\n",
       "        text-align: right;\n",
       "    }\n",
       "</style>\n",
       "<table border=\"1\" class=\"dataframe\">\n",
       "  <thead>\n",
       "    <tr style=\"text-align: right;\">\n",
       "      <th></th>\n",
       "      <th>Quote</th>\n",
       "      <th>Author</th>\n",
       "    </tr>\n",
       "  </thead>\n",
       "  <tbody>\n",
       "    <tr>\n",
       "      <th>0</th>\n",
       "      <td>There is a natural aristocracy among men. The ...</td>\n",
       "      <td>Thomas Jefferson (1743-1826) Third president o...</td>\n",
       "    </tr>\n",
       "    <tr>\n",
       "      <th>1</th>\n",
       "      <td>All our words from loose using have lost their...</td>\n",
       "      <td>Ernest Hemingway (1898-1961) American Writer.</td>\n",
       "    </tr>\n",
       "    <tr>\n",
       "      <th>2</th>\n",
       "      <td>God couldn't be everywhere, so he created moth...</td>\n",
       "      <td>Jewish proverb</td>\n",
       "    </tr>\n",
       "    <tr>\n",
       "      <th>3</th>\n",
       "      <td>Be not afraid of going slowly, be afraid only ...</td>\n",
       "      <td>Chinese proverb</td>\n",
       "    </tr>\n",
       "    <tr>\n",
       "      <th>4</th>\n",
       "      <td>Learn from yesterday, live for today, hope for...</td>\n",
       "      <td>Unknown Source</td>\n",
       "    </tr>\n",
       "    <tr>\n",
       "      <th>5</th>\n",
       "      <td>Do not confine your children to your own learn...</td>\n",
       "      <td>Chinese proverb</td>\n",
       "    </tr>\n",
       "    <tr>\n",
       "      <th>6</th>\n",
       "      <td>I hear and I forget, I see and I remember. I d...</td>\n",
       "      <td>Chinese proverb</td>\n",
       "    </tr>\n",
       "    <tr>\n",
       "      <th>7</th>\n",
       "      <td>In teaching others we teach ourselves.</td>\n",
       "      <td>Proverb</td>\n",
       "    </tr>\n",
       "    <tr>\n",
       "      <th>8</th>\n",
       "      <td>Happiness will never come to those who fail to...</td>\n",
       "      <td>Unknown Source</td>\n",
       "    </tr>\n",
       "    <tr>\n",
       "      <th>9</th>\n",
       "      <td>Without His love I can do nothing, with His lo...</td>\n",
       "      <td>Unknown Source</td>\n",
       "    </tr>\n",
       "  </tbody>\n",
       "</table>\n",
       "</div>"
      ],
      "text/plain": [
       "                                               Quote  \\\n",
       "0  There is a natural aristocracy among men. The ...   \n",
       "1  All our words from loose using have lost their...   \n",
       "2  God couldn't be everywhere, so he created moth...   \n",
       "3  Be not afraid of going slowly, be afraid only ...   \n",
       "4  Learn from yesterday, live for today, hope for...   \n",
       "5  Do not confine your children to your own learn...   \n",
       "6  I hear and I forget, I see and I remember. I d...   \n",
       "7            In teaching others we teach ourselves.    \n",
       "8  Happiness will never come to those who fail to...   \n",
       "9  Without His love I can do nothing, with His lo...   \n",
       "\n",
       "                                              Author  \n",
       "0  Thomas Jefferson (1743-1826) Third president o...  \n",
       "1      Ernest Hemingway (1898-1961) American Writer.  \n",
       "2                                    Jewish proverb   \n",
       "3                                   Chinese proverb   \n",
       "4                                    Unknown Source   \n",
       "5                                   Chinese proverb   \n",
       "6                                   Chinese proverb   \n",
       "7                                           Proverb   \n",
       "8                                    Unknown Source   \n",
       "9                                    Unknown Source   "
      ]
     },
     "execution_count": 28,
     "metadata": {},
     "output_type": "execute_result"
    }
   ],
   "source": [
    "author_list = []\n",
    "for author in authors:\n",
    "    string = author.text[1:-1]\n",
    "    author_list.append(string)\n",
    "df[\"Author\"] = author_list\n",
    "df"
   ]
  },
  {
   "cell_type": "code",
   "execution_count": 29,
   "id": "4c1dda4c-418f-4726-aa8e-e19c82a9a70d",
   "metadata": {},
   "outputs": [
    {
     "name": "stdout",
     "output_type": "stream",
     "text": [
      "1\n",
      "                   Additive  Products    * Risk\n",
      "0        E330 - Citric acid    140296  NaN  NaN\n",
      "1          E322 - Lecithins     96492  NaN  NaN\n",
      "2          E322i - Lecithin     87325  NaN  NaN\n",
      "3  E500 - Sodium carbonates     59691  NaN  NaN\n",
      "4        E415 - Xanthan gum     52513  NaN  NaN\n"
     ]
    }
   ],
   "source": [
    "# web scrape tables directly\n",
    "\n",
    "tables = pd.read_html(\"https://world.openfoodfacts.org/additives\")\n",
    "print(len(tables)) # 1\n",
    "print(tables[0].head())"
   ]
  },
  {
   "cell_type": "code",
   "execution_count": 30,
   "id": "419eb14c-24d5-4b14-9dca-621be01983d0",
   "metadata": {},
   "outputs": [
    {
     "name": "stdout",
     "output_type": "stream",
     "text": [
      "9\n"
     ]
    }
   ],
   "source": [
    "tables = pd.read_html(\n",
    "    \"https://en.wikipedia.org/wiki/World_record_progression_50_metres_freestyle\"\n",
    ")\n",
    "print(len(tables))"
   ]
  },
  {
   "cell_type": "code",
   "execution_count": 31,
   "id": "806341d2-cdf3-4b6a-ad88-2d8e3edb2560",
   "metadata": {},
   "outputs": [
    {
     "name": "stdout",
     "output_type": "stream",
     "text": [
      "   Pos   Time                   Swimmer              Date          Venue   Ref\n",
      "0    1  20.91         Cesar Cielo (BRA)  17 December 2009         Brazil   NaN\n",
      "1    2  20.94  Frederick Bousquet (FRA)     22 April 2009         France   NaN\n",
      "2    3  21.04      Caeleb Dressel (USA)      27 July 2019    South Korea   NaN\n",
      "3    3  21.04      Caeleb Dressel (USA)      20 June 2021          Omaha  [19]\n",
      "4    4  21.11      Benjamin Proud (GBR)     3 August 2018  Great Britain   NaN\n"
     ]
    }
   ],
   "source": [
    "print(tables[4].head())"
   ]
  },
  {
   "cell_type": "code",
   "execution_count": 32,
   "id": "9badcf2d-0e08-44be-ac0e-a55c851a6139",
   "metadata": {},
   "outputs": [
    {
     "name": "stdout",
     "output_type": "stream",
     "text": [
      "1\n",
      "     Time          Name    Nationality\n",
      "10  22.54   Robin Leamy  United States\n",
      "11  22.52  Dano Halsall    Switzerland\n",
      "12  22.40     Tom Jager  United States\n",
      "13  22.33   Matt Biondi  United States\n",
      "14  22.33   Matt Biondi  United States\n"
     ]
    }
   ],
   "source": [
    "# only switzerland!!\n",
    "\n",
    "tables = pd.read_html(\n",
    "    \"https://en.wikipedia.org/wiki/World_record_progression_50_metres_freestyle\",\n",
    "    match=\"Switzerland\",\n",
    ")\n",
    "print(len(tables))  # 1\n",
    "print(tables[0][10:15][[\"Time\", \"Name\", \"Nationality\"]])"
   ]
  },
  {
   "cell_type": "code",
   "execution_count": 33,
   "id": "32d5ac53-4b3c-47c8-93d6-eb24f69053eb",
   "metadata": {},
   "outputs": [
    {
     "name": "stdout",
     "output_type": "stream",
     "text": [
      "Credentials: ['client_id', 'client_secret']\n"
     ]
    }
   ],
   "source": [
    "with open('client-credentials.json') as file:\n",
    "    client_credentials = json.load(file)\n",
    "    \n",
    "print('Credentials:', list(client_credentials.keys()))"
   ]
  },
  {
   "cell_type": "code",
   "execution_count": 34,
   "id": "b2bb8d11-f182-42b5-ba71-fc32a44b394c",
   "metadata": {},
   "outputs": [
    {
     "name": "stdout",
     "output_type": "stream",
     "text": [
      "79974\n"
     ]
    }
   ],
   "source": [
    "print(client_credentials['client_id'])"
   ]
  },
  {
   "cell_type": "code",
   "execution_count": 35,
   "id": "28e10658-a8ea-43a8-bd66-9d47cb29a4e2",
   "metadata": {},
   "outputs": [],
   "source": [
    "oauth_params = {\n",
    "    'client_id': client_credentials['client_id'],\n",
    "    'scope': 'read_all,profile:read_all,activity:read_all',\n",
    "    'redirect_uri': 'https://localhost',\n",
    "    'response_type': 'code'\n",
    "}"
   ]
  },
  {
   "cell_type": "code",
   "execution_count": 36,
   "id": "42774e86-c170-46fb-9ee7-de15b0a2ae10",
   "metadata": {},
   "outputs": [
    {
     "name": "stdout",
     "output_type": "stream",
     "text": [
      "https://www.strava.com/oauth/authorize?client_id=79974&scope=read_all%2Cprofile%3Aread_all%2Cactivity%3Aread_all&redirect_uri=https%3A%2F%2Flocalhost&response_type=code\n"
     ]
    }
   ],
   "source": [
    "from urllib.parse import urlencode\n",
    "\n",
    "# Generate link that users can copy/paste in their browser to authorize our app\n",
    "print('https://www.strava.com/oauth/authorize' + '?' + urlencode(oauth_params))"
   ]
  },
  {
   "cell_type": "code",
   "execution_count": 37,
   "id": "50c1987a-a486-4043-adbc-3eeda1f01745",
   "metadata": {},
   "outputs": [
    {
     "name": "stdin",
     "output_type": "stream",
     "text": [
      "Full callback URL ······························································································································\n"
     ]
    }
   ],
   "source": [
    "from getpass import getpass\n",
    "\n",
    "# After authorizing the app, user is redirected to\n",
    "authorization_response = getpass(prompt='Full callback URL')"
   ]
  },
  {
   "cell_type": "code",
   "execution_count": 38,
   "id": "d822ac24-cd5d-4eaf-b6e3-8d599fab66a4",
   "metadata": {},
   "outputs": [],
   "source": [
    "from urllib.parse import urlparse, parse_qs\n",
    "\n",
    "# Extract Authorization Code from URL\n",
    "authorization_code = parse_qs(urlparse(authorization_response).query)['code'][0]"
   ]
  },
  {
   "cell_type": "code",
   "execution_count": 39,
   "id": "8f57d6be-7de4-42aa-9952-f681aa018a8d",
   "metadata": {},
   "outputs": [
    {
     "data": {
      "text/plain": [
       "'state=&code=731b268522215a3d49483a64b815413797a543e8&scope=read,activity:read_all,profile:read_all,read_all'"
      ]
     },
     "execution_count": 39,
     "metadata": {},
     "output_type": "execute_result"
    }
   ],
   "source": [
    "urlparse(authorization_response).query"
   ]
  },
  {
   "cell_type": "code",
   "execution_count": 40,
   "id": "cdb22bba-8282-4674-b8bb-44d377c6fa9d",
   "metadata": {},
   "outputs": [
    {
     "data": {
      "text/plain": [
       "{'code': ['731b268522215a3d49483a64b815413797a543e8'],\n",
       " 'scope': ['read,activity:read_all,profile:read_all,read_all']}"
      ]
     },
     "execution_count": 40,
     "metadata": {},
     "output_type": "execute_result"
    }
   ],
   "source": [
    "parse_qs(urlparse(authorization_response).query)\n",
    "# Returns\n",
    "# {'code': ['...'],\n",
    "#  'scope': ['read,activity:read_all,profile:read_all,read_all']}"
   ]
  },
  {
   "cell_type": "code",
   "execution_count": 41,
   "id": "39343d03-6704-42ce-bd74-78c8d01e4288",
   "metadata": {},
   "outputs": [
    {
     "name": "stdout",
     "output_type": "stream",
     "text": [
      "731b268522215a3d49483a64b815413797a543e8\n"
     ]
    }
   ],
   "source": [
    "print(authorization_code)"
   ]
  },
  {
   "cell_type": "markdown",
   "id": "88ef2b70-057a-4ec8-8f66-da8fa8832062",
   "metadata": {},
   "source": [
    "GET queries to list the entries\n",
    "POST queries to create new entries\n",
    "PUT queries to update existing entries"
   ]
  },
  {
   "cell_type": "code",
   "execution_count": 42,
   "id": "28507017-0fb5-4b70-9df5-6da81ec2e9c7",
   "metadata": {},
   "outputs": [
    {
     "data": {
      "text/plain": [
       "200"
      ]
     },
     "execution_count": 42,
     "metadata": {},
     "output_type": "execute_result"
    }
   ],
   "source": [
    "import requests\n",
    "\n",
    "# Exchange Authorization Code for Access Token\n",
    "r = requests.post('https://www.strava.com/oauth/token', data={\n",
    "    'client_id': client_credentials['client_id'],\n",
    "    'client_secret': client_credentials['client_secret'],\n",
    "    'code': authorization_code,\n",
    "    'grant_type': 'authorization_code'\n",
    "})\n",
    "r.status_code # 200"
   ]
  },
  {
   "cell_type": "code",
   "execution_count": 43,
   "id": "a95295ba-24f8-4272-87f0-b2e2ec431c6d",
   "metadata": {},
   "outputs": [
    {
     "name": "stdout",
     "output_type": "stream",
     "text": [
      "{\"token_type\":\"Bearer\",\"expires_at\":1648140803,\"expires_in\":20773,\"refresh_token\":\"02ab9f77ac33be4acb712d31da40c065dec427fc\",\"access_token\":\"c3f8be9d3a98bce2e201d90f4f17be1d78806c8e\",\"athlete\":{\"id\":30808165,\"username\":null,\"resource_state\":2,\"firstname\":\"Robert\",\"lastname\":\"Whelan\",\"bio\":null,\"city\":null,\"state\":null,\"country\":null,\"sex\":\"M\",\"premium\":false,\"summit\":false,\"created_at\":\"2018-05-14T09:07:39Z\",\"updated_at\":\"2022-03-22T10:30:17Z\",\"badge_type_id\":0,\"weight\":0.0,\"profile_medium\":\"https://lh5.googleusercontent.com/-pUx9kgGUeT8/AAAAAAAAAAI/AAAAAAAAAAA/AMZuuckxBDA9djO_nteCfrsXBNLuuzkN9Q/photo.jpg\",\"profile\":\"https://lh5.googleusercontent.com/-pUx9kgGUeT8/AAAAAAAAAAI/AAAAAAAAAAA/AMZuuckxBDA9djO_nteCfrsXBNLuuzkN9Q/photo.jpg\",\"friend\":null,\"follower\":null}}\n"
     ]
    }
   ],
   "source": [
    "print(r.text)"
   ]
  },
  {
   "cell_type": "code",
   "execution_count": 44,
   "id": "aad108e0-0bb5-493a-89c6-20e9fac4a9e9",
   "metadata": {},
   "outputs": [
    {
     "data": {
      "text/plain": [
       "{'token_type': 'Bearer',\n",
       " 'expires_at': 1648140803,\n",
       " 'expires_in': 20773,\n",
       " 'refresh_token': '02ab9f77ac33be4acb712d31da40c065dec427fc',\n",
       " 'access_token': 'c3f8be9d3a98bce2e201d90f4f17be1d78806c8e',\n",
       " 'athlete': {'id': 30808165,\n",
       "  'username': None,\n",
       "  'resource_state': 2,\n",
       "  'firstname': 'Robert',\n",
       "  'lastname': 'Whelan',\n",
       "  'bio': None,\n",
       "  'city': None,\n",
       "  'state': None,\n",
       "  'country': None,\n",
       "  'sex': 'M',\n",
       "  'premium': False,\n",
       "  'summit': False,\n",
       "  'created_at': '2018-05-14T09:07:39Z',\n",
       "  'updated_at': '2022-03-22T10:30:17Z',\n",
       "  'badge_type_id': 0,\n",
       "  'weight': 0.0,\n",
       "  'profile_medium': 'https://lh5.googleusercontent.com/-pUx9kgGUeT8/AAAAAAAAAAI/AAAAAAAAAAA/AMZuuckxBDA9djO_nteCfrsXBNLuuzkN9Q/photo.jpg',\n",
       "  'profile': 'https://lh5.googleusercontent.com/-pUx9kgGUeT8/AAAAAAAAAAI/AAAAAAAAAAA/AMZuuckxBDA9djO_nteCfrsXBNLuuzkN9Q/photo.jpg',\n",
       "  'friend': None,\n",
       "  'follower': None}}"
      ]
     },
     "execution_count": 44,
     "metadata": {},
     "output_type": "execute_result"
    }
   ],
   "source": [
    "r.json()"
   ]
  },
  {
   "cell_type": "code",
   "execution_count": 45,
   "id": "dcfff967-6d93-484c-8fe7-102b1f45397a",
   "metadata": {},
   "outputs": [],
   "source": [
    "# Token saver\n",
    "def token_saver(token_obj):\n",
    "    with open('token.json', 'w') as file:\n",
    "        json.dump(token_obj, file, indent=4)\n",
    "\n",
    "token_saver(r.json())"
   ]
  },
  {
   "cell_type": "code",
   "execution_count": 46,
   "id": "778937e7-7b3c-47ac-a38b-3b9e2f3048c3",
   "metadata": {},
   "outputs": [
    {
     "data": {
      "text/plain": [
       "dict_keys(['token_type', 'expires_at', 'expires_in', 'refresh_token', 'access_token', 'athlete'])"
      ]
     },
     "execution_count": 46,
     "metadata": {},
     "output_type": "execute_result"
    }
   ],
   "source": [
    "# Token loader\n",
    "def get_token():\n",
    "    with open('token.json', 'r') as file:\n",
    "        return json.load(file)\n",
    "\n",
    "token = get_token()\n",
    "token.keys() # 'token_type', 'expires_at', 'expires_in', 'refresh_token', 'access_token', 'athlete'"
   ]
  },
  {
   "cell_type": "code",
   "execution_count": 47,
   "id": "74e3eb41-e008-49a3-9105-f493aaa808da",
   "metadata": {},
   "outputs": [
    {
     "name": "stdout",
     "output_type": "stream",
     "text": [
      "Expires in: 20773\n",
      "Expires at: 1648140803\n"
     ]
    }
   ],
   "source": [
    "print('Expires in:', token['expires_in']) # initially: 21600 (6 hours)\n",
    "print('Expires at:', token['expires_at']) # in seconds"
   ]
  },
  {
   "cell_type": "code",
   "execution_count": 48,
   "id": "8a44bdb8-738f-4acf-ac2c-611d346bd0c9",
   "metadata": {},
   "outputs": [
    {
     "name": "stdout",
     "output_type": "stream",
     "text": [
      "Expires at: 2022-03-24 16:53:23\n",
      "Expires in: 5:46:13\n"
     ]
    }
   ],
   "source": [
    "from datetime import datetime, timedelta\n",
    "\n",
    "print('Expires at:', datetime.fromtimestamp(token['expires_at'])) # date, time\n",
    "print('Expires in:', timedelta(seconds=token['expires_in'])) # time delta"
   ]
  },
  {
   "cell_type": "code",
   "execution_count": 49,
   "id": "501c9356-1885-46b7-841e-8e099631e2eb",
   "metadata": {},
   "outputs": [],
   "source": [
    "# Refresh expired Access Tokens\n",
    "r = requests.post('https://www.strava.com/oauth/token', data={\n",
    "    'client_id': client_credentials['client_id'],\n",
    "    'client_secret': client_credentials['client_secret'],\n",
    "    'refresh_token': token['refresh_token'],\n",
    "    'grant_type': 'refresh_token'\n",
    "})\n",
    "token_saver(r.json())\n",
    "token = get_token()"
   ]
  },
  {
   "cell_type": "code",
   "execution_count": 50,
   "id": "2de33d27-5de2-46c6-b127-82c341838833",
   "metadata": {},
   "outputs": [
    {
     "data": {
      "text/plain": [
       "200"
      ]
     },
     "execution_count": 50,
     "metadata": {},
     "output_type": "execute_result"
    }
   ],
   "source": [
    "# List activities\n",
    "r = requests.get('https://www.strava.com/api/v3/athlete/activities', params={\n",
    "    'access_token': token['access_token']\n",
    "})\n",
    "r.status_code # 200"
   ]
  },
  {
   "cell_type": "code",
   "execution_count": 51,
   "id": "7a25e308-d22e-4a37-a7a9-0ad2f6032837",
   "metadata": {},
   "outputs": [],
   "source": [
    "# Save activities\n",
    "with open('activities.json', 'w') as file:\n",
    "    json.dump(r.json(), file, indent=4)"
   ]
  },
  {
   "cell_type": "code",
   "execution_count": 52,
   "id": "350be075-d26b-45d6-8f60-a5ade62a9539",
   "metadata": {},
   "outputs": [
    {
     "data": {
      "text/html": [
       "<div>\n",
       "<style scoped>\n",
       "    .dataframe tbody tr th:only-of-type {\n",
       "        vertical-align: middle;\n",
       "    }\n",
       "\n",
       "    .dataframe tbody tr th {\n",
       "        vertical-align: top;\n",
       "    }\n",
       "\n",
       "    .dataframe thead th {\n",
       "        text-align: right;\n",
       "    }\n",
       "</style>\n",
       "<table border=\"1\" class=\"dataframe\">\n",
       "  <thead>\n",
       "    <tr style=\"text-align: right;\">\n",
       "      <th></th>\n",
       "      <th>name</th>\n",
       "      <th>type</th>\n",
       "      <th>distance</th>\n",
       "      <th>elapsed_time</th>\n",
       "      <th>max_speed</th>\n",
       "    </tr>\n",
       "  </thead>\n",
       "  <tbody>\n",
       "    <tr>\n",
       "      <th>0</th>\n",
       "      <td>Afternoon Run</td>\n",
       "      <td>Run</td>\n",
       "      <td>16995.0</td>\n",
       "      <td>5650</td>\n",
       "      <td>6.474</td>\n",
       "    </tr>\n",
       "    <tr>\n",
       "      <th>1</th>\n",
       "      <td>Afternoon Run</td>\n",
       "      <td>Run</td>\n",
       "      <td>11216.1</td>\n",
       "      <td>3618</td>\n",
       "      <td>7.866</td>\n",
       "    </tr>\n",
       "    <tr>\n",
       "      <th>2</th>\n",
       "      <td>Box hill loop</td>\n",
       "      <td>Ride</td>\n",
       "      <td>84846.7</td>\n",
       "      <td>14453</td>\n",
       "      <td>15.654</td>\n",
       "    </tr>\n",
       "    <tr>\n",
       "      <th>3</th>\n",
       "      <td>Geneva half</td>\n",
       "      <td>Run</td>\n",
       "      <td>20210.2</td>\n",
       "      <td>6924</td>\n",
       "      <td>5.774</td>\n",
       "    </tr>\n",
       "    <tr>\n",
       "      <th>4</th>\n",
       "      <td>Afternoon Run</td>\n",
       "      <td>Run</td>\n",
       "      <td>11243.5</td>\n",
       "      <td>3607</td>\n",
       "      <td>7.356</td>\n",
       "    </tr>\n",
       "    <tr>\n",
       "      <th>5</th>\n",
       "      <td>Cycling back from the theatre of disappointment</td>\n",
       "      <td>Ride</td>\n",
       "      <td>34752.3</td>\n",
       "      <td>6290</td>\n",
       "      <td>13.188</td>\n",
       "    </tr>\n",
       "    <tr>\n",
       "      <th>6</th>\n",
       "      <td>Cycling up to the theatre of dreams</td>\n",
       "      <td>Ride</td>\n",
       "      <td>31953.2</td>\n",
       "      <td>5819</td>\n",
       "      <td>13.056</td>\n",
       "    </tr>\n",
       "    <tr>\n",
       "      <th>7</th>\n",
       "      <td>Afternoon Run</td>\n",
       "      <td>Run</td>\n",
       "      <td>8418.7</td>\n",
       "      <td>2695</td>\n",
       "      <td>6.212</td>\n",
       "    </tr>\n",
       "    <tr>\n",
       "      <th>8</th>\n",
       "      <td>Afternoon Ride</td>\n",
       "      <td>Ride</td>\n",
       "      <td>22388.4</td>\n",
       "      <td>3593</td>\n",
       "      <td>11.614</td>\n",
       "    </tr>\n",
       "    <tr>\n",
       "      <th>9</th>\n",
       "      <td>Morning Ride</td>\n",
       "      <td>Ride</td>\n",
       "      <td>55184.6</td>\n",
       "      <td>8865</td>\n",
       "      <td>13.236</td>\n",
       "    </tr>\n",
       "    <tr>\n",
       "      <th>10</th>\n",
       "      <td>Pulled calf</td>\n",
       "      <td>Run</td>\n",
       "      <td>4605.8</td>\n",
       "      <td>1400</td>\n",
       "      <td>7.572</td>\n",
       "    </tr>\n",
       "    <tr>\n",
       "      <th>11</th>\n",
       "      <td>Morning Ride</td>\n",
       "      <td>Ride</td>\n",
       "      <td>43995.6</td>\n",
       "      <td>11449</td>\n",
       "      <td>17.862</td>\n",
       "    </tr>\n",
       "    <tr>\n",
       "      <th>12</th>\n",
       "      <td>Afternoon Run</td>\n",
       "      <td>Run</td>\n",
       "      <td>11233.3</td>\n",
       "      <td>3529</td>\n",
       "      <td>7.750</td>\n",
       "    </tr>\n",
       "    <tr>\n",
       "      <th>13</th>\n",
       "      <td>Lunch Ride</td>\n",
       "      <td>Ride</td>\n",
       "      <td>70874.6</td>\n",
       "      <td>20782</td>\n",
       "      <td>16.464</td>\n",
       "    </tr>\n",
       "    <tr>\n",
       "      <th>14</th>\n",
       "      <td>Afternoon Run</td>\n",
       "      <td>Run</td>\n",
       "      <td>11131.5</td>\n",
       "      <td>3680</td>\n",
       "      <td>6.107</td>\n",
       "    </tr>\n",
       "    <tr>\n",
       "      <th>15</th>\n",
       "      <td>Morning Ride</td>\n",
       "      <td>Ride</td>\n",
       "      <td>53706.6</td>\n",
       "      <td>15968</td>\n",
       "      <td>15.600</td>\n",
       "    </tr>\n",
       "    <tr>\n",
       "      <th>16</th>\n",
       "      <td>Afternoon Run</td>\n",
       "      <td>Run</td>\n",
       "      <td>11320.5</td>\n",
       "      <td>3724</td>\n",
       "      <td>9.090</td>\n",
       "    </tr>\n",
       "    <tr>\n",
       "      <th>17</th>\n",
       "      <td>Afternoon Run</td>\n",
       "      <td>Run</td>\n",
       "      <td>11238.0</td>\n",
       "      <td>4015</td>\n",
       "      <td>4.956</td>\n",
       "    </tr>\n",
       "    <tr>\n",
       "      <th>18</th>\n",
       "      <td>Morning Ride</td>\n",
       "      <td>Ride</td>\n",
       "      <td>37722.0</td>\n",
       "      <td>12752</td>\n",
       "      <td>14.044</td>\n",
       "    </tr>\n",
       "    <tr>\n",
       "      <th>19</th>\n",
       "      <td>Afternoon Run</td>\n",
       "      <td>Run</td>\n",
       "      <td>11602.3</td>\n",
       "      <td>3978</td>\n",
       "      <td>9.410</td>\n",
       "    </tr>\n",
       "    <tr>\n",
       "      <th>20</th>\n",
       "      <td>Lunch Ride</td>\n",
       "      <td>Ride</td>\n",
       "      <td>33378.3</td>\n",
       "      <td>5143</td>\n",
       "      <td>16.588</td>\n",
       "    </tr>\n",
       "    <tr>\n",
       "      <th>21</th>\n",
       "      <td>Lunch Ride</td>\n",
       "      <td>Ride</td>\n",
       "      <td>32930.8</td>\n",
       "      <td>4937</td>\n",
       "      <td>12.886</td>\n",
       "    </tr>\n",
       "    <tr>\n",
       "      <th>22</th>\n",
       "      <td>Lunch Ride</td>\n",
       "      <td>Ride</td>\n",
       "      <td>22403.2</td>\n",
       "      <td>4025</td>\n",
       "      <td>11.166</td>\n",
       "    </tr>\n",
       "    <tr>\n",
       "      <th>23</th>\n",
       "      <td>Lunch Run</td>\n",
       "      <td>Run</td>\n",
       "      <td>9988.3</td>\n",
       "      <td>3140</td>\n",
       "      <td>7.242</td>\n",
       "    </tr>\n",
       "    <tr>\n",
       "      <th>24</th>\n",
       "      <td>Lunch Run</td>\n",
       "      <td>Run</td>\n",
       "      <td>10004.3</td>\n",
       "      <td>3342</td>\n",
       "      <td>5.708</td>\n",
       "    </tr>\n",
       "    <tr>\n",
       "      <th>25</th>\n",
       "      <td>Random route Saturdays for Jon’s first ride</td>\n",
       "      <td>Ride</td>\n",
       "      <td>51093.5</td>\n",
       "      <td>17195</td>\n",
       "      <td>14.016</td>\n",
       "    </tr>\n",
       "    <tr>\n",
       "      <th>26</th>\n",
       "      <td>Lunch Ride</td>\n",
       "      <td>Ride</td>\n",
       "      <td>36570.8</td>\n",
       "      <td>5502</td>\n",
       "      <td>14.100</td>\n",
       "    </tr>\n",
       "    <tr>\n",
       "      <th>27</th>\n",
       "      <td>Morning Ride</td>\n",
       "      <td>Ride</td>\n",
       "      <td>50879.6</td>\n",
       "      <td>16483</td>\n",
       "      <td>15.500</td>\n",
       "    </tr>\n",
       "    <tr>\n",
       "      <th>28</th>\n",
       "      <td>Evening Ride</td>\n",
       "      <td>Ride</td>\n",
       "      <td>10213.1</td>\n",
       "      <td>2004</td>\n",
       "      <td>9.100</td>\n",
       "    </tr>\n",
       "    <tr>\n",
       "      <th>29</th>\n",
       "      <td>Morning Ride</td>\n",
       "      <td>Ride</td>\n",
       "      <td>43176.1</td>\n",
       "      <td>14581</td>\n",
       "      <td>17.600</td>\n",
       "    </tr>\n",
       "  </tbody>\n",
       "</table>\n",
       "</div>"
      ],
      "text/plain": [
       "                                                name  type  distance  \\\n",
       "0                                      Afternoon Run   Run   16995.0   \n",
       "1                                      Afternoon Run   Run   11216.1   \n",
       "2                                      Box hill loop  Ride   84846.7   \n",
       "3                                       Geneva half    Run   20210.2   \n",
       "4                                      Afternoon Run   Run   11243.5   \n",
       "5   Cycling back from the theatre of disappointment   Ride   34752.3   \n",
       "6               Cycling up to the theatre of dreams   Ride   31953.2   \n",
       "7                                      Afternoon Run   Run    8418.7   \n",
       "8                                     Afternoon Ride  Ride   22388.4   \n",
       "9                                       Morning Ride  Ride   55184.6   \n",
       "10                                       Pulled calf   Run    4605.8   \n",
       "11                                      Morning Ride  Ride   43995.6   \n",
       "12                                     Afternoon Run   Run   11233.3   \n",
       "13                                        Lunch Ride  Ride   70874.6   \n",
       "14                                     Afternoon Run   Run   11131.5   \n",
       "15                                      Morning Ride  Ride   53706.6   \n",
       "16                                     Afternoon Run   Run   11320.5   \n",
       "17                                     Afternoon Run   Run   11238.0   \n",
       "18                                      Morning Ride  Ride   37722.0   \n",
       "19                                     Afternoon Run   Run   11602.3   \n",
       "20                                        Lunch Ride  Ride   33378.3   \n",
       "21                                        Lunch Ride  Ride   32930.8   \n",
       "22                                        Lunch Ride  Ride   22403.2   \n",
       "23                                         Lunch Run   Run    9988.3   \n",
       "24                                         Lunch Run   Run   10004.3   \n",
       "25      Random route Saturdays for Jon’s first ride   Ride   51093.5   \n",
       "26                                        Lunch Ride  Ride   36570.8   \n",
       "27                                      Morning Ride  Ride   50879.6   \n",
       "28                                      Evening Ride  Ride   10213.1   \n",
       "29                                      Morning Ride  Ride   43176.1   \n",
       "\n",
       "    elapsed_time  max_speed  \n",
       "0           5650      6.474  \n",
       "1           3618      7.866  \n",
       "2          14453     15.654  \n",
       "3           6924      5.774  \n",
       "4           3607      7.356  \n",
       "5           6290     13.188  \n",
       "6           5819     13.056  \n",
       "7           2695      6.212  \n",
       "8           3593     11.614  \n",
       "9           8865     13.236  \n",
       "10          1400      7.572  \n",
       "11         11449     17.862  \n",
       "12          3529      7.750  \n",
       "13         20782     16.464  \n",
       "14          3680      6.107  \n",
       "15         15968     15.600  \n",
       "16          3724      9.090  \n",
       "17          4015      4.956  \n",
       "18         12752     14.044  \n",
       "19          3978      9.410  \n",
       "20          5143     16.588  \n",
       "21          4937     12.886  \n",
       "22          4025     11.166  \n",
       "23          3140      7.242  \n",
       "24          3342      5.708  \n",
       "25         17195     14.016  \n",
       "26          5502     14.100  \n",
       "27         16483     15.500  \n",
       "28          2004      9.100  \n",
       "29         14581     17.600  "
      ]
     },
     "execution_count": 52,
     "metadata": {},
     "output_type": "execute_result"
    }
   ],
   "source": [
    "# Load data into DataFrame\n",
    "activities_df = pd.read_json(r.text)\n",
    "activities_df[['name', 'type', 'distance', 'elapsed_time', 'max_speed']]"
   ]
  },
  {
   "cell_type": "code",
   "execution_count": 53,
   "id": "7ccb08bf-02d3-4e7f-bb0a-efcc4247d2f9",
   "metadata": {},
   "outputs": [],
   "source": [
    "from requests_oauthlib import OAuth2Session"
   ]
  },
  {
   "cell_type": "code",
   "execution_count": 54,
   "id": "a972fe72-ec3d-4e16-91ef-618f99c1e8ed",
   "metadata": {},
   "outputs": [],
   "source": [
    "# Create a session for initialization\n",
    "init_session = OAuth2Session(\n",
    "    client_credentials['client_id'],\n",
    "    redirect_uri='https://localhost',\n",
    "    scope='read_all,profile:read_all,activity:read_all'\n",
    ")"
   ]
  },
  {
   "cell_type": "code",
   "execution_count": 55,
   "id": "448f2385-22f0-471f-a5cd-f0deade350f5",
   "metadata": {},
   "outputs": [
    {
     "name": "stdout",
     "output_type": "stream",
     "text": [
      "Visit link: https://www.strava.com/oauth/authorize?response_type=code&client_id=79974&redirect_uri=https%3A%2F%2Flocalhost&scope=read_all%2Cprofile%3Aread_all%2Cactivity%3Aread_all&state=xOWs2kB1J03q1i9ktAtrEoIczRDIhF\n"
     ]
    }
   ],
   "source": [
    "# Get authorization link\n",
    "user_link, state = init_session.authorization_url('https://www.strava.com/oauth/authorize')\n",
    "print('Visit link:', user_link)"
   ]
  },
  {
   "cell_type": "code",
   "execution_count": 56,
   "id": "5b955294-da7c-4e79-8142-2ddff39276d5",
   "metadata": {},
   "outputs": [
    {
     "name": "stdin",
     "output_type": "stream",
     "text": [
      "Full callback URL ····························································································································································\n"
     ]
    }
   ],
   "source": [
    "authorization_response = getpass(prompt='Full callback URL')"
   ]
  },
  {
   "cell_type": "code",
   "execution_count": 57,
   "id": "2422bdb1-18ff-4e79-bc43-34959c819b88",
   "metadata": {},
   "outputs": [],
   "source": [
    "# Get Access Token\n",
    "token = init_session.fetch_token(\n",
    "    'https://www.strava.com/oauth/token',\n",
    "    authorization_response=authorization_response,\n",
    "    include_client_id=True,\n",
    "    client_secret=client_credentials['client_secret']\n",
    ")"
   ]
  },
  {
   "cell_type": "code",
   "execution_count": 58,
   "id": "83c2d19f-7bfb-41e4-ba34-505894211a51",
   "metadata": {},
   "outputs": [],
   "source": [
    "token_saver(token)"
   ]
  },
  {
   "cell_type": "code",
   "execution_count": 59,
   "id": "56ab2046-996c-48ec-a962-8a03a324455d",
   "metadata": {},
   "outputs": [],
   "source": [
    "# Create a session for reaching the API\n",
    "api_session = OAuth2Session(\n",
    "    client_credentials['client_id'],\n",
    "    token=token, # pass Access Token\n",
    "    \n",
    "    # Automatically refresh expired token\n",
    "    auto_refresh_url='https://www.strava.com/oauth/token',\n",
    "    auto_refresh_kwargs={\n",
    "        'client_id': client_credentials['client_id'],\n",
    "        'client_secret': client_credentials['client_secret']\n",
    "    },\n",
    "    token_updater=token_saver # automatically saves new tokens\n",
    ")"
   ]
  },
  {
   "cell_type": "code",
   "execution_count": 60,
   "id": "b2acb11b-b0a4-42dd-9f58-fdcfba1359f8",
   "metadata": {},
   "outputs": [
    {
     "data": {
      "text/plain": [
       "200"
      ]
     },
     "execution_count": 60,
     "metadata": {},
     "output_type": "execute_result"
    }
   ],
   "source": [
    "# List activities\n",
    "r = api_session.get('https://www.strava.com/api/v3/athlete/activities')\n",
    "r.status_code # 200"
   ]
  },
  {
   "cell_type": "code",
   "execution_count": 61,
   "id": "57f12d84-b8c2-4e86-aae6-4d5cf0cca95e",
   "metadata": {},
   "outputs": [
    {
     "data": {
      "text/html": [
       "<div>\n",
       "<style scoped>\n",
       "    .dataframe tbody tr th:only-of-type {\n",
       "        vertical-align: middle;\n",
       "    }\n",
       "\n",
       "    .dataframe tbody tr th {\n",
       "        vertical-align: top;\n",
       "    }\n",
       "\n",
       "    .dataframe thead th {\n",
       "        text-align: right;\n",
       "    }\n",
       "</style>\n",
       "<table border=\"1\" class=\"dataframe\">\n",
       "  <thead>\n",
       "    <tr style=\"text-align: right;\">\n",
       "      <th></th>\n",
       "      <th>name</th>\n",
       "      <th>type</th>\n",
       "      <th>distance</th>\n",
       "      <th>elapsed_time</th>\n",
       "      <th>max_speed</th>\n",
       "    </tr>\n",
       "  </thead>\n",
       "  <tbody>\n",
       "    <tr>\n",
       "      <th>0</th>\n",
       "      <td>Afternoon Run</td>\n",
       "      <td>Run</td>\n",
       "      <td>16995.0</td>\n",
       "      <td>5650</td>\n",
       "      <td>6.474</td>\n",
       "    </tr>\n",
       "    <tr>\n",
       "      <th>1</th>\n",
       "      <td>Afternoon Run</td>\n",
       "      <td>Run</td>\n",
       "      <td>11216.1</td>\n",
       "      <td>3618</td>\n",
       "      <td>7.866</td>\n",
       "    </tr>\n",
       "    <tr>\n",
       "      <th>2</th>\n",
       "      <td>Box hill loop</td>\n",
       "      <td>Ride</td>\n",
       "      <td>84846.7</td>\n",
       "      <td>14453</td>\n",
       "      <td>15.654</td>\n",
       "    </tr>\n",
       "    <tr>\n",
       "      <th>3</th>\n",
       "      <td>Geneva half</td>\n",
       "      <td>Run</td>\n",
       "      <td>20210.2</td>\n",
       "      <td>6924</td>\n",
       "      <td>5.774</td>\n",
       "    </tr>\n",
       "    <tr>\n",
       "      <th>4</th>\n",
       "      <td>Afternoon Run</td>\n",
       "      <td>Run</td>\n",
       "      <td>11243.5</td>\n",
       "      <td>3607</td>\n",
       "      <td>7.356</td>\n",
       "    </tr>\n",
       "    <tr>\n",
       "      <th>5</th>\n",
       "      <td>Cycling back from the theatre of disappointment</td>\n",
       "      <td>Ride</td>\n",
       "      <td>34752.3</td>\n",
       "      <td>6290</td>\n",
       "      <td>13.188</td>\n",
       "    </tr>\n",
       "    <tr>\n",
       "      <th>6</th>\n",
       "      <td>Cycling up to the theatre of dreams</td>\n",
       "      <td>Ride</td>\n",
       "      <td>31953.2</td>\n",
       "      <td>5819</td>\n",
       "      <td>13.056</td>\n",
       "    </tr>\n",
       "    <tr>\n",
       "      <th>7</th>\n",
       "      <td>Afternoon Run</td>\n",
       "      <td>Run</td>\n",
       "      <td>8418.7</td>\n",
       "      <td>2695</td>\n",
       "      <td>6.212</td>\n",
       "    </tr>\n",
       "    <tr>\n",
       "      <th>8</th>\n",
       "      <td>Afternoon Ride</td>\n",
       "      <td>Ride</td>\n",
       "      <td>22388.4</td>\n",
       "      <td>3593</td>\n",
       "      <td>11.614</td>\n",
       "    </tr>\n",
       "    <tr>\n",
       "      <th>9</th>\n",
       "      <td>Morning Ride</td>\n",
       "      <td>Ride</td>\n",
       "      <td>55184.6</td>\n",
       "      <td>8865</td>\n",
       "      <td>13.236</td>\n",
       "    </tr>\n",
       "    <tr>\n",
       "      <th>10</th>\n",
       "      <td>Pulled calf</td>\n",
       "      <td>Run</td>\n",
       "      <td>4605.8</td>\n",
       "      <td>1400</td>\n",
       "      <td>7.572</td>\n",
       "    </tr>\n",
       "    <tr>\n",
       "      <th>11</th>\n",
       "      <td>Morning Ride</td>\n",
       "      <td>Ride</td>\n",
       "      <td>43995.6</td>\n",
       "      <td>11449</td>\n",
       "      <td>17.862</td>\n",
       "    </tr>\n",
       "    <tr>\n",
       "      <th>12</th>\n",
       "      <td>Afternoon Run</td>\n",
       "      <td>Run</td>\n",
       "      <td>11233.3</td>\n",
       "      <td>3529</td>\n",
       "      <td>7.750</td>\n",
       "    </tr>\n",
       "    <tr>\n",
       "      <th>13</th>\n",
       "      <td>Lunch Ride</td>\n",
       "      <td>Ride</td>\n",
       "      <td>70874.6</td>\n",
       "      <td>20782</td>\n",
       "      <td>16.464</td>\n",
       "    </tr>\n",
       "    <tr>\n",
       "      <th>14</th>\n",
       "      <td>Afternoon Run</td>\n",
       "      <td>Run</td>\n",
       "      <td>11131.5</td>\n",
       "      <td>3680</td>\n",
       "      <td>6.107</td>\n",
       "    </tr>\n",
       "    <tr>\n",
       "      <th>15</th>\n",
       "      <td>Morning Ride</td>\n",
       "      <td>Ride</td>\n",
       "      <td>53706.6</td>\n",
       "      <td>15968</td>\n",
       "      <td>15.600</td>\n",
       "    </tr>\n",
       "    <tr>\n",
       "      <th>16</th>\n",
       "      <td>Afternoon Run</td>\n",
       "      <td>Run</td>\n",
       "      <td>11320.5</td>\n",
       "      <td>3724</td>\n",
       "      <td>9.090</td>\n",
       "    </tr>\n",
       "    <tr>\n",
       "      <th>17</th>\n",
       "      <td>Afternoon Run</td>\n",
       "      <td>Run</td>\n",
       "      <td>11238.0</td>\n",
       "      <td>4015</td>\n",
       "      <td>4.956</td>\n",
       "    </tr>\n",
       "    <tr>\n",
       "      <th>18</th>\n",
       "      <td>Morning Ride</td>\n",
       "      <td>Ride</td>\n",
       "      <td>37722.0</td>\n",
       "      <td>12752</td>\n",
       "      <td>14.044</td>\n",
       "    </tr>\n",
       "    <tr>\n",
       "      <th>19</th>\n",
       "      <td>Afternoon Run</td>\n",
       "      <td>Run</td>\n",
       "      <td>11602.3</td>\n",
       "      <td>3978</td>\n",
       "      <td>9.410</td>\n",
       "    </tr>\n",
       "    <tr>\n",
       "      <th>20</th>\n",
       "      <td>Lunch Ride</td>\n",
       "      <td>Ride</td>\n",
       "      <td>33378.3</td>\n",
       "      <td>5143</td>\n",
       "      <td>16.588</td>\n",
       "    </tr>\n",
       "    <tr>\n",
       "      <th>21</th>\n",
       "      <td>Lunch Ride</td>\n",
       "      <td>Ride</td>\n",
       "      <td>32930.8</td>\n",
       "      <td>4937</td>\n",
       "      <td>12.886</td>\n",
       "    </tr>\n",
       "    <tr>\n",
       "      <th>22</th>\n",
       "      <td>Lunch Ride</td>\n",
       "      <td>Ride</td>\n",
       "      <td>22403.2</td>\n",
       "      <td>4025</td>\n",
       "      <td>11.166</td>\n",
       "    </tr>\n",
       "    <tr>\n",
       "      <th>23</th>\n",
       "      <td>Lunch Run</td>\n",
       "      <td>Run</td>\n",
       "      <td>9988.3</td>\n",
       "      <td>3140</td>\n",
       "      <td>7.242</td>\n",
       "    </tr>\n",
       "    <tr>\n",
       "      <th>24</th>\n",
       "      <td>Lunch Run</td>\n",
       "      <td>Run</td>\n",
       "      <td>10004.3</td>\n",
       "      <td>3342</td>\n",
       "      <td>5.708</td>\n",
       "    </tr>\n",
       "    <tr>\n",
       "      <th>25</th>\n",
       "      <td>Random route Saturdays for Jon’s first ride</td>\n",
       "      <td>Ride</td>\n",
       "      <td>51093.5</td>\n",
       "      <td>17195</td>\n",
       "      <td>14.016</td>\n",
       "    </tr>\n",
       "    <tr>\n",
       "      <th>26</th>\n",
       "      <td>Lunch Ride</td>\n",
       "      <td>Ride</td>\n",
       "      <td>36570.8</td>\n",
       "      <td>5502</td>\n",
       "      <td>14.100</td>\n",
       "    </tr>\n",
       "    <tr>\n",
       "      <th>27</th>\n",
       "      <td>Morning Ride</td>\n",
       "      <td>Ride</td>\n",
       "      <td>50879.6</td>\n",
       "      <td>16483</td>\n",
       "      <td>15.500</td>\n",
       "    </tr>\n",
       "    <tr>\n",
       "      <th>28</th>\n",
       "      <td>Evening Ride</td>\n",
       "      <td>Ride</td>\n",
       "      <td>10213.1</td>\n",
       "      <td>2004</td>\n",
       "      <td>9.100</td>\n",
       "    </tr>\n",
       "    <tr>\n",
       "      <th>29</th>\n",
       "      <td>Morning Ride</td>\n",
       "      <td>Ride</td>\n",
       "      <td>43176.1</td>\n",
       "      <td>14581</td>\n",
       "      <td>17.600</td>\n",
       "    </tr>\n",
       "  </tbody>\n",
       "</table>\n",
       "</div>"
      ],
      "text/plain": [
       "                                                name  type  distance  \\\n",
       "0                                      Afternoon Run   Run   16995.0   \n",
       "1                                      Afternoon Run   Run   11216.1   \n",
       "2                                      Box hill loop  Ride   84846.7   \n",
       "3                                       Geneva half    Run   20210.2   \n",
       "4                                      Afternoon Run   Run   11243.5   \n",
       "5   Cycling back from the theatre of disappointment   Ride   34752.3   \n",
       "6               Cycling up to the theatre of dreams   Ride   31953.2   \n",
       "7                                      Afternoon Run   Run    8418.7   \n",
       "8                                     Afternoon Ride  Ride   22388.4   \n",
       "9                                       Morning Ride  Ride   55184.6   \n",
       "10                                       Pulled calf   Run    4605.8   \n",
       "11                                      Morning Ride  Ride   43995.6   \n",
       "12                                     Afternoon Run   Run   11233.3   \n",
       "13                                        Lunch Ride  Ride   70874.6   \n",
       "14                                     Afternoon Run   Run   11131.5   \n",
       "15                                      Morning Ride  Ride   53706.6   \n",
       "16                                     Afternoon Run   Run   11320.5   \n",
       "17                                     Afternoon Run   Run   11238.0   \n",
       "18                                      Morning Ride  Ride   37722.0   \n",
       "19                                     Afternoon Run   Run   11602.3   \n",
       "20                                        Lunch Ride  Ride   33378.3   \n",
       "21                                        Lunch Ride  Ride   32930.8   \n",
       "22                                        Lunch Ride  Ride   22403.2   \n",
       "23                                         Lunch Run   Run    9988.3   \n",
       "24                                         Lunch Run   Run   10004.3   \n",
       "25      Random route Saturdays for Jon’s first ride   Ride   51093.5   \n",
       "26                                        Lunch Ride  Ride   36570.8   \n",
       "27                                      Morning Ride  Ride   50879.6   \n",
       "28                                      Evening Ride  Ride   10213.1   \n",
       "29                                      Morning Ride  Ride   43176.1   \n",
       "\n",
       "    elapsed_time  max_speed  \n",
       "0           5650      6.474  \n",
       "1           3618      7.866  \n",
       "2          14453     15.654  \n",
       "3           6924      5.774  \n",
       "4           3607      7.356  \n",
       "5           6290     13.188  \n",
       "6           5819     13.056  \n",
       "7           2695      6.212  \n",
       "8           3593     11.614  \n",
       "9           8865     13.236  \n",
       "10          1400      7.572  \n",
       "11         11449     17.862  \n",
       "12          3529      7.750  \n",
       "13         20782     16.464  \n",
       "14          3680      6.107  \n",
       "15         15968     15.600  \n",
       "16          3724      9.090  \n",
       "17          4015      4.956  \n",
       "18         12752     14.044  \n",
       "19          3978      9.410  \n",
       "20          5143     16.588  \n",
       "21          4937     12.886  \n",
       "22          4025     11.166  \n",
       "23          3140      7.242  \n",
       "24          3342      5.708  \n",
       "25         17195     14.016  \n",
       "26          5502     14.100  \n",
       "27         16483     15.500  \n",
       "28          2004      9.100  \n",
       "29         14581     17.600  "
      ]
     },
     "execution_count": 61,
     "metadata": {},
     "output_type": "execute_result"
    }
   ],
   "source": [
    "activities_df = pd.read_json(r.text)\n",
    "activities_df[['name', 'type', 'distance', 'elapsed_time', 'max_speed']]"
   ]
  },
  {
   "cell_type": "code",
   "execution_count": 62,
   "id": "0045dbe6-f484-4ba3-a76b-0f6eab7bac25",
   "metadata": {},
   "outputs": [
    {
     "name": "stdout",
     "output_type": "stream",
     "text": [
      "Visit link: https://www.strava.com/oauth/authorize?client_id=79974&redirect_uri=https%3A%2F%2Flocalhost&approval_prompt=auto&response_type=code&scope=read_all%2Cprofile%3Aread_all%2Cactivity%3Aread_all\n"
     ]
    }
   ],
   "source": [
    "from stravalib import Client\n",
    "\n",
    "# Create client\n",
    "client = Client()\n",
    "\n",
    "# Get Authorization URL\n",
    "user_link = client.authorization_url(\n",
    "    client_id=client_credentials['client_id'],\n",
    "    redirect_uri='https://localhost',\n",
    "    scope=['read_all', 'profile:read_all', 'activity:read_all']\n",
    ")\n",
    "print('Visit link:', user_link)"
   ]
  },
  {
   "cell_type": "code",
   "execution_count": 63,
   "id": "3ca26e1c-276d-424c-adef-d6e8df585abd",
   "metadata": {},
   "outputs": [
    {
     "name": "stdin",
     "output_type": "stream",
     "text": [
      "Full callback URL ······························································································································\n"
     ]
    }
   ],
   "source": [
    "authorization_response = getpass(prompt='Full callback URL')\n",
    "authorization_code = parse_qs(urlparse(authorization_response).query)['code'][0]"
   ]
  },
  {
   "cell_type": "code",
   "execution_count": 64,
   "id": "8b7328e5-8119-493a-9819-d33c41f1a3c3",
   "metadata": {},
   "outputs": [],
   "source": [
    "# Get Access Token\n",
    "token = client.exchange_code_for_token(\n",
    "    client_id=client_credentials['client_id'],\n",
    "    client_secret=client_credentials['client_secret'],\n",
    "    code=authorization_code)\n",
    "token_saver(token)"
   ]
  },
  {
   "cell_type": "code",
   "execution_count": 65,
   "id": "7fa0dc60-cc5c-40b5-bb93-9bb7aea6a9a7",
   "metadata": {},
   "outputs": [],
   "source": [
    "import time\n",
    "\n",
    "# Refresh token if necessary\n",
    "if time.time() > token['expires_at']:\n",
    "    token = client.refresh_access_token(\n",
    "        client_id=client_credentials['client_id'],\n",
    "        client_secret=client_credentials['client_secret'],\n",
    "        refresh_token=token['refresh_token'])\n",
    "    token_saver(token)"
   ]
  },
  {
   "cell_type": "code",
   "execution_count": 66,
   "id": "164d0f6d-bdc4-4a37-b607-540221812922",
   "metadata": {},
   "outputs": [
    {
     "data": {
      "text/plain": [
       "<BatchedResultsIterator entity=Activity>"
      ]
     },
     "execution_count": 66,
     "metadata": {},
     "output_type": "execute_result"
    }
   ],
   "source": [
    "# Get activities\n",
    "activities = client.get_activities(limit=5)\n",
    "activities # <BatchedResultsIterator entity=Activity>"
   ]
  },
  {
   "cell_type": "code",
   "execution_count": 67,
   "id": "9c8d324e-037b-4aa4-9e5a-2efd46754cdf",
   "metadata": {},
   "outputs": [
    {
     "name": "stdout",
     "output_type": "stream",
     "text": [
      "<Activity id=6871657838 name='Afternoon Run' resource_state=2>\n",
      "<Activity id=6854579155 name='Afternoon Run' resource_state=2>\n",
      "<Activity id=6848060758 name='Box hill loop' resource_state=2>\n",
      "<Activity id=6811083130 name='Geneva half ' resource_state=2>\n",
      "<Activity id=6793534331 name='Afternoon Run' resource_state=2>\n"
     ]
    }
   ],
   "source": [
    "for activity in activities:\n",
    "    print(activity)"
   ]
  },
  {
   "cell_type": "code",
   "execution_count": 68,
   "id": "198c71e6-eaa2-4195-b507-b4f3fb228f68",
   "metadata": {},
   "outputs": [
    {
     "name": "stdout",
     "output_type": "stream",
     "text": [
      "Activity name: Afternoon Run\n",
      "Distance: 16995.00 m\n",
      "Athlete name: None\n",
      "Average heart rate: 163.1\n"
     ]
    }
   ],
   "source": [
    "a = list(activities)[0]\n",
    "\n",
    "print('Activity name:', a.name)\n",
    "print('Distance:', a.distance)\n",
    "print('Athlete name:', a.athlete.firstname)\n",
    "print('Average heart rate:', a.average_heartrate)"
   ]
  },
  {
   "cell_type": "code",
   "execution_count": null,
   "id": "a6680105-9027-4adc-afe8-aa83c08c9fa5",
   "metadata": {},
   "outputs": [],
   "source": []
  }
 ],
 "metadata": {
  "kernelspec": {
   "display_name": "Python [conda env:adsml] *",
   "language": "python",
   "name": "conda-env-adsml-py"
  },
  "language_info": {
   "codemirror_mode": {
    "name": "ipython",
    "version": 3
   },
   "file_extension": ".py",
   "mimetype": "text/x-python",
   "name": "python",
   "nbconvert_exporter": "python",
   "pygments_lexer": "ipython3",
   "version": "3.9.7"
  }
 },
 "nbformat": 4,
 "nbformat_minor": 5
}
