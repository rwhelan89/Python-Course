{
 "cells": [
  {
   "cell_type": "code",
   "execution_count": 1,
   "id": "b6e8e2e0-7fde-49d4-b1f1-63fd5e8a0de7",
   "metadata": {},
   "outputs": [],
   "source": [
    "import numpy as np\n",
    "import pandas as pd\n",
    "import scipy.stats as stats\n",
    "import matplotlib.pyplot as plt\n",
    "import random\n",
    "\n",
    "%matplotlib inline"
   ]
  },
  {
   "cell_type": "code",
   "execution_count": 2,
   "id": "444b0970-a51b-40d0-9aac-42ed2727d981",
   "metadata": {},
   "outputs": [],
   "source": [
    "poisson1 = stats.poisson.rvs(mu=55, size=200000)\n",
    "poisson2 = stats.poisson.rvs(mu=10, size=100000)\n",
    "population = np.concatenate((poisson1, poisson2))"
   ]
  },
  {
   "cell_type": "code",
   "execution_count": 3,
   "id": "5f46e43c-987b-4e20-8548-947e14d7e3b5",
   "metadata": {},
   "outputs": [
    {
     "data": {
      "text/plain": [
       "39.99977333333333"
      ]
     },
     "execution_count": 3,
     "metadata": {},
     "output_type": "execute_result"
    }
   ],
   "source": [
    "population.mean()"
   ]
  },
  {
   "cell_type": "code",
   "execution_count": 22,
   "id": "8dd959bc-b61c-4358-a6f4-cd164111e88a",
   "metadata": {},
   "outputs": [],
   "source": [
    "sample = np.random.choice(population, size=1000)"
   ]
  },
  {
   "cell_type": "code",
   "execution_count": 5,
   "id": "d14f1c38-a129-426c-88c6-94e3c1a628c6",
   "metadata": {},
   "outputs": [
    {
     "data": {
      "text/plain": [
       "39.448"
      ]
     },
     "execution_count": 5,
     "metadata": {},
     "output_type": "execute_result"
    }
   ],
   "source": [
    "sample_mean = sample.mean()\n",
    "sample_mean"
   ]
  },
  {
   "cell_type": "code",
   "execution_count": 6,
   "id": "a909a741-936c-49a5-8c6c-089d0846f582",
   "metadata": {},
   "outputs": [],
   "source": [
    "data = (\n",
    "    ([\"red\"] * 50000) + ([\"blue\"] * 30000) + ([\"green\"] * 10000) + ([\"white\"] * 10000)\n",
    ")"
   ]
  },
  {
   "cell_type": "code",
   "execution_count": 7,
   "id": "a5821d1b-d2b8-4de2-b9f6-abfd43306070",
   "metadata": {},
   "outputs": [
    {
     "name": "stdout",
     "output_type": "stream",
     "text": [
      "blue proportion estimate:\n",
      "0.33\n",
      "red proportion estimate:\n",
      "0.51\n",
      "green proportion estimate:\n",
      "0.08\n",
      "white proportion estimate:\n",
      "0.08\n"
     ]
    }
   ],
   "source": [
    "sample = random.sample(data, 100)\n",
    "\n",
    "for color in set(sample):\n",
    "    print(color + \" proportion estimate:\")\n",
    "    print(sample.count(color) / 100)"
   ]
  },
  {
   "cell_type": "code",
   "execution_count": 8,
   "id": "4f69f512-e74e-4afa-8ca9-6514b6fb65af",
   "metadata": {},
   "outputs": [
    {
     "data": {
      "text/plain": [
       "1.959963984540054"
      ]
     },
     "execution_count": 8,
     "metadata": {},
     "output_type": "execute_result"
    }
   ],
   "source": [
    "# for a confidence level of 0.95\n",
    "\n",
    "z = stats.norm.ppf(q=0.975)\n",
    "z"
   ]
  },
  {
   "cell_type": "code",
   "execution_count": 10,
   "id": "181b09c6-7c0f-41a7-92cf-c8a196a70097",
   "metadata": {},
   "outputs": [
    {
     "data": {
      "text/plain": [
       "22.13411966358625"
      ]
     },
     "execution_count": 10,
     "metadata": {},
     "output_type": "execute_result"
    }
   ],
   "source": [
    "pop_std = population.std()\n",
    "pop_std"
   ]
  },
  {
   "cell_type": "code",
   "execution_count": 12,
   "id": "192e6d89-33ba-4ddb-8602-b422ecc9144d",
   "metadata": {},
   "outputs": [
    {
     "data": {
      "text/plain": [
       "1.3718617411925471"
      ]
     },
     "execution_count": 12,
     "metadata": {},
     "output_type": "execute_result"
    }
   ],
   "source": [
    "margin_of_error = z * (pop_std / np.sqrt(1000))\n",
    "margin_of_error"
   ]
  },
  {
   "cell_type": "code",
   "execution_count": 14,
   "id": "8c938737-57e5-4271-a68f-3617f6c0fc8b",
   "metadata": {},
   "outputs": [
    {
     "data": {
      "text/plain": [
       "(38.076138258807454, 40.81986174119255)"
      ]
     },
     "execution_count": 14,
     "metadata": {},
     "output_type": "execute_result"
    }
   ],
   "source": [
    "confidence_interval = (sample_mean - margin_of_error, sample_mean + margin_of_error)\n",
    "confidence_interval"
   ]
  },
  {
   "cell_type": "markdown",
   "id": "6828e0f9-9688-4f6f-9907-8c2340900d8a",
   "metadata": {},
   "source": [
    "ie we can say with 95% confidence interval that mean of the pop falls within interval"
   ]
  },
  {
   "cell_type": "code",
   "execution_count": 15,
   "id": "9b9eb1e7-facc-4987-9173-17a446d73782",
   "metadata": {},
   "outputs": [],
   "source": [
    "intervals = []\n",
    "sample_means = []\n",
    "\n",
    "for sample in range(10):\n",
    "    sample = np.random.choice(population, size=1000)\n",
    "    sample_mean = sample.mean()\n",
    "    sample_means.append(sample_mean)\n",
    "    pop_std = population.std()\n",
    "    margin_of_error = z * (pop_std / np.sqrt(1000))\n",
    "    confidence_interval = (sample_mean - margin_of_error, sample_mean + margin_of_error)\n",
    "    intervals.append(confidence_interval)"
   ]
  },
  {
   "cell_type": "code",
   "execution_count": 16,
   "id": "04984038-ebc2-4a06-86a7-75be7b2bb6c0",
   "metadata": {},
   "outputs": [
    {
     "data": {
      "image/png": "[encoded data removed]",
      "text/plain": [
       "<Figure size 864x360 with 1 Axes>"
      ]
     },
     "metadata": {
      "needs_background": "light"
     },
     "output_type": "display_data"
    }
   ],
   "source": [
    "plt.figure(figsize=(12, 5))\n",
    "\n",
    "plt.errorbar(\n",
    "    x=np.arange(0.1, 10, 1),\n",
    "    y=sample_means,\n",
    "    yerr=[(top - bot) / 2 for top, bot in intervals],\n",
    "    fmt=\"o\",\n",
    ")\n",
    "\n",
    "plt.hlines(xmin=0, xmax=10, y=population.mean(), color=\"red\", label=\"population mean\")\n",
    "plt.legend()\n",
    "plt.title(\"95% confidence intervals for point estimates of the population mean\")\n",
    "plt.show()"
   ]
  },
  {
   "cell_type": "code",
   "execution_count": 17,
   "id": "8ca7001b-752b-474d-a0ce-8df62961ea03",
   "metadata": {},
   "outputs": [
    {
     "data": {
      "text/plain": [
       "45.3"
      ]
     },
     "execution_count": 17,
     "metadata": {},
     "output_type": "execute_result"
    }
   ],
   "source": [
    "sample_small = np.random.choice(population, size=10)\n",
    "sample_small_mean = sample_small.mean()\n",
    "sample_small_mean"
   ]
  },
  {
   "cell_type": "code",
   "execution_count": 18,
   "id": "43f49bb5-3bc7-4a67-a242-908a042afbba",
   "metadata": {},
   "outputs": [
    {
     "data": {
      "text/plain": [
       "2.2621571627409915"
      ]
     },
     "execution_count": 18,
     "metadata": {},
     "output_type": "execute_result"
    }
   ],
   "source": [
    "t = stats.t.ppf(q=0.975, df=9)\n",
    "t"
   ]
  },
  {
   "cell_type": "code",
   "execution_count": 19,
   "id": "102c8146-5a21-44ed-895c-8bcfa5a1c783",
   "metadata": {},
   "outputs": [
    {
     "data": {
      "text/plain": [
       "(32.49511138344896, 58.10488861655104)"
      ]
     },
     "execution_count": 19,
     "metadata": {},
     "output_type": "execute_result"
    }
   ],
   "source": [
    "sigma = sample_small.std() / np.sqrt(10)\n",
    "margin_of_error = t * sigma\n",
    "confidence_interval = (\n",
    "    sample_small_mean - margin_of_error,\n",
    "    sample_small_mean + margin_of_error,\n",
    ")\n",
    "confidence_interval"
   ]
  },
  {
   "cell_type": "code",
   "execution_count": 20,
   "id": "e00d9242-f0d9-452c-94d5-4f3e8d8a8286",
   "metadata": {},
   "outputs": [
    {
     "data": {
      "text/plain": [
       "(32.49511138344896, 58.10488861655104)"
      ]
     },
     "execution_count": 20,
     "metadata": {},
     "output_type": "execute_result"
    }
   ],
   "source": [
    "stats.t.interval(alpha = 0.95,              # Confidence level\n",
    "                 df= 9,                     # Degrees of freedom\n",
    "                 loc = sample_small_mean,   # Sample mean\n",
    "                 scale = sigma)             # Standard deviation estimate"
   ]
  },
  {
   "cell_type": "code",
   "execution_count": 21,
   "id": "3352cd44-0b38-4ea8-8df7-5ef6ef421c6f",
   "metadata": {},
   "outputs": [
    {
     "name": "stdout",
     "output_type": "stream",
     "text": [
      "0.5 7.96\n",
      "0.75 13.92\n",
      "0.8 15.66\n",
      "0.9 20.75\n",
      "0.95 25.61\n"
     ]
    }
   ],
   "source": [
    "for confidence in (0.5, 0.75, 0.8, 0.90, 0.95):\n",
    "    confidence_interval = stats.t.interval(\n",
    "        alpha=confidence, df=9, loc=sample_small_mean, scale=sigma\n",
    "    )\n",
    "    interval = round(confidence_interval[1] - confidence_interval[0], 2)\n",
    "    print(confidence, interval)  # 0.95 26.43"
   ]
  },
  {
   "cell_type": "code",
   "execution_count": null,
   "id": "a8a8facd-91b8-4713-9601-340cce447fc8",
   "metadata": {},
   "outputs": [],
   "source": []
  }
 ],
 "metadata": {
  "kernelspec": {
   "display_name": "Python [conda env:adsml] *",
   "language": "python",
   "name": "conda-env-adsml-py"
  },
  "language_info": {
   "codemirror_mode": {
    "name": "ipython",
    "version": 3
   },
   "file_extension": ".py",
   "mimetype": "text/x-python",
   "name": "python",
   "nbconvert_exporter": "python",
   "pygments_lexer": "ipython3",
   "version": "3.9.7"
  }
 },
 "nbformat": 4,
 "nbformat_minor": 5
}
