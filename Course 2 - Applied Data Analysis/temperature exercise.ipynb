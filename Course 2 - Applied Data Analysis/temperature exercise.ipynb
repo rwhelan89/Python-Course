{
 "cells": [
  {
   "cell_type": "code",
   "execution_count": 2,
   "id": "c51aa1a8-6b1b-4d41-8c9c-5ec42b1aa6ed",
   "metadata": {},
   "outputs": [],
   "source": [
    "import numpy as np\n",
    "import pandas as pd\n",
    "import matplotlib.pyplot as plt\n",
    "%matplotlib inline\n",
    "import seaborn\n",
    "\n",
    "data = pd.read_csv(\"c2_weatherHistory.csv\", index_col=\"Date\", parse_dates=True)"
   ]
  },
  {
   "cell_type": "code",
   "execution_count": 3,
   "id": "9bd75942-122c-4cb9-ae52-7a3a98419cd3",
   "metadata": {},
   "outputs": [
    {
     "data": {
      "text/html": [
       "<div>\n",
       "<style scoped>\n",
       "    .dataframe tbody tr th:only-of-type {\n",
       "        vertical-align: middle;\n",
       "    }\n",
       "\n",
       "    .dataframe tbody tr th {\n",
       "        vertical-align: top;\n",
       "    }\n",
       "\n",
       "    .dataframe thead th {\n",
       "        text-align: right;\n",
       "    }\n",
       "</style>\n",
       "<table border=\"1\" class=\"dataframe\">\n",
       "  <thead>\n",
       "    <tr style=\"text-align: right;\">\n",
       "      <th></th>\n",
       "      <th>Summary</th>\n",
       "      <th>Temperature (C)</th>\n",
       "      <th>Humidity</th>\n",
       "      <th>Wind Speed (km/h)</th>\n",
       "      <th>Wind Bearing (degrees)</th>\n",
       "      <th>Visibility (km)</th>\n",
       "    </tr>\n",
       "    <tr>\n",
       "      <th>Date</th>\n",
       "      <th></th>\n",
       "      <th></th>\n",
       "      <th></th>\n",
       "      <th></th>\n",
       "      <th></th>\n",
       "      <th></th>\n",
       "    </tr>\n",
       "  </thead>\n",
       "  <tbody>\n",
       "    <tr>\n",
       "      <th>2006-04-01 00:00:00</th>\n",
       "      <td>Partly Cloudy</td>\n",
       "      <td>9.472222</td>\n",
       "      <td>0.89</td>\n",
       "      <td>14.1197</td>\n",
       "      <td>251</td>\n",
       "      <td>15.8263</td>\n",
       "    </tr>\n",
       "    <tr>\n",
       "      <th>2006-04-01 01:00:00</th>\n",
       "      <td>Partly Cloudy</td>\n",
       "      <td>9.355556</td>\n",
       "      <td>0.86</td>\n",
       "      <td>14.2646</td>\n",
       "      <td>259</td>\n",
       "      <td>15.8263</td>\n",
       "    </tr>\n",
       "    <tr>\n",
       "      <th>2006-04-01 02:00:00</th>\n",
       "      <td>Mostly Cloudy</td>\n",
       "      <td>9.377778</td>\n",
       "      <td>0.89</td>\n",
       "      <td>3.9284</td>\n",
       "      <td>204</td>\n",
       "      <td>14.9569</td>\n",
       "    </tr>\n",
       "    <tr>\n",
       "      <th>2006-04-01 03:00:00</th>\n",
       "      <td>Partly Cloudy</td>\n",
       "      <td>8.288889</td>\n",
       "      <td>0.83</td>\n",
       "      <td>14.1036</td>\n",
       "      <td>269</td>\n",
       "      <td>15.8263</td>\n",
       "    </tr>\n",
       "    <tr>\n",
       "      <th>2006-04-01 04:00:00</th>\n",
       "      <td>Mostly Cloudy</td>\n",
       "      <td>8.755556</td>\n",
       "      <td>0.83</td>\n",
       "      <td>11.0446</td>\n",
       "      <td>259</td>\n",
       "      <td>15.8263</td>\n",
       "    </tr>\n",
       "  </tbody>\n",
       "</table>\n",
       "</div>"
      ],
      "text/plain": [
       "                           Summary  Temperature (C)  Humidity  \\\n",
       "Date                                                            \n",
       "2006-04-01 00:00:00  Partly Cloudy         9.472222      0.89   \n",
       "2006-04-01 01:00:00  Partly Cloudy         9.355556      0.86   \n",
       "2006-04-01 02:00:00  Mostly Cloudy         9.377778      0.89   \n",
       "2006-04-01 03:00:00  Partly Cloudy         8.288889      0.83   \n",
       "2006-04-01 04:00:00  Mostly Cloudy         8.755556      0.83   \n",
       "\n",
       "                     Wind Speed (km/h)  Wind Bearing (degrees)  \\\n",
       "Date                                                             \n",
       "2006-04-01 00:00:00            14.1197                     251   \n",
       "2006-04-01 01:00:00            14.2646                     259   \n",
       "2006-04-01 02:00:00             3.9284                     204   \n",
       "2006-04-01 03:00:00            14.1036                     269   \n",
       "2006-04-01 04:00:00            11.0446                     259   \n",
       "\n",
       "                     Visibility (km)  \n",
       "Date                                  \n",
       "2006-04-01 00:00:00          15.8263  \n",
       "2006-04-01 01:00:00          15.8263  \n",
       "2006-04-01 02:00:00          14.9569  \n",
       "2006-04-01 03:00:00          15.8263  \n",
       "2006-04-01 04:00:00          15.8263  "
      ]
     },
     "execution_count": 3,
     "metadata": {},
     "output_type": "execute_result"
    }
   ],
   "source": [
    "data.head()"
   ]
  },
  {
   "cell_type": "code",
   "execution_count": 4,
   "id": "2705c8bc-b576-488e-941a-238ec5ab773b",
   "metadata": {},
   "outputs": [],
   "source": [
    "data=data['Temperature (C)']"
   ]
  },
  {
   "cell_type": "code",
   "execution_count": 5,
   "id": "26937db3-dee8-4840-bfe1-3f801a8f76e7",
   "metadata": {},
   "outputs": [],
   "source": [
    "data=data['2006-03-31':'2009-12-31']"
   ]
  },
  {
   "cell_type": "code",
   "execution_count": 6,
   "id": "c24679eb-be38-4a4e-a658-08c1ea98a854",
   "metadata": {},
   "outputs": [
    {
     "data": {
      "image/png": "[encoded data removed]",
      "text/plain": [
       "<Figure size 432x288 with 1 Axes>"
      ]
     },
     "metadata": {
      "needs_background": "light"
     },
     "output_type": "display_data"
    }
   ],
   "source": [
    "data.plot()\n",
    "plt.show()"
   ]
  },
  {
   "cell_type": "code",
   "execution_count": 7,
   "id": "631be011-b934-440b-a6f6-290fc39d7df7",
   "metadata": {},
   "outputs": [
    {
     "data": {
      "text/plain": [
       "00:00:00    10.093926\n",
       "01:00:00     9.644720\n",
       "02:00:00     9.360702\n",
       "03:00:00     8.883135\n",
       "04:00:00     8.602158\n",
       "05:00:00     8.395388\n",
       "06:00:00     8.455390\n",
       "07:00:00     9.438715\n",
       "08:00:00    11.013237\n",
       "09:00:00    12.756774\n",
       "10:00:00    14.276818\n",
       "11:00:00    15.458540\n",
       "12:00:00    16.372664\n",
       "13:00:00    16.954673\n",
       "14:00:00    17.259597\n",
       "15:00:00    17.315658\n",
       "16:00:00    16.958653\n",
       "17:00:00    16.338516\n",
       "18:00:00    15.416100\n",
       "19:00:00    14.265318\n",
       "20:00:00    12.921947\n",
       "21:00:00    11.750433\n",
       "22:00:00    11.294582\n",
       "23:00:00    10.715181\n",
       "Name: Temperature (C), dtype: float64"
      ]
     },
     "execution_count": 7,
     "metadata": {},
     "output_type": "execute_result"
    }
   ],
   "source": [
    "by_time = data.groupby(data.index.time).mean()\n",
    "by_time"
   ]
  },
  {
   "cell_type": "code",
   "execution_count": 11,
   "id": "2191fb33-c9a7-4fdd-bcf5-b5735cd7eed4",
   "metadata": {},
   "outputs": [
    {
     "data": {
      "image/png": "[encoded data removed]",
      "text/plain": [
       "<Figure size 432x288 with 1 Axes>"
      ]
     },
     "metadata": {
      "needs_background": "light"
     },
     "output_type": "display_data"
    }
   ],
   "source": [
    "hourly_ticks = 4*60*60 * np.arange(6)\n",
    "by_time.plot(xticks=hourly_ticks)\n",
    "plt.ylabel('Mean hourly temperature')\n",
    "plt.show()"
   ]
  },
  {
   "cell_type": "code",
   "execution_count": 18,
   "id": "1b883c42-9ee9-44cf-8cc4-7a6b5a0148bf",
   "metadata": {},
   "outputs": [
    {
     "data": {
      "image/png": "[encoded data removed]",
      "text/plain": [
       "<Figure size 432x288 with 1 Axes>"
      ]
     },
     "metadata": {
      "needs_background": "light"
     },
     "output_type": "display_data"
    }
   ],
   "source": [
    "by_month = data.groupby(data.index.month).mean()\n",
    "by_month.index = ['Jan', 'Feb', 'Mar', 'Apr', 'May', 'Jun', 'Jul', 'Aug', 'Sep', 'Oct', 'Nov', 'Dec']\n",
    "monthly_ticks = np.arange(12)\n",
    "plt.ylabel('temperature')\n",
    "by_month.plot(xticks=monthly_ticks)\n",
    "plt.show()"
   ]
  },
  {
   "cell_type": "code",
   "execution_count": null,
   "id": "961abcfe-3ad8-448d-99eb-2dcc80849b5d",
   "metadata": {},
   "outputs": [],
   "source": []
  }
 ],
 "metadata": {
  "kernelspec": {
   "display_name": "Python [conda env:adsml] *",
   "language": "python",
   "name": "conda-env-adsml-py"
  },
  "language_info": {
   "codemirror_mode": {
    "name": "ipython",
    "version": 3
   },
   "file_extension": ".py",
   "mimetype": "text/x-python",
   "name": "python",
   "nbconvert_exporter": "python",
   "pygments_lexer": "ipython3",
   "version": "3.9.7"
  }
 },
 "nbformat": 4,
 "nbformat_minor": 5
}
