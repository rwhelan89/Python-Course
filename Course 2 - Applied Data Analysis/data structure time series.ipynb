{
 "cells": [
  {
   "cell_type": "code",
   "execution_count": 30,
   "id": "56413f70-5a67-4bcb-8668-6666e48a7fff",
   "metadata": {},
   "outputs": [],
   "source": [
    "import pandas as pd\n",
    "import numpy as np"
   ]
  },
  {
   "cell_type": "code",
   "execution_count": 2,
   "id": "213f3a84-ca8f-4855-b6c2-727f0b41968e",
   "metadata": {},
   "outputs": [
    {
     "data": {
      "text/plain": [
       "Timestamp('2009-02-13 00:00:00')"
      ]
     },
     "execution_count": 2,
     "metadata": {},
     "output_type": "execute_result"
    }
   ],
   "source": [
    "pd.to_datetime(\"13th of February, 2009\")"
   ]
  },
  {
   "cell_type": "code",
   "execution_count": 3,
   "id": "54c1ce81-5357-4e8e-b5a1-bdf3268a8466",
   "metadata": {},
   "outputs": [
    {
     "data": {
      "text/plain": [
       "Timestamp('2009-02-13 00:00:00')"
      ]
     },
     "execution_count": 3,
     "metadata": {},
     "output_type": "execute_result"
    }
   ],
   "source": [
    "pd.to_datetime(\"02-13-2009\")"
   ]
  },
  {
   "cell_type": "code",
   "execution_count": 4,
   "id": "004a192d-ec06-4c4b-a6e5-829f9118806a",
   "metadata": {},
   "outputs": [
    {
     "data": {
      "text/plain": [
       "Timestamp('2009-02-13 00:00:00')"
      ]
     },
     "execution_count": 4,
     "metadata": {},
     "output_type": "execute_result"
    }
   ],
   "source": [
    "pd.to_datetime(\"feb 13, 2009\")"
   ]
  },
  {
   "cell_type": "code",
   "execution_count": 5,
   "id": "c59ac33e-e0fa-4262-8a22-10d963e63da2",
   "metadata": {},
   "outputs": [
    {
     "data": {
      "text/plain": [
       "Timestamp('2009-02-13 14:20:00')"
      ]
     },
     "execution_count": 5,
     "metadata": {},
     "output_type": "execute_result"
    }
   ],
   "source": [
    "pd.to_datetime(\"feb 13, 2009 14:20:00\")"
   ]
  },
  {
   "cell_type": "code",
   "execution_count": 7,
   "id": "23c82b06-9003-4f65-95c9-1d40a473e76f",
   "metadata": {},
   "outputs": [
    {
     "data": {
      "text/plain": [
       "Timestamp('2022-04-07 13:00:00')"
      ]
     },
     "execution_count": 7,
     "metadata": {},
     "output_type": "execute_result"
    }
   ],
   "source": [
    "pd.to_datetime(\"13:00\")"
   ]
  },
  {
   "cell_type": "code",
   "execution_count": 9,
   "id": "569fd928-752a-47bb-88a6-dc9780569067",
   "metadata": {},
   "outputs": [
    {
     "data": {
      "text/plain": [
       "Timestamp('2022-04-07 11:03:10.532847')"
      ]
     },
     "execution_count": 9,
     "metadata": {},
     "output_type": "execute_result"
    }
   ],
   "source": [
    "pd.to_datetime(\"now\")"
   ]
  },
  {
   "cell_type": "code",
   "execution_count": 11,
   "id": "f3fd73c5-1a46-4712-8d6e-a7ca17b6d64b",
   "metadata": {},
   "outputs": [
    {
     "data": {
      "text/plain": [
       "'Saturday'"
      ]
     },
     "execution_count": 11,
     "metadata": {},
     "output_type": "execute_result"
    }
   ],
   "source": [
    "# retrieve day of week\n",
    "\n",
    "pd.to_datetime(\"Sep 30th, 1989 09:00:00\").day_name()"
   ]
  },
  {
   "cell_type": "code",
   "execution_count": 12,
   "id": "afd27b1b-eae4-4118-a40a-cdc5f7e31fd7",
   "metadata": {},
   "outputs": [
    {
     "data": {
      "text/plain": [
       "DatetimeIndex(['2015-08-05', '2015-08-06', '2015-08-07'], dtype='datetime64[ns]', freq=None)"
      ]
     },
     "execution_count": 12,
     "metadata": {},
     "output_type": "execute_result"
    }
   ],
   "source": [
    "dates = pd.to_datetime(\n",
    "    [pd.Timestamp(2015, 8, 5), pd.Timestamp(2015, 8, 6), pd.Timestamp(2015, 8, 7)]\n",
    ")\n",
    "dates"
   ]
  },
  {
   "cell_type": "code",
   "execution_count": 13,
   "id": "9a2cf17a-eb2b-4b8a-8610-d55a453eb806",
   "metadata": {},
   "outputs": [
    {
     "data": {
      "text/plain": [
       "Int64Index([5, 6, 7], dtype='int64')"
      ]
     },
     "execution_count": 13,
     "metadata": {},
     "output_type": "execute_result"
    }
   ],
   "source": [
    "dates.day"
   ]
  },
  {
   "cell_type": "code",
   "execution_count": 14,
   "id": "a0d213fb-7c6c-48d3-a684-004fb6b3c364",
   "metadata": {},
   "outputs": [
    {
     "data": {
      "text/plain": [
       "Int64Index([8, 8, 8], dtype='int64')"
      ]
     },
     "execution_count": 14,
     "metadata": {},
     "output_type": "execute_result"
    }
   ],
   "source": [
    "dates.month"
   ]
  },
  {
   "cell_type": "code",
   "execution_count": 15,
   "id": "25eccb4d-a000-4aa4-ba28-2973347a60d1",
   "metadata": {},
   "outputs": [
    {
     "data": {
      "text/plain": [
       "Timedelta('12418 days 00:00:00')"
      ]
     },
     "execution_count": 15,
     "metadata": {},
     "output_type": "execute_result"
    }
   ],
   "source": [
    "# time delta\n",
    "\n",
    "date1 = pd.Timestamp(\"2018-03-03\")\n",
    "date2 = pd.Timestamp(\"1984-03-03\")\n",
    "date1 - date2"
   ]
  },
  {
   "cell_type": "code",
   "execution_count": 16,
   "id": "b8a2353c-090e-4677-8f69-c7bfdc83e82f",
   "metadata": {},
   "outputs": [
    {
     "data": {
      "text/plain": [
       "Timedelta('54 days 03:00:00')"
      ]
     },
     "execution_count": 16,
     "metadata": {},
     "output_type": "execute_result"
    }
   ],
   "source": [
    "pd.Timedelta(days=54, hours=3)"
   ]
  },
  {
   "cell_type": "code",
   "execution_count": 17,
   "id": "4fe15cbc-baa9-4a78-a524-d80b3bc0d9e1",
   "metadata": {},
   "outputs": [
    {
     "data": {
      "text/plain": [
       "Timestamp('2018-04-26 03:00:00')"
      ]
     },
     "execution_count": 17,
     "metadata": {},
     "output_type": "execute_result"
    }
   ],
   "source": [
    "date1 + pd.Timedelta(days=54, hours=3)"
   ]
  },
  {
   "cell_type": "code",
   "execution_count": 18,
   "id": "66ef295b-deea-42d2-afeb-1a2c4054d353",
   "metadata": {},
   "outputs": [
    {
     "data": {
      "text/plain": [
       "TimedeltaIndex(['0 days', '1 days', '2 days'], dtype='timedelta64[ns]', freq=None)"
      ]
     },
     "execution_count": 18,
     "metadata": {},
     "output_type": "execute_result"
    }
   ],
   "source": [
    "dates - dates[0]"
   ]
  },
  {
   "cell_type": "code",
   "execution_count": 19,
   "id": "4290c5dd-cb84-4292-aee2-aebe8810a7ef",
   "metadata": {},
   "outputs": [
    {
     "data": {
      "text/plain": [
       "Period('2015-01', 'M')"
      ]
     },
     "execution_count": 19,
     "metadata": {},
     "output_type": "execute_result"
    }
   ],
   "source": [
    "jan2015 = pd.Period(\"2015-01\")\n",
    "jan2015"
   ]
  },
  {
   "cell_type": "code",
   "execution_count": 20,
   "id": "866409dc-00de-4a43-8b0d-037ec091afb5",
   "metadata": {},
   "outputs": [
    {
     "data": {
      "text/plain": [
       "Period('2015-01-01', 'D')"
      ]
     },
     "execution_count": 20,
     "metadata": {},
     "output_type": "execute_result"
    }
   ],
   "source": [
    "jan2015 = pd.Period(\"2015-01\", freq=\"D\")\n",
    "jan2015"
   ]
  },
  {
   "cell_type": "code",
   "execution_count": 21,
   "id": "557cdd0b-7494-463a-9fb2-fa1fc831edc0",
   "metadata": {},
   "outputs": [
    {
     "data": {
      "text/plain": [
       "Timestamp('2015-01-01 00:00:00')"
      ]
     },
     "execution_count": 21,
     "metadata": {},
     "output_type": "execute_result"
    }
   ],
   "source": [
    "jan2015.start_time"
   ]
  },
  {
   "cell_type": "code",
   "execution_count": 22,
   "id": "b1654e87-a705-4d3c-b3a2-fd67fc1b61a6",
   "metadata": {},
   "outputs": [
    {
     "data": {
      "text/plain": [
       "Timestamp('2015-01-01 23:59:59.999999999')"
      ]
     },
     "execution_count": 22,
     "metadata": {},
     "output_type": "execute_result"
    }
   ],
   "source": [
    "jan2015.end_time"
   ]
  },
  {
   "cell_type": "code",
   "execution_count": 23,
   "id": "256d8868-5612-4207-b801-8b0977c885cc",
   "metadata": {},
   "outputs": [
    {
     "data": {
      "text/plain": [
       "Period('2015-01-01', 'D')"
      ]
     },
     "execution_count": 23,
     "metadata": {},
     "output_type": "execute_result"
    }
   ],
   "source": [
    "period = pd.Period(\"2015-01\", freq=\"H\")\n",
    "period.asfreq(\"D\")"
   ]
  },
  {
   "cell_type": "code",
   "execution_count": 24,
   "id": "8f34610a-6675-4abc-b3e2-0aaca0237e75",
   "metadata": {},
   "outputs": [
    {
     "data": {
      "text/plain": [
       "Timestamp('2015-01-01 00:00:00')"
      ]
     },
     "execution_count": 24,
     "metadata": {},
     "output_type": "execute_result"
    }
   ],
   "source": [
    "period = pd.Period(\"2015-01\", freq=\"H\")\n",
    "period.to_timestamp()"
   ]
  },
  {
   "cell_type": "code",
   "execution_count": 25,
   "id": "1acbe06c-024c-4c17-a378-7edc8973e1e5",
   "metadata": {},
   "outputs": [
    {
     "data": {
      "text/plain": [
       "Period('2015-01', 'M')"
      ]
     },
     "execution_count": 25,
     "metadata": {},
     "output_type": "execute_result"
    }
   ],
   "source": [
    "pd.Timestamp(\"2015-01-01 00:00:00\").to_period(\"M\")"
   ]
  },
  {
   "cell_type": "code",
   "execution_count": 26,
   "id": "192a78d7-20b4-4808-a710-1a8304df1475",
   "metadata": {},
   "outputs": [
    {
     "data": {
      "text/plain": [
       "PeriodIndex(['2015-08-05', '2015-08-06', '2015-08-07'], dtype='period[D]')"
      ]
     },
     "execution_count": 26,
     "metadata": {},
     "output_type": "execute_result"
    }
   ],
   "source": [
    "dates.to_period(\"D\")"
   ]
  },
  {
   "cell_type": "code",
   "execution_count": 28,
   "id": "a760feda-f9a1-45e2-b073-5ebd054574c9",
   "metadata": {},
   "outputs": [
    {
     "data": {
      "text/plain": [
       "DatetimeIndex(['2015-08-05', '2015-08-06', '2015-08-07'], dtype='datetime64[ns]', freq='D')"
      ]
     },
     "execution_count": 28,
     "metadata": {},
     "output_type": "execute_result"
    }
   ],
   "source": [
    "dates.to_period(\"D\").start_time"
   ]
  },
  {
   "cell_type": "code",
   "execution_count": 31,
   "id": "a1bf7ec7-1fab-4f86-b508-75bcfdab0734",
   "metadata": {},
   "outputs": [
    {
     "data": {
      "text/plain": [
       "2015-08-05    0\n",
       "2015-08-06    1\n",
       "2015-08-07    2\n",
       "dtype: int32"
      ]
     },
     "execution_count": 31,
     "metadata": {},
     "output_type": "execute_result"
    }
   ],
   "source": [
    "ts1 = pd.Series(np.arange(3), dates)\n",
    "ts1"
   ]
  },
  {
   "cell_type": "code",
   "execution_count": 32,
   "id": "89754b21-cb3c-4fa2-b93b-3f86a994bc55",
   "metadata": {},
   "outputs": [
    {
     "data": {
      "text/plain": [
       "2015-08-05    0\n",
       "2015-08-06    1\n",
       "2015-08-07    2\n",
       "Freq: D, dtype: int32"
      ]
     },
     "execution_count": 32,
     "metadata": {},
     "output_type": "execute_result"
    }
   ],
   "source": [
    "ts2 = pd.Series(np.arange(3), dates.to_period(\"D\"))\n",
    "ts2"
   ]
  },
  {
   "cell_type": "code",
   "execution_count": 33,
   "id": "49bf2674-6905-4a3e-aeab-14e5be8caf02",
   "metadata": {},
   "outputs": [
    {
     "data": {
      "text/plain": [
       "0 days    0\n",
       "1 days    1\n",
       "2 days    2\n",
       "dtype: int32"
      ]
     },
     "execution_count": 33,
     "metadata": {},
     "output_type": "execute_result"
    }
   ],
   "source": [
    "ts3 = pd.Series(np.arange(3), dates - dates[0])\n",
    "ts3"
   ]
  },
  {
   "cell_type": "code",
   "execution_count": 34,
   "id": "1ce34113-f6ae-4639-8b92-e2ee23aa959f",
   "metadata": {},
   "outputs": [
    {
     "data": {
      "text/plain": [
       "DatetimeIndex(['2015-08-05', '2015-08-06', '2015-08-07'], dtype='datetime64[ns]', freq=None)"
      ]
     },
     "execution_count": 34,
     "metadata": {},
     "output_type": "execute_result"
    }
   ],
   "source": [
    "ts1.index"
   ]
  },
  {
   "cell_type": "code",
   "execution_count": 35,
   "id": "c86c6b91-95ed-405a-828a-49580e0333fe",
   "metadata": {},
   "outputs": [
    {
     "data": {
      "text/plain": [
       "PeriodIndex(['2015-08-05', '2015-08-06', '2015-08-07'], dtype='period[D]')"
      ]
     },
     "execution_count": 35,
     "metadata": {},
     "output_type": "execute_result"
    }
   ],
   "source": [
    "ts2.index"
   ]
  },
  {
   "cell_type": "code",
   "execution_count": 36,
   "id": "612049bf-e4ff-4c99-8108-0fea7750e4fa",
   "metadata": {},
   "outputs": [
    {
     "data": {
      "text/plain": [
       "TimedeltaIndex(['0 days', '1 days', '2 days'], dtype='timedelta64[ns]', freq=None)"
      ]
     },
     "execution_count": 36,
     "metadata": {},
     "output_type": "execute_result"
    }
   ],
   "source": [
    "ts3.index"
   ]
  },
  {
   "cell_type": "code",
   "execution_count": 37,
   "id": "315b7fdf-d73a-42a7-a23b-3f69efcdd9a9",
   "metadata": {},
   "outputs": [
    {
     "data": {
      "text/plain": [
       "2015-08-05    0\n",
       "2015-08-06    1\n",
       "2015-08-07    2\n",
       "dtype: int32"
      ]
     },
     "execution_count": 37,
     "metadata": {},
     "output_type": "execute_result"
    }
   ],
   "source": [
    "ts1[\"2015\"]"
   ]
  },
  {
   "cell_type": "code",
   "execution_count": 38,
   "id": "e3cedad6-41db-452d-9238-04ace3d5233a",
   "metadata": {},
   "outputs": [
    {
     "data": {
      "text/plain": [
       "DatetimeIndex(['2018-01-01', '2018-01-02', '2018-01-03', '2018-01-04',\n",
       "               '2018-01-05'],\n",
       "              dtype='datetime64[ns]', freq='D')"
      ]
     },
     "execution_count": 38,
     "metadata": {},
     "output_type": "execute_result"
    }
   ],
   "source": [
    "pd.date_range(\"2018-01-01\", \"2018-01-05\")"
   ]
  },
  {
   "cell_type": "code",
   "execution_count": 39,
   "id": "91b0051e-432d-4760-ab81-688c357cb98b",
   "metadata": {},
   "outputs": [
    {
     "data": {
      "text/plain": [
       "DatetimeIndex(['2018-01-01', '2018-01-02', '2018-01-03', '2018-01-04',\n",
       "               '2018-01-05'],\n",
       "              dtype='datetime64[ns]', freq='D')"
      ]
     },
     "execution_count": 39,
     "metadata": {},
     "output_type": "execute_result"
    }
   ],
   "source": [
    "pd.date_range(\"2018-01-01\", periods=5)"
   ]
  },
  {
   "cell_type": "code",
   "execution_count": 40,
   "id": "8e1527b6-8f41-455e-b5fc-49d064c0dd03",
   "metadata": {},
   "outputs": [
    {
     "data": {
      "text/plain": [
       "DatetimeIndex(['2018-01-01 00:00:00', '2018-01-01 01:00:00',\n",
       "               '2018-01-01 02:00:00', '2018-01-01 03:00:00',\n",
       "               '2018-01-01 04:00:00'],\n",
       "              dtype='datetime64[ns]', freq='H')"
      ]
     },
     "execution_count": 40,
     "metadata": {},
     "output_type": "execute_result"
    }
   ],
   "source": [
    "pd.date_range(\"2018-01-01\", periods=5, freq=\"H\")"
   ]
  },
  {
   "cell_type": "code",
   "execution_count": 41,
   "id": "551f710d-eaa1-4fda-a0dd-8ecfe9bd27f3",
   "metadata": {},
   "outputs": [
    {
     "data": {
      "text/plain": [
       "PeriodIndex(['2018-01', '2018-02', '2018-03'], dtype='period[M]')"
      ]
     },
     "execution_count": 41,
     "metadata": {},
     "output_type": "execute_result"
    }
   ],
   "source": [
    "pd.period_range(\"2018-01\", periods=3, freq=\"M\")"
   ]
  },
  {
   "cell_type": "code",
   "execution_count": 42,
   "id": "f61d9563-98ab-443b-9246-317c0274ffb0",
   "metadata": {},
   "outputs": [],
   "source": [
    "from pandas.tseries.offsets import *"
   ]
  },
  {
   "cell_type": "code",
   "execution_count": 44,
   "id": "775deb81-6f8f-4e31-a088-71840f5fbd90",
   "metadata": {},
   "outputs": [
    {
     "data": {
      "text/plain": [
       "DatetimeIndex(['2010-07-07', '2010-07-08', '2010-07-09', '2010-07-12',\n",
       "               '2010-07-13'],\n",
       "              dtype='datetime64[ns]', freq='B')"
      ]
     },
     "execution_count": 44,
     "metadata": {},
     "output_type": "execute_result"
    }
   ],
   "source": [
    "# frequency business day\n",
    "\n",
    "pd.date_range(\"2010-07-07\", periods=5, freq=BDay())"
   ]
  },
  {
   "cell_type": "code",
   "execution_count": 46,
   "id": "36f4bb57-a061-4182-9eef-2dc4287cbff2",
   "metadata": {},
   "outputs": [
    {
     "data": {
      "text/plain": [
       "DatetimeIndex(['2010-07-09', '2010-07-16', '2010-07-23', '2010-07-30',\n",
       "               '2010-08-06', '2010-08-13', '2010-08-20', '2010-08-27',\n",
       "               '2010-09-03', '2010-09-10'],\n",
       "              dtype='datetime64[ns]', freq='W-FRI')"
      ]
     },
     "execution_count": 46,
     "metadata": {},
     "output_type": "execute_result"
    }
   ],
   "source": [
    "# dates for 10 consecutive fridays\n",
    "\n",
    "pd.date_range(\"2010-07-07\", periods=10, freq=\"W-FRI\")"
   ]
  },
  {
   "cell_type": "code",
   "execution_count": null,
   "id": "440b9f15-9df7-43ca-a56b-bd02d57f8d9c",
   "metadata": {},
   "outputs": [],
   "source": []
  }
 ],
 "metadata": {
  "kernelspec": {
   "display_name": "Python [conda env:adsml] *",
   "language": "python",
   "name": "conda-env-adsml-py"
  },
  "language_info": {
   "codemirror_mode": {
    "name": "ipython",
    "version": 3
   },
   "file_extension": ".py",
   "mimetype": "text/x-python",
   "name": "python",
   "nbconvert_exporter": "python",
   "pygments_lexer": "ipython3",
   "version": "3.9.7"
  }
 },
 "nbformat": 4,
 "nbformat_minor": 5
}
