{
 "cells": [
  {
   "cell_type": "code",
   "execution_count": 1,
   "id": "e63a2fb8-4a7d-4331-8e49-4cc75fc5b9d8",
   "metadata": {},
   "outputs": [],
   "source": [
    "import pandas as pd\n",
    "import numpy as np\n",
    "\n",
    "s = pd.Series(\n",
    "    [\n",
    "        \"0\",\n",
    "        \"John Wood\",\n",
    "        \"Colin Welsh\",\n",
    "        \"my list\",\n",
    "        \"02456\",\n",
    "        np.nan,\n",
    "        \"HELLO WORLD\",\n",
    "        \"water%\",\n",
    "    ]\n",
    ")"
   ]
  },
  {
   "cell_type": "code",
   "execution_count": 2,
   "id": "00c7dfc4-ae49-4cf9-8025-babf110c4216",
   "metadata": {},
   "outputs": [
    {
     "data": {
      "text/plain": [
       "0    False\n",
       "1     True\n",
       "2    False\n",
       "3    False\n",
       "4    False\n",
       "5      NaN\n",
       "6    False\n",
       "7    False\n",
       "dtype: object"
      ]
     },
     "execution_count": 2,
     "metadata": {},
     "output_type": "execute_result"
    }
   ],
   "source": [
    "s.str.contains(\"John\")"
   ]
  },
  {
   "cell_type": "code",
   "execution_count": 3,
   "id": "ff8bfb33-c7cc-4cf8-9c5c-4947c6e99fcb",
   "metadata": {},
   "outputs": [
    {
     "data": {
      "text/plain": [
       "0    False\n",
       "1     True\n",
       "2     True\n",
       "3    False\n",
       "4    False\n",
       "5    False\n",
       "6    False\n",
       "7    False\n",
       "dtype: bool"
      ]
     },
     "execution_count": 3,
     "metadata": {},
     "output_type": "execute_result"
    }
   ],
   "source": [
    "s.str.contains(\"John\") | s.str.contains(\"Colin\")"
   ]
  },
  {
   "cell_type": "code",
   "execution_count": 5,
   "id": "d71d0405-2711-41d0-a254-dd6b625b2248",
   "metadata": {},
   "outputs": [
    {
     "data": {
      "text/plain": [
       "0    False\n",
       "1     True\n",
       "2     True\n",
       "3    False\n",
       "4    False\n",
       "5      NaN\n",
       "6    False\n",
       "7    False\n",
       "dtype: object"
      ]
     },
     "execution_count": 5,
     "metadata": {},
     "output_type": "execute_result"
    }
   ],
   "source": [
    "# shorter version\n",
    "\n",
    "s.str.contains(\"John|Colin\")"
   ]
  },
  {
   "cell_type": "code",
   "execution_count": 9,
   "id": "6238058b-042d-425e-816f-2d8af889560a",
   "metadata": {},
   "outputs": [
    {
     "data": {
      "text/plain": [
       "0        bar\n",
       "1      sugar\n",
       "2    cartoon\n",
       "3      argon\n",
       "dtype: object"
      ]
     },
     "execution_count": 9,
     "metadata": {},
     "output_type": "execute_result"
    }
   ],
   "source": [
    "s2 = pd.Series([\"bar\", \"sugar\", \"cartoon\", \"argon\"])\n",
    "s2"
   ]
  },
  {
   "cell_type": "code",
   "execution_count": 10,
   "id": "e0322fda-096f-4910-bea2-0b1ac2841a57",
   "metadata": {},
   "outputs": [
    {
     "data": {
      "text/plain": [
       "0     True\n",
       "1     True\n",
       "2     True\n",
       "3    False\n",
       "dtype: bool"
      ]
     },
     "execution_count": 10,
     "metadata": {},
     "output_type": "execute_result"
    }
   ],
   "source": [
    "# function looking at any word xar\n",
    "\n",
    "s2.str.contains(\".ar\")"
   ]
  },
  {
   "cell_type": "code",
   "execution_count": 11,
   "id": "49300f1e-d856-44d9-ab05-25d1781d7757",
   "metadata": {},
   "outputs": [
    {
     "data": {
      "text/plain": [
       "0     True\n",
       "1    False\n",
       "2     True\n",
       "3    False\n",
       "dtype: bool"
      ]
     },
     "execution_count": 11,
     "metadata": {},
     "output_type": "execute_result"
    }
   ],
   "source": [
    "# [] inside brackets for matching characters\n",
    "\n",
    "s2.str.contains(\"[bc]ar\")\n",
    "\n",
    "# any word that contains bar or car"
   ]
  },
  {
   "cell_type": "code",
   "execution_count": 15,
   "id": "1965927f-fe1b-4abf-80c4-ab2cdea3a6fa",
   "metadata": {},
   "outputs": [
    {
     "name": "stdout",
     "output_type": "stream",
     "text": [
      "0        0\n",
      "4    02456\n",
      "dtype: object\n",
      "1      John Wood\n",
      "2    Colin Welsh\n",
      "3        my list\n",
      "6    HELLO WORLD\n",
      "7         water%\n",
      "dtype: object\n"
     ]
    }
   ],
   "source": [
    "# [a-z] = match any lower case letter, [A-Z] upper, [0-9] any digit, [a-zA-Z0-9] match any letter or digit\n",
    "\n",
    "# adding ^ matches any characters not matching\n",
    "\n",
    "print(s[s.str.contains(\"[0-9]\", na=False)])\n",
    "print(s[s.str.contains(\"[^0-9]\", na=False)])"
   ]
  },
  {
   "cell_type": "markdown",
   "id": "fa8f9c0e-fb95-4105-85f5-dde59b3312a1",
   "metadata": {},
   "source": [
    "\\d - match any digit\n",
    "\\D - match any non-digit\n",
    "\\w - match any alphanumeric character (letter or digit) or an underscore (_)\n",
    "\\W - match any character that is not alphanumeric or an underscore as described above\n",
    "\\s - match whitespace (spaces, tabs, newlines, etc.)\n",
    "\\S - match non-whitespace"
   ]
  },
  {
   "cell_type": "code",
   "execution_count": 18,
   "id": "72401e7a-2724-4403-b947-e00481b3790a",
   "metadata": {},
   "outputs": [
    {
     "data": {
      "text/plain": [
       "0        0\n",
       "4    02456\n",
       "dtype: object"
      ]
     },
     "execution_count": 18,
     "metadata": {},
     "output_type": "execute_result"
    }
   ],
   "source": [
    "# all strings containing a digit\n",
    "\n",
    "s[s.str.contains(\"[\\d]\", na=False)]"
   ]
  },
  {
   "cell_type": "code",
   "execution_count": 20,
   "id": "ac506c5e-e134-4e91-8e83-6ff935f74738",
   "metadata": {},
   "outputs": [
    {
     "data": {
      "text/plain": [
       "0        bar\n",
       "2    cartoon\n",
       "dtype: object"
      ]
     },
     "execution_count": 20,
     "metadata": {},
     "output_type": "execute_result"
    }
   ],
   "source": [
    "# ^ match at beginning of string, $ match at end of string\n",
    "\n",
    "s2[s2.str.contains(\"^[bc]\", na=False)]"
   ]
  },
  {
   "cell_type": "code",
   "execution_count": 21,
   "id": "c0f80983-6779-4136-a6f0-dff46743f1f0",
   "metadata": {},
   "outputs": [
    {
     "data": {
      "text/plain": [
       "0      bar\n",
       "1    sugar\n",
       "dtype: object"
      ]
     },
     "execution_count": 21,
     "metadata": {},
     "output_type": "execute_result"
    }
   ],
   "source": [
    "s2[s2.str.contains(\"ar$\", na=False)]"
   ]
  },
  {
   "cell_type": "markdown",
   "id": "4b249ecb-c70c-41ae-afe5-025f83710ed8",
   "metadata": {},
   "source": [
    "* - match zero or more copies of the preceding character\n",
    "? - match zero or 1 copy of the preceding character\n",
    "+ - match 1 or more copies of the preceding character\n",
    "Or we can use curly braces to specify how many times we want to match the given character. We have the following choices:\n",
    "\n",
    "{m} - match the preceding element m times\n",
    "{m,} - match the preceding element m times or more\n",
    "{m,n} - match the preceding element between m and n times"
   ]
  },
  {
   "cell_type": "code",
   "execution_count": 22,
   "id": "b4a74be5-92a9-4e92-be63-fa2d4944e8f4",
   "metadata": {},
   "outputs": [
    {
     "data": {
      "text/plain": [
       "0    False\n",
       "1    False\n",
       "2     True\n",
       "3    False\n",
       "4     True\n",
       "dtype: bool"
      ]
     },
     "execution_count": 22,
     "metadata": {},
     "output_type": "execute_result"
    }
   ],
   "source": [
    "s3 = pd.Series([\"forest\", \"o\", \"ff\", \"foo\", \"fof\"])\n",
    "s3.str.contains(\"f+o?f+\")"
   ]
  },
  {
   "cell_type": "code",
   "execution_count": 23,
   "id": "d04b0273-9b96-4050-bce9-d31f21512895",
   "metadata": {},
   "outputs": [],
   "source": [
    "s4 = pd.Series([\"Monday5km\", \"Wednesday10km\", \"Saturday25km\"])"
   ]
  },
  {
   "cell_type": "code",
   "execution_count": 26,
   "id": "ec71199f-fcf6-466e-8df5-9a441da4bfbc",
   "metadata": {},
   "outputs": [
    {
     "data": {
      "text/html": [
       "<div>\n",
       "<style scoped>\n",
       "    .dataframe tbody tr th:only-of-type {\n",
       "        vertical-align: middle;\n",
       "    }\n",
       "\n",
       "    .dataframe tbody tr th {\n",
       "        vertical-align: top;\n",
       "    }\n",
       "\n",
       "    .dataframe thead th {\n",
       "        text-align: right;\n",
       "    }\n",
       "</style>\n",
       "<table border=\"1\" class=\"dataframe\">\n",
       "  <thead>\n",
       "    <tr style=\"text-align: right;\">\n",
       "      <th></th>\n",
       "      <th>0</th>\n",
       "    </tr>\n",
       "  </thead>\n",
       "  <tbody>\n",
       "    <tr>\n",
       "      <th>0</th>\n",
       "      <td>Monday</td>\n",
       "    </tr>\n",
       "    <tr>\n",
       "      <th>1</th>\n",
       "      <td>Wednesday</td>\n",
       "    </tr>\n",
       "    <tr>\n",
       "      <th>2</th>\n",
       "      <td>Saturday</td>\n",
       "    </tr>\n",
       "  </tbody>\n",
       "</table>\n",
       "</div>"
      ],
      "text/plain": [
       "           0\n",
       "0     Monday\n",
       "1  Wednesday\n",
       "2   Saturday"
      ]
     },
     "execution_count": 26,
     "metadata": {},
     "output_type": "execute_result"
    }
   ],
   "source": [
    "# Extract weekday names in a new column\n",
    "s4.str.extract(\"(\\w+day)\", expand=True)"
   ]
  },
  {
   "cell_type": "code",
   "execution_count": 27,
   "id": "aaac4725-cdba-4284-a17e-cf893758ee76",
   "metadata": {},
   "outputs": [
    {
     "data": {
      "text/html": [
       "<div>\n",
       "<style scoped>\n",
       "    .dataframe tbody tr th:only-of-type {\n",
       "        vertical-align: middle;\n",
       "    }\n",
       "\n",
       "    .dataframe tbody tr th {\n",
       "        vertical-align: top;\n",
       "    }\n",
       "\n",
       "    .dataframe thead th {\n",
       "        text-align: right;\n",
       "    }\n",
       "</style>\n",
       "<table border=\"1\" class=\"dataframe\">\n",
       "  <thead>\n",
       "    <tr style=\"text-align: right;\">\n",
       "      <th></th>\n",
       "      <th>0</th>\n",
       "      <th>1</th>\n",
       "    </tr>\n",
       "  </thead>\n",
       "  <tbody>\n",
       "    <tr>\n",
       "      <th>0</th>\n",
       "      <td>Monday</td>\n",
       "      <td>5km</td>\n",
       "    </tr>\n",
       "    <tr>\n",
       "      <th>1</th>\n",
       "      <td>Wednesday</td>\n",
       "      <td>10km</td>\n",
       "    </tr>\n",
       "    <tr>\n",
       "      <th>2</th>\n",
       "      <td>Saturday</td>\n",
       "      <td>25km</td>\n",
       "    </tr>\n",
       "  </tbody>\n",
       "</table>\n",
       "</div>"
      ],
      "text/plain": [
       "           0     1\n",
       "0     Monday   5km\n",
       "1  Wednesday  10km\n",
       "2   Saturday  25km"
      ]
     },
     "execution_count": 27,
     "metadata": {},
     "output_type": "execute_result"
    }
   ],
   "source": [
    "# Extract weekday names and distances in km in separate columns\n",
    "s4.str.extract(\"(\\w+day)(\\d+km)\", expand=True)"
   ]
  },
  {
   "cell_type": "code",
   "execution_count": 28,
   "id": "7445b6e0-7ac5-4c07-8103-9801146bb6e0",
   "metadata": {},
   "outputs": [
    {
     "data": {
      "text/plain": [
       "'Monday5km'"
      ]
     },
     "execution_count": 28,
     "metadata": {},
     "output_type": "execute_result"
    }
   ],
   "source": [
    "# Define string sample\n",
    "sample = 'Monday5km'\n",
    "sample"
   ]
  },
  {
   "cell_type": "code",
   "execution_count": 29,
   "id": "504857f7-9182-47ed-a430-b1ffbf90b7df",
   "metadata": {},
   "outputs": [
    {
     "data": {
      "text/plain": [
       "('Monday', '5km')"
      ]
     },
     "execution_count": 29,
     "metadata": {},
     "output_type": "execute_result"
    }
   ],
   "source": [
    "# Import re library\n",
    "import re\n",
    "\n",
    "# Match groups according to regex pattern\n",
    "m = re.match('(\\w+day)(\\d+km)', # regex pattern\n",
    "             sample              # string sample\n",
    "            )\n",
    "\n",
    "# Show matched groups\n",
    "m.groups()"
   ]
  },
  {
   "cell_type": "code",
   "execution_count": 30,
   "id": "4ad7f5ae-f72c-44c2-ae11-f7e00e94f90d",
   "metadata": {},
   "outputs": [
    {
     "data": {
      "text/plain": [
       "'Monday'"
      ]
     },
     "execution_count": 30,
     "metadata": {},
     "output_type": "execute_result"
    }
   ],
   "source": [
    "m.groups()[0]"
   ]
  },
  {
   "cell_type": "code",
   "execution_count": 31,
   "id": "2226b59d-f398-41b5-9fe9-ba567a164197",
   "metadata": {},
   "outputs": [
    {
     "data": {
      "text/plain": [
       "'Mon'"
      ]
     },
     "execution_count": 31,
     "metadata": {},
     "output_type": "execute_result"
    }
   ],
   "source": [
    "m.groups()[0][:3]"
   ]
  },
  {
   "cell_type": "code",
   "execution_count": 32,
   "id": "deefcb10-a7bc-4102-8a9d-1e318d62329a",
   "metadata": {},
   "outputs": [],
   "source": [
    "def f(x):\n",
    "    return x.groups()[0][:3]"
   ]
  },
  {
   "cell_type": "code",
   "execution_count": 33,
   "id": "82052727-eac7-4236-b1ab-1f8ad1de2a65",
   "metadata": {},
   "outputs": [
    {
     "data": {
      "text/plain": [
       "0     Mon5km\n",
       "1    Wed10km\n",
       "2    Sat25km\n",
       "dtype: object"
      ]
     },
     "execution_count": 33,
     "metadata": {},
     "output_type": "execute_result"
    }
   ],
   "source": [
    "s4.str.replace(\"(\\w+day)\",\n",
    "               f,           \n",
    "               regex=True\n",
    "              )"
   ]
  },
  {
   "cell_type": "code",
   "execution_count": null,
   "id": "e8b00864-7952-4639-90d4-1a19b9b3537d",
   "metadata": {},
   "outputs": [],
   "source": []
  }
 ],
 "metadata": {
  "kernelspec": {
   "display_name": "Python [conda env:adsml] *",
   "language": "python",
   "name": "conda-env-adsml-py"
  },
  "language_info": {
   "codemirror_mode": {
    "name": "ipython",
    "version": 3
   },
   "file_extension": ".py",
   "mimetype": "text/x-python",
   "name": "python",
   "nbconvert_exporter": "python",
   "pygments_lexer": "ipython3",
   "version": "3.9.7"
  }
 },
 "nbformat": 4,
 "nbformat_minor": 5
}
