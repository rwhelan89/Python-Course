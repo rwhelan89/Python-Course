{
 "cells": [
  {
   "cell_type": "code",
   "execution_count": 1,
   "id": "7b41429e-6745-46b7-84f3-d7944f7fa301",
   "metadata": {},
   "outputs": [
    {
     "name": "stdout",
     "output_type": "stream",
     "text": [
      "Shape: (57, 2)\n"
     ]
    }
   ],
   "source": [
    "import pandas as pd\n",
    "\n",
    "data_df = pd.read_csv(\"c3_electric-cars.csv\")\n",
    "\n",
    "print(\"Shape:\", data_df.shape)"
   ]
  },
  {
   "cell_type": "code",
   "execution_count": 2,
   "id": "fdb84d27-b5fe-4020-adde-a185adf4f989",
   "metadata": {},
   "outputs": [
    {
     "data": {
      "text/html": [
       "<div>\n",
       "<style scoped>\n",
       "    .dataframe tbody tr th:only-of-type {\n",
       "        vertical-align: middle;\n",
       "    }\n",
       "\n",
       "    .dataframe tbody tr th {\n",
       "        vertical-align: top;\n",
       "    }\n",
       "\n",
       "    .dataframe thead th {\n",
       "        text-align: right;\n",
       "    }\n",
       "</style>\n",
       "<table border=\"1\" class=\"dataframe\">\n",
       "  <thead>\n",
       "    <tr style=\"text-align: right;\">\n",
       "      <th></th>\n",
       "      <th>Temperature [°F]</th>\n",
       "      <th>Energy Consumption [Wh/mil]</th>\n",
       "    </tr>\n",
       "  </thead>\n",
       "  <tbody>\n",
       "    <tr>\n",
       "      <th>0</th>\n",
       "      <td>-15</td>\n",
       "      <td>460</td>\n",
       "    </tr>\n",
       "    <tr>\n",
       "      <th>1</th>\n",
       "      <td>-12</td>\n",
       "      <td>398</td>\n",
       "    </tr>\n",
       "    <tr>\n",
       "      <th>2</th>\n",
       "      <td>-8</td>\n",
       "      <td>460</td>\n",
       "    </tr>\n",
       "    <tr>\n",
       "      <th>3</th>\n",
       "      <td>-7</td>\n",
       "      <td>540</td>\n",
       "    </tr>\n",
       "    <tr>\n",
       "      <th>4</th>\n",
       "      <td>-6</td>\n",
       "      <td>347</td>\n",
       "    </tr>\n",
       "  </tbody>\n",
       "</table>\n",
       "</div>"
      ],
      "text/plain": [
       "   Temperature [°F]  Energy Consumption [Wh/mil]\n",
       "0               -15                          460\n",
       "1               -12                          398\n",
       "2                -8                          460\n",
       "3                -7                          540\n",
       "4                -6                          347"
      ]
     },
     "execution_count": 2,
     "metadata": {},
     "output_type": "execute_result"
    }
   ],
   "source": [
    "data_df.head()"
   ]
  },
  {
   "cell_type": "code",
   "execution_count": 4,
   "id": "73dae722-fe67-4f52-83a3-88fcd24cf839",
   "metadata": {},
   "outputs": [
    {
     "data": {
      "image/png": "[encoded data removed]",
      "text/plain": [
       "<Figure size 432x288 with 1 Axes>"
      ]
     },
     "metadata": {
      "needs_background": "light"
     },
     "output_type": "display_data"
    }
   ],
   "source": [
    "# extract x, y data\n",
    "x = data_df.iloc[:, 0].values\n",
    "y = data_df.iloc[:, 1].values\n",
    "\n",
    "%matplotlib inline\n",
    "import matplotlib.pyplot as plt\n",
    "\n",
    "data_df.plot.scatter(\"Temperature [°F]\", \"Energy Consumption [Wh/mil]\")\n",
    "plt.show()"
   ]
  },
  {
   "cell_type": "code",
   "execution_count": 5,
   "id": "be3f7d3b-f26d-4e35-9de4-5d38bd4b5122",
   "metadata": {},
   "outputs": [],
   "source": [
    "from sklearn.preprocessing import PolynomialFeatures"
   ]
  },
  {
   "cell_type": "code",
   "execution_count": 6,
   "id": "ec7ee837-0566-45cb-89e9-0da6467cad82",
   "metadata": {},
   "outputs": [
    {
     "name": "stdout",
     "output_type": "stream",
     "text": [
      "Shape: (57, 3)\n"
     ]
    }
   ],
   "source": [
    "import numpy as np\n",
    "\n",
    "# Create the object\n",
    "pf_obj = PolynomialFeatures(degree=2)\n",
    "\n",
    "# Create the polynomial features\n",
    "X2 = pf_obj.fit_transform(\n",
    "    # Pass two dimensional array\n",
    "    x[:, np.newaxis]  # (57,) -> (57,1)\n",
    ")\n",
    "\n",
    "print(\"Shape:\", X2.shape)"
   ]
  },
  {
   "cell_type": "code",
   "execution_count": null,
   "id": "884a1f48-79db-4a23-9265-70b5ce8f57c9",
   "metadata": {},
   "outputs": [],
   "source": [
    "### alternative way of doing line by line \n",
    "\n",
    "# Fit the preprocessor\n",
    "pf_obj.fit(x[:, np.newaxis])\n",
    "\n",
    "# Create the polynomial features\n",
    "X2 = pf_obj.transform((x[:, np.newaxis]))\n",
    "\n",
    "### In this code, fit() computes the number of output features and transform() creates them"
   ]
  },
  {
   "cell_type": "code",
   "execution_count": 8,
   "id": "fbaea0e9-2b87-485f-af11-d0c6bc7cebcf",
   "metadata": {},
   "outputs": [
    {
     "name": "stdout",
     "output_type": "stream",
     "text": [
      "Features: ['1' 'x0' 'x0^2']\n"
     ]
    }
   ],
   "source": [
    "# Scikit-learn labels each new feature in X2, and we can obtain these labels with the get_feature_names_out() function.\n",
    "\n",
    "feature_names = pf_obj.get_feature_names_out()\n",
    "\n",
    "print(\"Features:\", feature_names)"
   ]
  },
  {
   "cell_type": "code",
   "execution_count": 9,
   "id": "cbdd9386-1eb8-424d-a830-2fc19b47b869",
   "metadata": {},
   "outputs": [
    {
     "name": "stdout",
     "output_type": "stream",
     "text": [
      "Features: ['x0' 'x0^2']\n"
     ]
    }
   ],
   "source": [
    "### Here, x0 denotes temperatures. As we can see, Scikit-learn adds a 1 to the polynomial features which corresponds to the intercept term. \n",
    "### However, we will use the LinearRegression object which already fits one. Hence, this new feature is not necessary and we can remove it by setting the include_bias parameter to False.\n",
    "\n",
    "# Create the object\n",
    "pf_obj = PolynomialFeatures(degree=2, include_bias=False)\n",
    "\n",
    "# Create the polynomial features\n",
    "X2 = pf_obj.fit_transform(x[:, np.newaxis])\n",
    "\n",
    "# Get feature names\n",
    "feature_names = pf_obj.get_feature_names_out()\n",
    "\n",
    "print(\"Features:\", feature_names)"
   ]
  },
  {
   "cell_type": "code",
   "execution_count": 11,
   "id": "a6481b48-c7fd-43d8-9e70-a77926bde3ad",
   "metadata": {},
   "outputs": [],
   "source": [
    "# ALTERNATIVE Create the polynomial features manually\n",
    "X2 = np.c_[x, x ** 2]"
   ]
  },
  {
   "cell_type": "markdown",
   "id": "a43e62d0-cd22-4c33-a4dc-74d4751f0672",
   "metadata": {},
   "source": [
    "Fit a LINEAR REGRESSION to new set of features"
   ]
  },
  {
   "cell_type": "code",
   "execution_count": 12,
   "id": "3901bdfc-c018-4d00-a393-50755ede3823",
   "metadata": {},
   "outputs": [
    {
     "data": {
      "text/plain": [
       "LinearRegression()"
      ]
     },
     "execution_count": 12,
     "metadata": {},
     "output_type": "execute_result"
    }
   ],
   "source": [
    "from sklearn.linear_model import LinearRegression\n",
    "\n",
    "# Create linear regression\n",
    "linreg = LinearRegression()\n",
    "\n",
    "# Fit it\n",
    "linreg.fit(X2, y)"
   ]
  },
  {
   "cell_type": "code",
   "execution_count": 13,
   "id": "0299c7c2-d09b-4c78-8431-cc7060404d12",
   "metadata": {},
   "outputs": [],
   "source": [
    "# Generate a hundred values between min(x) and max(x)\n",
    "x_values = np.linspace(min(x), max(x), num=100)\n",
    "X_values2 = pf_obj.transform(x_values[:, np.newaxis])"
   ]
  },
  {
   "cell_type": "code",
   "execution_count": 14,
   "id": "648a7eda-ac99-4be7-9977-b1f95c66c765",
   "metadata": {},
   "outputs": [],
   "source": [
    "# ALTERNATIVE use numpy c_ \n",
    "\n",
    "X_values2 = np.c_[x_values, x_values ** 2]"
   ]
  },
  {
   "cell_type": "code",
   "execution_count": 16,
   "id": "6be274f7-fccb-4972-9f03-a77b0a0d9ef2",
   "metadata": {},
   "outputs": [
    {
     "data": {
      "image/png": "[encoded data removed]",
      "text/plain": [
       "<Figure size 432x288 with 1 Axes>"
      ]
     },
     "metadata": {
      "needs_background": "light"
     },
     "output_type": "display_data"
    }
   ],
   "source": [
    "# Compute predictions\n",
    "y_values = linreg.predict(X_values2)\n",
    "\n",
    "# Plot predictions\n",
    "data_df.plot.scatter(\"Temperature [°F]\", \"Energy Consumption [Wh/mil]\")\n",
    "plt.plot(x_values, y_values, color=\"C3\")\n",
    "plt.show()"
   ]
  },
  {
   "cell_type": "code",
   "execution_count": 18,
   "id": "0e20655c-abb7-4472-ad6c-8be2331f50ff",
   "metadata": {},
   "outputs": [
    {
     "data": {
      "image/png": "[encoded data removed]",
      "text/plain": [
       "<Figure size 432x288 with 1 Axes>"
      ]
     },
     "metadata": {
      "needs_background": "light"
     },
     "output_type": "display_data"
    }
   ],
   "source": [
    "# improve fit by increasing degree of set of polynomial features\n",
    "\n",
    "# Create the object\n",
    "pf_obj = PolynomialFeatures(degree=3, include_bias=False)\n",
    "\n",
    "# Create the polynomial features\n",
    "X2 = pf_obj.fit_transform(x[:, np.newaxis])\n",
    "\n",
    "# Fit it\n",
    "linreg.fit(X2, y)\n",
    "\n",
    "x_values = np.linspace(min(x), max(x), num=100)\n",
    "X_values2 = pf_obj.transform(x_values[:, np.newaxis])\n",
    "\n",
    "# Compute predictions\n",
    "y_values = linreg.predict(X_values2)\n",
    "\n",
    "# Plot predictions\n",
    "data_df.plot.scatter(\"Temperature [°F]\", \"Energy Consumption [Wh/mil]\")\n",
    "plt.plot(x_values, y_values, color=\"C3\")\n",
    "plt.show()"
   ]
  },
  {
   "cell_type": "code",
   "execution_count": 19,
   "id": "3dcf8ac8-327d-4b96-8ba8-10ad5f36200b",
   "metadata": {},
   "outputs": [
    {
     "data": {
      "image/png": "[encoded data removed]",
      "text/plain": [
       "<Figure size 432x288 with 1 Axes>"
      ]
     },
     "metadata": {
      "needs_background": "light"
     },
     "output_type": "display_data"
    }
   ],
   "source": [
    "# improve fit by increasing degree of set of polynomial features\n",
    "\n",
    "# Create the object\n",
    "pf_obj = PolynomialFeatures(degree=4, include_bias=False)\n",
    "\n",
    "# Create the polynomial features\n",
    "X2 = pf_obj.fit_transform(x[:, np.newaxis])\n",
    "\n",
    "# Fit it\n",
    "linreg.fit(X2, y)\n",
    "\n",
    "x_values = np.linspace(min(x), max(x), num=100)\n",
    "X_values2 = pf_obj.transform(x_values[:, np.newaxis])\n",
    "\n",
    "# Compute predictions\n",
    "y_values = linreg.predict(X_values2)\n",
    "\n",
    "# Plot predictions\n",
    "data_df.plot.scatter(\"Temperature [°F]\", \"Energy Consumption [Wh/mil]\")\n",
    "plt.plot(x_values, y_values, color=\"C3\")\n",
    "plt.show()"
   ]
  },
  {
   "cell_type": "code",
   "execution_count": null,
   "id": "ba8c92b6-0e87-479f-82be-87ac7d11d41b",
   "metadata": {},
   "outputs": [],
   "source": []
  }
 ],
 "metadata": {
  "kernelspec": {
   "display_name": "Python [conda env:adsml] *",
   "language": "python",
   "name": "conda-env-adsml-py"
  },
  "language_info": {
   "codemirror_mode": {
    "name": "ipython",
    "version": 3
   },
   "file_extension": ".py",
   "mimetype": "text/x-python",
   "name": "python",
   "nbconvert_exporter": "python",
   "pygments_lexer": "ipython3",
   "version": "3.9.7"
  }
 },
 "nbformat": 4,
 "nbformat_minor": 5
}
