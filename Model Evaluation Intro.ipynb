{
 "cells": [
  {
   "cell_type": "code",
   "execution_count": 1,
   "id": "82957159-a8e3-43c6-828a-43ad61b60a77",
   "metadata": {},
   "outputs": [
    {
     "data": {
      "text/html": [
       "<div>\n",
       "<style scoped>\n",
       "    .dataframe tbody tr th:only-of-type {\n",
       "        vertical-align: middle;\n",
       "    }\n",
       "\n",
       "    .dataframe tbody tr th {\n",
       "        vertical-align: top;\n",
       "    }\n",
       "\n",
       "    .dataframe thead th {\n",
       "        text-align: right;\n",
       "    }\n",
       "</style>\n",
       "<table border=\"1\" class=\"dataframe\">\n",
       "  <thead>\n",
       "    <tr style=\"text-align: right;\">\n",
       "      <th></th>\n",
       "      <th>temp</th>\n",
       "      <th>users</th>\n",
       "    </tr>\n",
       "  </thead>\n",
       "  <tbody>\n",
       "    <tr>\n",
       "      <th>0</th>\n",
       "      <td>0.5400</td>\n",
       "      <td>884</td>\n",
       "    </tr>\n",
       "    <tr>\n",
       "      <th>1</th>\n",
       "      <td>0.7942</td>\n",
       "      <td>662</td>\n",
       "    </tr>\n",
       "    <tr>\n",
       "      <th>2</th>\n",
       "      <td>0.4875</td>\n",
       "      <td>830</td>\n",
       "    </tr>\n",
       "    <tr>\n",
       "      <th>3</th>\n",
       "      <td>0.4350</td>\n",
       "      <td>1192</td>\n",
       "    </tr>\n",
       "    <tr>\n",
       "      <th>4</th>\n",
       "      <td>0.4358</td>\n",
       "      <td>259</td>\n",
       "    </tr>\n",
       "  </tbody>\n",
       "</table>\n",
       "</div>"
      ],
      "text/plain": [
       "     temp  users\n",
       "0  0.5400    884\n",
       "1  0.7942    662\n",
       "2  0.4875    830\n",
       "3  0.4350   1192\n",
       "4  0.4358    259"
      ]
     },
     "execution_count": 1,
     "metadata": {},
     "output_type": "execute_result"
    }
   ],
   "source": [
    "import pandas as pd\n",
    "\n",
    "# Load the data into a Pandas DataFrame\n",
    "train_df = pd.read_csv(\"c3_train_df.csv\")\n",
    "train_df.head()"
   ]
  },
  {
   "cell_type": "code",
   "execution_count": 2,
   "id": "540e1b78-504b-42da-ae1b-f385e1e48038",
   "metadata": {},
   "outputs": [
    {
     "data": {
      "text/plain": [
       "695.2582781456954"
      ]
     },
     "execution_count": 2,
     "metadata": {},
     "output_type": "execute_result"
    }
   ],
   "source": [
    "import numpy as np\n",
    "\n",
    "# Extract the target\n",
    "y_train = train_df.users.values\n",
    "\n",
    "# Compute baseline\n",
    "pred_baseline = np.mean(y_train)  \n",
    "pred_baseline"
   ]
  },
  {
   "cell_type": "code",
   "execution_count": 3,
   "id": "470cb2c4-ef5a-4b6b-9406-793656b5397b",
   "metadata": {},
   "outputs": [
    {
     "data": {
      "text/html": [
       "<div>\n",
       "<style scoped>\n",
       "    .dataframe tbody tr th:only-of-type {\n",
       "        vertical-align: middle;\n",
       "    }\n",
       "\n",
       "    .dataframe tbody tr th {\n",
       "        vertical-align: top;\n",
       "    }\n",
       "\n",
       "    .dataframe thead th {\n",
       "        text-align: right;\n",
       "    }\n",
       "</style>\n",
       "<table border=\"1\" class=\"dataframe\">\n",
       "  <thead>\n",
       "    <tr style=\"text-align: right;\">\n",
       "      <th></th>\n",
       "      <th>temp</th>\n",
       "      <th>users</th>\n",
       "      <th>pred_lr</th>\n",
       "      <th>pred_poly3</th>\n",
       "      <th>pred_huber3</th>\n",
       "    </tr>\n",
       "  </thead>\n",
       "  <tbody>\n",
       "    <tr>\n",
       "      <th>0</th>\n",
       "      <td>0.1508</td>\n",
       "      <td>41</td>\n",
       "      <td>146</td>\n",
       "      <td>44</td>\n",
       "      <td>51</td>\n",
       "    </tr>\n",
       "    <tr>\n",
       "      <th>1</th>\n",
       "      <td>0.1609</td>\n",
       "      <td>54</td>\n",
       "      <td>161</td>\n",
       "      <td>53</td>\n",
       "      <td>52</td>\n",
       "    </tr>\n",
       "    <tr>\n",
       "      <th>2</th>\n",
       "      <td>0.1727</td>\n",
       "      <td>25</td>\n",
       "      <td>178</td>\n",
       "      <td>66</td>\n",
       "      <td>55</td>\n",
       "    </tr>\n",
       "    <tr>\n",
       "      <th>3</th>\n",
       "      <td>0.1775</td>\n",
       "      <td>75</td>\n",
       "      <td>185</td>\n",
       "      <td>72</td>\n",
       "      <td>57</td>\n",
       "    </tr>\n",
       "    <tr>\n",
       "      <th>4</th>\n",
       "      <td>0.1822</td>\n",
       "      <td>74</td>\n",
       "      <td>192</td>\n",
       "      <td>78</td>\n",
       "      <td>60</td>\n",
       "    </tr>\n",
       "  </tbody>\n",
       "</table>\n",
       "</div>"
      ],
      "text/plain": [
       "     temp  users  pred_lr  pred_poly3  pred_huber3\n",
       "0  0.1508     41      146          44           51\n",
       "1  0.1609     54      161          53           52\n",
       "2  0.1727     25      178          66           55\n",
       "3  0.1775     75      185          72           57\n",
       "4  0.1822     74      192          78           60"
      ]
     },
     "execution_count": 3,
     "metadata": {},
     "output_type": "execute_result"
    }
   ],
   "source": [
    "# see how good baseline is loading test\n",
    "\n",
    "# Load test data\n",
    "test_df = pd.read_csv(\"c3_three-models.csv\")\n",
    "test_df.head()"
   ]
  },
  {
   "cell_type": "markdown",
   "id": "e3c5dd7a-cef7-411c-aab6-ee7d79d99000",
   "metadata": {},
   "source": [
    "first model is a simple linear regression. We use the polyfit() function with degree equal to 1. Then we use the fitted model to predict the target for the second half of the data, i.e. test data. The predictions are named as pred_lr in the third column.\n",
    "\n",
    "second model, we change the degree to 3, and follow the same steps. The predictions are named as pred_poly3 in the fourth column.\n",
    "\n",
    "we still fit a polynomial of degree 3, but with the HuberRegressor and the PolynomialFeatures objects from Scikit-learn."
   ]
  },
  {
   "cell_type": "code",
   "execution_count": 4,
   "id": "de95121d-1a03-48a7-9d6c-5583d67122a0",
   "metadata": {},
   "outputs": [],
   "source": [
    "# calculate error of baseline\n",
    "\n",
    "# Mean absolute error\n",
    "def MAE(y, y_pred):\n",
    "    return np.mean(np.abs(y - y_pred))"
   ]
  },
  {
   "cell_type": "code",
   "execution_count": 5,
   "id": "6981b404-cd37-401a-8c6a-ccbc824ffcef",
   "metadata": {},
   "outputs": [
    {
     "data": {
      "text/plain": [
       "316.3029253102934"
      ]
     },
     "execution_count": 5,
     "metadata": {},
     "output_type": "execute_result"
    }
   ],
   "source": [
    "# Extract the target\n",
    "y_test = test_df.users.values\n",
    "\n",
    "# compare the baseline with the target from the test data\n",
    "mae_baseline = MAE(y_test, pred_baseline)\n",
    "mae_baseline "
   ]
  },
  {
   "cell_type": "code",
   "execution_count": 8,
   "id": "236a7b64-aa2d-4ef4-9401-7a02a36a7a5a",
   "metadata": {},
   "outputs": [
    {
     "name": "stdout",
     "output_type": "stream",
     "text": [
      "151 151\n"
     ]
    }
   ],
   "source": [
    "# Vector with predictions from the baseline\n",
    "pred_baseline = np.full_like(y_test, fill_value=np.mean(y_train), dtype=float)\n",
    "print(len(pred_baseline), len(y_test))"
   ]
  },
  {
   "cell_type": "code",
   "execution_count": 9,
   "id": "09508c6d-379f-4e16-9f04-8b2436041caa",
   "metadata": {},
   "outputs": [],
   "source": [
    "# use dummy regressor to calc baselines\n",
    "\n",
    "from sklearn.dummy import DummyRegressor\n",
    "\n",
    "# create dummy regressor object\n",
    "dummy = DummyRegressor(strategy=\"mean\")"
   ]
  },
  {
   "cell_type": "code",
   "execution_count": 10,
   "id": "7b16a44c-e401-4114-9998-a9d43d51f55a",
   "metadata": {},
   "outputs": [
    {
     "data": {
      "text/plain": [
       "DummyRegressor()"
      ]
     },
     "execution_count": 10,
     "metadata": {},
     "output_type": "execute_result"
    }
   ],
   "source": [
    "# Extract the features\n",
    "x_train = train_df.temp.values\n",
    "\n",
    "# Fit the estimator\n",
    "dummy.fit(x_train[:, np.newaxis], y_train)"
   ]
  },
  {
   "cell_type": "code",
   "execution_count": 11,
   "id": "ce32ebfb-a336-4846-b841-1a20f2b881e7",
   "metadata": {},
   "outputs": [
    {
     "data": {
      "text/plain": [
       "316.3029253102934"
      ]
     },
     "execution_count": 11,
     "metadata": {},
     "output_type": "execute_result"
    }
   ],
   "source": [
    "# Extract the features\n",
    "x_test = test_df.temp.values\n",
    "\n",
    "# Vector with predictions from the baseline\n",
    "pred_baseline = dummy.predict(x_test[:, np.newaxis])\n",
    "\n",
    "# compare the baseline with the target from the test data\n",
    "mae_baseline = MAE(y_test, pred_baseline)\n",
    "mae_baseline "
   ]
  },
  {
   "cell_type": "code",
   "execution_count": 15,
   "id": "4317f777-a7a1-40e8-a132-a4903702005f",
   "metadata": {},
   "outputs": [
    {
     "data": {
      "image/png": "[encoded data removed]",
      "text/plain": [
       "<Figure size 432x288 with 1 Axes>"
      ]
     },
     "metadata": {
      "needs_background": "light"
     },
     "output_type": "display_data"
    }
   ],
   "source": [
    "# visualize the test data and predictions\n",
    "\n",
    "import matplotlib.pyplot as plt\n",
    "%matplotlib inline\n",
    "\n",
    "# extract variables\n",
    "x_test = test_df.temp.values\n",
    "\n",
    "# plot models\n",
    "plt.scatter(x_test, y_test, s=10)\n",
    "plt.plot(x_test, test_df.pred_lr, c=\"C0\", label='linear regression')\n",
    "plt.plot(x_test, test_df.pred_poly3, c=\"C2\", label=\"polyfit(deg=3)\")\n",
    "plt.plot(x_test, test_df.pred_huber3, c=\"C3\", label=\"polyfit(deg=3) with Huber loss\")\n",
    "\n",
    "plt.title('predictions from three models vs test data')\n",
    "plt.xlabel('temperature')\n",
    "plt.ylabel('number of users')\n",
    "plt.legend(loc='upper left')\n",
    "plt.show()"
   ]
  },
  {
   "cell_type": "code",
   "execution_count": 17,
   "id": "fa6610a1-f707-4375-a39f-443009421297",
   "metadata": {},
   "outputs": [
    {
     "name": "stdout",
     "output_type": "stream",
     "text": [
      "baseline: 371.6823731957837\n",
      "linear regression: 232.53050786099598\n",
      "polyfit(deg=3): 210.55145192395318\n",
      "polyfit(deg=3) with huber loss: 215.66518077491205\n"
     ]
    }
   ],
   "source": [
    "# root mean square error (ie independent of number of data points as its an average)\n",
    "def RMSE(y, y_pred):\n",
    "    mse = np.mean(np.square(y-y_pred)) # MSE\n",
    "    return np.sqrt(mse) # RMSE\n",
    "\n",
    "\n",
    "rmse_baseline = RMSE(y_test, pred_baseline)\n",
    "rmse_lr     = RMSE(y_test, test_df.pred_lr)\n",
    "rmse_poly3  = RMSE(y_test, test_df.pred_poly3)\n",
    "rmse_huber3 = RMSE(y_test, test_df.pred_huber3)\n",
    "\n",
    "# Print values\n",
    "print(\"baseline:\", rmse_baseline)\n",
    "print(\"linear regression:\", rmse_lr)\n",
    "print(\"polyfit(deg=3):\", rmse_poly3)\n",
    "print(\"polyfit(deg=3) with huber loss:\", rmse_huber3)"
   ]
  },
  {
   "cell_type": "code",
   "execution_count": 18,
   "id": "936da550-bd5c-4822-8ebd-f7f65c23ad96",
   "metadata": {},
   "outputs": [
    {
     "name": "stdout",
     "output_type": "stream",
     "text": [
      "baseline: 316.3029253102934\n",
      "linear regression: 186.58278145695365\n",
      "polyfit(deg=3): 161.71523178807948\n",
      "polyfit(deg=3) with huber loss: 164.75496688741723\n"
     ]
    }
   ],
   "source": [
    "# compare results to the mean absolute error MAE\n",
    "\n",
    "mae_baseline = MAE(y_test, pred_baseline)\n",
    "mae_lr     = MAE(y_test, test_df.pred_lr)\n",
    "mae_poly3  = MAE(y_test, test_df.pred_poly3)\n",
    "mae_huber3 = MAE(y_test, test_df.pred_huber3)\n",
    "\n",
    "# Print values\n",
    "print(\"baseline:\", mae_baseline)\n",
    "print(\"linear regression:\", mae_lr)\n",
    "print(\"polyfit(deg=3):\", mae_poly3)\n",
    "print(\"polyfit(deg=3) with huber loss:\", mae_huber3)"
   ]
  },
  {
   "cell_type": "code",
   "execution_count": 19,
   "id": "b78b473c-3ede-4ffb-9f46-b02152653f9c",
   "metadata": {},
   "outputs": [
    {
     "data": {
      "image/png": "[encoded data removed]",
      "text/plain": [
       "<Figure size 432x288 with 1 Axes>"
      ]
     },
     "metadata": {
      "needs_background": "light"
     },
     "output_type": "display_data"
    }
   ],
   "source": [
    "# bar chart to show comparison\n",
    "\n",
    "# Bar chart\n",
    "plt.bar([1, 2, 3, 4], [rmse_baseline, rmse_lr, rmse_poly3, rmse_huber3])\n",
    "plt.xticks([1, 2, 3, 4], [\"baseline (mean)\", \"linreg\", \"poly3\", \"huber3\"])\n",
    "plt.title('comparing predictions errors (RMSE)')\n",
    "plt.xlabel('models')\n",
    "plt.ylabel('RMSE')\n",
    "plt.show()"
   ]
  },
  {
   "cell_type": "code",
   "execution_count": null,
   "id": "0aa622de-1e89-48ca-a5a0-400f607f5157",
   "metadata": {},
   "outputs": [],
   "source": []
  }
 ],
 "metadata": {
  "kernelspec": {
   "display_name": "Python [conda env:adsml] *",
   "language": "python",
   "name": "conda-env-adsml-py"
  },
  "language_info": {
   "codemirror_mode": {
    "name": "ipython",
    "version": 3
   },
   "file_extension": ".py",
   "mimetype": "text/x-python",
   "name": "python",
   "nbconvert_exporter": "python",
   "pygments_lexer": "ipython3",
   "version": "3.9.7"
  }
 },
 "nbformat": 4,
 "nbformat_minor": 5
}
