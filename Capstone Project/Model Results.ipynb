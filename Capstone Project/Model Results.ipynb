{
 "cells": [
  {
   "cell_type": "markdown",
   "id": "0fc7167b-f5f6-4feb-b1db-aaa9fa880bcc",
   "metadata": {},
   "source": [
    "*Compare model performances*"
   ]
  },
  {
   "cell_type": "code",
   "execution_count": 1,
   "id": "3565c012-f612-424c-a9a0-9e9d36827fc8",
   "metadata": {},
   "outputs": [
    {
     "data": {
      "text/html": [
       "<div>\n",
       "<style scoped>\n",
       "    .dataframe tbody tr th:only-of-type {\n",
       "        vertical-align: middle;\n",
       "    }\n",
       "\n",
       "    .dataframe tbody tr th {\n",
       "        vertical-align: top;\n",
       "    }\n",
       "\n",
       "    .dataframe thead th {\n",
       "        text-align: right;\n",
       "    }\n",
       "</style>\n",
       "<table border=\"1\" class=\"dataframe\">\n",
       "  <thead>\n",
       "    <tr style=\"text-align: right;\">\n",
       "      <th></th>\n",
       "      <th>mean_baseline</th>\n",
       "      <th>lr</th>\n",
       "      <th>lr_pca</th>\n",
       "      <th>ridge</th>\n",
       "      <th>ridge_pca</th>\n",
       "      <th>dt</th>\n",
       "      <th>dt_pca</th>\n",
       "      <th>rf</th>\n",
       "      <th>rf_pca</th>\n",
       "    </tr>\n",
       "  </thead>\n",
       "  <tbody>\n",
       "    <tr>\n",
       "      <th>mae</th>\n",
       "      <td>2.324125</td>\n",
       "      <td>2.216105</td>\n",
       "      <td>2.222629</td>\n",
       "      <td>2.200146</td>\n",
       "      <td>2.226867</td>\n",
       "      <td>1.915805</td>\n",
       "      <td>1.903988</td>\n",
       "      <td>2.319647</td>\n",
       "      <td>2.310753</td>\n",
       "    </tr>\n",
       "    <tr>\n",
       "      <th>r2</th>\n",
       "      <td>0.000000</td>\n",
       "      <td>0.078383</td>\n",
       "      <td>0.082675</td>\n",
       "      <td>0.094873</td>\n",
       "      <td>0.083737</td>\n",
       "      <td>-0.081724</td>\n",
       "      <td>-0.132138</td>\n",
       "      <td>0.057318</td>\n",
       "      <td>0.039874</td>\n",
       "    </tr>\n",
       "  </tbody>\n",
       "</table>\n",
       "</div>"
      ],
      "text/plain": [
       "     mean_baseline        lr    lr_pca     ridge  ridge_pca        dt  \\\n",
       "mae       2.324125  2.216105  2.222629  2.200146   2.226867  1.915805   \n",
       "r2        0.000000  0.078383  0.082675  0.094873   0.083737 -0.081724   \n",
       "\n",
       "       dt_pca        rf    rf_pca  \n",
       "mae  1.903988  2.319647  2.310753  \n",
       "r2  -0.132138  0.057318  0.039874  "
      ]
     },
     "execution_count": 1,
     "metadata": {},
     "output_type": "execute_result"
    }
   ],
   "source": [
    "import pandas as pd\n",
    "\n",
    "df_perf = pd.read_csv(\"model_performance.csv\", index_col=0)\n",
    "\n",
    "df_perf"
   ]
  },
  {
   "cell_type": "code",
   "execution_count": null,
   "id": "1c3e4642-c045-44b7-8b48-cc154c9e9e9d",
   "metadata": {},
   "outputs": [],
   "source": [
    "%matplotlib inline\n",
    "import matplotlib.pyplot as plt\n",
    "\n",
    "fig, ax = plt.subplots(figsize = (10, 5))\n",
    "\n",
    "plt.title('Model performance MAE comparison with R Squared scores')\n",
    " \n",
    "ax2 = ax.twinx()\n",
    "\n",
    "ax.bar(df_perf.columns, df_perf.loc['mae'].values)\n",
    "ax2.scatter(df_perf.columns, df_perf.loc['r2'].values, marker='x', c='red')\n",
    "\n",
    "ax.set_ylim([1.8, 2.5])\n",
    "\n",
    "ax.set_xlabel('Model')\n",
    "ax.set_ylabel('MAE', color = 'b')\n",
    "ax2.set_ylabel('r2', color = 'red')\n",
    "\n",
    "plt.tight_layout()"
   ]
  },
  {
   "cell_type": "markdown",
   "id": "09ebb622-5d78-4356-9164-bf64f68db9aa",
   "metadata": {},
   "source": [
    "Ridge regression with a high amount of regularization provides overall best results. Decision tree performs significantly better as we will see in predictions it is simply that the model predicts 2 poinst 80-90% of the time which is the default value a player scores by playing >60 mins."
   ]
  },
  {
   "cell_type": "code",
   "execution_count": null,
   "id": "2fadac57-bc5e-4b61-96d1-9f94f8f62172",
   "metadata": {},
   "outputs": [],
   "source": [
    "df_perf_def = pd.read_csv(\"def_model_performance.csv\", index_col=0)\n",
    "\n",
    "df_perf_def"
   ]
  },
  {
   "cell_type": "code",
   "execution_count": null,
   "id": "8cc8733a-713e-42b7-8655-74c75037f656",
   "metadata": {},
   "outputs": [],
   "source": [
    "fig, ax = plt.subplots(figsize = (10, 6))\n",
    "\n",
    "plt.title('Model performance MAE comparison with R Squared scores for Defenders')\n",
    " \n",
    "ax2 = ax.twinx()\n",
    "\n",
    "ax.bar(df_perf_def.columns, df_perf_def.loc['mae'].values)\n",
    "ax2.scatter(df_perf_def.columns, df_perf_def.loc['r2'].values, marker='x', c='red')\n",
    "\n",
    "ax.set_ylim([2, 2.7])\n",
    "\n",
    "ax.set_xlabel('Model')\n",
    "ax.set_ylabel('MAE', color = 'b')\n",
    "ax2.set_ylabel('r2', color = 'red')\n",
    "\n",
    "ax.tick_params(axis='x', labelrotation = 60)\n",
    "\n",
    "plt.show()"
   ]
  },
  {
   "cell_type": "code",
   "execution_count": null,
   "id": "d23ff174-ac27-4621-b1e0-99290d290577",
   "metadata": {},
   "outputs": [],
   "source": [
    "df_perf_mid = pd.read_csv(\"mid_model_performance.csv\", index_col=0)\n",
    "\n",
    "df_perf_mid"
   ]
  },
  {
   "cell_type": "code",
   "execution_count": null,
   "id": "fe128653-81f2-453b-ba52-f2b2f69e9fba",
   "metadata": {},
   "outputs": [],
   "source": [
    "fig, ax = plt.subplots(figsize = (10, 6))\n",
    "\n",
    "plt.title('Model performance MAE comparison with R Squared scores for Midfielders')\n",
    " \n",
    "ax2 = ax.twinx()\n",
    "\n",
    "ax.bar(df_perf_mid.columns, df_perf_mid.loc['mae'].values)\n",
    "ax2.scatter(df_perf_mid.columns, df_perf_mid.loc['r2'].values, marker='x', c='red')\n",
    "\n",
    "ax.set_ylim([1.5, 2.3])\n",
    "\n",
    "ax.set_xlabel('Model')\n",
    "ax.set_ylabel('MAE', color = 'b')\n",
    "ax2.set_ylabel('r2', color = 'red')\n",
    "\n",
    "ax.tick_params(axis='x', labelrotation = 60)\n",
    "\n",
    "plt.show()"
   ]
  },
  {
   "cell_type": "code",
   "execution_count": null,
   "id": "23eab4eb-88c0-42fc-ae30-1c0f12eb6924",
   "metadata": {},
   "outputs": [],
   "source": [
    "df_perf_fwd = pd.read_csv(\"fwd_model_performance.csv\", index_col=0)\n",
    "\n",
    "df_perf_fwd"
   ]
  },
  {
   "cell_type": "code",
   "execution_count": null,
   "id": "c423e6de-8eb4-443c-9cc9-9f2e1910dd81",
   "metadata": {},
   "outputs": [],
   "source": [
    "fig, ax = plt.subplots(figsize = (10, 6))\n",
    "\n",
    "plt.title('Model performance MAE comparison with R Squared scores for Forwards')\n",
    " \n",
    "ax2 = ax.twinx()\n",
    "\n",
    "ax.bar(df_perf_fwd.columns, df_perf_fwd.loc['mae'].values)\n",
    "ax2.scatter(df_perf_fwd.columns, df_perf_fwd.loc['r2'].values, marker='x', c='red')\n",
    "\n",
    "ax.set_ylim([2, 2.7])\n",
    "\n",
    "ax.set_xlabel('Model')\n",
    "ax.set_ylabel('MAE', color = 'b')\n",
    "ax2.set_ylabel('r2', color = 'red')\n",
    "\n",
    "ax.tick_params(axis='x', labelrotation = 60)\n",
    "\n",
    "plt.show()"
   ]
  },
  {
   "cell_type": "markdown",
   "id": "3cf81c64-ea74-457f-b10d-52c90578f8e4",
   "metadata": {},
   "source": [
    "*Review predictions*"
   ]
  },
  {
   "cell_type": "code",
   "execution_count": null,
   "id": "47b8c2f2-2641-4672-b0b1-966ef4ea503f",
   "metadata": {},
   "outputs": [],
   "source": [
    "df_pred = pd.read_csv(\"model_predictions.csv\")\n",
    "df_pred.head()"
   ]
  },
  {
   "cell_type": "code",
   "execution_count": null,
   "id": "e2373bac-ea74-4bfb-9104-af54b29dca1b",
   "metadata": {},
   "outputs": [],
   "source": [
    "df_te = pd.read_csv(\"players_complete_processed.csv\")\n",
    "# update round dtype\n",
    "df_te['round'] = df_te['round'].astype(object)\n",
    "df_te = df_te[df_te['round'].isin([34, 35, 36, 37, 38])]"
   ]
  },
  {
   "cell_type": "code",
   "execution_count": null,
   "id": "9c536b11-510b-4f69-9f43-00d5ae124043",
   "metadata": {},
   "outputs": [],
   "source": [
    "df_pred['player'] = df_te['player_name_id_x'].values\n",
    "df_pred['opponent_team'] = df_te['opponent_team'].values\n",
    "df_pred['actual_points'] = df_te['total_points'].values"
   ]
  },
  {
   "cell_type": "code",
   "execution_count": null,
   "id": "bdfb3ea2-274f-4c61-8f02-c8e0422c717e",
   "metadata": {},
   "outputs": [],
   "source": [
    "df_pred"
   ]
  },
  {
   "cell_type": "code",
   "execution_count": null,
   "id": "25c0bf17-7a7c-44bc-a0d5-5412aaabb707",
   "metadata": {},
   "outputs": [],
   "source": []
  },
  {
   "cell_type": "code",
   "execution_count": null,
   "id": "4f80cb0d-986d-4699-886f-443668d49177",
   "metadata": {},
   "outputs": [],
   "source": [
    "df_pred[df_pred['player']=='Mohamed_Salah_233']"
   ]
  },
  {
   "cell_type": "code",
   "execution_count": null,
   "id": "f50413a6-4cbe-4b6c-8c5b-093dda993f9f",
   "metadata": {},
   "outputs": [],
   "source": [
    "df_pred[df_pred['player']=='Harry_Kane_357']"
   ]
  },
  {
   "cell_type": "code",
   "execution_count": null,
   "id": "d3d4cc8c-47f1-4a59-9831-88dbaa79a4c3",
   "metadata": {},
   "outputs": [],
   "source": [
    "df_pred[df_pred['player']=='Michail_Antonio_413']"
   ]
  },
  {
   "cell_type": "code",
   "execution_count": null,
   "id": "1929b634-f3a6-4600-b95f-1a7981acf131",
   "metadata": {},
   "outputs": [],
   "source": [
    "df_pred[df_pred['player']=='Bukayo_Saka_22']"
   ]
  },
  {
   "cell_type": "code",
   "execution_count": null,
   "id": "18d6215a-8df8-4799-9958-9e9b651f4b42",
   "metadata": {},
   "outputs": [],
   "source": [
    "df_pred[df_pred['player']=='Miguel_Almirón_308']"
   ]
  }
 ],
 "metadata": {
  "kernelspec": {
   "display_name": "Python [conda env:adsml] *",
   "language": "python",
   "name": "conda-env-adsml-py"
  },
  "language_info": {
   "codemirror_mode": {
    "name": "ipython",
    "version": 3
   },
   "file_extension": ".py",
   "mimetype": "text/x-python",
   "name": "python",
   "nbconvert_exporter": "python",
   "pygments_lexer": "ipython3",
   "version": "3.9.7"
  }
 },
 "nbformat": 4,
 "nbformat_minor": 5
}
