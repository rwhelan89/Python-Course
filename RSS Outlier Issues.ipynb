{
 "cells": [
  {
   "cell_type": "code",
   "execution_count": 4,
   "id": "06b12283-ebef-4b48-8ed4-35f2b662076f",
   "metadata": {},
   "outputs": [
    {
     "data": {
      "text/plain": [
       "(55, 4)"
      ]
     },
     "execution_count": 4,
     "metadata": {},
     "output_type": "execute_result"
    }
   ],
   "source": [
    "import pandas as pd\n",
    "\n",
    "data_df = pd.read_csv(\"c3_marketing-outliers.csv\")\n",
    "data_df.shape"
   ]
  },
  {
   "cell_type": "code",
   "execution_count": 5,
   "id": "bb35cca6-c1e1-479f-92f0-57ff19bca99a",
   "metadata": {},
   "outputs": [
    {
     "data": {
      "text/html": [
       "<div>\n",
       "<style scoped>\n",
       "    .dataframe tbody tr th:only-of-type {\n",
       "        vertical-align: middle;\n",
       "    }\n",
       "\n",
       "    .dataframe tbody tr th {\n",
       "        vertical-align: top;\n",
       "    }\n",
       "\n",
       "    .dataframe thead th {\n",
       "        text-align: right;\n",
       "    }\n",
       "</style>\n",
       "<table border=\"1\" class=\"dataframe\">\n",
       "  <thead>\n",
       "    <tr style=\"text-align: right;\">\n",
       "      <th></th>\n",
       "      <th>tv</th>\n",
       "      <th>web</th>\n",
       "      <th>radio</th>\n",
       "      <th>sales</th>\n",
       "    </tr>\n",
       "  </thead>\n",
       "  <tbody>\n",
       "    <tr>\n",
       "      <th>50</th>\n",
       "      <td>2.293</td>\n",
       "      <td>2.314</td>\n",
       "      <td>1.167</td>\n",
       "      <td>8.937</td>\n",
       "    </tr>\n",
       "    <tr>\n",
       "      <th>51</th>\n",
       "      <td>2.891</td>\n",
       "      <td>1.895</td>\n",
       "      <td>1.365</td>\n",
       "      <td>8.132</td>\n",
       "    </tr>\n",
       "    <tr>\n",
       "      <th>52</th>\n",
       "      <td>1.305</td>\n",
       "      <td>1.940</td>\n",
       "      <td>1.454</td>\n",
       "      <td>8.892</td>\n",
       "    </tr>\n",
       "    <tr>\n",
       "      <th>53</th>\n",
       "      <td>11.022</td>\n",
       "      <td>1.855</td>\n",
       "      <td>1.282</td>\n",
       "      <td>1.389</td>\n",
       "    </tr>\n",
       "    <tr>\n",
       "      <th>54</th>\n",
       "      <td>11.786</td>\n",
       "      <td>2.066</td>\n",
       "      <td>1.466</td>\n",
       "      <td>1.623</td>\n",
       "    </tr>\n",
       "  </tbody>\n",
       "</table>\n",
       "</div>"
      ],
      "text/plain": [
       "        tv    web  radio  sales\n",
       "50   2.293  2.314  1.167  8.937\n",
       "51   2.891  1.895  1.365  8.132\n",
       "52   1.305  1.940  1.454  8.892\n",
       "53  11.022  1.855  1.282  1.389\n",
       "54  11.786  2.066  1.466  1.623"
      ]
     },
     "execution_count": 5,
     "metadata": {},
     "output_type": "execute_result"
    }
   ],
   "source": [
    "data_df.tail()"
   ]
  },
  {
   "cell_type": "code",
   "execution_count": 6,
   "id": "f66cc2ce-ca7d-4e0d-892d-917c8bf8c5f9",
   "metadata": {},
   "outputs": [
    {
     "data": {
      "image/png": "[encoded data removed]",
      "text/plain": [
       "<Figure size 432x288 with 1 Axes>"
      ]
     },
     "metadata": {
      "needs_background": "light"
     },
     "output_type": "display_data"
    }
   ],
   "source": [
    "%matplotlib inline\n",
    "import matplotlib.pyplot as plt\n",
    "\n",
    "# Extract tv and sales\n",
    "x = data_df.tv.values\n",
    "y = data_df.sales.values\n",
    "\n",
    "# Plot the data points\n",
    "plt.scatter(x[:-5], y[:-5], label=\"normal\")\n",
    "plt.scatter(x[-5:], y[-5:], c=\"C3\", label=\"spurious\")\n",
    "plt.legend()\n",
    "plt.show()"
   ]
  },
  {
   "cell_type": "code",
   "execution_count": 12,
   "id": "b509bfaa-b701-430c-8b35-8dd012bdcec7",
   "metadata": {},
   "outputs": [
    {
     "name": "stdout",
     "output_type": "stream",
     "text": [
      "coefs: [0.20613307 2.76540858]\n"
     ]
    }
   ],
   "source": [
    "# test to see impact of added outliers\n",
    "\n",
    "import numpy as np\n",
    "\n",
    "# fit linear regression\n",
    "coefs = np.polyfit(x, y, deg=1)\n",
    "print(\"coefs:\", coefs)"
   ]
  },
  {
   "cell_type": "code",
   "execution_count": 13,
   "id": "0161b5d5-7fea-4de6-9e14-2f23b9495b17",
   "metadata": {},
   "outputs": [
    {
     "name": "stdout",
     "output_type": "stream",
     "text": [
      "coefs without outliers: [0.42063597 1.27867727]\n"
     ]
    }
   ],
   "source": [
    "# fit without outliers\n",
    "\n",
    "coefs_wo = np.polyfit(x[:-5], y[:-5], deg=1)\n",
    "print(\"coefs without outliers:\", coefs_wo)"
   ]
  },
  {
   "cell_type": "code",
   "execution_count": 14,
   "id": "b3710f02-c482-4867-865a-2cf6af3fd906",
   "metadata": {},
   "outputs": [
    {
     "data": {
      "image/png": "[encoded data removed]",
      "text/plain": [
       "<Figure size 432x288 with 1 Axes>"
      ]
     },
     "metadata": {
      "needs_background": "light"
     },
     "output_type": "display_data"
    }
   ],
   "source": [
    "# Compute prediction line\n",
    "x_values = np.linspace(min(x), max(x), num=100)\n",
    "y_values = np.polyval(coefs, x_values)\n",
    "y_values_wo = np.polyval(coefs_wo, x_values)\n",
    "\n",
    "# Plot them\n",
    "plt.scatter(x[:-5], y[:-5])\n",
    "plt.scatter(x[-5:], y[-5:], c=\"C3\")\n",
    "plt.plot(x_values, y_values, c=\"C3\", label=\"lr with outliers\")\n",
    "plt.plot(x_values, y_values_wo, c=\"C2\", label=\"lr without outliers\")\n",
    "plt.xlabel(\"tv budget in 1000$\")\n",
    "plt.ylabel(\"sales in thousands\")\n",
    "plt.legend()\n",
    "plt.show()"
   ]
  },
  {
   "cell_type": "markdown",
   "id": "fb83a908-4ebd-4eb9-8670-bcf9b83795e4",
   "metadata": {},
   "source": [
    "the red line doesn’t fit well the trend in the data points in blue. This is because the polyfit() function minimizes the RSS measure which puts too much weight on large errors. In fact, by squaring the residuals, it amplifies the error for points  far away from the predictions"
   ]
  },
  {
   "cell_type": "code",
   "execution_count": 16,
   "id": "cb9af5f8-e735-42aa-afd2-20ae007532df",
   "metadata": {},
   "outputs": [
    {
     "name": "stdout",
     "output_type": "stream",
     "text": [
      "RSS normal points: 39.533764623373465\n",
      "RSS outliers: 115.6176164792112\n"
     ]
    }
   ],
   "source": [
    "# prove issue with RSS scores\n",
    "\n",
    "# compute predictions for all data points\n",
    "y_pred = np.polyval(coefs, x)\n",
    "\n",
    "# compute squares of residuals\n",
    "squares_residuals = np.square(y - y_pred)\n",
    "\n",
    "print(\"RSS normal points:\", np.sum(squares_residuals[:-5]))\n",
    "print(\"RSS outliers:\", np.sum(squares_residuals[-5:])) "
   ]
  },
  {
   "cell_type": "code",
   "execution_count": 17,
   "id": "42ed70ec-b443-48ad-9af9-72506e00b1da",
   "metadata": {},
   "outputs": [],
   "source": [
    "# select outliers based on visual \n",
    "\n",
    "idx = ((x < 4) & (y > 6)) | ((x > 10) & (y < 2))"
   ]
  },
  {
   "cell_type": "code",
   "execution_count": 19,
   "id": "5d422a11-159d-41c0-80c0-c4eff185a707",
   "metadata": {},
   "outputs": [
    {
     "data": {
      "text/plain": [
       "array([False, False, False, False, False, False, False, False, False,\n",
       "       False, False, False, False, False, False, False, False, False,\n",
       "       False, False, False, False, False, False, False, False, False,\n",
       "       False, False, False, False, False, False, False, False, False,\n",
       "       False, False, False, False, False, False, False, False, False,\n",
       "       False, False, False, False, False,  True,  True,  True,  True,\n",
       "        True])"
      ]
     },
     "execution_count": 19,
     "metadata": {},
     "output_type": "execute_result"
    }
   ],
   "source": [
    "# can also be written in np logical format\n",
    "\n",
    "np.logical_or(np.logical_and(x < 4, y > 6),\n",
    "              np.logical_and(x > 10, y <2 ))"
   ]
  },
  {
   "cell_type": "code",
   "execution_count": 21,
   "id": "67512647-41f7-44cd-ade9-699aee2abc19",
   "metadata": {},
   "outputs": [
    {
     "name": "stdout",
     "output_type": "stream",
     "text": [
      "x1/y1: (50,) (50,)\n",
      "x2/y2: (5,) (5,)\n"
     ]
    }
   ],
   "source": [
    "# extract normal points\n",
    "x1, y1 = x[~idx], y[~idx]\n",
    "print(\"x1/y1:\", x1.shape, y1.shape)\n",
    "\n",
    "# extract outliers\n",
    "x2, y2 = x[idx], y[idx]\n",
    "print(\"x2/y2:\", x2.shape, y2.shape)"
   ]
  },
  {
   "cell_type": "code",
   "execution_count": 22,
   "id": "95aed5b8-ce8f-4bad-93fd-97270a1c33ca",
   "metadata": {},
   "outputs": [
    {
     "name": "stdout",
     "output_type": "stream",
     "text": [
      "z-scores: (55,)\n"
     ]
    }
   ],
   "source": [
    "# compute z score for y values\n",
    "z_scores = (y - y.mean()) / y.std()\n",
    "\n",
    "print(\"z-scores:\", z_scores.shape)"
   ]
  },
  {
   "cell_type": "code",
   "execution_count": 23,
   "id": "a0fe3099-93ae-4170-afc8-90a512b1599f",
   "metadata": {},
   "outputs": [
    {
     "data": {
      "image/png": "[encoded data removed]",
      "text/plain": [
       "<Figure size 432x288 with 2 Axes>"
      ]
     },
     "metadata": {
      "needs_background": "light"
     },
     "output_type": "display_data"
    }
   ],
   "source": [
    "# Plot z-scores\n",
    "plt.scatter(x, y, c=z_scores, cmap=\"coolwarm\")\n",
    "plt.xlabel(\"tv budget in 1000$\")\n",
    "plt.ylabel(\"sales in thousands\")\n",
    "plt.colorbar()\n",
    "plt.show()"
   ]
  },
  {
   "cell_type": "code",
   "execution_count": 24,
   "id": "026c1e72-f711-4d6d-8690-2101c4e9cc4e",
   "metadata": {},
   "outputs": [
    {
     "data": {
      "image/png": "[encoded data removed]",
      "text/plain": [
       "<Figure size 432x288 with 2 Axes>"
      ]
     },
     "metadata": {},
     "output_type": "display_data"
    }
   ],
   "source": [
    "import seaborn as sns\n",
    "\n",
    "# Activate Seaborn style\n",
    "sns.set_style(\"darkgrid\")\n",
    "\n",
    "# Plot z-scores\n",
    "plt.scatter(x, y, c=z_scores, cmap=\"turbo\")\n",
    "plt.colorbar()\n",
    "plt.show()"
   ]
  },
  {
   "cell_type": "code",
   "execution_count": 25,
   "id": "ab657878-d0f5-4a8d-9e06-d38f0735e19a",
   "metadata": {},
   "outputs": [
    {
     "data": {
      "text/plain": [
       "array([False, False, False, False, False, False, False, False, False,\n",
       "       False, False, False, False, False, False, False, False, False,\n",
       "       False, False, False, False, False, False, False, False, False,\n",
       "       False, False, False, False, False, False, False, False, False,\n",
       "       False, False, False, False, False, False, False, False, False,\n",
       "       False, False, False, False, False,  True,  True,  True, False,\n",
       "       False])"
      ]
     },
     "execution_count": 25,
     "metadata": {},
     "output_type": "execute_result"
    }
   ],
   "source": [
    "# select outliers now using z score > 2 ie 3 data points in top left of graph\n",
    "idx = np.abs(z_scores) > 2\n",
    "idx"
   ]
  },
  {
   "cell_type": "code",
   "execution_count": 27,
   "id": "b4d4c1d5-92a5-4692-b30b-0cc6cdf03714",
   "metadata": {},
   "outputs": [
    {
     "data": {
      "image/png": "[encoded data removed]",
      "text/plain": [
       "<Figure size 432x288 with 1 Axes>"
      ]
     },
     "metadata": {},
     "output_type": "display_data"
    }
   ],
   "source": [
    "# plot without z score outliers removed\n",
    "\n",
    "# Fit linear regression\n",
    "coefs_z = np.polyfit(x[~idx], y[~idx], deg=1)\n",
    "\n",
    "# Prediction line\n",
    "y_values_zscore = np.polyval(coefs_z, x_values)\n",
    "\n",
    "# Final comparison\n",
    "plt.scatter(x[~idx], y[~idx])\n",
    "plt.scatter(x[idx], y[idx], c=\"C3\")\n",
    "plt.plot(x_values, y_values_wo, c=\"C2\", label=\"manual threshold\")\n",
    "plt.plot(x_values, y_values_zscore, c=\"C3\", label=\"lr without outliers\")\n",
    "plt.xlabel(\"tv budget in 1000$\")\n",
    "plt.ylabel(\"sales in thousands\")\n",
    "plt.legend()\n",
    "plt.show()"
   ]
  },
  {
   "cell_type": "code",
   "execution_count": null,
   "id": "c2df28d8-f9f7-42e0-8b55-24a66ad50f54",
   "metadata": {},
   "outputs": [],
   "source": []
  }
 ],
 "metadata": {
  "kernelspec": {
   "display_name": "Python [conda env:adsml] *",
   "language": "python",
   "name": "conda-env-adsml-py"
  },
  "language_info": {
   "codemirror_mode": {
    "name": "ipython",
    "version": 3
   },
   "file_extension": ".py",
   "mimetype": "text/x-python",
   "name": "python",
   "nbconvert_exporter": "python",
   "pygments_lexer": "ipython3",
   "version": "3.9.7"
  }
 },
 "nbformat": 4,
 "nbformat_minor": 5
}
