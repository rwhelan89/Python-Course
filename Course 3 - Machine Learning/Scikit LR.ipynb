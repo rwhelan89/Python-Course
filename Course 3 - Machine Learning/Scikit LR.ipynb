{
 "cells": [
  {
   "cell_type": "code",
   "execution_count": 2,
   "id": "644d119a-15ca-4b4e-862d-e1bdc0bf3cbc",
   "metadata": {},
   "outputs": [],
   "source": [
    "import pandas as pd\n",
    "import numpy as np\n",
    "\n",
    "data_df = pd.read_csv(\"c3_marketing-campaign.csv\")\n",
    "X = data_df.drop(\"sales\", axis=1).values\n",
    "y = data_df.sales.values"
   ]
  },
  {
   "cell_type": "code",
   "execution_count": 4,
   "id": "740a2822-58e4-4855-84d4-27c555c4cf3d",
   "metadata": {},
   "outputs": [
    {
     "name": "stdout",
     "output_type": "stream",
     "text": [
      "Coefficients: [0.39465146 0.47037002 0.30669954]\n",
      "Intercept: 0.024870917888196953\n"
     ]
    }
   ],
   "source": [
    "from sklearn.linear_model import LinearRegression\n",
    "\n",
    "# create linear regression object\n",
    "lr = LinearRegression()\n",
    "\n",
    "# fit model\n",
    "lr.fit(X, y)\n",
    "\n",
    "# print coefficients\n",
    "print(\"Coefficients:\", lr.coef_)\n",
    "print(\"Intercept:\", lr.intercept_)"
   ]
  },
  {
   "cell_type": "code",
   "execution_count": 5,
   "id": "cad96d8f-af92-4627-a22a-2c35b8777598",
   "metadata": {},
   "outputs": [
    {
     "data": {
      "text/plain": [
       "array([1.24462012, 4.84934038, 4.04266482])"
      ]
     },
     "execution_count": 5,
     "metadata": {},
     "output_type": "execute_result"
    }
   ],
   "source": [
    "# compute predictions which use coef_ and intercept_ functions\n",
    "y_pred = lr.predict(X)\n",
    "y_pred[:3]"
   ]
  },
  {
   "cell_type": "code",
   "execution_count": 6,
   "id": "fe1e4f0e-9731-40eb-ae89-1d115a037d2d",
   "metadata": {},
   "outputs": [
    {
     "data": {
      "text/plain": [
       "array([1.24462012, 4.84934038, 4.04266482])"
      ]
     },
     "execution_count": 6,
     "metadata": {},
     "output_type": "execute_result"
    }
   ],
   "source": [
    "# can also do these predictions manually with matrix multiplication\n",
    "y_pred = np.matmul(X, lr.coef_) + lr.intercept_\n",
    "y_pred[:3]"
   ]
  },
  {
   "cell_type": "code",
   "execution_count": 9,
   "id": "5739b1cd-59a4-414d-8854-8689267db081",
   "metadata": {},
   "outputs": [
    {
     "name": "stdout",
     "output_type": "stream",
     "text": [
      "R2: 0.9832893048848236\n"
     ]
    }
   ],
   "source": [
    "# comute R2 coefficient\n",
    "R2 = lr.score(X, y)\n",
    "print(\"R2:\", R2)"
   ]
  },
  {
   "cell_type": "code",
   "execution_count": 11,
   "id": "8878ed74-45ea-4e76-89ab-32a75c3d93a1",
   "metadata": {},
   "outputs": [
    {
     "name": "stdout",
     "output_type": "stream",
     "text": [
      "coefficients: [0.39968853 0.44409771 0.25894341]\n",
      "Intercept: [0.12807209]\n"
     ]
    }
   ],
   "source": [
    "from sklearn.linear_model import SGDRegressor\n",
    "\n",
    "# create SGDRegressor object\n",
    "lr_sgd = SGDRegressor(\n",
    "    loss=\"squared_error\",   # cost function\n",
    "    penalty=\"none\",         # add a penalty term?\n",
    "    max_iter=1000,          # number of iterations\n",
    "    random_state=0,         # implementation shuffles the data\n",
    "    tol=1e-3,               # tolerance for improvement (stop SGD once loss is below)\n",
    ")\n",
    "\n",
    "# fit linear regression model\n",
    "lr_sgd.fit(X, y)\n",
    "\n",
    "# print coefficients\n",
    "print(\"coefficients:\", lr_sgd.coef_)\n",
    "print(\"Intercept:\", lr_sgd.intercept_)\n",
    "\n",
    "    "
   ]
  },
  {
   "cell_type": "code",
   "execution_count": 12,
   "id": "b6e1447b-5183-4d66-9816-6624b4b74988",
   "metadata": {},
   "outputs": [
    {
     "name": "stdout",
     "output_type": "stream",
     "text": [
      "R2_sgd: 0.9821546772612869\n"
     ]
    }
   ],
   "source": [
    "# compute R2 coeff\n",
    "R2_sgd = lr_sgd.score(X, y)\n",
    "print(\"R2_sgd:\", R2_sgd)"
   ]
  },
  {
   "cell_type": "code",
   "execution_count": 13,
   "id": "0f4c26d7-9a74-49d6-a5c5-e48480398dc5",
   "metadata": {},
   "outputs": [
    {
     "name": "stdout",
     "output_type": "stream",
     "text": [
      "Coefficients: [0.39172544 0.4788203  0.29315421]\n",
      "Intercept: 0.04586298819194013\n",
      "R^2 coefficient: 0.9830701571142849\n"
     ]
    }
   ],
   "source": [
    "from sklearn.linear_model import HuberRegressor\n",
    "\n",
    "# create estimator\n",
    "huber = HuberRegressor(epsilon=1.35)\n",
    "\n",
    "# fit\n",
    "huber.fit(X, y)\n",
    "\n",
    "print(\"Coefficients:\", huber.coef_)\n",
    "print(\"Intercept:\", huber.intercept_)\n",
    "print(\"R^2 coefficient:\", huber.score(X, y))"
   ]
  },
  {
   "cell_type": "code",
   "execution_count": null,
   "id": "0dcb28fe-e803-4779-90fa-98678bddcca6",
   "metadata": {},
   "outputs": [],
   "source": []
  }
 ],
 "metadata": {
  "kernelspec": {
   "display_name": "Python [conda env:adsml] *",
   "language": "python",
   "name": "conda-env-adsml-py"
  },
  "language_info": {
   "codemirror_mode": {
    "name": "ipython",
    "version": 3
   },
   "file_extension": ".py",
   "mimetype": "text/x-python",
   "name": "python",
   "nbconvert_exporter": "python",
   "pygments_lexer": "ipython3",
   "version": "3.9.7"
  }
 },
 "nbformat": 4,
 "nbformat_minor": 5
}
