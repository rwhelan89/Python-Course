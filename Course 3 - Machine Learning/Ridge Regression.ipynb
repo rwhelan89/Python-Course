{
 "cells": [
  {
   "cell_type": "code",
   "execution_count": 2,
   "id": "8e15f1e3-9786-47df-adb1-3b2b4b181430",
   "metadata": {},
   "outputs": [
    {
     "name": "stdout",
     "output_type": "stream",
     "text": [
      "Shape: (50, 2)\n"
     ]
    }
   ],
   "source": [
    "import pandas as pd\n",
    "\n",
    "# load training data\n",
    "training_data = pd.read_csv(\"c3_data-points.csv\")\n",
    "\n",
    "# print shape\n",
    "print(\"Shape:\", training_data.shape)"
   ]
  },
  {
   "cell_type": "code",
   "execution_count": 3,
   "id": "e887225d-3711-4f15-b514-055ba700871f",
   "metadata": {},
   "outputs": [
    {
     "data": {
      "text/html": [
       "<div>\n",
       "<style scoped>\n",
       "    .dataframe tbody tr th:only-of-type {\n",
       "        vertical-align: middle;\n",
       "    }\n",
       "\n",
       "    .dataframe tbody tr th {\n",
       "        vertical-align: top;\n",
       "    }\n",
       "\n",
       "    .dataframe thead th {\n",
       "        text-align: right;\n",
       "    }\n",
       "</style>\n",
       "<table border=\"1\" class=\"dataframe\">\n",
       "  <thead>\n",
       "    <tr style=\"text-align: right;\">\n",
       "      <th></th>\n",
       "      <th>x</th>\n",
       "      <th>y</th>\n",
       "    </tr>\n",
       "  </thead>\n",
       "  <tbody>\n",
       "    <tr>\n",
       "      <th>0</th>\n",
       "      <td>0.000</td>\n",
       "      <td>0.706</td>\n",
       "    </tr>\n",
       "    <tr>\n",
       "      <th>1</th>\n",
       "      <td>0.128</td>\n",
       "      <td>0.288</td>\n",
       "    </tr>\n",
       "    <tr>\n",
       "      <th>2</th>\n",
       "      <td>0.256</td>\n",
       "      <td>0.645</td>\n",
       "    </tr>\n",
       "    <tr>\n",
       "      <th>3</th>\n",
       "      <td>0.385</td>\n",
       "      <td>1.272</td>\n",
       "    </tr>\n",
       "    <tr>\n",
       "      <th>4</th>\n",
       "      <td>0.513</td>\n",
       "      <td>1.238</td>\n",
       "    </tr>\n",
       "  </tbody>\n",
       "</table>\n",
       "</div>"
      ],
      "text/plain": [
       "       x      y\n",
       "0  0.000  0.706\n",
       "1  0.128  0.288\n",
       "2  0.256  0.645\n",
       "3  0.385  1.272\n",
       "4  0.513  1.238"
      ]
     },
     "execution_count": 3,
     "metadata": {},
     "output_type": "execute_result"
    }
   ],
   "source": [
    "training_data.head()"
   ]
  },
  {
   "cell_type": "code",
   "execution_count": 6,
   "id": "d28c086d-ea3f-405f-a63a-8a0d255c5030",
   "metadata": {},
   "outputs": [
    {
     "data": {
      "image/png": "[encoded data removed]",
      "text/plain": [
       "<Figure size 432x288 with 1 Axes>"
      ]
     },
     "metadata": {
      "needs_background": "light"
     },
     "output_type": "display_data"
    }
   ],
   "source": [
    "%matplotlib inline \n",
    "import matplotlib.pyplot as plt\n",
    "import numpy as np\n",
    "\n",
    "# extract x, y data (using x & y rather than x_tr, y_tr for simplicity)\n",
    "x = training_data.x.values\n",
    "y = training_data.y.values\n",
    "\n",
    "# plot data points \n",
    "plt.scatter(x, y)\n",
    "            \n",
    "# plot sine curve for reference\n",
    "x_values = np.linspace(min(x), max(x), num=100)\n",
    "y_sine = np.sin(x_values)\n",
    "plt.plot(x_values, y_sine, c=\"C3\", label=\"sine curve\")\n",
    "plt.legend()\n",
    "plt.show()"
   ]
  },
  {
   "cell_type": "code",
   "execution_count": 9,
   "id": "02d9fbd2-51b7-4236-94bf-fb18a9c55eeb",
   "metadata": {},
   "outputs": [
    {
     "name": "stdout",
     "output_type": "stream",
     "text": [
      "Shape: (50, 10)\n",
      "Features: ['x0' 'x0^2' 'x0^3' 'x0^4' 'x0^5' 'x0^6' 'x0^7' 'x0^8' 'x0^9' 'x0^10']\n"
     ]
    }
   ],
   "source": [
    "from sklearn.preprocessing import PolynomialFeatures\n",
    "\n",
    "# create polynomial features\n",
    "poly_obj = PolynomialFeatures(degree=10, include_bias=False)\n",
    "X_poly = poly_obj.fit_transform(x[:, np.newaxis])\n",
    "\n",
    "print(\"Shape:\", X_poly.shape)\n",
    "print(\"Features:\", poly_obj.get_feature_names_out())"
   ]
  },
  {
   "cell_type": "code",
   "execution_count": 11,
   "id": "f5141dc2-fdfa-44fd-9334-4673237c8105",
   "metadata": {},
   "outputs": [],
   "source": [
    "from sklearn.preprocessing import StandardScaler\n",
    "\n",
    "scaler = StandardScaler()\n",
    "X_rescaled = scaler.fit_transform(X_poly)"
   ]
  },
  {
   "cell_type": "code",
   "execution_count": 12,
   "id": "ebedfd49-ede7-4de4-ac75-56a1fd102f71",
   "metadata": {},
   "outputs": [
    {
     "data": {
      "text/plain": [
       "array([ 1.77635684e-16,  2.66453526e-16, -1.68753900e-16, -8.88178420e-18,\n",
       "       -7.99360578e-17,  8.88178420e-18, -1.77635684e-17, -1.77635684e-17,\n",
       "        4.44089210e-17,  1.06581410e-16])"
      ]
     },
     "execution_count": 12,
     "metadata": {},
     "output_type": "execute_result"
    }
   ],
   "source": [
    "# verify data is standardised (mean close to zero and std 1)\n",
    "\n",
    "X_rescaled.mean(axis=0)"
   ]
  },
  {
   "cell_type": "code",
   "execution_count": 14,
   "id": "fb67cdbf-0527-4d15-986c-f31d6f6168b0",
   "metadata": {},
   "outputs": [
    {
     "data": {
      "text/plain": [
       "array([1., 1., 1., 1., 1., 1., 1., 1., 1., 1.])"
      ]
     },
     "execution_count": 14,
     "metadata": {},
     "output_type": "execute_result"
    }
   ],
   "source": [
    "X_rescaled.std(axis=0)"
   ]
  },
  {
   "cell_type": "code",
   "execution_count": 18,
   "id": "aad55a4a-f0c1-4737-bba9-c1bc48afad33",
   "metadata": {},
   "outputs": [],
   "source": [
    "# now fit linear regression \n",
    "\n",
    "from sklearn.linear_model import LinearRegression\n",
    "\n",
    "# linear regression\n",
    "lr = LinearRegression()\n",
    "lr.fit(X_rescaled, y)\n",
    "\n",
    "# pass sample x values through preprocessing steps\n",
    "X_values_rescaled = scaler.transform(poly_obj.transform(x_values[:, np.newaxis]))\n",
    "y_values_lr = lr.predict(X_values_rescaled)"
   ]
  },
  {
   "cell_type": "code",
   "execution_count": 20,
   "id": "37d7a2b5-be54-4ef3-829a-d56f91caa63d",
   "metadata": {},
   "outputs": [
    {
     "data": {
      "image/png": "[encoded data removed]",
      "text/plain": [
       "<Figure size 432x288 with 1 Axes>"
      ]
     },
     "metadata": {
      "needs_background": "light"
     },
     "output_type": "display_data"
    }
   ],
   "source": [
    "# plot model\n",
    "plt.scatter(X_rescaled[:,0], y)\n",
    "plt.plot(X_values_rescaled[:, 0], y_values_lr, c=\"C3\", label=\"linear regression\")\n",
    "plt.legend()\n",
    "plt.show()"
   ]
  },
  {
   "cell_type": "code",
   "execution_count": 21,
   "id": "c6005d6e-7699-4f22-a1ea-72506549d9a6",
   "metadata": {},
   "outputs": [],
   "source": [
    "from sklearn.linear_model import Ridge\n",
    "\n",
    "# ridge regression\n",
    "ridge = Ridge()\n",
    "ridge.fit(X_rescaled, y)\n",
    "\n",
    "# compute predictions\n",
    "y_values_ridge = ridge.predict(X_values_rescaled)"
   ]
  },
  {
   "cell_type": "code",
   "execution_count": 22,
   "id": "efaeeadf-5dca-4e5e-984c-7885de28e46e",
   "metadata": {},
   "outputs": [
    {
     "data": {
      "image/png": "[encoded data removed]",
      "text/plain": [
       "<Figure size 432x288 with 1 Axes>"
      ]
     },
     "metadata": {
      "needs_background": "light"
     },
     "output_type": "display_data"
    }
   ],
   "source": [
    "# plot model\n",
    "plt.scatter(X_rescaled[:,0], y)\n",
    "plt.plot(X_values_rescaled[:, 0], y_values_ridge, c=\"C3\", label=\"ridge regression\")\n",
    "plt.legend()\n",
    "plt.show()"
   ]
  },
  {
   "cell_type": "code",
   "execution_count": 24,
   "id": "6a916843-36ec-4259-9c4d-643b8540975c",
   "metadata": {},
   "outputs": [],
   "source": [
    "# by default ridge regularisation strength is 1, change it with alpha \n",
    "\n",
    "ridge2 = Ridge(alpha=1e-4)\n",
    "ridge2.fit(X_rescaled, y)\n",
    "\n",
    "# compute predictions\n",
    "y_values_ridge2 = ridge2.predict(X_values_rescaled)"
   ]
  },
  {
   "cell_type": "code",
   "execution_count": 25,
   "id": "9f1aa3b7-a65b-404e-94b8-c4dc664b2549",
   "metadata": {},
   "outputs": [
    {
     "data": {
      "image/png": "[encoded data removed]",
      "text/plain": [
       "<Figure size 432x288 with 1 Axes>"
      ]
     },
     "metadata": {
      "needs_background": "light"
     },
     "output_type": "display_data"
    }
   ],
   "source": [
    "# plot model\n",
    "plt.scatter(X_rescaled[:,0], y)\n",
    "plt.plot(X_values_rescaled[:, 0], y_values_ridge2, c=\"C3\", label=\"ridge regression\")\n",
    "plt.legend()\n",
    "plt.show()"
   ]
  },
  {
   "cell_type": "code",
   "execution_count": 27,
   "id": "66d0895d-0933-4f87-b91b-fa696d36a51f",
   "metadata": {},
   "outputs": [
    {
     "name": "stdout",
     "output_type": "stream",
     "text": [
      "x0    :        6.3\n",
      "x0^2  :     -156.5\n",
      "x0^3  :     1604.8\n",
      "x0^4  :    -8250.8\n",
      "x0^5  :    24145.5\n",
      "x0^6  :   -42951.3\n",
      "x0^7  :    47245.0\n",
      "x0^8  :   -31285.6\n",
      "x0^9  :    11373.1\n",
      "x0^10 :    -1731.0\n"
     ]
    }
   ],
   "source": [
    "# compare coefficients before and after adding reg term\n",
    "\n",
    "# linear regression coefs\n",
    "features = poly_obj.get_feature_names_out()\n",
    "for feature, coef in zip(features, lr.coef_):\n",
    "    print(\"{:<6}: {:>10.1f}\".format(feature, coef))"
   ]
  },
  {
   "cell_type": "code",
   "execution_count": 28,
   "id": "3d174a6d-fed2-45de-805d-3945dbc27288",
   "metadata": {},
   "outputs": [
    {
     "name": "stdout",
     "output_type": "stream",
     "text": [
      "x0    :        1.4\n",
      "x0^2  :       -1.6\n",
      "x0^3  :       -6.8\n",
      "x0^4  :        3.9\n",
      "x0^5  :        4.5\n",
      "x0^6  :        0.5\n",
      "x0^7  :       -1.7\n",
      "x0^8  :       -1.1\n",
      "x0^9  :        0.2\n",
      "x0^10 :        0.1\n"
     ]
    }
   ],
   "source": [
    "# ridge regression coefs\n",
    "for feature, coef in zip(features, ridge2.coef_):\n",
    "    print(\"{:<6}: {:>10.1f}\".format(feature, coef))"
   ]
  },
  {
   "cell_type": "code",
   "execution_count": 29,
   "id": "c538a282-c57b-4bc3-b768-c343dc315d39",
   "metadata": {},
   "outputs": [],
   "source": [
    "from sklearn.linear_model import Lasso\n",
    "\n",
    "# Lasso regression\n",
    "lasso = Lasso(alpha=1e-4, max_iter=1e5)\n",
    "lasso.fit(X_rescaled, y)\n",
    "\n",
    "# Compute predictions\n",
    "y_values_lasso = lasso.predict(X_values_rescaled)"
   ]
  },
  {
   "cell_type": "code",
   "execution_count": 30,
   "id": "23088a49-ef29-442b-8f45-9c5a7159e773",
   "metadata": {},
   "outputs": [
    {
     "data": {
      "image/png": "[encoded data removed]",
      "text/plain": [
       "<Figure size 432x288 with 1 Axes>"
      ]
     },
     "metadata": {
      "needs_background": "light"
     },
     "output_type": "display_data"
    }
   ],
   "source": [
    "# plot model\n",
    "plt.scatter(X_rescaled[:,0], y)\n",
    "plt.plot(X_values_rescaled[:, 0], y_values_lasso, c=\"C3\", label=\"lasso\")\n",
    "plt.legend()\n",
    "plt.show()"
   ]
  },
  {
   "cell_type": "code",
   "execution_count": 31,
   "id": "36997872-0bbb-4697-8628-d885c5b5aa11",
   "metadata": {},
   "outputs": [
    {
     "name": "stdout",
     "output_type": "stream",
     "text": [
      "x0    :        1.8\n",
      "x0^2  :       -4.4\n",
      "x0^3  :       -0.2\n",
      "x0^4  :        0.0\n",
      "x0^5  :        2.2\n",
      "x0^6  :        0.9\n",
      "x0^7  :        0.0\n",
      "x0^8  :        0.0\n",
      "x0^9  :       -0.0\n",
      "x0^10 :       -0.7\n"
     ]
    }
   ],
   "source": [
    "# Lasso regression coefs\n",
    "for feature, coef in zip(features, lasso.coef_):\n",
    "    print(\"{:<6}: {:>10.1f}\".format(feature, coef))"
   ]
  },
  {
   "cell_type": "code",
   "execution_count": null,
   "id": "e8c73003-0b84-4cb9-934d-f6b80b1aa4bd",
   "metadata": {},
   "outputs": [],
   "source": []
  }
 ],
 "metadata": {
  "kernelspec": {
   "display_name": "Python [conda env:adsml] *",
   "language": "python",
   "name": "conda-env-adsml-py"
  },
  "language_info": {
   "codemirror_mode": {
    "name": "ipython",
    "version": 3
   },
   "file_extension": ".py",
   "mimetype": "text/x-python",
   "name": "python",
   "nbconvert_exporter": "python",
   "pygments_lexer": "ipython3",
   "version": "3.9.7"
  }
 },
 "nbformat": 4,
 "nbformat_minor": 5
}
