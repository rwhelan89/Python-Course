{
 "cells": [
  {
   "cell_type": "code",
   "execution_count": 2,
   "id": "76e0207b-45ad-448f-b3d6-7e613ba5a5b7",
   "metadata": {},
   "outputs": [],
   "source": [
    "### We can detect models that overfit by looking at the differences between the error made on the train and the test sets.\n",
    "### The error on the test set is an estimation of the generalization error."
   ]
  },
  {
   "cell_type": "code",
   "execution_count": 3,
   "id": "7be8ce1f-80a0-4c67-81f0-11062903a684",
   "metadata": {},
   "outputs": [
    {
     "data": {
      "text/html": [
       "<div>\n",
       "<style scoped>\n",
       "    .dataframe tbody tr th:only-of-type {\n",
       "        vertical-align: middle;\n",
       "    }\n",
       "\n",
       "    .dataframe tbody tr th {\n",
       "        vertical-align: top;\n",
       "    }\n",
       "\n",
       "    .dataframe thead th {\n",
       "        text-align: right;\n",
       "    }\n",
       "</style>\n",
       "<table border=\"1\" class=\"dataframe\">\n",
       "  <thead>\n",
       "    <tr style=\"text-align: right;\">\n",
       "      <th></th>\n",
       "      <th>Temperature [°F]</th>\n",
       "      <th>Energy Consumption [Wh/mil]</th>\n",
       "    </tr>\n",
       "  </thead>\n",
       "  <tbody>\n",
       "    <tr>\n",
       "      <th>0</th>\n",
       "      <td>-15</td>\n",
       "      <td>460</td>\n",
       "    </tr>\n",
       "    <tr>\n",
       "      <th>1</th>\n",
       "      <td>-12</td>\n",
       "      <td>398</td>\n",
       "    </tr>\n",
       "    <tr>\n",
       "      <th>2</th>\n",
       "      <td>-8</td>\n",
       "      <td>460</td>\n",
       "    </tr>\n",
       "    <tr>\n",
       "      <th>3</th>\n",
       "      <td>-7</td>\n",
       "      <td>540</td>\n",
       "    </tr>\n",
       "    <tr>\n",
       "      <th>4</th>\n",
       "      <td>-6</td>\n",
       "      <td>347</td>\n",
       "    </tr>\n",
       "  </tbody>\n",
       "</table>\n",
       "</div>"
      ],
      "text/plain": [
       "   Temperature [°F]  Energy Consumption [Wh/mil]\n",
       "0               -15                          460\n",
       "1               -12                          398\n",
       "2                -8                          460\n",
       "3                -7                          540\n",
       "4                -6                          347"
      ]
     },
     "execution_count": 3,
     "metadata": {},
     "output_type": "execute_result"
    }
   ],
   "source": [
    "import pandas as pd\n",
    "\n",
    "data_df = pd.read_csv(\"c3_electric-cars.csv\")\n",
    "\n",
    "data_df.head()"
   ]
  },
  {
   "cell_type": "code",
   "execution_count": 4,
   "id": "048d3a26-8702-4ba3-9ff9-711cc406350a",
   "metadata": {},
   "outputs": [
    {
     "name": "stdout",
     "output_type": "stream",
     "text": [
      "indexes: [ 0  1  2  3  4  5  6  7  8  9 10 11 12 13 14 15 16 17 18 19 20 21 22 23\n",
      " 24 25 26 27 28 29 30 31 32 33 34 35 36 37 38 39 40 41 42 43 44 45 46 47\n",
      " 48 49 50 51 52 53 54 55 56]\n"
     ]
    }
   ],
   "source": [
    "# start by creating a list with all the indexes that we can then split into two\n",
    "\n",
    "import numpy as np\n",
    "\n",
    "# Generate a list of indexes\n",
    "n = len(data_df)\n",
    "indexes = np.arange(n)\n",
    "\n",
    "print(\"indexes:\", indexes)"
   ]
  },
  {
   "cell_type": "code",
   "execution_count": 5,
   "id": "80a0426b-4d65-4722-a03f-88ace21fddac",
   "metadata": {},
   "outputs": [
    {
     "name": "stdout",
     "output_type": "stream",
     "text": [
      "train indexes: [ 0  1  2  3  4  5  6  7  8  9 10 11 12 13 14 15 16 17 18 19 20 21 22 23\n",
      " 24 25 26 27 28 29 30 31 32 33 34 35 36 37 38]\n",
      "test indexes: [39 40 41 42 43 44 45 46 47 48 49 50 51 52 53 54 55 56]\n"
     ]
    }
   ],
   "source": [
    "# Split into train/test indexes\n",
    "split_idx = int(n * 0.7)\n",
    "train_idx = indexes[:split_idx]\n",
    "test_idx = indexes[split_idx:]\n",
    "\n",
    "print(\"train indexes:\", train_idx)\n",
    "print(\"test indexes:\", test_idx)"
   ]
  },
  {
   "cell_type": "code",
   "execution_count": 6,
   "id": "dcd7d9fc-6f89-40a7-b1a3-57f7eb1f5635",
   "metadata": {},
   "outputs": [
    {
     "name": "stdout",
     "output_type": "stream",
     "text": [
      "train: (39,) (39,)\n",
      "test: (18,) (18,)\n"
     ]
    }
   ],
   "source": [
    "# create test and train values from new split list\n",
    "\n",
    "# Extract x, y data\n",
    "x = data_df.iloc[:, 0].values  # Temperatures\n",
    "y = data_df.iloc[:, 1].values  # Consumption\n",
    "\n",
    "# Split data\n",
    "x_tr, y_tr = x[train_idx], y[train_idx]\n",
    "x_te, y_te = x[test_idx], y[test_idx]\n",
    "\n",
    "print(\"train:\", x_tr.shape, y_tr.shape)\n",
    "print(\"test:\", x_te.shape, y_te.shape)"
   ]
  },
  {
   "cell_type": "code",
   "execution_count": 7,
   "id": "0ebf03dd-f36a-4669-8dd4-2fdab6008bbc",
   "metadata": {},
   "outputs": [
    {
     "data": {
      "image/png": "[encoded data removed]",
      "text/plain": [
       "<Figure size 432x288 with 1 Axes>"
      ]
     },
     "metadata": {
      "needs_background": "light"
     },
     "output_type": "display_data"
    }
   ],
   "source": [
    "%matplotlib inline\n",
    "import matplotlib.pyplot as plt\n",
    "\n",
    "# Plot data points\n",
    "plt.scatter(x_tr, y_tr, label=\"train set\")\n",
    "plt.scatter(x_te, y_te, label=\"test set\")\n",
    "plt.xlabel(\"temperature\")\n",
    "plt.ylabel(\"number of users\")\n",
    "plt.legend()\n",
    "plt.show()"
   ]
  },
  {
   "cell_type": "code",
   "execution_count": 8,
   "id": "abc55e5f-71dd-4a5b-a543-d3c52fe8281a",
   "metadata": {},
   "outputs": [
    {
     "name": "stdout",
     "output_type": "stream",
     "text": [
      "indexes: [18 37 26 53 13 50 22 33 20 47 39 29 52 44  5 11  1 49 14  7  9 38 12 43\n",
      " 54 31 24 19 41  3 34 15 21  2 51 27 25 23 48 35 17  4 40 28 36 46 42  8\n",
      " 32 45 56 30  6 10 16  0 55]\n"
     ]
    }
   ],
   "source": [
    "# issue is that temps organised in initial dataset so need to shuffle pre split \n",
    "\n",
    "# shuffle the indexes\n",
    "np.random.shuffle(indexes)\n",
    "\n",
    "print(\"indexes:\", indexes)  # result depends on the seed"
   ]
  },
  {
   "cell_type": "code",
   "execution_count": 9,
   "id": "37a7e123-671e-4040-8ee8-04232d468727",
   "metadata": {},
   "outputs": [
    {
     "name": "stdout",
     "output_type": "stream",
     "text": [
      "indexes: [35 34 41 27 11  2 33 56 22 55  4 10 29 50 32 40 37  7 14 31 28 46 51 18\n",
      " 54 26 15  5 30 16 48 20 49  8 13 25 17 42 45 38  1 12 43 24  6 23 36 21\n",
      " 19  9 39 52  3  0 53 47 44]\n"
     ]
    }
   ],
   "source": [
    "# fix results of random shuffle using seed() function\n",
    "\n",
    "# Create the indexes\n",
    "indexes = np.arange(n)\n",
    "\n",
    "# Shuffle the indexes\n",
    "np.random.seed(0)\n",
    "np.random.shuffle(indexes)\n",
    "\n",
    "print(\"indexes:\", indexes)"
   ]
  },
  {
   "cell_type": "code",
   "execution_count": 11,
   "id": "2005edad-801b-4e83-85f6-0bdc9382a139",
   "metadata": {},
   "outputs": [
    {
     "data": {
      "image/png": "[encoded data removed]",
      "text/plain": [
       "<Figure size 432x288 with 1 Axes>"
      ]
     },
     "metadata": {
      "needs_background": "light"
     },
     "output_type": "display_data"
    }
   ],
   "source": [
    "# Split into train/test indexes\n",
    "split_idx = int(n * 0.7)\n",
    "train_idx = indexes[:split_idx]\n",
    "test_idx = indexes[split_idx:]\n",
    "\n",
    "# Split data\n",
    "x_tr, y_tr = x[train_idx], y[train_idx]\n",
    "x_te, y_te = x[test_idx], y[test_idx]\n",
    "\n",
    "# Plot data points\n",
    "plt.scatter(x_tr, y_tr, label=\"train set\")\n",
    "plt.scatter(x_te, y_te, label=\"test set\")\n",
    "plt.xlabel(\"temperature\")\n",
    "plt.ylabel(\"number of users\")\n",
    "plt.legend()\n",
    "plt.show()"
   ]
  },
  {
   "cell_type": "code",
   "execution_count": 12,
   "id": "2b578f86-0231-4985-abf3-0486cade9434",
   "metadata": {},
   "outputs": [],
   "source": [
    "# scikit has built in function for test split data\n",
    "\n",
    "from sklearn.model_selection import train_test_split\n",
    "\n",
    "# Split data\n",
    "x_tr, x_te, y_tr, y_te = train_test_split(\n",
    "    x, y, train_size=0.7, test_size=0.3, random_state=0\n",
    ")"
   ]
  },
  {
   "cell_type": "code",
   "execution_count": 13,
   "id": "014fe882-cf88-4f45-86e1-98f9be9879ad",
   "metadata": {},
   "outputs": [],
   "source": [
    "# alternatively can express number of points rather than %\n",
    "\n",
    "from sklearn.model_selection import train_test_split\n",
    "\n",
    "# Split data\n",
    "x_tr, x_te, y_tr, y_te = train_test_split(\n",
    "    x, y, train_size=39, test_size=18, random_state=0\n",
    ")"
   ]
  },
  {
   "cell_type": "code",
   "execution_count": 14,
   "id": "9fe27e41-0717-4a96-8b1a-b4e5f31562f1",
   "metadata": {},
   "outputs": [
    {
     "name": "stdout",
     "output_type": "stream",
     "text": [
      "Degree 5 MSE: 719 (train) vs 651 (test)\n",
      "Degree 10 MSE: 707 (train) vs 1218 (test)\n"
     ]
    }
   ],
   "source": [
    "from sklearn.metrics import mean_squared_error as mse\n",
    "\n",
    "# Polynomial regressions of degree 5 and 10\n",
    "coef5 = np.polyfit(x_tr, y_tr, deg=5)\n",
    "coef10 = np.polyfit(x_tr, y_tr, deg=10)\n",
    "\n",
    "# Evaluate performance\n",
    "y_pred5_tr = np.polyval(coef5, x_tr)\n",
    "y_pred5_te = np.polyval(coef5, x_te)\n",
    "\n",
    "print(\n",
    "    \"Degree 5 MSE: {:.0f} (train) vs {:.0f} (test)\".format(\n",
    "        mse(y_tr, y_pred5_tr), mse(y_te, y_pred5_te)\n",
    "    )\n",
    ")\n",
    "# Degree 5 MSE: 719 (train) vs 651 (test)\n",
    "\n",
    "y_pred10_tr = np.polyval(coef10, x_tr)\n",
    "y_pred10_te = np.polyval(coef10, x_te)\n",
    "\n",
    "print(\n",
    "    \"Degree 10 MSE: {:.0f} (train) vs {:.0f} (test)\".format(\n",
    "        mse(y_tr, y_pred10_tr), mse(y_te, y_pred10_te)\n",
    "    )\n",
    ")"
   ]
  },
  {
   "cell_type": "markdown",
   "id": "0eb706b7-7c24-428f-ae69-ec55caa13884",
   "metadata": {},
   "source": [
    "We can see that the polynomial of degree 10 has a better training error than the polynomial of degree 5. However, its test score nearly doubles which means that it’s likely overfitting. On the other hand, the polynomial of degree 5 seems to generalize well from the data with a test score close to its train score."
   ]
  },
  {
   "cell_type": "code",
   "execution_count": null,
   "id": "008c0201-1970-4595-83a6-6dacf2e2f3e2",
   "metadata": {},
   "outputs": [],
   "source": []
  }
 ],
 "metadata": {
  "kernelspec": {
   "display_name": "Python [conda env:adsml] *",
   "language": "python",
   "name": "conda-env-adsml-py"
  },
  "language_info": {
   "codemirror_mode": {
    "name": "ipython",
    "version": 3
   },
   "file_extension": ".py",
   "mimetype": "text/x-python",
   "name": "python",
   "nbconvert_exporter": "python",
   "pygments_lexer": "ipython3",
   "version": "3.9.7"
  }
 },
 "nbformat": 4,
 "nbformat_minor": 5
}
