{
 "cells": [
  {
   "cell_type": "code",
   "execution_count": 3,
   "id": "e794bec2-06a3-429d-b149-91efcec2bd7e",
   "metadata": {},
   "outputs": [
    {
     "data": {
      "text/html": [
       "<div>\n",
       "<style scoped>\n",
       "    .dataframe tbody tr th:only-of-type {\n",
       "        vertical-align: middle;\n",
       "    }\n",
       "\n",
       "    .dataframe tbody tr th {\n",
       "        vertical-align: top;\n",
       "    }\n",
       "\n",
       "    .dataframe thead th {\n",
       "        text-align: right;\n",
       "    }\n",
       "</style>\n",
       "<table border=\"1\" class=\"dataframe\">\n",
       "  <thead>\n",
       "    <tr style=\"text-align: right;\">\n",
       "      <th></th>\n",
       "      <th>tv</th>\n",
       "      <th>web</th>\n",
       "      <th>radio</th>\n",
       "      <th>sales</th>\n",
       "    </tr>\n",
       "  </thead>\n",
       "  <tbody>\n",
       "    <tr>\n",
       "      <th>0</th>\n",
       "      <td>0.916</td>\n",
       "      <td>1.689</td>\n",
       "      <td>0.208</td>\n",
       "      <td>1.204</td>\n",
       "    </tr>\n",
       "    <tr>\n",
       "      <th>1</th>\n",
       "      <td>9.359</td>\n",
       "      <td>1.706</td>\n",
       "      <td>1.071</td>\n",
       "      <td>4.800</td>\n",
       "    </tr>\n",
       "    <tr>\n",
       "      <th>2</th>\n",
       "      <td>5.261</td>\n",
       "      <td>2.538</td>\n",
       "      <td>2.438</td>\n",
       "      <td>3.970</td>\n",
       "    </tr>\n",
       "    <tr>\n",
       "      <th>3</th>\n",
       "      <td>8.682</td>\n",
       "      <td>2.092</td>\n",
       "      <td>1.283</td>\n",
       "      <td>5.212</td>\n",
       "    </tr>\n",
       "    <tr>\n",
       "      <th>4</th>\n",
       "      <td>11.736</td>\n",
       "      <td>1.660</td>\n",
       "      <td>1.800</td>\n",
       "      <td>5.993</td>\n",
       "    </tr>\n",
       "  </tbody>\n",
       "</table>\n",
       "</div>"
      ],
      "text/plain": [
       "       tv    web  radio  sales\n",
       "0   0.916  1.689  0.208  1.204\n",
       "1   9.359  1.706  1.071  4.800\n",
       "2   5.261  2.538  2.438  3.970\n",
       "3   8.682  2.092  1.283  5.212\n",
       "4  11.736  1.660  1.800  5.993"
      ]
     },
     "execution_count": 3,
     "metadata": {},
     "output_type": "execute_result"
    }
   ],
   "source": [
    "import pandas as pd\n",
    "\n",
    "data_df = pd.read_csv(\"c3_marketing-campaign.csv\")\n",
    "data_df.head()"
   ]
  },
  {
   "cell_type": "code",
   "execution_count": 5,
   "id": "50ebe149-f695-4c78-ad23-232fa389f220",
   "metadata": {},
   "outputs": [
    {
     "data": {
      "image/png": "[encoded data removed]",
      "text/plain": [
       "<Figure size 864x216 with 3 Axes>"
      ]
     },
     "metadata": {
      "needs_background": "light"
     },
     "output_type": "display_data"
    }
   ],
   "source": [
    "%matplotlib inline\n",
    "import matplotlib.pyplot as plt\n",
    "\n",
    "# create figure \n",
    "\n",
    "fig, (ax1, ax2, ax3) = plt.subplots(nrows=1, ncols=3, figsize=(12,3), sharey=True)\n",
    "fig.suptitle(\"marketing budgets in 1000$\")\n",
    "\n",
    "ax1.scatter(data_df.tv, data_df.sales)\n",
    "ax1.set_xlabel(\"tv\")\n",
    "ax1.set_ylabel(\"sales in thousands\")\n",
    "\n",
    "ax2.scatter(data_df.web, data_df.sales)\n",
    "ax2.set_xlabel(\"web\")\n",
    "\n",
    "ax3.scatter(data_df.radio, data_df.sales)\n",
    "ax3.set_xlabel(\"radio\")\n",
    "\n",
    "plt.show()"
   ]
  },
  {
   "cell_type": "code",
   "execution_count": 6,
   "id": "4214a042-39a6-452f-9638-bca84caf9329",
   "metadata": {},
   "outputs": [
    {
     "name": "stdout",
     "output_type": "stream",
     "text": [
      "Shape of data_df: (50, 4)\n"
     ]
    }
   ],
   "source": [
    "print(\"Shape of data_df:\", data_df.shape)"
   ]
  },
  {
   "cell_type": "markdown",
   "id": "b972f300-3d25-4131-8f51-3d243af8dd90",
   "metadata": {},
   "source": [
    "Number of features is called dimensionality and number of rows is cardinality"
   ]
  },
  {
   "cell_type": "markdown",
   "id": "d6d9d7b2-0764-4472-8139-5b8efb34a027",
   "metadata": {},
   "source": [
    "Feature Matrix & Target Vector"
   ]
  },
  {
   "cell_type": "code",
   "execution_count": 9,
   "id": "f042d776-4b52-4bb8-9768-ed88509e3ce3",
   "metadata": {},
   "outputs": [],
   "source": [
    "# feature matrix ie drop target & # output vector ie the target\n",
    "\n",
    "X = data_df.drop(\"sales\", axis=1).values\n",
    "y = data_df.sales.values"
   ]
  },
  {
   "cell_type": "code",
   "execution_count": 8,
   "id": "da5660a1-c60c-40dd-8263-6e90314ee70d",
   "metadata": {},
   "outputs": [
    {
     "name": "stdout",
     "output_type": "stream",
     "text": [
      "Shape of X: (50, 3) dtype: float64\n"
     ]
    }
   ],
   "source": [
    "print(\"Shape of X: {} dtype: {}\".format(X.shape, X.dtype))"
   ]
  },
  {
   "cell_type": "code",
   "execution_count": 10,
   "id": "6f9a8b0d-146e-4102-b5e3-43c7b6070938",
   "metadata": {},
   "outputs": [
    {
     "name": "stdout",
     "output_type": "stream",
     "text": [
      "Shape of y: (50,) dtype: float64\n"
     ]
    }
   ],
   "source": [
    "print(\"Shape of y: {} dtype: {}\".format(y.shape, y.dtype))"
   ]
  },
  {
   "cell_type": "code",
   "execution_count": 11,
   "id": "fb4ebed3-d00b-4101-9282-7dc1f27c66d1",
   "metadata": {},
   "outputs": [
    {
     "data": {
      "text/plain": [
       "array([[ 0.916,  1.689,  0.208],\n",
       "       [ 9.359,  1.706,  1.071],\n",
       "       [ 5.261,  2.538,  2.438],\n",
       "       [ 8.682,  2.092,  1.283],\n",
       "       [11.736,  1.66 ,  1.8  ]])"
      ]
     },
     "execution_count": 11,
     "metadata": {},
     "output_type": "execute_result"
    }
   ],
   "source": [
    "# unable to use loc and iloc so have to slice data\n",
    "\n",
    "X[:5, :]"
   ]
  },
  {
   "cell_type": "code",
   "execution_count": 13,
   "id": "9932efc2-f965-4363-b472-e43a718baac7",
   "metadata": {},
   "outputs": [
    {
     "data": {
      "text/plain": [
       "array([1.204, 4.8  , 3.97 , 5.212, 5.993])"
      ]
     },
     "execution_count": 13,
     "metadata": {},
     "output_type": "execute_result"
    }
   ],
   "source": [
    "y[:5]"
   ]
  },
  {
   "cell_type": "code",
   "execution_count": 14,
   "id": "91df50b1-b221-4f4c-ae87-4afef8af7e4e",
   "metadata": {},
   "outputs": [
    {
     "name": "stdout",
     "output_type": "stream",
     "text": [
      "x shape: (50,)\n",
      "y shape: (50,)\n"
     ]
    }
   ],
   "source": [
    "# plot tv budget vs sales\n",
    "\n",
    "x = data_df.tv.values\n",
    "y = data_df.sales.values\n",
    "\n",
    "print(\"x shape:\", x.shape)\n",
    "print(\"y shape:\", y.shape)"
   ]
  },
  {
   "cell_type": "code",
   "execution_count": 15,
   "id": "8445b174-32cf-4a7c-ae0f-da3b43056d6d",
   "metadata": {},
   "outputs": [
    {
     "data": {
      "image/png": "[encoded data removed]",
      "text/plain": [
       "<Figure size 432x288 with 1 Axes>"
      ]
     },
     "metadata": {
      "needs_background": "light"
     },
     "output_type": "display_data"
    }
   ],
   "source": [
    "plt.scatter(x, y)\n",
    "plt.xlabel(\"tv budget in 1000$\")\n",
    "plt.ylabel(\"sales in thousands\")\n",
    "plt.show()"
   ]
  },
  {
   "cell_type": "code",
   "execution_count": 16,
   "id": "54716807-8356-49c7-b38d-23d57e1f0e7e",
   "metadata": {},
   "outputs": [
    {
     "name": "stdout",
     "output_type": "stream",
     "text": [
      "Coefficients: [0.42063597 1.27867727]\n"
     ]
    }
   ],
   "source": [
    "import numpy as np\n",
    "\n",
    "# fit linear regression model\n",
    "\n",
    "coefs = np.polyfit(x, y, deg=1)\n",
    "print(\"Coefficients:\", coefs)"
   ]
  },
  {
   "cell_type": "code",
   "execution_count": 17,
   "id": "01fd3915-afda-4096-81e5-089014cba450",
   "metadata": {},
   "outputs": [],
   "source": [
    "# generate 100 datapoints\n",
    "x_values = np.linspace(x.min(), x.max(), num=100)\n",
    "\n",
    "# compute predictions\n",
    "y_values = np.polyval(coefs, x_values)"
   ]
  },
  {
   "cell_type": "code",
   "execution_count": 18,
   "id": "d1beabc9-cef1-4aa9-b44f-e9f2937abbfb",
   "metadata": {},
   "outputs": [
    {
     "data": {
      "image/png": "[encoded data removed]",
      "text/plain": [
       "<Figure size 432x288 with 1 Axes>"
      ]
     },
     "metadata": {
      "needs_background": "light"
     },
     "output_type": "display_data"
    }
   ],
   "source": [
    "plt.scatter(x, y)\n",
    "plt.plot(x_values, y_values, c=\"C3\", label=\"linear regression\")\n",
    "plt.xlabel(\"tv budget in 1000$\")\n",
    "plt.ylabel(\"sales in thousands\")\n",
    "plt.legend()\n",
    "plt.show()"
   ]
  },
  {
   "cell_type": "markdown",
   "id": "ca1bae57-fb1f-4254-b2f5-b335d42db6bf",
   "metadata": {},
   "source": [
    "RSS Score"
   ]
  },
  {
   "cell_type": "code",
   "execution_count": 19,
   "id": "04f278a6-a8ee-4f7b-adc6-bb50f7c8e934",
   "metadata": {},
   "outputs": [],
   "source": [
    "# compute predictions for each data point\n",
    "\n",
    "y_pred = np.polyval(coefs, x)"
   ]
  },
  {
   "cell_type": "code",
   "execution_count": 20,
   "id": "70872379-0e77-48eb-83de-88e9730c4912",
   "metadata": {},
   "outputs": [],
   "source": [
    "# function to conmpute RSS score between predictions & target values y\n",
    "\n",
    "def RSS(y, y_pred):\n",
    "    return np.sum(np.square(y - y_pred))"
   ]
  },
  {
   "cell_type": "code",
   "execution_count": 23,
   "id": "72b148a3-454b-4b37-a665-7aa313eb06e9",
   "metadata": {},
   "outputs": [
    {
     "name": "stdout",
     "output_type": "stream",
     "text": [
      "RSS values: 15.739481499345722\n"
     ]
    }
   ],
   "source": [
    "# use function to compute\n",
    "\n",
    "print(\"RSS values:\", RSS(y, y_pred))"
   ]
  },
  {
   "cell_type": "code",
   "execution_count": null,
   "id": "b56735bd-a8db-40b1-bdbc-35c851e8381b",
   "metadata": {},
   "outputs": [],
   "source": []
  }
 ],
 "metadata": {
  "kernelspec": {
   "display_name": "Python [conda env:adsml] *",
   "language": "python",
   "name": "conda-env-adsml-py"
  },
  "language_info": {
   "codemirror_mode": {
    "name": "ipython",
    "version": 3
   },
   "file_extension": ".py",
   "mimetype": "text/x-python",
   "name": "python",
   "nbconvert_exporter": "python",
   "pygments_lexer": "ipython3",
   "version": "3.9.7"
  }
 },
 "nbformat": 4,
 "nbformat_minor": 5
}
