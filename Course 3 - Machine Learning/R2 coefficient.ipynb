{
 "cells": [
  {
   "cell_type": "code",
   "execution_count": 2,
   "id": "6de531b2-6ac2-4f22-98b8-4e39e0f2fc97",
   "metadata": {},
   "outputs": [],
   "source": [
    "import pandas as pd\n",
    "import numpy as np\n",
    "\n",
    "data_df = pd.read_csv(\"c3_marketing-campaign.csv\")\n",
    "X = data_df.drop(\"sales\", axis=1).values\n",
    "y = data_df.sales.values"
   ]
  },
  {
   "cell_type": "code",
   "execution_count": 4,
   "id": "fb786ae1-fc57-417b-ae33-00e1562565e0",
   "metadata": {},
   "outputs": [
    {
     "name": "stdout",
     "output_type": "stream",
     "text": [
      "RSS baseline: 100.86060792\n"
     ]
    }
   ],
   "source": [
    "# define RSS measure \n",
    "\n",
    "def RSS(y, y_pred):\n",
    "    return np.sum(np.square(np.subtract(y, y_pred)))\n",
    "\n",
    "# RSS of the baseline\n",
    "rss_baseline = RSS(y, y.mean())\n",
    "print(\"RSS baseline:\", rss_baseline)"
   ]
  },
  {
   "cell_type": "code",
   "execution_count": 6,
   "id": "45bcc6d4-cfea-4e4b-aa2e-919c43f30696",
   "metadata": {},
   "outputs": [
    {
     "name": "stdout",
     "output_type": "stream",
     "text": [
      "RSS: 1.6854508680824705\n"
     ]
    }
   ],
   "source": [
    "from scipy.linalg import lstsq\n",
    "\n",
    "# fit multiple linear regression\n",
    "X1 = np.c_[np.ones(X.shape[0]), X]\n",
    "w, model_rss, _, _ = lstsq(X1, y)\n",
    "print(\"RSS:\", model_rss) "
   ]
  },
  {
   "cell_type": "code",
   "execution_count": 8,
   "id": "09b9b594-053e-4ad6-bcd2-3e972016b60c",
   "metadata": {},
   "outputs": [
    {
     "name": "stdout",
     "output_type": "stream",
     "text": [
      "R^2 coefficient: 0.9832893048848236\n"
     ]
    }
   ],
   "source": [
    "# large difference between baseline and MLS\n",
    "\n",
    "# quantify difference by computing R2 coeff which is 1 minus ratio between two scores\n",
    "\n",
    "# R2 closer to one the model performs significantly better than the baseline\n",
    "\n",
    "# R^2 coeff\n",
    "R2 = 1 - (model_rss / rss_baseline)\n",
    "print(\"R^2 coefficient:\", R2)"
   ]
  },
  {
   "cell_type": "code",
   "execution_count": 9,
   "id": "1c750450-cead-4a2e-a1ca-98f874e4f2fe",
   "metadata": {},
   "outputs": [
    {
     "name": "stdout",
     "output_type": "stream",
     "text": [
      "R^2 coefficient: 0.8439430385697798\n"
     ]
    }
   ],
   "source": [
    "# compare to simple linear regression model from previous subject\n",
    "\n",
    "# R^2 of SLR model\n",
    "R2 = 1 - (15.74 / rss_baseline)\n",
    "print(\"R^2 coefficient:\", R2)"
   ]
  },
  {
   "cell_type": "code",
   "execution_count": null,
   "id": "4ea9dec0-44a9-46f5-8eca-e997d154bebb",
   "metadata": {},
   "outputs": [],
   "source": []
  }
 ],
 "metadata": {
  "kernelspec": {
   "display_name": "Python [conda env:adsml] *",
   "language": "python",
   "name": "conda-env-adsml-py"
  },
  "language_info": {
   "codemirror_mode": {
    "name": "ipython",
    "version": 3
   },
   "file_extension": ".py",
   "mimetype": "text/x-python",
   "name": "python",
   "nbconvert_exporter": "python",
   "pygments_lexer": "ipython3",
   "version": "3.9.7"
  }
 },
 "nbformat": 4,
 "nbformat_minor": 5
}
