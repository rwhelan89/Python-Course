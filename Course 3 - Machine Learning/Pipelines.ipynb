{
 "cells": [
  {
   "cell_type": "code",
   "execution_count": 1,
   "id": "47c82a9c-3abb-45a8-8707-13b69b4a1cdc",
   "metadata": {},
   "outputs": [
    {
     "data": {
      "text/html": [
       "<div>\n",
       "<style scoped>\n",
       "    .dataframe tbody tr th:only-of-type {\n",
       "        vertical-align: middle;\n",
       "    }\n",
       "\n",
       "    .dataframe tbody tr th {\n",
       "        vertical-align: top;\n",
       "    }\n",
       "\n",
       "    .dataframe thead th {\n",
       "        text-align: right;\n",
       "    }\n",
       "</style>\n",
       "<table border=\"1\" class=\"dataframe\">\n",
       "  <thead>\n",
       "    <tr style=\"text-align: right;\">\n",
       "      <th></th>\n",
       "      <th>temp</th>\n",
       "      <th>hum</th>\n",
       "      <th>windspeed</th>\n",
       "      <th>yr</th>\n",
       "      <th>workingday</th>\n",
       "      <th>holiday</th>\n",
       "      <th>weekday</th>\n",
       "      <th>season</th>\n",
       "      <th>weathersit</th>\n",
       "      <th>casual</th>\n",
       "    </tr>\n",
       "  </thead>\n",
       "  <tbody>\n",
       "    <tr>\n",
       "      <th>0</th>\n",
       "      <td>0.344</td>\n",
       "      <td>0.806</td>\n",
       "      <td>0.160</td>\n",
       "      <td>2011</td>\n",
       "      <td>no</td>\n",
       "      <td>no</td>\n",
       "      <td>6</td>\n",
       "      <td>spring</td>\n",
       "      <td>cloudy</td>\n",
       "      <td>331</td>\n",
       "    </tr>\n",
       "    <tr>\n",
       "      <th>1</th>\n",
       "      <td>0.363</td>\n",
       "      <td>0.696</td>\n",
       "      <td>0.249</td>\n",
       "      <td>2011</td>\n",
       "      <td>no</td>\n",
       "      <td>no</td>\n",
       "      <td>0</td>\n",
       "      <td>spring</td>\n",
       "      <td>cloudy</td>\n",
       "      <td>131</td>\n",
       "    </tr>\n",
       "    <tr>\n",
       "      <th>2</th>\n",
       "      <td>0.196</td>\n",
       "      <td>0.437</td>\n",
       "      <td>0.248</td>\n",
       "      <td>2011</td>\n",
       "      <td>yes</td>\n",
       "      <td>no</td>\n",
       "      <td>1</td>\n",
       "      <td>spring</td>\n",
       "      <td>clear</td>\n",
       "      <td>120</td>\n",
       "    </tr>\n",
       "    <tr>\n",
       "      <th>3</th>\n",
       "      <td>0.200</td>\n",
       "      <td>0.590</td>\n",
       "      <td>0.160</td>\n",
       "      <td>2011</td>\n",
       "      <td>yes</td>\n",
       "      <td>no</td>\n",
       "      <td>2</td>\n",
       "      <td>spring</td>\n",
       "      <td>clear</td>\n",
       "      <td>108</td>\n",
       "    </tr>\n",
       "    <tr>\n",
       "      <th>4</th>\n",
       "      <td>0.227</td>\n",
       "      <td>0.437</td>\n",
       "      <td>0.187</td>\n",
       "      <td>2011</td>\n",
       "      <td>yes</td>\n",
       "      <td>no</td>\n",
       "      <td>3</td>\n",
       "      <td>spring</td>\n",
       "      <td>clear</td>\n",
       "      <td>82</td>\n",
       "    </tr>\n",
       "  </tbody>\n",
       "</table>\n",
       "</div>"
      ],
      "text/plain": [
       "    temp    hum  windspeed    yr workingday holiday  weekday  season  \\\n",
       "0  0.344  0.806      0.160  2011         no      no        6  spring   \n",
       "1  0.363  0.696      0.249  2011         no      no        0  spring   \n",
       "2  0.196  0.437      0.248  2011        yes      no        1  spring   \n",
       "3  0.200  0.590      0.160  2011        yes      no        2  spring   \n",
       "4  0.227  0.437      0.187  2011        yes      no        3  spring   \n",
       "\n",
       "  weathersit  casual  \n",
       "0     cloudy     331  \n",
       "1     cloudy     131  \n",
       "2      clear     120  \n",
       "3      clear     108  \n",
       "4      clear      82  "
      ]
     },
     "execution_count": 1,
     "metadata": {},
     "output_type": "execute_result"
    }
   ],
   "source": [
    "import pandas as pd\n",
    "\n",
    "data_df = pd.read_csv(\"c3_bike-sharing-data.csv\")\n",
    "data_df.head()"
   ]
  },
  {
   "cell_type": "code",
   "execution_count": 2,
   "id": "ff0d1574-991c-4aa2-93df-b35b169f05ac",
   "metadata": {},
   "outputs": [],
   "source": [
    "from sklearn.model_selection import train_test_split\n",
    "\n",
    "# One-hot encoding\n",
    "encoded_df = pd.get_dummies(data_df)\n",
    "\n",
    "# Split into train/test sets\n",
    "X = encoded_df.drop(\"casual\", axis=1).values\n",
    "y = data_df.casual.values\n",
    "X_tr, X_te, y_tr, y_te = train_test_split(X, y, test_size=0.3, random_state=0)"
   ]
  },
  {
   "cell_type": "code",
   "execution_count": 3,
   "id": "1425a835-6e1f-4831-98b1-72b029d7fe8c",
   "metadata": {},
   "outputs": [],
   "source": [
    "from sklearn.preprocessing import StandardScaler\n",
    "\n",
    "# Standardize data\n",
    "scaler = StandardScaler()\n",
    "X_tr_rescaled = scaler.fit_transform(X_tr)\n",
    "X_te_rescaled = scaler.transform(X_te)"
   ]
  },
  {
   "cell_type": "code",
   "execution_count": 4,
   "id": "ade68e56-4674-4bac-95d1-7ca91c96ad10",
   "metadata": {},
   "outputs": [
    {
     "name": "stdout",
     "output_type": "stream",
     "text": [
      "MAE: 255890.12\n"
     ]
    }
   ],
   "source": [
    "from sklearn.metrics import mean_absolute_error as MAE\n",
    "from sklearn.linear_model import Ridge\n",
    "\n",
    "ridge = Ridge()\n",
    "ridge.fit(X_tr_rescaled, y_tr)\n",
    "print(\"MAE: {:.2f}\".format(MAE(y_te, ridge.predict(X_te))))"
   ]
  },
  {
   "cell_type": "code",
   "execution_count": 5,
   "id": "b174ed6b-4362-4ce2-a110-c481b8c85a7e",
   "metadata": {},
   "outputs": [
    {
     "name": "stdout",
     "output_type": "stream",
     "text": [
      "Median baseline: 523.47\n"
     ]
    }
   ],
   "source": [
    "import numpy as np\n",
    "\n",
    "median_predictions = np.full_like(y_te, np.median(y_tr))\n",
    "print(\"Median baseline: {:.2f}\".format(MAE(y_te, median_predictions)))"
   ]
  },
  {
   "cell_type": "code",
   "execution_count": 6,
   "id": "2ccb3d64-d69f-4710-a27a-cfb24fc20d64",
   "metadata": {},
   "outputs": [
    {
     "name": "stdout",
     "output_type": "stream",
     "text": [
      "MAE: 279.80\n"
     ]
    }
   ],
   "source": [
    "# can see mistake was made by not using transformed X values\n",
    "print(\"MAE: {:.2f}\".format(MAE(y_te, ridge.predict(X_te_rescaled))))\n"
   ]
  },
  {
   "cell_type": "markdown",
   "id": "76f1c41d-18e5-4501-aa56-c13616b7ca4f",
   "metadata": {},
   "source": [
    "To avoid above mistake use PIPELINE"
   ]
  },
  {
   "cell_type": "code",
   "execution_count": 8,
   "id": "8b455f1b-e107-4dcb-a647-ab8bae3c008d",
   "metadata": {},
   "outputs": [],
   "source": [
    "from sklearn.pipeline import Pipeline\n",
    "\n",
    "# create pipeline\n",
    "pipe = Pipeline([(\"scaler\", StandardScaler()), (\"ridge\", Ridge())])"
   ]
  },
  {
   "cell_type": "code",
   "execution_count": 9,
   "id": "a5520218-4def-4a16-ac36-fe2c760c9060",
   "metadata": {},
   "outputs": [
    {
     "data": {
      "text/plain": [
       "{'scaler': StandardScaler(), 'ridge': Ridge()}"
      ]
     },
     "execution_count": 9,
     "metadata": {},
     "output_type": "execute_result"
    }
   ],
   "source": [
    "# get dictionary with each step\n",
    "pipe.named_steps"
   ]
  },
  {
   "cell_type": "code",
   "execution_count": 10,
   "id": "60323b00-63c9-4bea-bd06-29cb1cea6950",
   "metadata": {},
   "outputs": [
    {
     "name": "stdout",
     "output_type": "stream",
     "text": [
      "MAE: 279.80\n"
     ]
    }
   ],
   "source": [
    "# fit on train set\n",
    "pipe.fit(X_tr, y_tr)\n",
    "\n",
    "# evaluate on train set\n",
    "print(\"MAE: {:.2f}\".format(MAE(y_te, pipe.predict(X_te))))"
   ]
  },
  {
   "cell_type": "code",
   "execution_count": 11,
   "id": "f4956a58-6937-47af-bdc9-14497d2b7eaf",
   "metadata": {},
   "outputs": [
    {
     "name": "stdout",
     "output_type": "stream",
     "text": [
      "MAE: 279.80\n"
     ]
    }
   ],
   "source": [
    "# pipe above is equivalent to using \n",
    "\n",
    "def pipe_fit(X, y):\n",
    "    # Fit and apply the transformation\n",
    "    X1 = scaler.fit_transform(X)\n",
    "\n",
    "    # Fit the estimator\n",
    "    ridge.fit(X1, y)\n",
    "\n",
    "\n",
    "# Fit to the train data\n",
    "pipe_fit(X_tr, y_tr)\n",
    "\n",
    "# or \n",
    "\n",
    "def pipe_predict(X):\n",
    "    # Apply the transformation\n",
    "    X1 = scaler.transform(X)\n",
    "\n",
    "    # Make predictions\n",
    "    return ridge.predict(X1)\n",
    "\n",
    "\n",
    "# Evaluate on the test set\n",
    "print(\"MAE: {:.2f}\".format(MAE(y_te, pipe_predict(X_te))))\n",
    "\n",
    "\n"
   ]
  },
  {
   "cell_type": "markdown",
   "id": "632b1cf7-78bd-47c3-893e-9e06d9b00aaf",
   "metadata": {},
   "source": [
    "OPTIONAL"
   ]
  },
  {
   "cell_type": "code",
   "execution_count": 12,
   "id": "0a4810ef-a2b1-4554-9828-d5c3892e2420",
   "metadata": {},
   "outputs": [
    {
     "name": "stdout",
     "output_type": "stream",
     "text": [
      "MAE: 282.48\n"
     ]
    }
   ],
   "source": [
    "# Create a pipeline\n",
    "pipe = Pipeline([(\"scaler\", None), (\"ridge\", Ridge())])  # Disable this step\n",
    "\n",
    "# Fit pipeline to the train set\n",
    "pipe.fit(X_tr, y_tr)\n",
    "\n",
    "# Accuracy on the test set\n",
    "print(\"MAE: {:.2f}\".format(MAE(y_te, pipe.predict(X_te))))"
   ]
  },
  {
   "cell_type": "markdown",
   "id": "f44b58f1-b8cc-4684-8022-a81512243c39",
   "metadata": {},
   "source": [
    "Grid search with pipelines"
   ]
  },
  {
   "cell_type": "code",
   "execution_count": 13,
   "id": "48d53518-3367-4e68-8b31-4f3cf5a0077b",
   "metadata": {},
   "outputs": [
    {
     "data": {
      "text/html": [
       "<div>\n",
       "<style scoped>\n",
       "    .dataframe tbody tr th:only-of-type {\n",
       "        vertical-align: middle;\n",
       "    }\n",
       "\n",
       "    .dataframe tbody tr th {\n",
       "        vertical-align: top;\n",
       "    }\n",
       "\n",
       "    .dataframe thead th {\n",
       "        text-align: right;\n",
       "    }\n",
       "</style>\n",
       "<table border=\"1\" class=\"dataframe\">\n",
       "  <thead>\n",
       "    <tr style=\"text-align: right;\">\n",
       "      <th></th>\n",
       "      <th>alpha</th>\n",
       "      <th>train_mae</th>\n",
       "      <th>test_mae</th>\n",
       "    </tr>\n",
       "  </thead>\n",
       "  <tbody>\n",
       "    <tr>\n",
       "      <th>0</th>\n",
       "      <td>0.000100</td>\n",
       "      <td>262.057394</td>\n",
       "      <td>279.754483</td>\n",
       "    </tr>\n",
       "    <tr>\n",
       "      <th>1</th>\n",
       "      <td>0.000120</td>\n",
       "      <td>262.057392</td>\n",
       "      <td>279.754483</td>\n",
       "    </tr>\n",
       "    <tr>\n",
       "      <th>2</th>\n",
       "      <td>0.000145</td>\n",
       "      <td>262.057391</td>\n",
       "      <td>279.754485</td>\n",
       "    </tr>\n",
       "    <tr>\n",
       "      <th>3</th>\n",
       "      <td>0.000175</td>\n",
       "      <td>262.057389</td>\n",
       "      <td>279.754486</td>\n",
       "    </tr>\n",
       "    <tr>\n",
       "      <th>4</th>\n",
       "      <td>0.000210</td>\n",
       "      <td>262.057386</td>\n",
       "      <td>279.754487</td>\n",
       "    </tr>\n",
       "  </tbody>\n",
       "</table>\n",
       "</div>"
      ],
      "text/plain": [
       "      alpha   train_mae    test_mae\n",
       "0  0.000100  262.057394  279.754483\n",
       "1  0.000120  262.057392  279.754483\n",
       "2  0.000145  262.057391  279.754485\n",
       "3  0.000175  262.057389  279.754486\n",
       "4  0.000210  262.057386  279.754487"
      ]
     },
     "execution_count": 13,
     "metadata": {},
     "output_type": "execute_result"
    }
   ],
   "source": [
    "import numpy as np\n",
    "\n",
    "# Variable to store the results\n",
    "gs_results = []\n",
    "\n",
    "# Grid search\n",
    "for alpha in np.logspace(-4, 4, num=100):\n",
    "    # Create/fit the pipeline\n",
    "    pipe = Pipeline([(\"scaler\", StandardScaler()), (\"ridge\", Ridge(alpha))])\n",
    "    pipe.fit(X_tr, y_tr)\n",
    "\n",
    "    # Save model and its performance on train/test sets\n",
    "    gs_results.append(\n",
    "        {\n",
    "            \"alpha\": alpha,\n",
    "            \"train_mae\": MAE(y_tr, pipe.predict(X_tr)),\n",
    "            \"test_mae\": MAE(y_te, pipe.predict(X_te)),\n",
    "        }\n",
    "    )\n",
    "\n",
    "# Convert results to DataFrame\n",
    "gs_results = pd.DataFrame(gs_results)\n",
    "gs_results.head()"
   ]
  },
  {
   "cell_type": "code",
   "execution_count": 14,
   "id": "120f2c33-058c-4eca-adc7-81e60c93e3d2",
   "metadata": {},
   "outputs": [
    {
     "data": {
      "image/png": "[encoded data removed]",
      "text/plain": [
       "<Figure size 432x288 with 1 Axes>"
      ]
     },
     "metadata": {
      "needs_background": "light"
     },
     "output_type": "display_data"
    }
   ],
   "source": [
    "%matplotlib inline\n",
    "import matplotlib.pyplot as plt\n",
    "\n",
    "# Plot the validation curves\n",
    "plt.semilogx(gs_results[\"alpha\"], gs_results[\"train_mae\"], label=\"train curve\")\n",
    "plt.semilogx(gs_results[\"alpha\"], gs_results[\"test_mae\"], label=\"test curve\")\n",
    "plt.xlabel(\"$alpha$\")\n",
    "plt.ylabel(\"MAE\")\n",
    "plt.legend()\n",
    "plt.show()"
   ]
  },
  {
   "cell_type": "code",
   "execution_count": 15,
   "id": "5aa32b13-495a-4f2f-a77d-d69e4be3687a",
   "metadata": {},
   "outputs": [
    {
     "data": {
      "text/plain": [
       "{'memory': None,\n",
       " 'steps': [('scaler', StandardScaler()), ('ridge', Ridge())],\n",
       " 'verbose': False,\n",
       " 'scaler': StandardScaler(),\n",
       " 'ridge': Ridge(),\n",
       " 'scaler__copy': True,\n",
       " 'scaler__with_mean': True,\n",
       " 'scaler__with_std': True,\n",
       " 'ridge__alpha': 1.0,\n",
       " 'ridge__copy_X': True,\n",
       " 'ridge__fit_intercept': True,\n",
       " 'ridge__max_iter': None,\n",
       " 'ridge__normalize': 'deprecated',\n",
       " 'ridge__positive': False,\n",
       " 'ridge__random_state': None,\n",
       " 'ridge__solver': 'auto',\n",
       " 'ridge__tol': 0.001}"
      ]
     },
     "execution_count": 15,
     "metadata": {},
     "output_type": "execute_result"
    }
   ],
   "source": [
    "# Create the pipeline\n",
    "pipe = Pipeline([(\"scaler\", StandardScaler()), (\"ridge\", Ridge())])\n",
    "pipe.get_params()"
   ]
  },
  {
   "cell_type": "code",
   "execution_count": 16,
   "id": "d8dfc8ae-a691-4b18-a8d5-655c2f967d7e",
   "metadata": {},
   "outputs": [
    {
     "data": {
      "image/png": "[encoded data removed]",
      "text/plain": [
       "<Figure size 432x288 with 1 Axes>"
      ]
     },
     "metadata": {
      "needs_background": "light"
     },
     "output_type": "display_data"
    }
   ],
   "source": [
    "# Variable to store the results\n",
    "gs_results = []\n",
    "\n",
    "# Grid search\n",
    "for alpha in np.logspace(-4, 4, num=100):\n",
    "    # Fit the pipeline\n",
    "    pipe.set_params(ridge__alpha=alpha)\n",
    "    pipe.fit(X_tr, y_tr)\n",
    "\n",
    "    # Save model and its performance on train/test sets\n",
    "    gs_results.append(\n",
    "        {\n",
    "            \"alpha\": alpha,\n",
    "            \"train_mae\": MAE(y_tr, pipe.predict(X_tr)),\n",
    "            \"test_mae\": MAE(y_te, pipe.predict(X_te)),\n",
    "        }\n",
    "    )\n",
    "\n",
    "# Convert results to DataFrame\n",
    "gs_results = pd.DataFrame(gs_results)\n",
    "\n",
    "# Plot the validation curves\n",
    "plt.semilogx(gs_results[\"alpha\"], gs_results[\"train_mae\"], label=\"train curve\")\n",
    "plt.semilogx(gs_results[\"alpha\"], gs_results[\"test_mae\"], label=\"test curve\")\n",
    "plt.xlabel(\"$alpha$\")\n",
    "plt.ylabel(\"MAE\")\n",
    "plt.legend()\n",
    "plt.show()"
   ]
  },
  {
   "cell_type": "code",
   "execution_count": null,
   "id": "81d5ec67-a011-401b-8315-5dbcfd062bb6",
   "metadata": {},
   "outputs": [],
   "source": []
  }
 ],
 "metadata": {
  "kernelspec": {
   "display_name": "Python [conda env:adsml] *",
   "language": "python",
   "name": "conda-env-adsml-py"
  },
  "language_info": {
   "codemirror_mode": {
    "name": "ipython",
    "version": 3
   },
   "file_extension": ".py",
   "mimetype": "text/x-python",
   "name": "python",
   "nbconvert_exporter": "python",
   "pygments_lexer": "ipython3",
   "version": "3.9.7"
  }
 },
 "nbformat": 4,
 "nbformat_minor": 5
}
