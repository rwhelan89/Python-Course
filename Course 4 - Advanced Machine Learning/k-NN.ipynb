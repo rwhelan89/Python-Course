{
 "cells": [
  {
   "cell_type": "markdown",
   "id": "d371e1a2-007b-4108-8ffd-b6cacef273ae",
   "metadata": {},
   "source": [
    "K-NN is nearest neighbour model (find k nearest datapoints and use to calculate estimate). works on a distance and decision metric which can be adapted to the problem. Limitations in high dimensions due to the curse of dimensionality. \n"
   ]
  },
  {
   "cell_type": "markdown",
   "id": "8fae9b02-e0fd-42b6-a72a-5f5067746fdb",
   "metadata": {},
   "source": [
    "k in k-NN model similar to hyperparameter in regularization strength in ridge. Controls how \"flexible\" model is. Controls the over/under fit"
   ]
  },
  {
   "cell_type": "code",
   "execution_count": 2,
   "id": "48762132-f05a-43d1-bc86-843a3e4d5847",
   "metadata": {},
   "outputs": [
    {
     "data": {
      "text/html": [
       "<div>\n",
       "<style scoped>\n",
       "    .dataframe tbody tr th:only-of-type {\n",
       "        vertical-align: middle;\n",
       "    }\n",
       "\n",
       "    .dataframe tbody tr th {\n",
       "        vertical-align: top;\n",
       "    }\n",
       "\n",
       "    .dataframe thead th {\n",
       "        text-align: right;\n",
       "    }\n",
       "</style>\n",
       "<table border=\"1\" class=\"dataframe\">\n",
       "  <thead>\n",
       "    <tr style=\"text-align: right;\">\n",
       "      <th></th>\n",
       "      <th>age</th>\n",
       "      <th>trestbps</th>\n",
       "      <th>chol</th>\n",
       "      <th>thalach</th>\n",
       "      <th>oldpeak</th>\n",
       "      <th>ca</th>\n",
       "      <th>disease</th>\n",
       "    </tr>\n",
       "  </thead>\n",
       "  <tbody>\n",
       "    <tr>\n",
       "      <th>0</th>\n",
       "      <td>63</td>\n",
       "      <td>145</td>\n",
       "      <td>233</td>\n",
       "      <td>150</td>\n",
       "      <td>2.3</td>\n",
       "      <td>0</td>\n",
       "      <td>absence</td>\n",
       "    </tr>\n",
       "    <tr>\n",
       "      <th>1</th>\n",
       "      <td>67</td>\n",
       "      <td>160</td>\n",
       "      <td>286</td>\n",
       "      <td>108</td>\n",
       "      <td>1.5</td>\n",
       "      <td>3</td>\n",
       "      <td>presence</td>\n",
       "    </tr>\n",
       "    <tr>\n",
       "      <th>2</th>\n",
       "      <td>67</td>\n",
       "      <td>120</td>\n",
       "      <td>229</td>\n",
       "      <td>129</td>\n",
       "      <td>2.6</td>\n",
       "      <td>2</td>\n",
       "      <td>presence</td>\n",
       "    </tr>\n",
       "    <tr>\n",
       "      <th>3</th>\n",
       "      <td>37</td>\n",
       "      <td>130</td>\n",
       "      <td>250</td>\n",
       "      <td>187</td>\n",
       "      <td>3.5</td>\n",
       "      <td>0</td>\n",
       "      <td>absence</td>\n",
       "    </tr>\n",
       "    <tr>\n",
       "      <th>4</th>\n",
       "      <td>41</td>\n",
       "      <td>130</td>\n",
       "      <td>204</td>\n",
       "      <td>172</td>\n",
       "      <td>1.4</td>\n",
       "      <td>0</td>\n",
       "      <td>absence</td>\n",
       "    </tr>\n",
       "  </tbody>\n",
       "</table>\n",
       "</div>"
      ],
      "text/plain": [
       "   age  trestbps  chol  thalach  oldpeak  ca   disease\n",
       "0   63       145   233      150      2.3   0   absence\n",
       "1   67       160   286      108      1.5   3  presence\n",
       "2   67       120   229      129      2.6   2  presence\n",
       "3   37       130   250      187      3.5   0   absence\n",
       "4   41       130   204      172      1.4   0   absence"
      ]
     },
     "execution_count": 2,
     "metadata": {},
     "output_type": "execute_result"
    }
   ],
   "source": [
    "import pandas as pd\n",
    "\n",
    "data_df = pd.read_csv(\"c4_heart-numerical.csv\")\n",
    "\n",
    "data_df.head()"
   ]
  },
  {
   "cell_type": "code",
   "execution_count": 3,
   "id": "b48427cd-e339-4690-8f57-89a1f51c2ba5",
   "metadata": {},
   "outputs": [
    {
     "name": "stdout",
     "output_type": "stream",
     "text": [
      "X: (303, 6) float64\n",
      "y: (303,) object\n"
     ]
    }
   ],
   "source": [
    "import numpy as np\n",
    "\n",
    "# Create X/y arrays\n",
    "X = data_df.drop(\"disease\", axis=1).values\n",
    "y = data_df.disease.values\n",
    "print(\"X:\", X.shape, X.dtype)\n",
    "print(\"y:\", y.shape, y.dtype)"
   ]
  },
  {
   "cell_type": "code",
   "execution_count": 4,
   "id": "39bc3ce8-7d4c-4bb4-9147-eb161f2a121b",
   "metadata": {},
   "outputs": [
    {
     "name": "stdout",
     "output_type": "stream",
     "text": [
      "Labels: ['absence' 'presence']\n"
     ]
    }
   ],
   "source": [
    "# Print labels\n",
    "labels = np.unique(y)\n",
    "print(\"Labels:\", labels)"
   ]
  },
  {
   "cell_type": "code",
   "execution_count": 5,
   "id": "7ab03d6d-c7d3-4799-96b7-cccffbef6e41",
   "metadata": {},
   "outputs": [
    {
     "name": "stdout",
     "output_type": "stream",
     "text": [
      "Train set: (212, 6) (212,)\n",
      "Test set: (91, 6) (91,)\n"
     ]
    }
   ],
   "source": [
    "from sklearn.model_selection import train_test_split\n",
    "\n",
    "# Split data\n",
    "X_tr, X_te, y_tr, y_te = train_test_split(X, y, test_size=0.3, random_state=0)\n",
    "\n",
    "print(\"Train set:\", X_tr.shape, y_tr.shape)\n",
    "print(\"Test set:\", X_te.shape, y_te.shape)"
   ]
  },
  {
   "cell_type": "markdown",
   "id": "15a88b24-fd28-414b-b9c7-b43d6f624944",
   "metadata": {},
   "source": [
    "All the same as before however target variable is now categorical and has two possibilities"
   ]
  },
  {
   "cell_type": "markdown",
   "id": "3b194408-14a2-4c44-bb1f-a6d09404c2f6",
   "metadata": {},
   "source": [
    "**Most Frequent Baseline**"
   ]
  },
  {
   "cell_type": "code",
   "execution_count": 6,
   "id": "fc4f02eb-44d1-4ee4-9f29-f53c96f31aa9",
   "metadata": {},
   "outputs": [
    {
     "name": "stdout",
     "output_type": "stream",
     "text": [
      "Total absence: 117\n"
     ]
    }
   ],
   "source": [
    "# Count the number of entries labeled with 'absence'\n",
    "n_absence = np.sum(y_tr == \"absence\")\n",
    "\n",
    "print(\"Total absence:\", n_absence)"
   ]
  },
  {
   "cell_type": "code",
   "execution_count": 9,
   "id": "8283bf10-374c-4bd0-8a60-e598c6548a70",
   "metadata": {},
   "outputs": [
    {
     "name": "stdout",
     "output_type": "stream",
     "text": [
      "Probability of absence: 0.55\n"
     ]
    }
   ],
   "source": [
    "# Probability of 'absence' in train set\n",
    "p_absence = n_absence / len(y_tr)\n",
    "\n",
    "print(\"Probability of absence: {:.2f}\".format(p_absence))\n",
    "\n",
    "# higher probability of absence"
   ]
  },
  {
   "cell_type": "code",
   "execution_count": 10,
   "id": "658dd9f6-8ba5-4965-9729-209841e96c3f",
   "metadata": {},
   "outputs": [
    {
     "name": "stdout",
     "output_type": "stream",
     "text": [
      "Probability of absence: 0.52\n"
     ]
    }
   ],
   "source": [
    "# On the test set\n",
    "p_absence_te = np.sum(y_te == \"absence\") / len(y_te)\n",
    "\n",
    "print(\"Probability of absence: {:.2f}\".format(p_absence_te))"
   ]
  },
  {
   "cell_type": "markdown",
   "id": "bc3efc4d-74db-4151-8ed2-bc309a9b1d47",
   "metadata": {},
   "source": [
    "0.52 is the accuracy of the baseline model ie the error rate would be 0.48"
   ]
  },
  {
   "cell_type": "markdown",
   "id": "f34856ee-68c9-4f79-b719-cfca6e1b9871",
   "metadata": {},
   "source": [
    "*Multiple Classes*"
   ]
  },
  {
   "cell_type": "code",
   "execution_count": 11,
   "id": "4d0b4e2d-6096-4ed5-86e1-d29c54353d0f",
   "metadata": {},
   "outputs": [
    {
     "data": {
      "text/plain": [
       "absence     0.551887\n",
       "presence    0.448113\n",
       "dtype: float64"
      ]
     },
     "execution_count": 11,
     "metadata": {},
     "output_type": "execute_result"
    }
   ],
   "source": [
    "# Compute distribution using Pandas\n",
    "pd.Series(y_tr).value_counts() / len(y_tr)"
   ]
  },
  {
   "cell_type": "code",
   "execution_count": 17,
   "id": "22f106af-262f-4d2a-932a-966ee30af812",
   "metadata": {},
   "outputs": [
    {
     "data": {
      "text/plain": [
       "absence     0.551887\n",
       "presence    0.448113\n",
       "dtype: float64"
      ]
     },
     "execution_count": 17,
     "metadata": {},
     "output_type": "execute_result"
    }
   ],
   "source": [
    "# Compute distribution using Pandas\n",
    "pd.Series(y_tr).value_counts(normalize=True)"
   ]
  },
  {
   "cell_type": "markdown",
   "id": "c9943b3c-c62c-4b71-8357-f02290059d78",
   "metadata": {},
   "source": [
    "*Scikit-learn Dummy Classifier*"
   ]
  },
  {
   "cell_type": "code",
   "execution_count": 18,
   "id": "b082a44f-51e4-4862-8455-e5b492d5f200",
   "metadata": {},
   "outputs": [],
   "source": [
    "# use to perform above\n",
    "\n",
    "from sklearn.dummy import DummyClassifier\n",
    "\n",
    "# Create the dummy classifier\n",
    "dummy = DummyClassifier(strategy=\"most_frequent\")"
   ]
  },
  {
   "cell_type": "code",
   "execution_count": 19,
   "id": "a2aedac3-cf43-4250-8a9f-b576c337ad79",
   "metadata": {},
   "outputs": [
    {
     "name": "stdout",
     "output_type": "stream",
     "text": [
      "Accuracy: 0.52\n"
     ]
    }
   ],
   "source": [
    "# Fit it\n",
    "dummy.fit(None, y_tr)\n",
    "\n",
    "# Compute test accuracy\n",
    "accuracy = dummy.score(None, y_te)\n",
    "print(\"Accuracy: {:.2f}\".format(accuracy))"
   ]
  },
  {
   "cell_type": "markdown",
   "id": "0317dba1-4f77-4fca-8343-e9902ee42402",
   "metadata": {},
   "source": [
    "**Confusion Matrix**"
   ]
  },
  {
   "cell_type": "markdown",
   "id": "3dbdfd38-d454-4ded-95dd-c538f8ace825",
   "metadata": {},
   "source": [
    "Accuracy score so far simply corresponds to amount of times predictions match true values. Tiem to look at where errors occur."
   ]
  },
  {
   "cell_type": "code",
   "execution_count": 20,
   "id": "b7b36440-6c01-4c4c-8e89-e9cf4deee496",
   "metadata": {},
   "outputs": [
    {
     "name": "stdout",
     "output_type": "stream",
     "text": [
      "Predicted: ['absence' 'absence' 'absence' 'absence' 'absence'] ..\n",
      "True labels: ['absence' 'absence' 'presence' 'absence' 'presence'] ..\n"
     ]
    }
   ],
   "source": [
    "# \"Most-frequent\" predictions\n",
    "y_pred_absence = dummy.predict(X_te)\n",
    "print(\"Predicted:\", y_pred_absence[:5], \"..\")\n",
    "print(\"True labels:\", y_te[:5], \"..\")"
   ]
  },
  {
   "cell_type": "code",
   "execution_count": 21,
   "id": "e58d1804-2c88-4b3e-ae39-f70f732d9ce5",
   "metadata": {},
   "outputs": [
    {
     "name": "stdout",
     "output_type": "stream",
     "text": [
      "[[47  0]\n",
      " [44  0]]\n"
     ]
    }
   ],
   "source": [
    "from sklearn.metrics import confusion_matrix\n",
    "\n",
    "# Confusion matrix\n",
    "matrix = confusion_matrix(y_true=y_te, y_pred=y_pred_absence)\n",
    "print(matrix)"
   ]
  },
  {
   "cell_type": "markdown",
   "id": "890b80a9-0447-43f7-93b5-b4d81077f75b",
   "metadata": {},
   "source": [
    "Easier to visualise this as a dataframe"
   ]
  },
  {
   "cell_type": "code",
   "execution_count": 22,
   "id": "0b298ec2-fad4-49e4-8d07-b1ea15571ea6",
   "metadata": {},
   "outputs": [
    {
     "data": {
      "text/html": [
       "<div>\n",
       "<style scoped>\n",
       "    .dataframe tbody tr th:only-of-type {\n",
       "        vertical-align: middle;\n",
       "    }\n",
       "\n",
       "    .dataframe tbody tr th {\n",
       "        vertical-align: top;\n",
       "    }\n",
       "\n",
       "    .dataframe thead th {\n",
       "        text-align: right;\n",
       "    }\n",
       "</style>\n",
       "<table border=\"1\" class=\"dataframe\">\n",
       "  <thead>\n",
       "    <tr style=\"text-align: right;\">\n",
       "      <th></th>\n",
       "      <th>pred: absence</th>\n",
       "      <th>pred: presence</th>\n",
       "    </tr>\n",
       "  </thead>\n",
       "  <tbody>\n",
       "    <tr>\n",
       "      <th>true: absence</th>\n",
       "      <td>47</td>\n",
       "      <td>0</td>\n",
       "    </tr>\n",
       "    <tr>\n",
       "      <th>true: presence</th>\n",
       "      <td>44</td>\n",
       "      <td>0</td>\n",
       "    </tr>\n",
       "  </tbody>\n",
       "</table>\n",
       "</div>"
      ],
      "text/plain": [
       "                pred: absence  pred: presence\n",
       "true: absence              47               0\n",
       "true: presence             44               0"
      ]
     },
     "execution_count": 22,
     "metadata": {},
     "output_type": "execute_result"
    }
   ],
   "source": [
    "# Confusion matrix as a DataFrame\n",
    "matrix_df = pd.DataFrame(\n",
    "    matrix,\n",
    "    columns=[\"pred: absence\", \"pred: presence\"],\n",
    "    index=[\"true: absence\", \"true: presence\"],\n",
    ")\n",
    "\n",
    "matrix_df"
   ]
  },
  {
   "cell_type": "markdown",
   "id": "a8f39d0c-6380-46f4-acf7-078ae3c8db91",
   "metadata": {},
   "source": [
    "Derive two important metrics from this RECALL & PRECISION "
   ]
  },
  {
   "cell_type": "markdown",
   "id": "a521fa9f-22d4-4814-9f83-bffe6d72841e",
   "metadata": {},
   "source": [
    "**PRECISION**"
   ]
  },
  {
   "cell_type": "markdown",
   "id": "eb2816df-e22b-475d-aee2-89a5063a0ee9",
   "metadata": {},
   "source": [
    "=> how many times are we correct when predict positive?  precision = tp/(tp+fp)"
   ]
  },
  {
   "cell_type": "code",
   "execution_count": 24,
   "id": "e454771d-88ad-45da-8c44-718206d207f4",
   "metadata": {},
   "outputs": [
    {
     "name": "stderr",
     "output_type": "stream",
     "text": [
      "C:\\Users\\Rob\\anaconda3\\envs\\adsml\\lib\\site-packages\\sklearn\\metrics\\_classification.py:1318: UndefinedMetricWarning: Precision is ill-defined and being set to 0.0 due to no predicted samples. Use `zero_division` parameter to control this behavior.\n",
      "  _warn_prf(average, modifier, msg_start, len(result))\n"
     ]
    }
   ],
   "source": [
    "from sklearn.metrics import precision_score\n",
    "\n",
    "precision = precision_score(y_true=y_te, y_pred=y_pred_absence, pos_label=\"presence\")"
   ]
  },
  {
   "cell_type": "markdown",
   "id": "894fc5cb-4f79-4eef-863a-f48ab40d1420",
   "metadata": {},
   "source": [
    "Error due to fact most frequent baseline never predicts presence"
   ]
  },
  {
   "cell_type": "code",
   "execution_count": 25,
   "id": "ed46fb7c-076b-4209-bdc4-9b25e40e7c5a",
   "metadata": {},
   "outputs": [
    {
     "data": {
      "text/plain": [
       "0.4835164835164835"
      ]
     },
     "execution_count": 25,
     "metadata": {},
     "output_type": "execute_result"
    }
   ],
   "source": [
    "# Precision of the \"always predicts presence\" baseline\n",
    "y_pred_presence = np.full_like(y_te, fill_value=\"presence\")\n",
    "precision_score(y_true=y_te, y_pred=y_pred_presence, pos_label=\"presence\")  # ~ 0.48"
   ]
  },
  {
   "cell_type": "markdown",
   "id": "bb0b08d3-1d46-473f-9bbd-ccc32aad258e",
   "metadata": {},
   "source": [
    "**RECALL**"
   ]
  },
  {
   "cell_type": "markdown",
   "id": "e4d66c38-c90d-4c8f-9545-b02bd66b5c57",
   "metadata": {},
   "source": [
    "recall measures “How many times do we predict positive when it is?”. recall = tp/(tp+fn)"
   ]
  },
  {
   "cell_type": "code",
   "execution_count": 27,
   "id": "7bbb4462-e7ba-4950-b897-03ae8475db23",
   "metadata": {},
   "outputs": [
    {
     "data": {
      "text/plain": [
       "0.0"
      ]
     },
     "execution_count": 27,
     "metadata": {},
     "output_type": "execute_result"
    }
   ],
   "source": [
    "from sklearn.metrics import recall_score\n",
    "\n",
    "recall_score(y_true=y_te, y_pred=y_pred_absence, pos_label=\"presence\")"
   ]
  },
  {
   "cell_type": "code",
   "execution_count": 28,
   "id": "35f75a8c-f9e7-45b3-b81a-64bd3e100342",
   "metadata": {},
   "outputs": [
    {
     "data": {
      "text/plain": [
       "1.0"
      ]
     },
     "execution_count": 28,
     "metadata": {},
     "output_type": "execute_result"
    }
   ],
   "source": [
    "# Recall of the \"always predicts presence\" baseline\n",
    "recall_score(y_true=y_te, y_pred=y_pred_presence, pos_label=\"presence\")  # 1.0"
   ]
  },
  {
   "cell_type": "markdown",
   "id": "db832d06-7359-44f9-b307-c741d63bbca6",
   "metadata": {},
   "source": [
    "**F1 Score**"
   ]
  },
  {
   "cell_type": "markdown",
   "id": "fe4828bf-e38c-49f6-b7da-f7ea208c7a5a",
   "metadata": {},
   "source": [
    "f1_score = 2 * (precision * recall) / (precision + recall)"
   ]
  },
  {
   "cell_type": "code",
   "execution_count": 30,
   "id": "de72f2aa-5552-42cf-85ba-21082ec3fad2",
   "metadata": {},
   "outputs": [
    {
     "data": {
      "text/plain": [
       "0.6518518518518518"
      ]
     },
     "execution_count": 30,
     "metadata": {},
     "output_type": "execute_result"
    }
   ],
   "source": [
    "from sklearn.metrics import f1_score\n",
    "\n",
    "f1_score(y_true=y_te, y_pred=y_pred_presence, pos_label=\"presence\")  # ~0.65"
   ]
  },
  {
   "cell_type": "markdown",
   "id": "9594c8e0-e54d-4e8f-a80c-3cd5e049be49",
   "metadata": {},
   "source": [
    "**Classification Report**"
   ]
  },
  {
   "cell_type": "code",
   "execution_count": 31,
   "id": "ed5d9e2e-1540-4139-a686-914c3e248bd1",
   "metadata": {},
   "outputs": [
    {
     "name": "stdout",
     "output_type": "stream",
     "text": [
      "              precision    recall  f1-score   support\n",
      "\n",
      "     absence       0.00      0.00      0.00        47\n",
      "    presence       0.48      1.00      0.65        44\n",
      "\n",
      "    accuracy                           0.48        91\n",
      "   macro avg       0.24      0.50      0.33        91\n",
      "weighted avg       0.23      0.48      0.32        91\n",
      "\n"
     ]
    }
   ],
   "source": [
    "from sklearn.metrics import classification_report\n",
    "\n",
    "report = classification_report(y_true=y_te, y_pred=y_pred_presence, zero_division=0.0)\n",
    "print(report)"
   ]
  },
  {
   "cell_type": "markdown",
   "id": "fd326aa4-f926-494e-b2c7-9983bcf1abe8",
   "metadata": {},
   "source": [
    "**Standardization**"
   ]
  },
  {
   "cell_type": "markdown",
   "id": "7cddf3b9-cfc6-49fe-be8c-bba9cb59623c",
   "metadata": {},
   "source": [
    "Feature scale can impact k-NN model. A larger scale on one variable can cause model to favor it. Standardizing removes this as created an equal scale"
   ]
  },
  {
   "cell_type": "markdown",
   "id": "38e15328-2338-4166-930b-2c63b3d0b9ce",
   "metadata": {},
   "source": [
    "*KNeighborsClassifier*"
   ]
  },
  {
   "cell_type": "code",
   "execution_count": 32,
   "id": "77a0fe81-441e-410d-8e39-a4dad179792e",
   "metadata": {},
   "outputs": [
    {
     "data": {
      "text/html": [
       "<div>\n",
       "<style scoped>\n",
       "    .dataframe tbody tr th:only-of-type {\n",
       "        vertical-align: middle;\n",
       "    }\n",
       "\n",
       "    .dataframe tbody tr th {\n",
       "        vertical-align: top;\n",
       "    }\n",
       "\n",
       "    .dataframe thead th {\n",
       "        text-align: right;\n",
       "    }\n",
       "</style>\n",
       "<table border=\"1\" class=\"dataframe\">\n",
       "  <thead>\n",
       "    <tr style=\"text-align: right;\">\n",
       "      <th></th>\n",
       "      <th>age</th>\n",
       "      <th>trestbps</th>\n",
       "      <th>chol</th>\n",
       "      <th>thalach</th>\n",
       "      <th>oldpeak</th>\n",
       "      <th>ca</th>\n",
       "    </tr>\n",
       "  </thead>\n",
       "  <tbody>\n",
       "    <tr>\n",
       "      <th>count</th>\n",
       "      <td>303.000000</td>\n",
       "      <td>303.000000</td>\n",
       "      <td>303.000000</td>\n",
       "      <td>303.000000</td>\n",
       "      <td>303.000000</td>\n",
       "      <td>303.000000</td>\n",
       "    </tr>\n",
       "    <tr>\n",
       "      <th>mean</th>\n",
       "      <td>54.438944</td>\n",
       "      <td>131.689769</td>\n",
       "      <td>246.693069</td>\n",
       "      <td>149.607261</td>\n",
       "      <td>1.039604</td>\n",
       "      <td>0.663366</td>\n",
       "    </tr>\n",
       "    <tr>\n",
       "      <th>std</th>\n",
       "      <td>9.038662</td>\n",
       "      <td>17.599748</td>\n",
       "      <td>51.776918</td>\n",
       "      <td>22.875003</td>\n",
       "      <td>1.161075</td>\n",
       "      <td>0.934375</td>\n",
       "    </tr>\n",
       "    <tr>\n",
       "      <th>min</th>\n",
       "      <td>29.000000</td>\n",
       "      <td>94.000000</td>\n",
       "      <td>126.000000</td>\n",
       "      <td>71.000000</td>\n",
       "      <td>0.000000</td>\n",
       "      <td>0.000000</td>\n",
       "    </tr>\n",
       "    <tr>\n",
       "      <th>25%</th>\n",
       "      <td>48.000000</td>\n",
       "      <td>120.000000</td>\n",
       "      <td>211.000000</td>\n",
       "      <td>133.500000</td>\n",
       "      <td>0.000000</td>\n",
       "      <td>0.000000</td>\n",
       "    </tr>\n",
       "    <tr>\n",
       "      <th>50%</th>\n",
       "      <td>56.000000</td>\n",
       "      <td>130.000000</td>\n",
       "      <td>241.000000</td>\n",
       "      <td>153.000000</td>\n",
       "      <td>0.800000</td>\n",
       "      <td>0.000000</td>\n",
       "    </tr>\n",
       "    <tr>\n",
       "      <th>75%</th>\n",
       "      <td>61.000000</td>\n",
       "      <td>140.000000</td>\n",
       "      <td>275.000000</td>\n",
       "      <td>166.000000</td>\n",
       "      <td>1.600000</td>\n",
       "      <td>1.000000</td>\n",
       "    </tr>\n",
       "    <tr>\n",
       "      <th>max</th>\n",
       "      <td>77.000000</td>\n",
       "      <td>200.000000</td>\n",
       "      <td>564.000000</td>\n",
       "      <td>202.000000</td>\n",
       "      <td>6.200000</td>\n",
       "      <td>3.000000</td>\n",
       "    </tr>\n",
       "  </tbody>\n",
       "</table>\n",
       "</div>"
      ],
      "text/plain": [
       "              age    trestbps        chol     thalach     oldpeak          ca\n",
       "count  303.000000  303.000000  303.000000  303.000000  303.000000  303.000000\n",
       "mean    54.438944  131.689769  246.693069  149.607261    1.039604    0.663366\n",
       "std      9.038662   17.599748   51.776918   22.875003    1.161075    0.934375\n",
       "min     29.000000   94.000000  126.000000   71.000000    0.000000    0.000000\n",
       "25%     48.000000  120.000000  211.000000  133.500000    0.000000    0.000000\n",
       "50%     56.000000  130.000000  241.000000  153.000000    0.800000    0.000000\n",
       "75%     61.000000  140.000000  275.000000  166.000000    1.600000    1.000000\n",
       "max     77.000000  200.000000  564.000000  202.000000    6.200000    3.000000"
      ]
     },
     "execution_count": 32,
     "metadata": {},
     "output_type": "execute_result"
    }
   ],
   "source": [
    "data_df.describe()"
   ]
  },
  {
   "cell_type": "code",
   "execution_count": 34,
   "id": "683a275e-11aa-40a0-b74d-8918380da2fc",
   "metadata": {},
   "outputs": [],
   "source": [
    "from sklearn.model_selection import train_test_split\n",
    "\n",
    "# assuming here that the data has already been split and this is the train set\n",
    "\n",
    "# Create X/y arrays\n",
    "X = data_df.drop(\"disease\", axis=1).values\n",
    "y = data_df.disease.values\n",
    "\n",
    "# Split data\n",
    "X_tr, X_val, y_tr, y_val = train_test_split(X, y, test_size=0.3, random_state=0)"
   ]
  },
  {
   "cell_type": "code",
   "execution_count": 35,
   "id": "49d44846-ac55-4276-9108-134d81f09b1d",
   "metadata": {},
   "outputs": [
    {
     "name": "stdout",
     "output_type": "stream",
     "text": [
      "Accuracy: 0.747\n"
     ]
    }
   ],
   "source": [
    "from sklearn.neighbors import KNeighborsClassifier\n",
    "from sklearn.preprocessing import StandardScaler\n",
    "from sklearn.pipeline import Pipeline\n",
    "\n",
    "# Create a k-NN pipeline\n",
    "knn_pipe = Pipeline(\n",
    "    [(\"scaler\", StandardScaler()), (\"knn\", KNeighborsClassifier(n_neighbors=5))]\n",
    ")\n",
    "\n",
    "# Fit estimator\n",
    "knn_pipe.fit(X_tr, y_tr)\n",
    "\n",
    "# Evaluate on validation set\n",
    "accuracy = knn_pipe.score(X_val, y_val)\n",
    "print(\"Accuracy: {:.3f}\".format(accuracy))"
   ]
  },
  {
   "cell_type": "markdown",
   "id": "a8f50f92-7c59-4658-8f34-5102b33142a5",
   "metadata": {},
   "source": [
    "To experiment, view results without scaler"
   ]
  },
  {
   "cell_type": "code",
   "execution_count": 36,
   "id": "5d8574de-3db3-4879-b698-4d13e0aeb1b9",
   "metadata": {},
   "outputs": [
    {
     "name": "stdout",
     "output_type": "stream",
     "text": [
      "Accuracy: 0.670\n"
     ]
    }
   ],
   "source": [
    "from sklearn.base import clone\n",
    "\n",
    "knn_pipe2 = clone(knn_pipe)\n",
    "knn_pipe2.set_params(scaler=None)\n",
    "knn_pipe2.fit(X_tr, y_tr)\n",
    "print(\"Accuracy: {:.3f}\".format(knn_pipe2.score(X_val, y_val)))   #inferior result"
   ]
  },
  {
   "cell_type": "markdown",
   "id": "39647f9b-ce50-4904-8641-5e6134b8f376",
   "metadata": {},
   "source": [
    "**Tuning k with Grid Search**"
   ]
  },
  {
   "cell_type": "code",
   "execution_count": 37,
   "id": "313dcd37-cd3d-413e-88e7-ac96a7a077e3",
   "metadata": {},
   "outputs": [
    {
     "data": {
      "text/plain": [
       "array([  1,   5,  10,  15,  20,  25,  30,  35,  40,  45,  50,  55,  60,\n",
       "        65,  70,  75,  80,  85,  90,  95, 100])"
      ]
     },
     "execution_count": 37,
     "metadata": {},
     "output_type": "execute_result"
    }
   ],
   "source": [
    "import numpy as np\n",
    "\n",
    "# Generate a set of k values\n",
    "k_values = np.r_[1, np.arange(5, 101, step=5)]\n",
    "k_values"
   ]
  },
  {
   "cell_type": "markdown",
   "id": "9d57f498-f62b-4abd-9731-2d56d6a18b73",
   "metadata": {},
   "source": [
    "Run grid search with set_params and for loop"
   ]
  },
  {
   "cell_type": "code",
   "execution_count": 38,
   "id": "68b6fb5f-96d0-4789-a69d-4fe68fe66a1d",
   "metadata": {},
   "outputs": [
    {
     "data": {
      "text/html": [
       "<div>\n",
       "<style scoped>\n",
       "    .dataframe tbody tr th:only-of-type {\n",
       "        vertical-align: middle;\n",
       "    }\n",
       "\n",
       "    .dataframe tbody tr th {\n",
       "        vertical-align: top;\n",
       "    }\n",
       "\n",
       "    .dataframe thead th {\n",
       "        text-align: right;\n",
       "    }\n",
       "</style>\n",
       "<table border=\"1\" class=\"dataframe\">\n",
       "  <thead>\n",
       "    <tr style=\"text-align: right;\">\n",
       "      <th></th>\n",
       "      <th>k</th>\n",
       "      <th>train_accuracy</th>\n",
       "      <th>valid_accuracy</th>\n",
       "    </tr>\n",
       "  </thead>\n",
       "  <tbody>\n",
       "    <tr>\n",
       "      <th>8</th>\n",
       "      <td>40</td>\n",
       "      <td>0.740566</td>\n",
       "      <td>0.780220</td>\n",
       "    </tr>\n",
       "    <tr>\n",
       "      <th>4</th>\n",
       "      <td>20</td>\n",
       "      <td>0.754717</td>\n",
       "      <td>0.780220</td>\n",
       "    </tr>\n",
       "    <tr>\n",
       "      <th>7</th>\n",
       "      <td>35</td>\n",
       "      <td>0.768868</td>\n",
       "      <td>0.780220</td>\n",
       "    </tr>\n",
       "    <tr>\n",
       "      <th>3</th>\n",
       "      <td>15</td>\n",
       "      <td>0.768868</td>\n",
       "      <td>0.769231</td>\n",
       "    </tr>\n",
       "    <tr>\n",
       "      <th>5</th>\n",
       "      <td>25</td>\n",
       "      <td>0.768868</td>\n",
       "      <td>0.769231</td>\n",
       "    </tr>\n",
       "  </tbody>\n",
       "</table>\n",
       "</div>"
      ],
      "text/plain": [
       "    k  train_accuracy  valid_accuracy\n",
       "8  40        0.740566        0.780220\n",
       "4  20        0.754717        0.780220\n",
       "7  35        0.768868        0.780220\n",
       "3  15        0.768868        0.769231\n",
       "5  25        0.768868        0.769231"
      ]
     },
     "execution_count": 38,
     "metadata": {},
     "output_type": "execute_result"
    }
   ],
   "source": [
    "# [Code adapted from the previous course]\n",
    "# Variable to store the results\n",
    "gs_results = []\n",
    "\n",
    "# Grid search\n",
    "for k in k_values:\n",
    "    # Fit k-NN model\n",
    "    knn_pipe.set_params(knn__n_neighbors=k)\n",
    "    knn_pipe.fit(X_tr, y_tr)\n",
    "\n",
    "    # Save model and its performance on training/validation sets\n",
    "    gs_results.append(\n",
    "        {\n",
    "            \"k\": k,\n",
    "            \"train_accuracy\": knn_pipe.score(X_tr, y_tr),\n",
    "            \"valid_accuracy\": knn_pipe.score(X_val, y_val),\n",
    "        }\n",
    "    )\n",
    "\n",
    "# Convert results to DataFrame\n",
    "gs_results = pd.DataFrame(gs_results)\n",
    "gs_results.sort_values(by=\"valid_accuracy\", ascending=False).head()"
   ]
  },
  {
   "cell_type": "markdown",
   "id": "a5222d82-acc9-414e-bfb0-5ad79b27ce48",
   "metadata": {},
   "source": [
    "Optimal k value seems to be inbetween 20 & 40. plot for further clarity"
   ]
  },
  {
   "cell_type": "code",
   "execution_count": 39,
   "id": "b587f65a-9dea-42a5-9364-8b78a098001c",
   "metadata": {},
   "outputs": [
    {
     "data": {
      "image/png": "[encoded data removed]",
      "text/plain": [
       "<Figure size 432x288 with 1 Axes>"
      ]
     },
     "metadata": {
      "needs_background": "light"
     },
     "output_type": "display_data"
    }
   ],
   "source": [
    "%matplotlib inline\n",
    "import matplotlib.pyplot as plt\n",
    "\n",
    "# Plot the validation curves\n",
    "plt.plot(gs_results[\"k\"], gs_results[\"train_accuracy\"], label=\"train curve\")\n",
    "plt.plot(gs_results[\"k\"], gs_results[\"valid_accuracy\"], label=\"validation curve\")\n",
    "plt.ylabel(\"accuracy\")\n",
    "plt.xlabel(\"k\")\n",
    "plt.legend()\n",
    "plt.show()"
   ]
  },
  {
   "cell_type": "markdown",
   "id": "d9d9c595-55d2-4108-8095-43c4c7cb5e6d",
   "metadata": {},
   "source": [
    "**Cross Validation: Averaging Several Runs**"
   ]
  },
  {
   "cell_type": "code",
   "execution_count": 40,
   "id": "290bdfe6-c7e3-4452-ae3e-e40e7df5492a",
   "metadata": {},
   "outputs": [],
   "source": [
    "# Run several times the evaluation\n",
    "gs_results = []\n",
    "for run_idx in range(30):\n",
    "    # Split into training/validation sets\n",
    "    X_tr, X_val, y_tr, y_val = train_test_split(X, y, test_size=0.3, random_state=run_idx)\n",
    "\n",
    "    # Grid search\n",
    "    for k in k_values:\n",
    "        # Fit k-NN model\n",
    "        knn_pipe.set_params(knn__n_neighbors=k)\n",
    "        knn_pipe.fit(X_tr, y_tr)\n",
    "\n",
    "        # Save model and its performance on training/validation sets\n",
    "        gs_results.append(\n",
    "            {\n",
    "                \"k\": k,\n",
    "                \"run_idx\": run_idx,\n",
    "                \"train_accuracy\": knn_pipe.score(X_tr, y_tr),\n",
    "                \"valid_accuracy\": knn_pipe.score(X_val, y_val),\n",
    "            }\n",
    "        )\n",
    "\n",
    "# Convert results to DataFrame\n",
    "gs_results = pd.DataFrame(gs_results)"
   ]
  },
  {
   "cell_type": "markdown",
   "id": "ac5d7a7e-8e35-44ab-bd59-2fb4fd54f896",
   "metadata": {},
   "source": [
    "gs_results contains 30 scores for each k value.. group results and compute average scores"
   ]
  },
  {
   "cell_type": "markdown",
   "id": "58c48292-9c5e-43ae-bb2e-39280f6a3e45",
   "metadata": {},
   "source": [
    "# Group results by alpha value\n",
    "grouped = gs_results.groupby(\"k\")\n",
    "\n",
    "# Compute training/validation mean scores with std\n",
    "mean_tr = grouped.train_accuracy.mean()\n",
    "mean_te = grouped.valid_accuracy.mean()\n",
    "std_tr = grouped.train_accuracy.std()\n",
    "std_te = grouped.valid_accuracy.std()"
   ]
  },
  {
   "cell_type": "markdown",
   "id": "67a0c409-37e8-4854-bfd2-3fbe5b73649f",
   "metadata": {},
   "source": [
    "Now plot average validation curves"
   ]
  },
  {
   "cell_type": "code",
   "execution_count": 43,
   "id": "621669b7-6324-4d34-a08d-b4a0b8392af1",
   "metadata": {},
   "outputs": [
    {
     "data": {
      "image/png": "[encoded data removed]",
      "text/plain": [
       "<Figure size 432x288 with 1 Axes>"
      ]
     },
     "metadata": {
      "needs_background": "light"
     },
     "output_type": "display_data"
    }
   ],
   "source": [
    "# Plot mean scores\n",
    "plt.plot(k_values, mean_tr, label=\"train\")\n",
    "plt.plot(k_values, mean_te, label=\"validation\")\n",
    "\n",
    "# Add marker for best score\n",
    "best_k = mean_te.idxmax()\n",
    "plt.scatter(best_k, mean_te.max(), marker=\"x\", c=\"red\", zorder=10)\n",
    "\n",
    "# Quantify variance with ±std curves\n",
    "plt.fill_between(k_values, mean_tr - std_tr, mean_tr + std_tr, alpha=0.2)\n",
    "plt.fill_between(k_values, mean_te - std_te, mean_te + std_te, alpha=0.2)\n",
    "plt.title(\"Best k: {} with {:.1f}% accuracy\".format(best_k, 100 * mean_te[best_k]))\n",
    "plt.ylabel(\"accuracy\")\n",
    "plt.xlabel(\"k\")\n",
    "plt.legend()\n",
    "plt.show()"
   ]
  },
  {
   "cell_type": "markdown",
   "id": "0cf248cb-c166-4028-b4a1-e20cba9e0015",
   "metadata": {},
   "source": [
    "\"We can see that the scores on the training set vary less than the validation scores. But generally the size of variation of either set of scores is stable acoss different k values and the regions clearly overlap.\n",
    "\n",
    "The best k value is around 35 with a mean accuracy of 76% and a standard deviation around 4%.\""
   ]
  },
  {
   "cell_type": "markdown",
   "id": "99db10db-38ef-46cb-b99b-ade86ef876cb",
   "metadata": {},
   "source": [
    "**Classification Report**"
   ]
  },
  {
   "cell_type": "markdown",
   "id": "0555305b-46fb-40aa-a0bb-2c18e484514d",
   "metadata": {},
   "source": [
    "Previously based k-NN estimator on accuracy metric but others to consider"
   ]
  },
  {
   "cell_type": "code",
   "execution_count": 44,
   "id": "22b27140-4104-4daf-b81f-7d5612c706f7",
   "metadata": {},
   "outputs": [
    {
     "name": "stdout",
     "output_type": "stream",
     "text": [
      "              precision    recall  f1-score   support\n",
      "\n",
      "     absence       0.59      0.90      0.71        41\n",
      "    presence       0.86      0.48      0.62        50\n",
      "\n",
      "    accuracy                           0.67        91\n",
      "   macro avg       0.72      0.69      0.66        91\n",
      "weighted avg       0.74      0.67      0.66        91\n",
      "\n"
     ]
    }
   ],
   "source": [
    "from sklearn.metrics import classification_report\n",
    "\n",
    "# Tuned k-NN estimator\n",
    "tuned_knn = Pipeline(\n",
    "    [(\"scaler\", StandardScaler()), (\"knn\", KNeighborsClassifier(n_neighbors=best_k))]\n",
    ")\n",
    "tuned_knn.fit(X_tr, y_tr)\n",
    "\n",
    "# Classification report\n",
    "y_val_preds = tuned_knn.predict(X_val)\n",
    "print(classification_report(y_true=y_val, y_pred=y_val_preds))"
   ]
  },
  {
   "cell_type": "markdown",
   "id": "66a5b1e9-dd19-4968-bbed-728839705a82",
   "metadata": {},
   "source": [
    "Now we have best k value, possible to look into more. k-NN estimator retrieves k nearest patients within neighbourhood and predicts most frequent class. Can see proportions with predict_proba()"
   ]
  },
  {
   "cell_type": "code",
   "execution_count": 45,
   "id": "3003d1e7-fb1b-4dd0-86af-1a0004b9ec9f",
   "metadata": {},
   "outputs": [
    {
     "name": "stdout",
     "output_type": "stream",
     "text": [
      "Predictions: ['absence' 'presence' 'presence' 'absence' 'presence']\n",
      "Probs:\n",
      "[[0.8        0.2       ]\n",
      " [0.14285714 0.85714286]\n",
      " [0.25714286 0.74285714]\n",
      " [0.74285714 0.25714286]\n",
      " [0.22857143 0.77142857]]\n"
     ]
    }
   ],
   "source": [
    "# Compute probabilities\n",
    "y_val_probs = tuned_knn.predict_proba(X_val)\n",
    "print(\"Predictions:\", y_val_preds[:5])\n",
    "print(\"Probs:\")\n",
    "print(y_val_probs[:5])"
   ]
  },
  {
   "cell_type": "markdown",
   "id": "673c2ed6-13a1-4b9a-adf5-7bfb37f981f8",
   "metadata": {},
   "source": [
    "What this shows is that for the first prediction absence is returned as 80% of 35 nearest neighbours to the first patient in the valiation set are healthy and only 20% sick. Estimator labels patienst as sick when probability of scond column is more than 50%"
   ]
  },
  {
   "cell_type": "markdown",
   "id": "19a6dc44-e417-443b-b09a-c2670ce7ec24",
   "metadata": {},
   "source": [
    "**ROC Curve**"
   ]
  },
  {
   "cell_type": "markdown",
   "id": "a158c9a9-805c-42ca-9e86-e650b1418389",
   "metadata": {},
   "source": [
    "Possible to change value of this threshold. If we wanted to incraese number of times detected sick patient at cost of misclassifying healthy patients can review this by analyzing relationship on Receiver Operating Characteristic curve."
   ]
  },
  {
   "cell_type": "code",
   "execution_count": 46,
   "id": "bc1e1625-d561-4a62-8c76-53b5c0449b8d",
   "metadata": {},
   "outputs": [],
   "source": [
    "from sklearn.metrics import roc_curve\n",
    "\n",
    "# ROC curve\n",
    "fpr, tpr, thresholds = roc_curve(\n",
    "    y_true=y_val, y_score=y_val_probs[:, 1], pos_label=\"presence\"\n",
    ")"
   ]
  },
  {
   "cell_type": "markdown",
   "id": "0bfb45a7-3ad9-424d-b93d-7eb35648d302",
   "metadata": {},
   "source": [
    "The function returns three arrays\n",
    "\n",
    "The False Positive Rate (FPR) - how many times we misclassify healthy patients.\n",
    "The True Positive Rate (TPR) or Recall - how many times we correctly classify sick patients.\n",
    "The associated threshold values"
   ]
  },
  {
   "cell_type": "code",
   "execution_count": 49,
   "id": "8e7c02cb-6b5d-4041-aa88-b574bc16e9ee",
   "metadata": {},
   "outputs": [
    {
     "data": {
      "text/html": [
       "<div>\n",
       "<style scoped>\n",
       "    .dataframe tbody tr th:only-of-type {\n",
       "        vertical-align: middle;\n",
       "    }\n",
       "\n",
       "    .dataframe tbody tr th {\n",
       "        vertical-align: top;\n",
       "    }\n",
       "\n",
       "    .dataframe thead th {\n",
       "        text-align: right;\n",
       "    }\n",
       "</style>\n",
       "<table border=\"1\" class=\"dataframe\">\n",
       "  <thead>\n",
       "    <tr style=\"text-align: right;\">\n",
       "      <th></th>\n",
       "      <th>fpr</th>\n",
       "      <th>tpr (recall)</th>\n",
       "      <th>thresholds</th>\n",
       "    </tr>\n",
       "  </thead>\n",
       "  <tbody>\n",
       "    <tr>\n",
       "      <th>0</th>\n",
       "      <td>0.000000</td>\n",
       "      <td>0.00</td>\n",
       "      <td>1.942857</td>\n",
       "    </tr>\n",
       "    <tr>\n",
       "      <th>1</th>\n",
       "      <td>0.000000</td>\n",
       "      <td>0.02</td>\n",
       "      <td>0.942857</td>\n",
       "    </tr>\n",
       "    <tr>\n",
       "      <th>2</th>\n",
       "      <td>0.000000</td>\n",
       "      <td>0.06</td>\n",
       "      <td>0.885714</td>\n",
       "    </tr>\n",
       "    <tr>\n",
       "      <th>3</th>\n",
       "      <td>0.024390</td>\n",
       "      <td>0.12</td>\n",
       "      <td>0.857143</td>\n",
       "    </tr>\n",
       "    <tr>\n",
       "      <th>4</th>\n",
       "      <td>0.024390</td>\n",
       "      <td>0.18</td>\n",
       "      <td>0.828571</td>\n",
       "    </tr>\n",
       "    <tr>\n",
       "      <th>5</th>\n",
       "      <td>0.048780</td>\n",
       "      <td>0.20</td>\n",
       "      <td>0.771429</td>\n",
       "    </tr>\n",
       "    <tr>\n",
       "      <th>6</th>\n",
       "      <td>0.048780</td>\n",
       "      <td>0.26</td>\n",
       "      <td>0.742857</td>\n",
       "    </tr>\n",
       "    <tr>\n",
       "      <th>7</th>\n",
       "      <td>0.048780</td>\n",
       "      <td>0.28</td>\n",
       "      <td>0.685714</td>\n",
       "    </tr>\n",
       "    <tr>\n",
       "      <th>8</th>\n",
       "      <td>0.073171</td>\n",
       "      <td>0.32</td>\n",
       "      <td>0.657143</td>\n",
       "    </tr>\n",
       "    <tr>\n",
       "      <th>9</th>\n",
       "      <td>0.073171</td>\n",
       "      <td>0.36</td>\n",
       "      <td>0.571429</td>\n",
       "    </tr>\n",
       "    <tr>\n",
       "      <th>10</th>\n",
       "      <td>0.073171</td>\n",
       "      <td>0.44</td>\n",
       "      <td>0.542857</td>\n",
       "    </tr>\n",
       "    <tr>\n",
       "      <th>11</th>\n",
       "      <td>0.097561</td>\n",
       "      <td>0.48</td>\n",
       "      <td>0.514286</td>\n",
       "    </tr>\n",
       "    <tr>\n",
       "      <th>12</th>\n",
       "      <td>0.195122</td>\n",
       "      <td>0.60</td>\n",
       "      <td>0.457143</td>\n",
       "    </tr>\n",
       "    <tr>\n",
       "      <th>13</th>\n",
       "      <td>0.195122</td>\n",
       "      <td>0.64</td>\n",
       "      <td>0.428571</td>\n",
       "    </tr>\n",
       "    <tr>\n",
       "      <th>14</th>\n",
       "      <td>0.195122</td>\n",
       "      <td>0.66</td>\n",
       "      <td>0.400000</td>\n",
       "    </tr>\n",
       "    <tr>\n",
       "      <th>15</th>\n",
       "      <td>0.219512</td>\n",
       "      <td>0.68</td>\n",
       "      <td>0.371429</td>\n",
       "    </tr>\n",
       "    <tr>\n",
       "      <th>16</th>\n",
       "      <td>0.243902</td>\n",
       "      <td>0.72</td>\n",
       "      <td>0.342857</td>\n",
       "    </tr>\n",
       "    <tr>\n",
       "      <th>17</th>\n",
       "      <td>0.292683</td>\n",
       "      <td>0.76</td>\n",
       "      <td>0.314286</td>\n",
       "    </tr>\n",
       "    <tr>\n",
       "      <th>18</th>\n",
       "      <td>0.365854</td>\n",
       "      <td>0.80</td>\n",
       "      <td>0.285714</td>\n",
       "    </tr>\n",
       "    <tr>\n",
       "      <th>19</th>\n",
       "      <td>0.414634</td>\n",
       "      <td>0.82</td>\n",
       "      <td>0.257143</td>\n",
       "    </tr>\n",
       "    <tr>\n",
       "      <th>20</th>\n",
       "      <td>0.536585</td>\n",
       "      <td>0.86</td>\n",
       "      <td>0.228571</td>\n",
       "    </tr>\n",
       "    <tr>\n",
       "      <th>21</th>\n",
       "      <td>0.634146</td>\n",
       "      <td>0.92</td>\n",
       "      <td>0.200000</td>\n",
       "    </tr>\n",
       "    <tr>\n",
       "      <th>22</th>\n",
       "      <td>0.658537</td>\n",
       "      <td>0.94</td>\n",
       "      <td>0.171429</td>\n",
       "    </tr>\n",
       "    <tr>\n",
       "      <th>23</th>\n",
       "      <td>0.756098</td>\n",
       "      <td>0.94</td>\n",
       "      <td>0.142857</td>\n",
       "    </tr>\n",
       "    <tr>\n",
       "      <th>24</th>\n",
       "      <td>0.804878</td>\n",
       "      <td>0.98</td>\n",
       "      <td>0.114286</td>\n",
       "    </tr>\n",
       "    <tr>\n",
       "      <th>25</th>\n",
       "      <td>1.000000</td>\n",
       "      <td>0.98</td>\n",
       "      <td>0.057143</td>\n",
       "    </tr>\n",
       "    <tr>\n",
       "      <th>26</th>\n",
       "      <td>1.000000</td>\n",
       "      <td>1.00</td>\n",
       "      <td>0.000000</td>\n",
       "    </tr>\n",
       "  </tbody>\n",
       "</table>\n",
       "</div>"
      ],
      "text/plain": [
       "         fpr  tpr (recall)  thresholds\n",
       "0   0.000000          0.00    1.942857\n",
       "1   0.000000          0.02    0.942857\n",
       "2   0.000000          0.06    0.885714\n",
       "3   0.024390          0.12    0.857143\n",
       "4   0.024390          0.18    0.828571\n",
       "5   0.048780          0.20    0.771429\n",
       "6   0.048780          0.26    0.742857\n",
       "7   0.048780          0.28    0.685714\n",
       "8   0.073171          0.32    0.657143\n",
       "9   0.073171          0.36    0.571429\n",
       "10  0.073171          0.44    0.542857\n",
       "11  0.097561          0.48    0.514286\n",
       "12  0.195122          0.60    0.457143\n",
       "13  0.195122          0.64    0.428571\n",
       "14  0.195122          0.66    0.400000\n",
       "15  0.219512          0.68    0.371429\n",
       "16  0.243902          0.72    0.342857\n",
       "17  0.292683          0.76    0.314286\n",
       "18  0.365854          0.80    0.285714\n",
       "19  0.414634          0.82    0.257143\n",
       "20  0.536585          0.86    0.228571\n",
       "21  0.634146          0.92    0.200000\n",
       "22  0.658537          0.94    0.171429\n",
       "23  0.756098          0.94    0.142857\n",
       "24  0.804878          0.98    0.114286\n",
       "25  1.000000          0.98    0.057143\n",
       "26  1.000000          1.00    0.000000"
      ]
     },
     "execution_count": 49,
     "metadata": {},
     "output_type": "execute_result"
    }
   ],
   "source": [
    "pd.DataFrame({\"fpr\": fpr, \"tpr (recall)\": tpr, \"thresholds\": thresholds})"
   ]
  },
  {
   "cell_type": "markdown",
   "id": "e1acff90-1796-469f-a94f-ff507fcedbf5",
   "metadata": {},
   "source": [
    "Each row tells us how small threshold should be to get at least associated recall value. For instance, with threshold smaller than 51.4% should get at least 48% recall. Default threshold of 50% get recall score 48%"
   ]
  },
  {
   "cell_type": "markdown",
   "id": "380c29d8-8ad8-40b2-9b43-70be0d346e0b",
   "metadata": {},
   "source": [
    "Visualise this by plotting flase/true positive rates together"
   ]
  },
  {
   "cell_type": "code",
   "execution_count": 50,
   "id": "9234bc27-c06d-474f-9f4d-1bde19186dc1",
   "metadata": {},
   "outputs": [
    {
     "data": {
      "image/png": "[encoded data removed]",
      "text/plain": [
       "<Figure size 432x288 with 1 Axes>"
      ]
     },
     "metadata": {
      "needs_background": "light"
     },
     "output_type": "display_data"
    }
   ],
   "source": [
    "# Plot ROC curve\n",
    "plt.plot(fpr, tpr, label=\"ROC curve\")\n",
    "plt.xlabel(\"False Positive Rate\")\n",
    "plt.ylabel(\"True Positive Rate (Recall)\")\n",
    "plt.title('ROC curve for \"presence\"')\n",
    "plt.show()"
   ]
  },
  {
   "cell_type": "markdown",
   "id": "c8e155dc-9203-4429-bd29-d41f2eba92a2",
   "metadata": {},
   "source": [
    "Ideally curve would be as close to the upper left corner as possible (high recall and small false positive). Quantify this by computing \"area\" under this curve (AUC)"
   ]
  },
  {
   "cell_type": "code",
   "execution_count": 51,
   "id": "2eb60e82-76a6-429f-b426-06b702dffaf1",
   "metadata": {},
   "outputs": [
    {
     "data": {
      "text/plain": [
       "0.7858536585365854"
      ]
     },
     "execution_count": 51,
     "metadata": {},
     "output_type": "execute_result"
    }
   ],
   "source": [
    "from sklearn.metrics import roc_auc_score\n",
    "\n",
    "# Area under the curve (AUC)\n",
    "roc_auc_score(y_true=y_val, y_score=y_val_probs[:, 1])"
   ]
  },
  {
   "cell_type": "markdown",
   "id": "608e5c16-52f4-47e9-baa2-642a6b41651e",
   "metadata": {},
   "source": [
    "Review the table of values it is possible to see row 21 is first threshold with recall score above 90% (92%)"
   ]
  },
  {
   "cell_type": "code",
   "execution_count": 52,
   "id": "de725765-b3ba-42ca-9d1c-ed99ace6b691",
   "metadata": {},
   "outputs": [
    {
     "name": "stdout",
     "output_type": "stream",
     "text": [
      "              precision    recall  f1-score   support\n",
      "\n",
      "     absence       0.79      0.37      0.50        41\n",
      "    presence       0.64      0.92      0.75        50\n",
      "\n",
      "    accuracy                           0.67        91\n",
      "   macro avg       0.71      0.64      0.63        91\n",
      "weighted avg       0.71      0.67      0.64        91\n",
      "\n"
     ]
    }
   ],
   "source": [
    "# Adjust threshold\n",
    "custom_preds = [\"absence\" if p else \"presence\" for p in (y_val_probs[:, 1] < 0.2)]\n",
    "\n",
    "print(classification_report(y_true=y_val, y_pred=custom_preds))"
   ]
  },
  {
   "cell_type": "code",
   "execution_count": null,
   "id": "285ef745-3984-4c03-bcd7-1b895a125d04",
   "metadata": {},
   "outputs": [],
   "source": []
  }
 ],
 "metadata": {
  "kernelspec": {
   "display_name": "Python [conda env:adsml] *",
   "language": "python",
   "name": "conda-env-adsml-py"
  },
  "language_info": {
   "codemirror_mode": {
    "name": "ipython",
    "version": 3
   },
   "file_extension": ".py",
   "mimetype": "text/x-python",
   "name": "python",
   "nbconvert_exporter": "python",
   "pygments_lexer": "ipython3",
   "version": "3.9.7"
  }
 },
 "nbformat": 4,
 "nbformat_minor": 5
}
