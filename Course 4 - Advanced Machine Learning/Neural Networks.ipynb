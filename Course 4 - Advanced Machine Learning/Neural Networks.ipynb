{
 "cells": [
  {
   "cell_type": "code",
   "execution_count": 1,
   "id": "5976185a-c62a-4bcb-977f-aa582fcb5a09",
   "metadata": {},
   "outputs": [
    {
     "data": {
      "text/plain": [
       "{'data': array([[0, 0, 0, ..., 0, 0, 0],\n",
       "        [0, 0, 0, ..., 0, 0, 0],\n",
       "        [0, 0, 0, ..., 0, 0, 0],\n",
       "        ...,\n",
       "        [0, 0, 0, ..., 0, 0, 0],\n",
       "        [0, 0, 0, ..., 0, 0, 0],\n",
       "        [0, 0, 0, ..., 0, 0, 0]], dtype=uint8),\n",
       " 'labels': array([5, 0, 4, ..., 8, 6, 9])}"
      ]
     },
     "execution_count": 1,
     "metadata": {},
     "output_type": "execute_result"
    }
   ],
   "source": [
    "import numpy as np\n",
    "\n",
    "# Load data\n",
    "with np.load(\"c4_mnist-6k.npz\", allow_pickle=False) as npz_file:\n",
    "    # Load items into a dictionary\n",
    "    mnist = dict(npz_file.items())\n",
    "\n",
    "mnist"
   ]
  },
  {
   "cell_type": "markdown",
   "id": "d7a5919c-2534-45fc-aa14-21f10060d65b",
   "metadata": {},
   "source": [
    "The dictionary contains a data entry with the pixel values of the 6,000 images and a labels one with their target values."
   ]
  },
  {
   "cell_type": "markdown",
   "id": "895585b5-f090-4b21-88ec-51a3f87509c0",
   "metadata": {},
   "source": [
    "We will train our model on 5,000 train images, monitor the training process with a validation set of 500 images and use the 500 remaining ones to get a final test score."
   ]
  },
  {
   "cell_type": "code",
   "execution_count": 3,
   "id": "3aabc6e9-7875-4881-bc3e-64446854dd1c",
   "metadata": {},
   "outputs": [
    {
     "name": "stdout",
     "output_type": "stream",
     "text": [
      "Train: (5000, 784) (5000,)\n",
      "Validation: (500, 784) (500,)\n",
      "Test: (500, 784) (500,)\n"
     ]
    }
   ],
   "source": [
    "from sklearn.model_selection import train_test_split\n",
    "\n",
    "# Create train/test sets\n",
    "X_train, X_test, y_train, y_test = train_test_split(\n",
    "    # Convert uint8 pixel values to float\n",
    "    mnist[\"data\"].astype(np.float32),\n",
    "    mnist[\"labels\"],\n",
    "    test_size=1000,\n",
    "    random_state=0,\n",
    ")\n",
    "\n",
    "# Split again into validation/test sets\n",
    "X_valid, X_test, y_valid, y_test = train_test_split(\n",
    "    X_test, y_test, test_size=500, random_state=0\n",
    ")\n",
    "\n",
    "print(\"Train:\", X_train.shape, y_train.shape)\n",
    "print(\"Validation:\", X_valid.shape, y_valid.shape)\n",
    "print(\"Test:\", X_test.shape, y_test.shape)"
   ]
  },
  {
   "cell_type": "markdown",
   "id": "37a8975b-d29f-424c-a459-27c58e2d8948",
   "metadata": {},
   "source": [
    "**Softmax Network**"
   ]
  },
  {
   "cell_type": "code",
   "execution_count": 4,
   "id": "b74e4953-e4f9-439c-b14b-1d91af00fd79",
   "metadata": {},
   "outputs": [],
   "source": [
    "import tensorflow as tf\n",
    "\n",
    "# Initialize network parameters\n",
    "W = tf.Variable(initial_value=tf.zeros(shape=[784, 10]))\n",
    "b = tf.Variable(initial_value=tf.zeros(shape=[10]))"
   ]
  },
  {
   "cell_type": "markdown",
   "id": "74a740d9-4236-47b5-9388-e8c0b7e1eaef",
   "metadata": {},
   "source": [
    "This code is similar to what we saw in the previous unit. We create the two variables and set their initial values with the initial_value parameter. We create a (784,10) matrix of zeros for the weights matrix using the zeros() function from TensorFlow. Similarly, we create a (10,) vector of zeros for the biases vector."
   ]
  },
  {
   "cell_type": "code",
   "execution_count": 5,
   "id": "558744f3-969a-4c33-a15f-3cb4d04fe7e0",
   "metadata": {},
   "outputs": [],
   "source": [
    "# Create input/target tensors\n",
    "X = tf.constant(X_train)\n",
    "y = tf.constant(y_train)"
   ]
  },
  {
   "cell_type": "code",
   "execution_count": 6,
   "id": "12d69fa0-ead7-41dd-9f76-dae46860597e",
   "metadata": {},
   "outputs": [
    {
     "name": "stdout",
     "output_type": "stream",
     "text": [
      "(5000, 10)\n"
     ]
    }
   ],
   "source": [
    "# Compute logits\n",
    "logits = tf.add(tf.matmul(X, W), b)   # b is the bias values\n",
    "print(logits.shape)"
   ]
  },
  {
   "cell_type": "code",
   "execution_count": 7,
   "id": "95eeae2e-c3a0-4ef8-a402-6488e3d96b4a",
   "metadata": {},
   "outputs": [
    {
     "name": "stdout",
     "output_type": "stream",
     "text": [
      "(5000, 10)\n"
     ]
    }
   ],
   "source": [
    "# We can also pass the numpy matrix directly\n",
    "logits = tf.add(tf.matmul(X_train, W), b)\n",
    "print(logits.shape)"
   ]
  },
  {
   "cell_type": "markdown",
   "id": "86d0050b-22cc-4d24-86bb-5b7a669866ab",
   "metadata": {},
   "source": [
    "**Cross-entropy Loss Function**"
   ]
  },
  {
   "cell_type": "code",
   "execution_count": 8,
   "id": "376a6db3-d3df-42b7-b1c0-c96a8a3effc1",
   "metadata": {},
   "outputs": [
    {
     "name": "stdout",
     "output_type": "stream",
     "text": [
      "(5000,)\n"
     ]
    }
   ],
   "source": [
    "# Cross-entropy loss function\n",
    "y_one_hot = tf.one_hot(indices=y, depth=10)\n",
    "ce = tf.nn.softmax_cross_entropy_with_logits(\n",
    "    labels=y_one_hot, logits=logits  # Requires one-hot encoded labels\n",
    ")\n",
    "print(ce.shape)"
   ]
  },
  {
   "cell_type": "markdown",
   "id": "f5b46d91-30c0-42d9-b458-c24809599059",
   "metadata": {},
   "source": [
    "The function requires the target values to be one-hot encoded. To achieve this, we add a one-hot encoding operation with the one_hot() function. We pass the target node y with the indices argument and the number of classes with the depth one. We can then create the softmax with cross-entropy node ce which contains the cross-entropy score for each data point.\n",
    "\n",
    "Note that TensorFlow also provides a sparse_softmax_cross_entropy_with_logits() function that doesn’t require the labels to be one-hot encoded."
   ]
  },
  {
   "cell_type": "code",
   "execution_count": 9,
   "id": "3771f5fe-0564-423d-b918-dd5314ea139d",
   "metadata": {},
   "outputs": [
    {
     "name": "stdout",
     "output_type": "stream",
     "text": [
      "(5000,)\n"
     ]
    }
   ],
   "source": [
    "# Cross-entropy loss function (without one-hot encoding)\n",
    "ce = tf.nn.sparse_softmax_cross_entropy_with_logits(labels=y, logits=logits)\n",
    "print(ce.shape)"
   ]
  },
  {
   "cell_type": "code",
   "execution_count": 10,
   "id": "0a46f215-4cd5-4103-a680-9db40e45a2c1",
   "metadata": {},
   "outputs": [
    {
     "name": "stdout",
     "output_type": "stream",
     "text": [
      "tf.Tensor(2.302591, shape=(), dtype=float32)\n"
     ]
    }
   ],
   "source": [
    "# Mean cross-entropy\n",
    "mean_ce = tf.reduce_mean(ce)\n",
    "print(mean_ce)"
   ]
  },
  {
   "cell_type": "markdown",
   "id": "07da1bea-3e8b-4a57-a1c4-1bf22d6df4e2",
   "metadata": {},
   "source": [
    "**Optimizer**"
   ]
  },
  {
   "cell_type": "code",
   "execution_count": 12,
   "id": "f0f27a1d-2614-4e22-91c3-4dd9e472b423",
   "metadata": {},
   "outputs": [],
   "source": [
    "# Gradient descent\n",
    "optimizer = tf.keras.optimizers.SGD(learning_rate=0.1)"
   ]
  },
  {
   "cell_type": "markdown",
   "id": "49330585-2e09-436d-8d34-57557d9a3bc0",
   "metadata": {},
   "source": [
    "**Measuring accuracy**"
   ]
  },
  {
   "cell_type": "markdown",
   "id": "45cf590a-3d71-427d-848e-927704dc6128",
   "metadata": {},
   "source": [
    "To compute the accuracy of our network, let’s start by creating a predictions tensor with the class that has the maximum logit value using the argmax() function."
   ]
  },
  {
   "cell_type": "code",
   "execution_count": 13,
   "id": "7ecd8e09-1349-4f34-986d-04299568ec13",
   "metadata": {},
   "outputs": [
    {
     "name": "stdout",
     "output_type": "stream",
     "text": [
      "(5000,)\n"
     ]
    }
   ],
   "source": [
    "# Compute predictions\n",
    "predictions = tf.argmax(\n",
    "    logits,                # shape: (n, 10)\n",
    "    axis=1,                # class with max logit\n",
    "    output_type=tf.int32,  # Same type as labels\n",
    ")\n",
    "print(predictions.shape)"
   ]
  },
  {
   "cell_type": "markdown",
   "id": "0dbb17ce-d5d8-4571-a13d-971db9ff9604",
   "metadata": {},
   "source": [
    "The function will return the index of the column (axis one) in the logits matrix with the largest value for each data point. Hence, we get a predictions tensor with one entry for each data point, and its shape is (5000,)."
   ]
  },
  {
   "cell_type": "markdown",
   "id": "02b277c5-f938-4ac5-adbb-0d63bd6dd975",
   "metadata": {},
   "source": [
    "To compute the accuracy of our network, we need to compare these predictions to the target values. For this reason, the two tensors need to have the same data type. In the code from above, we set the data type of the output of the argmax() function with the output_type argument."
   ]
  },
  {
   "cell_type": "code",
   "execution_count": 14,
   "id": "ca43cf61-1f54-428d-bab7-3c7f91887f23",
   "metadata": {},
   "outputs": [
    {
     "name": "stdout",
     "output_type": "stream",
     "text": [
      "(5000,)\n"
     ]
    }
   ],
   "source": [
    "# Are the predictions correct?\n",
    "is_correct = tf.equal(y, predictions)\n",
    "print(is_correct.shape)"
   ]
  },
  {
   "cell_type": "markdown",
   "id": "fe939f1b-4372-4edc-92e5-2adf4c1c7148",
   "metadata": {},
   "source": [
    "The is_correct variable is a tensor with a boolean value for each data point. The accuracy of our network is simply the proportion of True entries. To compute this accuracy value, we first convert the boolean values to numerical 0/1 values with the cast() function and then compute the mean with the reduce_mean() one."
   ]
  },
  {
   "cell_type": "code",
   "execution_count": 16,
   "id": "0f555870-ac88-4022-b905-bea3ab37d3fb",
   "metadata": {},
   "outputs": [
    {
     "name": "stdout",
     "output_type": "stream",
     "text": [
      "()\n"
     ]
    }
   ],
   "source": [
    "# Accuracy\n",
    "accuracy = tf.reduce_mean(\n",
    "    # Convert booleans (false/true) to 0/1 float numbers\n",
    "    tf.cast(is_correct, dtype=tf.float32)\n",
    ")\n",
    "print(accuracy.shape)"
   ]
  },
  {
   "cell_type": "markdown",
   "id": "96a25da0-3f55-4a70-bd9a-c2e391f4b5c7",
   "metadata": {},
   "source": [
    "**Batch Generator**"
   ]
  },
  {
   "cell_type": "markdown",
   "id": "af002f6a-acca-4df6-87a1-bf8e32bcdfea",
   "metadata": {},
   "source": [
    "Usually train neural networks with small batches of data points."
   ]
  },
  {
   "cell_type": "code",
   "execution_count": 17,
   "id": "9f3c6f7c-4454-4e5c-8596-c50731af00a1",
   "metadata": {},
   "outputs": [
    {
     "data": {
      "text/plain": [
       "<generator object get_batches at 0x00000234F61A3270>"
      ]
     },
     "execution_count": 17,
     "metadata": {},
     "output_type": "execute_result"
    }
   ],
   "source": [
    "# Function to get batches of data\n",
    "def get_batches(X, y, batch_size):\n",
    "    # Enumerate indexes by steps of batch_size\n",
    "    # i: 0, b, 2b, 3b, 4b, .. where b is the batch size\n",
    "    for i in range(0, len(y), batch_size):\n",
    "        # \"yield\" data between index i and i+b (not included)\n",
    "        yield X[i : i + batch_size], y[i : i + batch_size]\n",
    "\n",
    "\n",
    "get_batches(X_train, y_train, 64)"
   ]
  },
  {
   "cell_type": "markdown",
   "id": "13269b55-f180-4591-81c5-7b3322ba94bd",
   "metadata": {},
   "source": [
    "In this code, we define a get_batches() function that returns batches of data points from the X and y arrays of size batch_size. To achieve this, we generate an index i that ranges between zero and the number of data points by steps of size batch_size. For instance, if we have 10 data points and the batch size is 3, the i variable will take the values 0, 3, 6 and 9. To create the current batch, we extract rows of the X/y arrays between i and i+batch_size. "
   ]
  },
  {
   "cell_type": "markdown",
   "id": "0798449e-d4f5-435b-ac97-ea8eb2706ab0",
   "metadata": {},
   "source": [
    "**Training (eager execution mode)**"
   ]
  },
  {
   "cell_type": "code",
   "execution_count": 18,
   "id": "2a614a7d-b6d7-4ad5-bf23-a3e68dc08a8a",
   "metadata": {},
   "outputs": [],
   "source": [
    "# Accuracy score after each batch of data\n",
    "acc_values = []\n",
    "\n",
    "# Get batches of data\n",
    "for X_batch, y_batch in get_batches(X_train, y_train, 64):\n",
    "    # Run training operation\n",
    "    with tf.GradientTape() as tape:\n",
    "        logits = tf.add(tf.matmul(X_batch, W), b)\n",
    "        ce = tf.nn.sparse_softmax_cross_entropy_with_logits(\n",
    "            labels=y_batch, logits=logits\n",
    "        )\n",
    "        mean_ce = tf.reduce_mean(ce)\n",
    "    optimizer.minimize(loss=mean_ce, var_list=[W, b], tape=tape)\n",
    "\n",
    "    # Compute predictions\n",
    "    predictions = tf.argmax(logits, axis=1, output_type=tf.int32)\n",
    "\n",
    "    # Compute accuracy\n",
    "    is_correct = tf.equal(y_batch, predictions)\n",
    "    batch_acc = tf.reduce_mean(tf.cast(is_correct, dtype=tf.float32))\n",
    "\n",
    "    acc_values.append(batch_acc)\n",
    "\n",
    "# Get weight matrix and biases\n",
    "W_fitted = W.numpy()\n",
    "b_fitted = b.numpy()"
   ]
  },
  {
   "cell_type": "markdown",
   "id": "8011ead1-aeb9-41f4-b716-53a79488b145",
   "metadata": {},
   "source": [
    "We run the training operation by batches of data and save the batch accuracy values in an acc_values variable. At the end, we get the weights matrix and the biases vector with the numpy() function converts TensorFlow tensors to Numpy arrays."
   ]
  },
  {
   "cell_type": "code",
   "execution_count": 19,
   "id": "f3c8f6a2-096f-442c-b461-845aae02dad4",
   "metadata": {},
   "outputs": [
    {
     "data": {
      "image/png": "[encoded data removed]",
      "text/plain": [
       "<Figure size 432x288 with 1 Axes>"
      ]
     },
     "metadata": {
      "needs_background": "light"
     },
     "output_type": "display_data"
    }
   ],
   "source": [
    "%matplotlib inline\n",
    "import matplotlib.pyplot as plt\n",
    "\n",
    "# Plot accuracy values\n",
    "plt.plot(acc_values)\n",
    "plt.title(\n",
    "    \"Train accuracy (last 20 batches): {:.3f}\".format(\n",
    "        # Average accuracy value\n",
    "        np.mean(acc_values[-20:])\n",
    "    )\n",
    ")\n",
    "plt.xlabel(\"batch\")\n",
    "plt.ylabel(\"accuracy\")\n",
    "plt.show()"
   ]
  },
  {
   "cell_type": "markdown",
   "id": "e141623a-f3a5-46af-987c-cbfe659307f1",
   "metadata": {},
   "source": [
    "Since we evaluate the accuracy on only 64 data points, our accuracy measure is not very precise and varies a lot between each batch of data. However, it’s clear that our network is learning and the final test accuracy should be between 80% and 90% if we didn’t overfit."
   ]
  },
  {
   "cell_type": "markdown",
   "id": "acb97863-bb62-4f50-8733-e024601b3598",
   "metadata": {},
   "source": [
    "**Visualize templates**"
   ]
  },
  {
   "cell_type": "markdown",
   "id": "ee562b4b-4ed0-4d62-ab3c-2e68cc1198ed",
   "metadata": {},
   "source": [
    "We saw above that each output neuron learns from the data by tuning its synaptic weights (the columns of W). These weights are the signature of each output neuron. They tell us what each neuron tries to detect in the input. In our case, each weight corresponds to a pixel in our 28 by 28 images. Hence, we can plot these weights to get templates of digits learned by each neuron."
   ]
  },
  {
   "cell_type": "code",
   "execution_count": 20,
   "id": "5bca628a-63d9-403a-b0dc-b5a963e15fd9",
   "metadata": {},
   "outputs": [
    {
     "data": {
      "image/png": "[encoded data removed]",
      "text/plain": [
       "<Figure size 720x144 with 10 Axes>"
      ]
     },
     "metadata": {
      "needs_background": "light"
     },
     "output_type": "display_data"
    }
   ],
   "source": [
    "# Create figure with 10 subplots\n",
    "fig, axes = plt.subplots(nrows=1, ncols=10, figsize=(10, 2))\n",
    "\n",
    "# Plot the weights for each class in a subplot\n",
    "for i, axis in enumerate(axes):\n",
    "    # Get weights of the i-th class\n",
    "    weights = W_fitted[:, i]\n",
    "\n",
    "    # Reshape weight values into a 28x28 array\n",
    "    template = weights.reshape(28, 28)\n",
    "\n",
    "    # Plot array\n",
    "    axis.imshow(template, plt.cm.gray_r)  # Grayscale (reversed)\n",
    "    axis.get_xaxis().set_visible(False)   # disable x-axis\n",
    "    axis.get_yaxis().set_visible(False)   # disable y-axis\n",
    "    axis.set_title(i)                     # Adds title to image\n",
    "\n",
    "plt.show()"
   ]
  },
  {
   "cell_type": "markdown",
   "id": "a3ea43d6-13b0-4442-8a8d-544800e4403d",
   "metadata": {},
   "source": [
    "In this code, we create a figure with ten subplots using the subplots() function from Pyplot and get a list of axes. We plot each template by enumerating the axes. The axis and the i variables in the for loop contain each axis and its index in the list of axes. We use the index to extract the weights of the i-th output neuron and reshape these weights into a 28 by 28 array that we can then plot by calling the imshow() function of the axis object. Note that we hide the x and y axes with the set_visible() function.\n",
    "\n",
    "These ten templates define what each neuron expects. Black areas correspond to pixels that “stimulate” the output neuron, gray areas correspond to pixels that have a small impact on the output, and white areas correspond to pixels that decrease the activity of the neuron. For instance, the template for images of zeros will detect images (positive logit) with positive pixel values on the circle around the center of the image (black area) but reject ones (negative logit value) with positive pixel values in the center of the image (white area)."
   ]
  },
  {
   "cell_type": "markdown",
   "id": "9f3ee58e-252c-4dc5-b17b-22f78300bea3",
   "metadata": {},
   "source": [
    "**Improve Learning**"
   ]
  },
  {
   "cell_type": "code",
   "execution_count": 21,
   "id": "0248be8b-c3b2-41f2-baf7-734d6547f2eb",
   "metadata": {},
   "outputs": [
    {
     "data": {
      "text/plain": [
       "StandardScaler()"
      ]
     },
     "execution_count": 21,
     "metadata": {},
     "output_type": "execute_result"
    }
   ],
   "source": [
    "from sklearn.preprocessing import StandardScaler\n",
    "\n",
    "# Create a StandardScaler object and fit it to train data\n",
    "scaler = StandardScaler()\n",
    "scaler.fit(X_train)"
   ]
  },
  {
   "cell_type": "code",
   "execution_count": 22,
   "id": "e1a4a594-74e5-4d47-88dd-f2d8c97d80ad",
   "metadata": {},
   "outputs": [],
   "source": [
    "# Accuracy scores after each batch\n",
    "train_acc_values = []\n",
    "valid_acc_values = []\n",
    "\n",
    "# Reinitialize the network parameters to zero\n",
    "W = tf.Variable(initial_value=tf.zeros(shape=[784, 10]))\n",
    "b = tf.Variable(initial_value=tf.zeros(shape=[10]))\n",
    "\n",
    "# Reinitialize gradient descent and decrease the learning rate\n",
    "optimizer = tf.keras.optimizers.SGD(learning_rate=0.01)\n",
    "\n",
    "# Rescale input data\n",
    "X_train_rescaled = scaler.transform(X_train)\n",
    "X_valid_rescaled = scaler.transform(X_valid)\n",
    "\n",
    "\n",
    "# Get batches of data\n",
    "for X_batch, y_batch in get_batches(X_train_rescaled, y_train, 64):\n",
    "    # Run training\n",
    "    with tf.GradientTape() as tape:\n",
    "        train_logits = tf.add(tf.matmul(X_batch, W), b)\n",
    "        ce = tf.nn.sparse_softmax_cross_entropy_with_logits(\n",
    "            labels=y_batch, logits=train_logits\n",
    "        )\n",
    "        mean_ce = tf.reduce_mean(ce)\n",
    "    optimizer.minimize(loss=mean_ce, var_list=[W, b], tape=tape)\n",
    "\n",
    "    # Evaluate training accuracy\n",
    "    predictions = tf.argmax(train_logits, axis=1, output_type=tf.int32)\n",
    "    is_correct = tf.equal(y_batch, predictions)\n",
    "    train_acc = tf.reduce_mean(tf.cast(is_correct, dtype=tf.float32))\n",
    "    train_acc_values.append(train_acc)\n",
    "\n",
    "    # Evaluate validation accuracy\n",
    "    valid_logits = tf.add(tf.matmul(X_valid_rescaled, W), b)\n",
    "    valid_predictions = tf.argmax(valid_logits, axis=1, output_type=tf.int32)\n",
    "    is_correct = tf.equal(y_valid, valid_predictions)\n",
    "    valid_acc = tf.reduce_mean(tf.cast(is_correct, dtype=tf.float32))\n",
    "    valid_acc_values.append(valid_acc)\n",
    "\n",
    "# Get weight matrix and biases\n",
    "W_fitted = W.numpy()\n",
    "b_fitted = b.numpy()"
   ]
  },
  {
   "cell_type": "code",
   "execution_count": 23,
   "id": "faa6d9aa-5e8e-4cc6-b919-32f307509361",
   "metadata": {},
   "outputs": [
    {
     "data": {
      "image/png": "[encoded data removed]",
      "text/plain": [
       "<Figure size 432x288 with 1 Axes>"
      ]
     },
     "metadata": {
      "needs_background": "light"
     },
     "output_type": "display_data"
    }
   ],
   "source": [
    "# Plot accuracy values\n",
    "plt.plot(train_acc_values, label=\"train\")\n",
    "plt.plot(valid_acc_values, label=\"validation\")\n",
    "plt.title(\n",
    "    \"Validation accuracy: {:.3f}\".format(\n",
    "        valid_acc_values[-1]  # Last validation accuracy value\n",
    "    )\n",
    ")\n",
    "plt.xlabel(\"batch\")\n",
    "plt.ylabel(\"accuracy\")\n",
    "plt.legend()\n",
    "plt.show()"
   ]
  },
  {
   "cell_type": "code",
   "execution_count": 24,
   "id": "205175bc-bf8a-4c89-9c91-5633ae67c25e",
   "metadata": {},
   "outputs": [
    {
     "data": {
      "image/png": "[encoded data removed]",
      "text/plain": [
       "<Figure size 720x144 with 10 Axes>"
      ]
     },
     "metadata": {
      "needs_background": "light"
     },
     "output_type": "display_data"
    }
   ],
   "source": [
    "# Create figure with 10 subplots\n",
    "fig, axes = plt.subplots(nrows=1, ncols=10, figsize=(10, 2))\n",
    "\n",
    "# Plot the weights for each class in a subplot\n",
    "for i, axis in enumerate(axes):\n",
    "    # Get weights of the i-th class\n",
    "    weights = W_fitted[:, i]\n",
    "\n",
    "    # Reshape weight values into a 28x28 array\n",
    "    template = weights.reshape(28, 28)\n",
    "\n",
    "    # Plot array\n",
    "    axis.imshow(template, plt.cm.gray_r)  # Grayscale (reversed)\n",
    "    axis.get_xaxis().set_visible(False)   # disable x-axis\n",
    "    axis.get_yaxis().set_visible(False)   # disable y-axis\n",
    "    axis.set_title(i)                     # Adds title to image\n",
    "\n",
    "plt.show()"
   ]
  },
  {
   "cell_type": "code",
   "execution_count": 25,
   "id": "e721a2da-4ae7-4cb3-93ce-4b5794689642",
   "metadata": {},
   "outputs": [
    {
     "name": "stdout",
     "output_type": "stream",
     "text": [
      "Test accuracy: 0.850\n"
     ]
    }
   ],
   "source": [
    "# Evaluate validation accuracy\n",
    "X_test_rescaled = scaler.transform(X_test)\n",
    "\n",
    "test_logits = tf.add(tf.matmul(X_test_rescaled, W), b)\n",
    "test_predictions = tf.argmax(test_logits, axis=1, output_type=tf.int32)\n",
    "\n",
    "is_correct = tf.equal(y_test, test_predictions)\n",
    "test_acc = tf.reduce_mean(tf.cast(is_correct, dtype=tf.float32))\n",
    "\n",
    "print(\"Test accuracy: {:.3f}\".format(test_acc))"
   ]
  },
  {
   "cell_type": "markdown",
   "id": "2bae72eb-924f-472a-9d68-d7ecf41cb9bc",
   "metadata": {},
   "source": [
    "**Training (graph mode)**"
   ]
  },
  {
   "cell_type": "code",
   "execution_count": 26,
   "id": "f8191a5a-d088-4d93-ae91-a564a05c8652",
   "metadata": {},
   "outputs": [],
   "source": [
    "# Define the optimizer (if not done yet)\n",
    "optimizer = tf.keras.optimizers.SGD(learning_rate=0.01)"
   ]
  },
  {
   "cell_type": "code",
   "execution_count": 27,
   "id": "6bc59290-08de-4213-8693-5d503dbe4d4a",
   "metadata": {},
   "outputs": [],
   "source": [
    "# Compute the logits\n",
    "@tf.function\n",
    "def compute_logits(x, W, b):\n",
    "    logits = tf.add(tf.matmul(x, W), b)\n",
    "    return logits\n",
    "\n",
    "\n",
    "# Compute the loss\n",
    "@tf.function\n",
    "def compute_loss(y, logits):\n",
    "    ce = tf.nn.sparse_softmax_cross_entropy_with_logits(labels=y, logits=logits)\n",
    "    mean_ce = tf.reduce_mean(ce)\n",
    "    return mean_ce\n",
    "\n",
    "\n",
    "# Compute the accuracy\n",
    "@tf.function\n",
    "def compute_accuracy(y, logits):\n",
    "    predictions = tf.argmax(logits, axis=1, output_type=tf.int32)\n",
    "    is_correct = tf.equal(y, predictions)\n",
    "    acc = tf.reduce_mean(tf.cast(is_correct, dtype=tf.float32))\n",
    "    return acc\n",
    "\n",
    "\n",
    "# Train the model (optimization procedure)\n",
    "@tf.function\n",
    "def train(x, y, W, b):\n",
    "    with tf.GradientTape() as tape:\n",
    "        logits = compute_logits(x, W, b)\n",
    "        loss = compute_loss(y, logits)\n",
    "    optimizer.minimize(loss=loss, var_list=[W, b], tape=tape)\n",
    "    return logits, loss"
   ]
  },
  {
   "cell_type": "code",
   "execution_count": 28,
   "id": "5c7b1a9b-5cb6-4868-a071-547c438f179e",
   "metadata": {},
   "outputs": [],
   "source": [
    "# Accuracy scores after each batch\n",
    "train_acc_values = []\n",
    "valid_acc_values = []\n",
    "\n",
    "# Reinitialize the network parameters to zero\n",
    "W = tf.Variable(initial_value=tf.zeros(shape=[784, 10]))\n",
    "b = tf.Variable(initial_value=tf.zeros(shape=[10]))\n",
    "\n",
    "\n",
    "# Get batches of data\n",
    "for X_batch, y_batch in get_batches(X_train_rescaled, y_train, 64):\n",
    "    # Run training\n",
    "    train_logits, _ = train(X_batch, y_batch, W, b)\n",
    "\n",
    "    # Evaluate training accuracy\n",
    "    train_acc = compute_accuracy(y_batch, train_logits)\n",
    "    train_acc_values.append(train_acc)\n",
    "\n",
    "    # Evaluate validation accuracy\n",
    "    valid_logits = compute_logits(X_valid_rescaled, W, b)\n",
    "    valid_acc = compute_accuracy(y_valid, valid_logits)\n",
    "    valid_acc_values.append(valid_acc)\n",
    "\n",
    "# Get weight matrix and biases\n",
    "W_fitted = W.numpy()\n",
    "b_fitted = b.numpy()"
   ]
  },
  {
   "cell_type": "markdown",
   "id": "74b04f9f-2803-4afd-8107-d3f84625db58",
   "metadata": {},
   "source": [
    "Same outcome but graph mode more efficient"
   ]
  },
  {
   "cell_type": "code",
   "execution_count": null,
   "id": "de448d2f-5773-4b3e-b905-3062b6026d5f",
   "metadata": {},
   "outputs": [],
   "source": []
  }
 ],
 "metadata": {
  "kernelspec": {
   "display_name": "Python [conda env:adsml] *",
   "language": "python",
   "name": "conda-env-adsml-py"
  },
  "language_info": {
   "codemirror_mode": {
    "name": "ipython",
    "version": 3
   },
   "file_extension": ".py",
   "mimetype": "text/x-python",
   "name": "python",
   "nbconvert_exporter": "python",
   "pygments_lexer": "ipython3",
   "version": "3.9.7"
  }
 },
 "nbformat": 4,
 "nbformat_minor": 5
}
