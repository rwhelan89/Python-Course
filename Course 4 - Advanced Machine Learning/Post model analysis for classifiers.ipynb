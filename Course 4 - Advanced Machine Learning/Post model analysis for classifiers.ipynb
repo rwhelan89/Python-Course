{
 "cells": [
  {
   "cell_type": "code",
   "execution_count": 1,
   "id": "13b87a9b-9665-4822-81c6-fd70fe2d3560",
   "metadata": {},
   "outputs": [
    {
     "data": {
      "text/html": [
       "<div>\n",
       "<style scoped>\n",
       "    .dataframe tbody tr th:only-of-type {\n",
       "        vertical-align: middle;\n",
       "    }\n",
       "\n",
       "    .dataframe tbody tr th {\n",
       "        vertical-align: top;\n",
       "    }\n",
       "\n",
       "    .dataframe thead th {\n",
       "        text-align: right;\n",
       "    }\n",
       "</style>\n",
       "<table border=\"1\" class=\"dataframe\">\n",
       "  <thead>\n",
       "    <tr style=\"text-align: right;\">\n",
       "      <th></th>\n",
       "      <th>total_bill</th>\n",
       "      <th>tip</th>\n",
       "      <th>size</th>\n",
       "      <th>sex_Male</th>\n",
       "      <th>sex_Female</th>\n",
       "      <th>smoker_Yes</th>\n",
       "      <th>smoker_No</th>\n",
       "      <th>time_Lunch</th>\n",
       "      <th>time_Dinner</th>\n",
       "    </tr>\n",
       "  </thead>\n",
       "  <tbody>\n",
       "    <tr>\n",
       "      <th>0</th>\n",
       "      <td>16.99</td>\n",
       "      <td>1.01</td>\n",
       "      <td>2</td>\n",
       "      <td>0</td>\n",
       "      <td>1</td>\n",
       "      <td>0</td>\n",
       "      <td>1</td>\n",
       "      <td>0</td>\n",
       "      <td>1</td>\n",
       "    </tr>\n",
       "    <tr>\n",
       "      <th>1</th>\n",
       "      <td>10.34</td>\n",
       "      <td>1.66</td>\n",
       "      <td>3</td>\n",
       "      <td>1</td>\n",
       "      <td>0</td>\n",
       "      <td>0</td>\n",
       "      <td>1</td>\n",
       "      <td>0</td>\n",
       "      <td>1</td>\n",
       "    </tr>\n",
       "    <tr>\n",
       "      <th>2</th>\n",
       "      <td>21.01</td>\n",
       "      <td>3.50</td>\n",
       "      <td>3</td>\n",
       "      <td>1</td>\n",
       "      <td>0</td>\n",
       "      <td>0</td>\n",
       "      <td>1</td>\n",
       "      <td>0</td>\n",
       "      <td>1</td>\n",
       "    </tr>\n",
       "    <tr>\n",
       "      <th>3</th>\n",
       "      <td>23.68</td>\n",
       "      <td>3.31</td>\n",
       "      <td>2</td>\n",
       "      <td>1</td>\n",
       "      <td>0</td>\n",
       "      <td>0</td>\n",
       "      <td>1</td>\n",
       "      <td>0</td>\n",
       "      <td>1</td>\n",
       "    </tr>\n",
       "    <tr>\n",
       "      <th>4</th>\n",
       "      <td>24.59</td>\n",
       "      <td>3.61</td>\n",
       "      <td>4</td>\n",
       "      <td>0</td>\n",
       "      <td>1</td>\n",
       "      <td>0</td>\n",
       "      <td>1</td>\n",
       "      <td>0</td>\n",
       "      <td>1</td>\n",
       "    </tr>\n",
       "  </tbody>\n",
       "</table>\n",
       "</div>"
      ],
      "text/plain": [
       "   total_bill   tip  size  sex_Male  sex_Female  smoker_Yes  smoker_No  \\\n",
       "0       16.99  1.01     2         0           1           0          1   \n",
       "1       10.34  1.66     3         1           0           0          1   \n",
       "2       21.01  3.50     3         1           0           0          1   \n",
       "3       23.68  3.31     2         1           0           0          1   \n",
       "4       24.59  3.61     4         0           1           0          1   \n",
       "\n",
       "   time_Lunch  time_Dinner  \n",
       "0           0            1  \n",
       "1           0            1  \n",
       "2           0            1  \n",
       "3           0            1  \n",
       "4           0            1  "
      ]
     },
     "execution_count": 1,
     "metadata": {},
     "output_type": "execute_result"
    }
   ],
   "source": [
    "import seaborn as sns\n",
    "import pandas as pd\n",
    "\n",
    "# Load dataset\n",
    "df = sns.load_dataset(\"tips\")\n",
    "\n",
    "# Encode target label 'day'\n",
    "from sklearn.preprocessing import LabelEncoder\n",
    "encoder = LabelEncoder()\n",
    "y = encoder.fit_transform(df[\"day\"])\n",
    "labels = encoder.classes_\n",
    "\n",
    "# Establish feature matrix X\n",
    "X = df.drop(columns=[\"day\"])\n",
    "\n",
    "# One-hot encode remaining categorical features\n",
    "X = pd.get_dummies(X)\n",
    "\n",
    "# Show head of feature matrix\n",
    "X.head()"
   ]
  },
  {
   "cell_type": "code",
   "execution_count": 2,
   "id": "62a98dd8-6c98-4f87-aead-79e6782c9601",
   "metadata": {},
   "outputs": [],
   "source": [
    "from sklearn.svm import SVC\n",
    "from sklearn.tree import DecisionTreeClassifier\n",
    "from sklearn.ensemble import RandomForestClassifier\n",
    "from sklearn.neural_network import MLPClassifier\n",
    "from sklearn.linear_model import LogisticRegression\n",
    "from sklearn.neighbors import KNeighborsClassifier\n",
    "from sklearn.dummy import DummyClassifier\n",
    "\n",
    "# Specify names and object of multiple classifier models\n",
    "classifiers = {\n",
    "    \"Linear SVM\": SVC(C=0.1, kernel=\"linear\", probability=True),\n",
    "    \"RBF SVM\": SVC(C=1, probability=True),\n",
    "    \"Decision Tree\": DecisionTreeClassifier(max_depth=5),\n",
    "    \"Random Forest\": RandomForestClassifier(max_depth=6),\n",
    "    \"Neural Net\": MLPClassifier(max_iter=10000),\n",
    "    \"Logistic Regression\": LogisticRegression(C=1),\n",
    "    \"Nearest Neighbors\": KNeighborsClassifier(n_neighbors=10),\n",
    "    \"Baseline\": DummyClassifier(strategy=\"most_frequent\"),\n",
    "}"
   ]
  },
  {
   "cell_type": "markdown",
   "id": "5536aafc-06e9-4416-9566-6442e929d95e",
   "metadata": {},
   "source": [
    "Note: It is not recommended to train multiple models at once like in this example, due to overall computational demand, the risk of losing the oversight on each model and the challenge it would mean for a proper hyperparameter search."
   ]
  },
  {
   "cell_type": "code",
   "execution_count": 3,
   "id": "4d1ea7aa-7821-42e1-b6bd-e66289bfc9e0",
   "metadata": {},
   "outputs": [],
   "source": [
    "from sklearn.model_selection import train_test_split\n",
    "from sklearn.preprocessing import RobustScaler\n",
    "\n",
    "# Split data set into training and test set\n",
    "X_train, X_test, y_train, y_test = train_test_split(\n",
    "    X, y, test_size=0.25, random_state=24, stratify=y)\n",
    "\n",
    "# Scale data set according to training set\n",
    "scaler = RobustScaler()\n",
    "X_train = scaler.fit_transform(X_train)\n",
    "X_test = scaler.transform(X_test)\n",
    "\n",
    "# Collect multiple relevant information\n",
    "scores = []\n",
    "predicitions = []\n",
    "clfs = []\n",
    "\n",
    "# Loop through classifiers, train them and collect model information\n",
    "for name in classifiers:\n",
    "\n",
    "    # Select classifier\n",
    "    clf = classifiers[name]\n",
    "\n",
    "    # Train classifier\n",
    "    clf.fit(X_train, y_train)\n",
    "    clfs.append(clf)\n",
    "\n",
    "    # Collect multiple model outputs\n",
    "    scores.append(clf.score(X_test, y_test))\n",
    "    predicitions.append(clf.predict(X_test))"
   ]
  },
  {
   "cell_type": "code",
   "execution_count": 5,
   "id": "3aeb5383-aa23-4e9a-882b-34109a47cc50",
   "metadata": {},
   "outputs": [
    {
     "data": {
      "image/png": "[encoded data removed]",
      "text/plain": [
       "<Figure size 576x288 with 1 Axes>"
      ]
     },
     "metadata": {
      "needs_background": "light"
     },
     "output_type": "display_data"
    }
   ],
   "source": [
    "import numpy as np\n",
    "import matplotlib.pyplot as plt\n",
    "\n",
    "# Visualizing performance metric of each model\n",
    "plt.figure(figsize=(8, 4))\n",
    "plt.title(\"Model Performance\")\n",
    "plt.bar(classifiers.keys(), scores)\n",
    "plt.ylim(0.30, 0.75)\n",
    "plt.xticks(rotation=20)\n",
    "for i, s in enumerate(np.array(scores).round(3)):\n",
    "    plt.text(i - 0.25, s + 0.01, s)\n"
   ]
  },
  {
   "cell_type": "markdown",
   "id": "7b220887-8fde-4202-8620-8f84c2c46c55",
   "metadata": {},
   "source": [
    "On simple analysis Random forest looks to be best classifier but needs further analysis."
   ]
  },
  {
   "cell_type": "markdown",
   "id": "0b760429-c36e-4d0b-8536-c85f8e130be5",
   "metadata": {},
   "source": [
    "**Analysis of individual models**"
   ]
  },
  {
   "cell_type": "markdown",
   "id": "51de69af-7125-47f8-b757-be1e43c360a5",
   "metadata": {},
   "source": [
    "From the figure above we can see that the baseline model (predict the most frequent training value) is at ~36% accuracy and that the Random Forest classifier reached ~66% accuracy. This is almost twice as much! But what exactly does that mean? What about the remaining ~34% that were misclassified? What is the model struggling with?"
   ]
  },
  {
   "cell_type": "markdown",
   "id": "487f325f-f598-495c-925b-1055ee57e6bb",
   "metadata": {},
   "source": [
    "*Classification report*"
   ]
  },
  {
   "cell_type": "code",
   "execution_count": 6,
   "id": "b5e2c723-0b2e-4952-8258-715c88c2cb11",
   "metadata": {},
   "outputs": [
    {
     "name": "stdout",
     "output_type": "stream",
     "text": [
      "              precision    recall  f1-score   support\n",
      "\n",
      "         Fri       0.00      0.00      0.00         5\n",
      "         Sat       0.54      0.86      0.67        22\n",
      "         Sun       0.64      0.37      0.47        19\n",
      "        Thur       1.00      1.00      1.00        15\n",
      "\n",
      "    accuracy                           0.67        61\n",
      "   macro avg       0.54      0.56      0.53        61\n",
      "weighted avg       0.64      0.67      0.63        61\n",
      "\n"
     ]
    }
   ],
   "source": [
    "from sklearn.metrics import classification_report\n",
    "\n",
    "# Extract index of random forest classifier\n",
    "rf_idx = list(classifiers.keys()).index(\"Random Forest\")\n",
    "\n",
    "# Plot classification report\n",
    "report = classification_report(\n",
    "    y_test, predicitions[rf_idx], zero_division=False, target_names=labels)\n",
    "print(report)"
   ]
  },
  {
   "cell_type": "markdown",
   "id": "2ee9797c-ed9e-46a1-97e4-39e3866899e2",
   "metadata": {},
   "source": [
    "Interestingly, the Fri class, which only has 5 samples in the test set was never detected, while the Thur class was always correctly detected. And there seems to be some confusion between the Sat and Sun classes."
   ]
  },
  {
   "cell_type": "markdown",
   "id": "df70f9ad-fcc6-4831-baf4-7cbbfb5d66b1",
   "metadata": {},
   "source": [
    "*Confusion Matrix*"
   ]
  },
  {
   "cell_type": "markdown",
   "id": "f5ec6218-4533-4f48-adbe-b7607025c5c5",
   "metadata": {},
   "source": [
    "ConfusionMatrixDisplay routine, which allows us to directly visualize the matrix in nice colors. We will once plot the confusion matrix for the random forest model in the standard (or count) version and once in the normalized version.\n",
    "\n"
   ]
  },
  {
   "cell_type": "code",
   "execution_count": 7,
   "id": "21029cfb-4286-4822-8d80-1bced6b5f1aa",
   "metadata": {},
   "outputs": [
    {
     "data": {
      "image/png": "[encoded data removed]",
      "text/plain": [
       "<Figure size 864x288 with 4 Axes>"
      ]
     },
     "metadata": {
      "needs_background": "light"
     },
     "output_type": "display_data"
    }
   ],
   "source": [
    "from sklearn.metrics import ConfusionMatrixDisplay\n",
    "\n",
    "# Create two subplots\n",
    "f, (ax1, ax2) = plt.subplots(1, 2, figsize=(12, 4))\n",
    "\n",
    "# Plots the standard confusion matrix\n",
    "ax1.set_title(\"Confusion Matrix (counts)\")\n",
    "ConfusionMatrixDisplay.from_predictions(\n",
    "    y_test, predicitions[rf_idx], display_labels=labels, ax=ax1)\n",
    "\n",
    "# Plots the normalized confusion matrix\n",
    "ax2.set_title(\"Confusion Matrix (ratios)\")\n",
    "ConfusionMatrixDisplay.from_predictions(\n",
    "    y_test, predicitions[rf_idx], normalize=\"true\", display_labels=labels, ax=ax2)\n",
    "\n",
    "plt.show()"
   ]
  },
  {
   "cell_type": "markdown",
   "id": "1beb2bfe-f780-4bfc-991f-d1e519d033f4",
   "metadata": {},
   "source": [
    " Using the normalize=\"true\" parameter returns the percentage of correctly and misclassified samples per true class."
   ]
  },
  {
   "cell_type": "markdown",
   "id": "888d6809-eb92-43a0-b216-47fccc822788",
   "metadata": {},
   "source": [
    "**Confusion matrices are great tools to see how well a classification model works, and more importantly to better understand how it fails. We would therefore recommend to plot them, together with the classification_report for every classification model you train.**"
   ]
  },
  {
   "cell_type": "markdown",
   "id": "eef19ad5-85f7-4f12-9755-4cccffbf108b",
   "metadata": {},
   "source": [
    "Alternatively plot with seaborn vs true:"
   ]
  },
  {
   "cell_type": "code",
   "execution_count": 8,
   "id": "1243274e-7724-439e-9c30-9d77aeb56c1e",
   "metadata": {},
   "outputs": [
    {
     "data": {
      "image/png": "[encoded data removed]",
      "text/plain": [
       "<Figure size 864x72 with 1 Axes>"
      ]
     },
     "metadata": {
      "needs_background": "light"
     },
     "output_type": "display_data"
    }
   ],
   "source": [
    "# Aggregate model predictions and tree values in a DataFrame\n",
    "predicition_grid = pd.DataFrame(\n",
    "    np.array(np.vstack((y_test, predicitions[rf_idx]))),\n",
    "    index=[\"true\", \"random forest\"])\n",
    "\n",
    "# Sort the predictions per model (from top to bottom)\n",
    "predicition_grid = predicition_grid.T.sort_values(\n",
    "    by=predicition_grid.index.tolist()).T\n",
    "\n",
    "# Plot predictions in a horizontal image\n",
    "plt.figure(figsize=(12, 1))\n",
    "sns.heatmap(predicition_grid, cmap=\"rainbow\", cbar=False)\n",
    "plt.show()"
   ]
  },
  {
   "cell_type": "markdown",
   "id": "68587954-3146-4c33-abf1-0be9e1176813",
   "metadata": {},
   "source": [
    "**Model Specific Information**"
   ]
  },
  {
   "cell_type": "markdown",
   "id": "9883d910-e06f-4c7b-b3e2-9791541a5233",
   "metadata": {},
   "source": [
    "*Prediction probabilities*"
   ]
  },
  {
   "cell_type": "markdown",
   "id": "7c214dd7-a656-44fd-bb82-43cf713a557e",
   "metadata": {},
   "source": [
    "While predict() gives the most likely class label for a given sample, predict_proba() provides the probability for how likely a given sample belongs to every target class."
   ]
  },
  {
   "cell_type": "code",
   "execution_count": 9,
   "id": "8188ffd1-7f7f-4fe5-a9dd-53ab083bf6c2",
   "metadata": {},
   "outputs": [],
   "source": [
    "# Collect prediction probabilities for\n",
    "probabilities = [clf.predict_proba(X_test) for clf in clfs]"
   ]
  },
  {
   "cell_type": "code",
   "execution_count": 10,
   "id": "88eef9e9-d6ba-420a-b51d-6e9f6ec7d933",
   "metadata": {},
   "outputs": [
    {
     "data": {
      "image/png": "[encoded data removed]",
      "text/plain": [
       "<Figure size 432x288 with 1 Axes>"
      ]
     },
     "metadata": {
      "needs_background": "light"
     },
     "output_type": "display_data"
    }
   ],
   "source": [
    "plt.hist(probabilities[rf_idx].max(axis=1), bins=np.arange(0, 1.01, 0.1))\n",
    "plt.vlines(0.5, 0, 32, colors=\"k\", linestyles=\"dashed\")\n",
    "plt.show()"
   ]
  },
  {
   "cell_type": "markdown",
   "id": "0bc06794-7566-408a-b3ae-d47d9cd235fa",
   "metadata": {},
   "source": [
    "We can now see how certain each model was at predicting. Dashed black line indicates middle between not certain and certain ie 50% and only 4 samples fell below this."
   ]
  },
  {
   "cell_type": "code",
   "execution_count": 11,
   "id": "0a661dcd-05df-4753-9884-bb75be679e21",
   "metadata": {},
   "outputs": [
    {
     "data": {
      "image/png": "[encoded data removed]",
      "text/plain": [
       "<Figure size 720x216 with 1 Axes>"
      ]
     },
     "metadata": {
      "needs_background": "light"
     },
     "output_type": "display_data"
    }
   ],
   "source": [
    "# Plot probabilities for a model\n",
    "plt.figure(figsize=(10, 3))\n",
    "plt.hist(probabilities[rf_idx], log=True)\n",
    "plt.legend(labels)\n",
    "plt.vlines(0.5, 0, 100, colors=\"k\", linestyles=\"dashed\")\n",
    "plt.show()"
   ]
  },
  {
   "cell_type": "markdown",
   "id": "7859a357-45f9-4630-be5b-bf06a8de74de",
   "metadata": {},
   "source": [
    "As you can see, Thur (in red) are the only values that are exclusively below 0.1 or above this 0.5 value, while for Fri all values are below 0.5. As such, that doesn’t need to mean anything (remember that we have 4 target classes, i.e. complete uncertainty would be at 25%), but it is a good indication of how sure a model is with regards to its predictions.\n",
    "\n",
    "To contrast this, let’s take a look at another model where these probabilities are a bit more separated."
   ]
  },
  {
   "cell_type": "code",
   "execution_count": 12,
   "id": "1cbb2d50-3021-4cde-958c-3bf71d1cbb7e",
   "metadata": {},
   "outputs": [
    {
     "data": {
      "image/png": "[encoded data removed]",
      "text/plain": [
       "<Figure size 720x216 with 1 Axes>"
      ]
     },
     "metadata": {
      "needs_background": "light"
     },
     "output_type": "display_data"
    }
   ],
   "source": [
    "# Plot probabilities for a model\n",
    "plt.figure(figsize=(10, 3))\n",
    "plt.hist(probabilities[2], log=True)\n",
    "plt.legend(labels)\n",
    "plt.vlines(0.5, 0, 100, colors=\"k\", linestyles=\"dashed\")\n",
    "plt.show()"
   ]
  },
  {
   "cell_type": "markdown",
   "id": "fd259e28-b843-4b59-b300-e65656e5d7af",
   "metadata": {},
   "source": [
    "We can see that this model (in this case the decision tree) is much more certain about its prediction. However, this doesn’t imply that it’s also more accurate.\n",
    "\n",
    "An ideal situation would be a model that has high accuracy where almost all classes are predicted with either a probability around 100% or 0%. Samples that then fall in-between could be further investigated. However, such an ‘ideal’ model could potentially also be prone to overfitting."
   ]
  },
  {
   "cell_type": "markdown",
   "id": "bbdf6e0f-7490-4bc5-af88-f342da8912fd",
   "metadata": {},
   "source": [
    "*Feature Importance*"
   ]
  },
  {
   "cell_type": "markdown",
   "id": "7caa1f54-970c-49ce-a06e-55903cfb23fd",
   "metadata": {},
   "source": [
    "By looking at the feature importance or coefficients of such models, we can get some insights about which features help with the model predictions."
   ]
  },
  {
   "cell_type": "code",
   "execution_count": 13,
   "id": "292892af-1ae9-4567-a21e-24b354ed51ff",
   "metadata": {},
   "outputs": [
    {
     "data": {
      "image/png": "[encoded data removed]",
      "text/plain": [
       "<Figure size 720x216 with 1 Axes>"
      ]
     },
     "metadata": {
      "needs_background": "light"
     },
     "output_type": "display_data"
    }
   ],
   "source": [
    "# Loop through the two models and plot their feature importance information\n",
    "plt.figure(figsize=(10, 3))\n",
    "for model in [\"Decision Tree\", \"Random Forest\"]:\n",
    "    importances = clfs[list(classifiers.keys()).index(model)].feature_importances_\n",
    "    plt.bar(X.columns, importances, alpha=0.5, label=model, width=0.5)\n",
    "plt.xticks(rotation=20)\n",
    "plt.legend()\n",
    "plt.show()"
   ]
  },
  {
   "cell_type": "markdown",
   "id": "0ec6c2e7-76ab-4d24-b0c8-9e70b5564e16",
   "metadata": {},
   "source": [
    "As you can see, both models prefer similar features for their model predictions. However, while the decision tree ignores the time_Lunch feature and only looks at time_Dinner, the random forest model considers these two features equally.\n"
   ]
  },
  {
   "cell_type": "markdown",
   "id": "2951ece2-3b26-4ab5-96e8-0d5079a1d3ef",
   "metadata": {},
   "source": [
    "**Comparing individual models**"
   ]
  },
  {
   "cell_type": "code",
   "execution_count": 14,
   "id": "ad16a925-1973-4a5e-aa55-28d5c3be9871",
   "metadata": {},
   "outputs": [
    {
     "data": {
      "image/png": "[encoded data removed]",
      "text/plain": [
       "<Figure size 864x216 with 1 Axes>"
      ]
     },
     "metadata": {
      "needs_background": "light"
     },
     "output_type": "display_data"
    }
   ],
   "source": [
    "# Aggregate model predictions and tree values in a DataFrame\n",
    "predicition_grid = pd.DataFrame(\n",
    "    np.array(np.vstack((y_test, predicitions))),\n",
    "    index=[\"true\"] + list(classifiers.keys()))\n",
    "\n",
    "# Sort the predictions per model (from top to bottom)\n",
    "predicition_grid = predicition_grid.T.sort_values(by=predicition_grid.index.tolist()).T\n",
    "\n",
    "# Plot predictions in a horizontal image\n",
    "plt.figure(figsize=(12, 3))\n",
    "sns.heatmap(predicition_grid, cmap=\"rainbow\", cbar=False)\n",
    "plt.show()"
   ]
  },
  {
   "cell_type": "markdown",
   "id": "d170aef7-cca9-4d92-9a32-4c5765e9ac39",
   "metadata": {},
   "source": [
    "As you can see from this plot, none of the models is able to predict Fri (in violet), but the neural net and the nearest neighbors model misclassify other samples as Fri. Almost all models seem capable of correctly identifying Thur (in red). Furthermore, there are samples where all 7 models agreed in predicting Sat(in cyan) - in some cases correctly, in others incorrectly for Friand Sun.\n",
    "\n",
    "Based on this figure you could now undertake additional investigations. What do the samples have in common where all 7 models agreed in predicting Sat (in)correctly? Why are the Linear SVM and Nearest Neighbors models almost identical in misclassifying Sat as Sun? And so forth."
   ]
  },
  {
   "cell_type": "code",
   "execution_count": null,
   "id": "32e14d63-79b8-43e9-99c7-df51210f4540",
   "metadata": {},
   "outputs": [],
   "source": []
  }
 ],
 "metadata": {
  "kernelspec": {
   "display_name": "Python [conda env:adsml] *",
   "language": "python",
   "name": "conda-env-adsml-py"
  },
  "language_info": {
   "codemirror_mode": {
    "name": "ipython",
    "version": 3
   },
   "file_extension": ".py",
   "mimetype": "text/x-python",
   "name": "python",
   "nbconvert_exporter": "python",
   "pygments_lexer": "ipython3",
   "version": "3.9.7"
  }
 },
 "nbformat": 4,
 "nbformat_minor": 5
}
