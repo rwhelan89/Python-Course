{
 "cells": [
  {
   "cell_type": "code",
   "execution_count": 5,
   "id": "53c27bf0-dbd3-4659-a524-f3cfef61af70",
   "metadata": {},
   "outputs": [],
   "source": [
    "# Sample dictionary with two lists\n",
    "data = {\n",
    "    'x': [6.28318, 2.71828, 1],\n",
    "    'y': [2, 3, 5]\n",
    "}\n",
    "\n",
    "import pickle\n",
    "\n",
    "# Save the dictionary into a pickle file\n",
    "with open('data.p', 'wb') as file:   #(wb = writing and binary mode) \n",
    "    pickle.dump(data, file)"
   ]
  },
  {
   "cell_type": "markdown",
   "id": "834906c4-0212-4c14-b034-34c84aeb18dd",
   "metadata": {},
   "source": [
    "Cant open pickle files with notebook. Need to use load to view it:"
   ]
  },
  {
   "cell_type": "code",
   "execution_count": 6,
   "id": "22ca1da1-dfc8-40cd-b825-024b175ca46a",
   "metadata": {},
   "outputs": [
    {
     "name": "stdout",
     "output_type": "stream",
     "text": [
      "{'x': [6.28318, 2.71828, 1], 'y': [2, 3, 5]}\n"
     ]
    }
   ],
   "source": [
    "# Load the pickle file\n",
    "with open('data.p', 'rb') as file:     #reading not writing\n",
    "    data = pickle.load(file)\n",
    "\n",
    "print(data)"
   ]
  },
  {
   "cell_type": "markdown",
   "id": "d11fa0c1-70de-45ca-a335-02ff7acb959a",
   "metadata": {},
   "source": [
    "Now able to edit using python code"
   ]
  },
  {
   "cell_type": "code",
   "execution_count": 7,
   "id": "f7f4fbe2-b2fb-475f-bd90-6d8c4bea211b",
   "metadata": {},
   "outputs": [],
   "source": [
    "# Add a new element to each list\n",
    "data['x'].append(0)\n",
    "data['y'].append(7)"
   ]
  },
  {
   "cell_type": "code",
   "execution_count": 8,
   "id": "92351105-671c-473a-b4a0-af27901e2366",
   "metadata": {},
   "outputs": [],
   "source": [
    "# Save our modifications\n",
    "with open('data.p', 'wb') as file:\n",
    "    pickle.dump(data, file)"
   ]
  },
  {
   "cell_type": "markdown",
   "id": "36609a04-631f-4d68-b7a6-d4386170c5a5",
   "metadata": {},
   "source": [
    "**Numpy npy files**"
   ]
  },
  {
   "cell_type": "markdown",
   "id": "bfd103e7-6e17-4642-9133-bd742f0feca2",
   "metadata": {},
   "source": [
    "Unlike Pickle files, it doesn’t duplicate the data in memory before loading or saving the file which is very convenient for large datasets.\n",
    "It implements memory-mapping which allows reading small parts of a large dataset without loading the entire file into memory."
   ]
  },
  {
   "cell_type": "code",
   "execution_count": 9,
   "id": "d43b61b2-79c1-440d-965a-0c84a3d0e2f8",
   "metadata": {},
   "outputs": [],
   "source": [
    "import numpy as np\n",
    "\n",
    "# Create the Numpy array\n",
    "data = np.array([6.28318, 2.71828, 1], dtype=np.float16)"
   ]
  },
  {
   "cell_type": "code",
   "execution_count": 10,
   "id": "1737211d-d597-4b67-9428-cbf7e7e35790",
   "metadata": {},
   "outputs": [],
   "source": [
    "# Save it into a .npy file\n",
    "np.save('data.npy', data)"
   ]
  },
  {
   "cell_type": "markdown",
   "id": "cea87015-5357-43b4-8fe0-c23fa0925c17",
   "metadata": {},
   "source": [
    "Do not need to open file beforehand as numpy does automatically"
   ]
  },
  {
   "cell_type": "code",
   "execution_count": 11,
   "id": "a4e34488-9c64-489a-9d85-2058e1226d93",
   "metadata": {},
   "outputs": [
    {
     "data": {
      "text/plain": [
       "array([6.28 , 2.719, 1.   ], dtype=float16)"
      ]
     },
     "execution_count": 11,
     "metadata": {},
     "output_type": "execute_result"
    }
   ],
   "source": [
    "# Read it\n",
    "np.load('data.npy') # array([6.28 , 2.719, 1.   ], dtype=float16)"
   ]
  },
  {
   "cell_type": "code",
   "execution_count": 12,
   "id": "08851e23-e2b7-49d2-a309-e0f6368d9137",
   "metadata": {},
   "outputs": [
    {
     "data": {
      "text/plain": [
       "array({'x': array([6.28 , 2.719, 1.   ], dtype=float16), 'y': array([2, 3, 5])},\n",
       "      dtype=object)"
      ]
     },
     "execution_count": 12,
     "metadata": {},
     "output_type": "execute_result"
    }
   ],
   "source": [
    "data = {\n",
    "    'x': np.array([6.28318, 2.71828, 1], dtype=np.float16),\n",
    "    'y': np.array([2, 3, 5])\n",
    "}\n",
    "\n",
    "# Save it into a .npy file\n",
    "np.save('data.npy', data)\n",
    "\n",
    "# Read it\n",
    "np.load('data.npy',allow_pickle=True)\n",
    "\n",
    "# Note: Numpy wraps the dictionary in an array of\n",
    "# type `object` and uses pickle to save that object"
   ]
  },
  {
   "cell_type": "markdown",
   "id": "73b5adc0-f183-46fe-80da-edb6cd08e9b1",
   "metadata": {},
   "source": [
    "Here the file has .npy extension but contains pickle object. By default disallows Pickle for security reasons."
   ]
  },
  {
   "cell_type": "markdown",
   "id": "c7066739-7e16-4e8a-8561-92b312c4cf8c",
   "metadata": {},
   "source": [
    "**Numpy npz format**"
   ]
  },
  {
   "cell_type": "markdown",
   "id": "ab0f8365-600c-456a-bb5c-1ef3f1c0ff34",
   "metadata": {},
   "source": [
    "Possible to store multiple arrays using this format"
   ]
  },
  {
   "cell_type": "code",
   "execution_count": 13,
   "id": "cd24bafe-7011-44ea-8439-d4008eea3e3a",
   "metadata": {},
   "outputs": [],
   "source": [
    "# Create two Numpy arrays\n",
    "x = np.array([6.28318, 2.71828, 1], dtype=np.float16)\n",
    "y = np.array([2, 3, 5])"
   ]
  },
  {
   "cell_type": "code",
   "execution_count": 15,
   "id": "ab3c2a7b-a78d-4979-87af-5903c14a6282",
   "metadata": {},
   "outputs": [],
   "source": [
    "# Save them into a .npz file\n",
    "np.savez('data.npz', features=x, targets=y)    # features and targets are labels"
   ]
  },
  {
   "cell_type": "code",
   "execution_count": 16,
   "id": "f03e3ae8-08c3-4ae9-930e-4720fb895841",
   "metadata": {},
   "outputs": [
    {
     "name": "stdout",
     "output_type": "stream",
     "text": [
      "['features', 'targets']\n",
      "x: [6.28  2.719 1.   ]\n",
      "y: [2 3 5]\n"
     ]
    }
   ],
   "source": [
    "# Load the npz file\n",
    "with np.load('data.npz', allow_pickle=False) as npz_file:\n",
    "    # It's a dictionary-like object\n",
    "    print(list(npz_file.keys()))\n",
    "\n",
    "    # Load the arrays\n",
    "    print('x:', npz_file['features'])\n",
    "    print('y:', npz_file['targets'])"
   ]
  },
  {
   "cell_type": "code",
   "execution_count": null,
   "id": "47f75944-46b8-4195-b8b4-f4017b798b63",
   "metadata": {},
   "outputs": [],
   "source": []
  }
 ],
 "metadata": {
  "kernelspec": {
   "display_name": "Python [conda env:adsml] *",
   "language": "python",
   "name": "conda-env-adsml-py"
  },
  "language_info": {
   "codemirror_mode": {
    "name": "ipython",
    "version": 3
   },
   "file_extension": ".py",
   "mimetype": "text/x-python",
   "name": "python",
   "nbconvert_exporter": "python",
   "pygments_lexer": "ipython3",
   "version": "3.9.7"
  }
 },
 "nbformat": 4,
 "nbformat_minor": 5
}
