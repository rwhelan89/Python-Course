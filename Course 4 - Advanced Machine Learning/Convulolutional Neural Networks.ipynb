{
 "cells": [
  {
   "cell_type": "markdown",
   "id": "50ddfeb2-9cf4-459d-84b1-7682247bc122",
   "metadata": {},
   "source": [
    "**Convolutional Layers**"
   ]
  },
  {
   "cell_type": "markdown",
   "id": "487418cd-b171-4acb-bcb0-5e36d5868e3c",
   "metadata": {},
   "source": [
    "Used to work on 3d volumes of data like images. Idea is to learn a line detector that slides over image called a convolution.\n",
    "\n",
    "Zero padding is to pag the convoltion image with zeroes to align centre of kernal with corners.\n",
    "\n",
    "Output value is an element wise multiplication between kernel and grid values and current location and sum result.\n",
    "\n",
    "Stride of convultion defines how kernel moves on the grid.\n",
    "\n",
    "Possible to also add a bias term to each kernel in practice.\n",
    "\n",
    "Once output created then passed into activation function (relu)."
   ]
  },
  {
   "cell_type": "markdown",
   "id": "e4bf9a1d-506c-4451-be2e-ef1ef3afcbca",
   "metadata": {},
   "source": [
    "**Depth of the convolutional later**"
   ]
  },
  {
   "cell_type": "markdown",
   "id": "7b993378-a84b-47f6-9db2-d3d6c1c38072",
   "metadata": {},
   "source": [
    "In practice usually have several kernels that learn to detect different patterns and hence get different grid of outputs/activations. The *DEPTH* of a convolutional layer refers to number of kernels."
   ]
  },
  {
   "cell_type": "markdown",
   "id": "62aac30e-c6cc-451e-80f8-7ddaf0dc08bb",
   "metadata": {},
   "source": [
    "**Max Pooling Layers**"
   ]
  },
  {
   "cell_type": "markdown",
   "id": "c10cfdb4-8301-4940-abc8-d5965d3674f8",
   "metadata": {},
   "source": [
    "One of the most common pooling operations is max pooling which computes max of values in each window."
   ]
  },
  {
   "cell_type": "markdown",
   "id": "ff32e704-ac08-478d-9b96-59fe3062f4d6",
   "metadata": {},
   "source": [
    "**TensorFlow Implementation**"
   ]
  },
  {
   "cell_type": "code",
   "execution_count": 3,
   "id": "40c47dab-bcd8-4f0f-9064-6e86fd19ad3e",
   "metadata": {},
   "outputs": [],
   "source": [
    "import numpy as np\n",
    "\n",
    "# load data\n",
    "with np.load(\"c4_mnist-20k.npz\", allow_pickle=False) as npz_file:\n",
    "    mnist= dict(npz_file.items())\n",
    "    \n",
    "# convert pixels into floating point numbers\n",
    "data = mnist[\"data\"].astype(np.float32)\n",
    "\n",
    "# rescale pixel values between -0.5 and 0.5\n",
    "data = (data - 128) / 255"
   ]
  },
  {
   "cell_type": "code",
   "execution_count": 4,
   "id": "857aad39-7c25-4a17-86a0-14b6a6174b27",
   "metadata": {},
   "outputs": [
    {
     "name": "stdout",
     "output_type": "stream",
     "text": [
      "Train: (19500, 28, 28, 1) (19500,)\n",
      "Valid: (500, 28, 28, 1) (500,)\n"
     ]
    }
   ],
   "source": [
    "from sklearn.model_selection import train_test_split\n",
    "\n",
    "# Split into train and validation sets\n",
    "X_train, X_valid, y_train, y_valid = train_test_split(\n",
    "    # Reshape images (28 by 28)\n",
    "    data.reshape(-1, 28, 28, 1),  # Single channel (grayscale)\n",
    "    mnist[\"labels\"],\n",
    "    test_size=500,\n",
    "    random_state=0,\n",
    ")\n",
    "\n",
    "# Print shape\n",
    "print(\"Train:\", X_train.shape, y_train.shape)\n",
    "print(\"Valid:\", X_valid.shape, y_valid.shape)"
   ]
  },
  {
   "cell_type": "markdown",
   "id": "08c361b6-656e-4f0f-a1fd-e45e59907769",
   "metadata": {},
   "source": [
    "Code above reshapes flat matrix of image pixels back into 28x28x1 grids of values resulting in two 4 dimensional arrays.\n",
    "\n",
    "Note: The last dimension, in this case representing the grayscale channel, is very important for ConvNets. It needs to be specified even if it only has a single value, as in our example."
   ]
  },
  {
   "cell_type": "markdown",
   "id": "5d0dc144-feb0-488d-91ad-caba89d80533",
   "metadata": {},
   "source": [
    "*Define Covolutional layer*"
   ]
  },
  {
   "cell_type": "code",
   "execution_count": 6,
   "id": "d4b82b78-0d98-44ec-9111-0341b2dc580c",
   "metadata": {},
   "outputs": [
    {
     "name": "stdout",
     "output_type": "stream",
     "text": [
      "(19500, 14, 14, 16)\n"
     ]
    }
   ],
   "source": [
    "import tensorflow as tf\n",
    "\n",
    "# Convolutional layer\n",
    "conv_layer = tf.keras.layers.Conv2D(\n",
    "    filters=16,\n",
    "    kernel_size=(5, 5),\n",
    "    strides=(2, 2),\n",
    "    padding=\"SAME\",\n",
    "    activation=tf.nn.relu,\n",
    "    kernel_initializer=tf.keras.initializers.TruncatedNormal(stddev=0.01, seed=0),\n",
    "    name=\"conv\",  # Add name\n",
    ")\n",
    "conv_output = conv_layer(X_train)\n",
    "\n",
    "print(conv_output.shape)"
   ]
  },
  {
   "cell_type": "code",
   "execution_count": 7,
   "id": "53c69e23-7536-4203-a608-f22f839dcafc",
   "metadata": {},
   "outputs": [
    {
     "name": "stdout",
     "output_type": "stream",
     "text": [
      "(5, 5, 1, 16)\n",
      "(16,)\n"
     ]
    }
   ],
   "source": [
    "print(conv_layer.kernel.shape)\n",
    "print(conv_layer.bias.shape)"
   ]
  },
  {
   "cell_type": "markdown",
   "id": "f25cb33a-720b-49f1-9344-4bbce4bfb753",
   "metadata": {},
   "source": [
    "*Max pooling layer*"
   ]
  },
  {
   "cell_type": "code",
   "execution_count": 8,
   "id": "6d77ab11-956a-40a3-9229-0cc40396aea4",
   "metadata": {},
   "outputs": [
    {
     "name": "stdout",
     "output_type": "stream",
     "text": [
      "(19500, 7, 7, 16)\n"
     ]
    }
   ],
   "source": [
    "# Max pooling layer\n",
    "pool_layer = tf.keras.layers.MaxPool2D(pool_size=(2, 2), strides=(2, 2), padding=\"SAME\")\n",
    "pool_output = pool_layer(conv_output)\n",
    "\n",
    "print(pool_output.shape)"
   ]
  },
  {
   "cell_type": "markdown",
   "id": "547e92e0-675a-4941-bf3f-90c7ec93ee2a",
   "metadata": {},
   "source": [
    "As we can see, the max pooling layer reduced by half the dimensions of the input in the height/width axes and hence by 75% the number of values."
   ]
  },
  {
   "cell_type": "markdown",
   "id": "2ce0eb14-ed87-4d0a-bae6-c778598d1a0d",
   "metadata": {},
   "source": [
    "*Convolutional neural network*"
   ]
  },
  {
   "cell_type": "code",
   "execution_count": 9,
   "id": "bd459005-3ea6-4daa-8f28-87c2f2073c34",
   "metadata": {},
   "outputs": [
    {
     "name": "stdout",
     "output_type": "stream",
     "text": [
      "(19500, 7, 7, 16)\n",
      "(19500, 4, 4, 16)\n"
     ]
    }
   ],
   "source": [
    "# 2nd convolutional layer\n",
    "conv_layer2 = tf.keras.layers.Conv2D(\n",
    "    filters=16,\n",
    "    kernel_size=(3, 3),\n",
    "    strides=(1, 1),\n",
    "    padding=\"SAME\",\n",
    "    activation=tf.nn.relu,\n",
    "    kernel_initializer=tf.keras.initializers.TruncatedNormal(stddev=0.01, seed=0),\n",
    "    name=\"conv2\",\n",
    ")\n",
    "conv_output2 = conv_layer2(pool_output)\n",
    "\n",
    "# 2nd max pooling layer\n",
    "pool_output2 = pool_layer(conv_output2)\n",
    "\n",
    "print(conv_output2.shape)\n",
    "print(pool_output2.shape)"
   ]
  },
  {
   "cell_type": "markdown",
   "id": "dc6c47b5-feef-49d1-a885-e8acc1be3352",
   "metadata": {},
   "source": [
    "Now to combine these values into ten output logits with fully-connected layer."
   ]
  },
  {
   "cell_type": "code",
   "execution_count": 11,
   "id": "50a2410e-cd44-4115-96c6-13942c72d427",
   "metadata": {},
   "outputs": [
    {
     "name": "stdout",
     "output_type": "stream",
     "text": [
      "(19500, 256)\n"
     ]
    }
   ],
   "source": [
    "# Flatten output\n",
    "flat_layer = tf.keras.layers.Flatten()\n",
    "flat_output = flat_layer(pool_output2)\n",
    "\n",
    "print(flat_output.shape)"
   ]
  },
  {
   "cell_type": "markdown",
   "id": "bce9d870-8051-4053-9f1b-a20e533c388c",
   "metadata": {},
   "source": [
    "Now build final classifier using fullt-connected layer."
   ]
  },
  {
   "cell_type": "code",
   "execution_count": 12,
   "id": "5634134c-3cbe-43b1-b4a5-75d1ab94f22f",
   "metadata": {},
   "outputs": [
    {
     "name": "stdout",
     "output_type": "stream",
     "text": [
      "(19500, 10)\n"
     ]
    }
   ],
   "source": [
    "# Output layer\n",
    "logits_layer = tf.keras.layers.Dense(\n",
    "    units=10,\n",
    "    activation=None,  # No activation function\n",
    "    kernel_initializer=tf.keras.initializers.VarianceScaling(scale=1, seed=0),\n",
    "    bias_initializer=tf.zeros_initializer(),\n",
    "    name=\"dense\",\n",
    ")\n",
    "logits_output = logits_layer(flat_output)\n",
    "\n",
    "print(logits_output.shape)"
   ]
  },
  {
   "cell_type": "markdown",
   "id": "180383c8-4c49-4f5d-ad50-7c8dd8ad52b6",
   "metadata": {},
   "source": [
    "**Loss function and training operations**"
   ]
  },
  {
   "cell_type": "markdown",
   "id": "12b1a626-e410-4ed6-9177-5919819d6f27",
   "metadata": {},
   "source": [
    "Adam optimizer key difference with stochastic gradient descent is that it maintains different learning rate for each parameter in the network."
   ]
  },
  {
   "cell_type": "code",
   "execution_count": 13,
   "id": "b6809ca1-7838-4840-95e6-61e96736a2c6",
   "metadata": {},
   "outputs": [],
   "source": [
    "# Define the optimizer\n",
    "optimizer = tf.keras.optimizers.Adam(learning_rate=0.001)\n",
    "\n",
    "# Define functions used to train the graph\n",
    "\n",
    "# Compute the logits\n",
    "@tf.function\n",
    "def compute_logits(x):\n",
    "    conv_output = conv_layer(x)\n",
    "    pool_output = pool_layer(conv_output)\n",
    "    conv_output2 = conv_layer2(pool_output)\n",
    "    pool_output2 = pool_layer(conv_output2)\n",
    "    flat_output = flat_layer(pool_output2)\n",
    "    logits_output = logits_layer(flat_output)\n",
    "    return logits_output\n",
    "\n",
    "\n",
    "# Compute the loss\n",
    "@tf.function\n",
    "def compute_loss(y, logits):\n",
    "    ce = tf.nn.sparse_softmax_cross_entropy_with_logits(labels=y, logits=logits)\n",
    "    mean_ce = tf.reduce_mean(ce)\n",
    "    return mean_ce\n",
    "\n",
    "\n",
    "# Compute the accuracy\n",
    "@tf.function\n",
    "def compute_accuracy(y, logits):\n",
    "    predictions = tf.argmax(logits, axis=1, output_type=tf.int32)\n",
    "    is_correct = tf.equal(y, predictions)\n",
    "    acc = tf.reduce_mean(tf.cast(is_correct, dtype=tf.float32))\n",
    "    return acc\n",
    "\n",
    "\n",
    "# Train the model (optimization procedure)\n",
    "@tf.function\n",
    "def train(x, y):\n",
    "    with tf.GradientTape() as tape:\n",
    "        logits = compute_logits(x)\n",
    "        loss = compute_loss(y, logits)\n",
    "    # Concatenate the trainable variables in one list using the '+' operation on lists\n",
    "    variables = (\n",
    "        conv_layer.trainable_variables\n",
    "        + conv_layer2.trainable_variables\n",
    "        + logits_layer.trainable_variables\n",
    "    )\n",
    "    optimizer.minimize(loss=loss, var_list=variables, tape=tape)\n",
    "    return logits, loss"
   ]
  },
  {
   "cell_type": "markdown",
   "id": "197736c5-a5cc-4f98-9a58-71c0b807837a",
   "metadata": {},
   "source": [
    "*Train Network*"
   ]
  },
  {
   "cell_type": "code",
   "execution_count": 14,
   "id": "bbf30726-b4d3-47ce-b06c-aa0920e7175e",
   "metadata": {},
   "outputs": [],
   "source": [
    "# Batch generator\n",
    "def get_batches(X, y, batch_size):\n",
    "    # Shuffle X,y\n",
    "    shuffled_idx = np.arange(len(y))  # 1,2,...,n\n",
    "    np.random.shuffle(shuffled_idx)\n",
    "\n",
    "    # Enumerate indexes by steps of batch_size\n",
    "    # i: 0, b, 2b, 3b, 4b, .. where b is the batch size\n",
    "    for i in range(0, len(y), batch_size):\n",
    "        # Batch indexes\n",
    "        batch_idx = shuffled_idx[i : i + batch_size]\n",
    "        yield X[batch_idx], y[batch_idx]"
   ]
  },
  {
   "cell_type": "code",
   "execution_count": 15,
   "id": "6ee1396e-a5d2-49be-9052-7e1e9349eaf6",
   "metadata": {},
   "outputs": [
    {
     "name": "stdout",
     "output_type": "stream",
     "text": [
      "Epoch 1 - valid: 0.922 train: 0.752 (mean)\n",
      "Epoch 2 - valid: 0.956 train: 0.937 (mean)\n",
      "Epoch 3 - valid: 0.962 train: 0.952 (mean)\n",
      "Epoch 4 - valid: 0.968 train: 0.959 (mean)\n",
      "Epoch 5 - valid: 0.972 train: 0.968 (mean)\n",
      "Epoch 6 - valid: 0.970 train: 0.971 (mean)\n",
      "Epoch 7 - valid: 0.976 train: 0.974 (mean)\n",
      "Epoch 8 - valid: 0.976 train: 0.976 (mean)\n",
      "Epoch 9 - valid: 0.974 train: 0.976 (mean)\n",
      "Epoch 10 - valid: 0.982 train: 0.980 (mean)\n"
     ]
    }
   ],
   "source": [
    "# Validation accuracy\n",
    "valid_acc_values = []\n",
    "\n",
    "# Set seed\n",
    "np.random.seed(0)\n",
    "\n",
    "# Train several epochs\n",
    "for epoch in range(10):\n",
    "    # Accuracy values (train) after each batch\n",
    "    batch_acc = []\n",
    "\n",
    "    # Get batches of data\n",
    "    for X_batch, y_batch in get_batches(X_train, y_train, 64):\n",
    "        # Run training\n",
    "        batch_logits, _ = train(X_batch, y_batch)\n",
    "\n",
    "        # Evaluate training accuracy (on current batch)\n",
    "        acc = compute_accuracy(y_batch, batch_logits)\n",
    "        batch_acc.append(acc)\n",
    "\n",
    "    # Evaluate validation accuracy (on the whole data)\n",
    "    valid_logits = compute_logits(X_valid)\n",
    "    valid_acc = compute_accuracy(y_valid, valid_logits)\n",
    "    valid_acc_values.append(valid_acc)\n",
    "\n",
    "    # Print progress\n",
    "    print(\n",
    "        \"Epoch {} - valid: {:.3f} train: {:.3f} (mean)\".format(\n",
    "            epoch + 1, valid_acc, np.mean(batch_acc)\n",
    "        )\n",
    "    )\n",
    "\n",
    "# Get 1st conv. layer kernels\n",
    "kernels = conv_layer.kernel"
   ]
  },
  {
   "cell_type": "markdown",
   "id": "c5a51294-a2ba-466c-8924-6a3a627a2ec2",
   "metadata": {},
   "source": [
    "Train and validation accuracy values are close to each other which is a good sign that the network is not overfitting."
   ]
  },
  {
   "cell_type": "code",
   "execution_count": 16,
   "id": "57662577-dfaa-41ce-be14-93a73d21090e",
   "metadata": {},
   "outputs": [
    {
     "data": {
      "image/png": "[encoded data removed]",
      "text/plain": [
       "<Figure size 432x288 with 1 Axes>"
      ]
     },
     "metadata": {
      "needs_background": "light"
     },
     "output_type": "display_data"
    }
   ],
   "source": [
    "%matplotlib inline\n",
    "import matplotlib.pyplot as plt\n",
    "\n",
    "# Plot accuracy values\n",
    "plt.plot(valid_acc_values)\n",
    "plt.title(\n",
    "    \"Validation accuracy: {:.3f} (mean last 3)\".format(\n",
    "        np.mean(valid_acc_values[-3:])  # Last three values\n",
    "    )\n",
    ")\n",
    "plt.xlabel(\"epoch\")\n",
    "plt.ylabel(\"accuracy\")\n",
    "plt.show()"
   ]
  },
  {
   "cell_type": "markdown",
   "id": "714781c7-f8ca-4e80-afce-eaef319cc957",
   "metadata": {},
   "source": [
    "We get a final validation accuracy around 98%."
   ]
  },
  {
   "cell_type": "markdown",
   "id": "d1b9a2f5-6ee7-4f69-9ce3-db607504fe45",
   "metadata": {},
   "source": [
    "**Plot Filters**"
   ]
  },
  {
   "cell_type": "code",
   "execution_count": 17,
   "id": "506e87d1-b015-415a-8646-de53ba39240c",
   "metadata": {},
   "outputs": [
    {
     "data": {
      "image/png": "[encoded data removed]",
      "text/plain": [
       "<Figure size 576x576 with 16 Axes>"
      ]
     },
     "metadata": {
      "needs_background": "light"
     },
     "output_type": "display_data"
    }
   ],
   "source": [
    "# Create figure with subplots\n",
    "fig, axes = plt.subplots(nrows=4, ncols=4, figsize=(8, 8))\n",
    "\n",
    "# Plot the 16 kernels from the first convolutional layer\n",
    "for i, axis in enumerate(axes.flatten()):\n",
    "    # Get i-th kernel\n",
    "    kernel = kernels[:, :, :, i].numpy()\n",
    "\n",
    "    # Kernels are 5x5x1 (height, width, channels)\n",
    "    # Remove last dimension\n",
    "    kernel = kernel[:, :, 0]  # (5, 5) kernel\n",
    "\n",
    "    # Plot kernel with imshow()\n",
    "    axis.set_title(\"kernel {}\".format(i + 1))\n",
    "    axis.imshow(kernel, cmap=plt.cm.gray_r)\n",
    "    axis.get_xaxis().set_visible(False)  # disable x-axis\n",
    "    axis.get_yaxis().set_visible(False)  # disable y-axis\n",
    "\n",
    "plt.show()"
   ]
  },
  {
   "cell_type": "markdown",
   "id": "9dd0b023-d103-46a5-8bb6-7e5ef1c7af14",
   "metadata": {},
   "source": [
    "**Need to work out exercise solution**"
   ]
  },
  {
   "cell_type": "code",
   "execution_count": null,
   "id": "d12f1dd2-5405-4044-9001-9d47fd87c4df",
   "metadata": {},
   "outputs": [],
   "source": []
  }
 ],
 "metadata": {
  "kernelspec": {
   "display_name": "Python [conda env:adsml] *",
   "language": "python",
   "name": "conda-env-adsml-py"
  },
  "language_info": {
   "codemirror_mode": {
    "name": "ipython",
    "version": 3
   },
   "file_extension": ".py",
   "mimetype": "text/x-python",
   "name": "python",
   "nbconvert_exporter": "python",
   "pygments_lexer": "ipython3",
   "version": "3.9.7"
  }
 },
 "nbformat": 4,
 "nbformat_minor": 5
}
