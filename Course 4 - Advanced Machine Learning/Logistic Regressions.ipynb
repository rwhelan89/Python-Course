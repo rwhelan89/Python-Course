{
 "cells": [
  {
   "cell_type": "markdown",
   "id": "52087051-4322-46c4-840b-acf95f44a3ba",
   "metadata": {},
   "source": [
    "**Binary Classifier**"
   ]
  },
  {
   "cell_type": "code",
   "execution_count": 1,
   "id": "93e03a55-e391-41f7-9116-d0459b14d724",
   "metadata": {},
   "outputs": [
    {
     "name": "stdout",
     "output_type": "stream",
     "text": [
      "Type: <class 'sklearn.utils.Bunch'>\n"
     ]
    }
   ],
   "source": [
    "from sklearn import datasets\n",
    "\n",
    "# Load dataset\n",
    "iris = datasets.load_iris()\n",
    "\n",
    "print(\"Type:\", type(iris))  # sklearn.utils.Bunch"
   ]
  },
  {
   "cell_type": "code",
   "execution_count": 3,
   "id": "f7fa9d3d-a17b-4738-afda-be495db57940",
   "metadata": {},
   "outputs": [
    {
     "data": {
      "text/plain": [
       "dict_keys(['data', 'target', 'frame', 'target_names', 'DESCR', 'feature_names', 'filename', 'data_module'])"
      ]
     },
     "execution_count": 3,
     "metadata": {},
     "output_type": "execute_result"
    }
   ],
   "source": [
    "# Inspect object\n",
    "iris.keys()"
   ]
  },
  {
   "cell_type": "code",
   "execution_count": 4,
   "id": "2c3074ba-1f81-4f79-8ce9-575dc53be956",
   "metadata": {},
   "outputs": [
    {
     "data": {
      "text/plain": [
       "['sepal length (cm)',\n",
       " 'sepal width (cm)',\n",
       " 'petal length (cm)',\n",
       " 'petal width (cm)']"
      ]
     },
     "execution_count": 4,
     "metadata": {},
     "output_type": "execute_result"
    }
   ],
   "source": [
    "# Get feature names\n",
    "iris.feature_names"
   ]
  },
  {
   "cell_type": "code",
   "execution_count": 6,
   "id": "da60cfcb-079b-4ecd-bda7-d42d00bbaa7c",
   "metadata": {},
   "outputs": [
    {
     "data": {
      "text/plain": [
       "0    50\n",
       "1    50\n",
       "2    50\n",
       "dtype: int64"
      ]
     },
     "execution_count": 6,
     "metadata": {},
     "output_type": "execute_result"
    }
   ],
   "source": [
    "import pandas as pd\n",
    "\n",
    "# Category distribution\n",
    "pd.value_counts(iris[\"target\"])"
   ]
  },
  {
   "cell_type": "code",
   "execution_count": 7,
   "id": "dfb6da7d-030c-4409-bad4-81b5cae90b40",
   "metadata": {},
   "outputs": [
    {
     "name": "stdout",
     "output_type": "stream",
     "text": [
      "Target names: ['setosa' 'versicolor' 'virginica']\n"
     ]
    }
   ],
   "source": [
    "# Categories\n",
    "print(\"Target names:\", iris.target_names)"
   ]
  },
  {
   "cell_type": "markdown",
   "id": "1c47493a-836c-4d5d-9449-40566674cc28",
   "metadata": {},
   "source": [
    "Create binary classifier recognises setosa. Need target vector y that returns 1 for setosa and 0 for other two"
   ]
  },
  {
   "cell_type": "code",
   "execution_count": 8,
   "id": "f627c983-771d-43dd-b694-611d84bbc242",
   "metadata": {},
   "outputs": [],
   "source": [
    "# Create the binary target vector\n",
    "y = (iris[\"target\"] == 0).astype(int)"
   ]
  },
  {
   "cell_type": "markdown",
   "id": "9f106e37-395e-4756-9e3c-ac1e96a64c3e",
   "metadata": {},
   "source": [
    "In this code, we create an array of boolean values where True denotes the positive class and False the negative one. We then convert the boolean values into zeros and ones using the astype(int) function."
   ]
  },
  {
   "cell_type": "code",
   "execution_count": 16,
   "id": "a0b92354-0a7a-4d9d-86dc-58c68c0692a3",
   "metadata": {},
   "outputs": [],
   "source": [
    "# Create the input matrix\n",
    "X = iris[\"data\"]  # Get matrix with all features\n",
    "X = X[:, [2, 3]]  # Keep only petal features"
   ]
  },
  {
   "cell_type": "code",
   "execution_count": 17,
   "id": "10ce16e7-820e-4ee7-847c-df803cd4644b",
   "metadata": {},
   "outputs": [
    {
     "data": {
      "image/png": "[encoded data removed]",
      "text/plain": [
       "<Figure size 432x288 with 1 Axes>"
      ]
     },
     "metadata": {
      "needs_background": "light"
     },
     "output_type": "display_data"
    }
   ],
   "source": [
    "%matplotlib inline\n",
    "import matplotlib.pyplot as plt\n",
    "\n",
    "# Plot data points\n",
    "setosa_idx = y == 1  # setosa data points\n",
    "\n",
    "plt.scatter(\n",
    "    X[:, 0][setosa_idx], X[:, 1][setosa_idx], color=\"C3\", label=\"setosa\"\n",
    ")  # Setosa\n",
    "plt.scatter(\n",
    "    X[:, 0][~setosa_idx], X[:, 1][~setosa_idx], color=\"C0\", label=\"other\"\n",
    ")  # Versicolor and virginica\n",
    "\n",
    "# Set labels\n",
    "plt.xlabel(\"petal length (cm)\")\n",
    "plt.ylabel(\"petal width (cm)\")\n",
    "plt.legend()\n",
    "plt.show()"
   ]
  },
  {
   "cell_type": "markdown",
   "id": "0f22af44-3e41-48d0-b09d-e94f5deb136c",
   "metadata": {},
   "source": [
    "In this case, we say that the data is linearly separable because it’s possible to draw a line (or a hyperplane in higher dimensions) that separates the different categories."
   ]
  },
  {
   "cell_type": "code",
   "execution_count": 19,
   "id": "7a443377-bbe4-4480-bbc4-47d27f4a82f2",
   "metadata": {},
   "outputs": [],
   "source": [
    "from sklearn.model_selection import train_test_split\n",
    "\n",
    "# Split into train/test sets\n",
    "X_tr, X_te, y_tr, y_te = train_test_split(X, y, test_size=0.3, random_state=0)"
   ]
  },
  {
   "cell_type": "markdown",
   "id": "6d503503-6461-4f6c-8d0f-92f85db9434a",
   "metadata": {},
   "source": [
    "To avoid any issue with the features scale, let’s encapsulate the estimator in a pipeline with a StandardScaler"
   ]
  },
  {
   "cell_type": "code",
   "execution_count": 20,
   "id": "8856a2dc-86f7-4b8c-a2b9-204e69c733ea",
   "metadata": {},
   "outputs": [
    {
     "data": {
      "text/plain": [
       "Pipeline(steps=[('standardscaler', StandardScaler()),\n",
       "                ('logisticregression', LogisticRegression())])"
      ]
     },
     "execution_count": 20,
     "metadata": {},
     "output_type": "execute_result"
    }
   ],
   "source": [
    "from sklearn.linear_model import LogisticRegression\n",
    "from sklearn.preprocessing import StandardScaler\n",
    "from sklearn.pipeline import make_pipeline\n",
    "\n",
    "# Create the estimator\n",
    "logreg = make_pipeline(StandardScaler(), LogisticRegression())\n",
    "\n",
    "# Fit it to train data\n",
    "logreg.fit(X_tr, y_tr)"
   ]
  },
  {
   "cell_type": "markdown",
   "id": "4d923ece-571b-49bf-ae46-7e98a9d4bb98",
   "metadata": {},
   "source": [
    "The LogisticRegression documentation recommends using the liblinear solver for small datasets."
   ]
  },
  {
   "cell_type": "code",
   "execution_count": 21,
   "id": "d5d04a7e-7c7a-4c3c-a7e6-35700ae3051b",
   "metadata": {},
   "outputs": [
    {
     "name": "stdout",
     "output_type": "stream",
     "text": [
      "Accuracy: 1.000\n"
     ]
    }
   ],
   "source": [
    "# Create the estimator\n",
    "logreg = make_pipeline(StandardScaler(), LogisticRegression(solver=\"liblinear\"))\n",
    "\n",
    "# Fit it to train data\n",
    "logreg.fit(X_tr, y_tr)\n",
    "\n",
    "# Accuracy on test set\n",
    "accuracy = logreg.score(X_te, y_te)\n",
    "print(\"Accuracy: {:.3f}\".format(accuracy))"
   ]
  },
  {
   "cell_type": "markdown",
   "id": "c81941fb-d5f4-4390-bdbe-ce8a07c5fc81",
   "metadata": {},
   "source": [
    "We obtain a test accuracy of 1 which means that our estimator correctly classified all points from the test set. We can compute predictions for new data points with the predict() function"
   ]
  },
  {
   "cell_type": "code",
   "execution_count": 22,
   "id": "c719dc0c-08a1-44ce-976a-b1a7d8dfafc7",
   "metadata": {},
   "outputs": [
    {
     "data": {
      "text/plain": [
       "array([1])"
      ]
     },
     "execution_count": 22,
     "metadata": {},
     "output_type": "execute_result"
    }
   ],
   "source": [
    "# New flower\n",
    "new_flower = [\n",
    "    1.5,  # petal length (cm)\n",
    "    0.3,  # petal width (cm)\n",
    "]\n",
    "\n",
    "# Classify it\n",
    "logreg.predict([new_flower])"
   ]
  },
  {
   "cell_type": "markdown",
   "id": "02cb6e55-4351-4a9f-a782-ae3f633a0091",
   "metadata": {},
   "source": [
    "Our classifier labels the new data point with a one (positive class) which means that it’s likely a setosa flower. We can obtain the probabilities from the sigmoid with predict_proba()"
   ]
  },
  {
   "cell_type": "code",
   "execution_count": 23,
   "id": "707d0979-aba1-4a5b-b809-ed7ed76e7ad5",
   "metadata": {},
   "outputs": [
    {
     "data": {
      "text/plain": [
       "array([[0.05238258, 0.94761742]])"
      ]
     },
     "execution_count": 23,
     "metadata": {},
     "output_type": "execute_result"
    }
   ],
   "source": [
    "# Get probabilities\n",
    "logreg.predict_proba([new_flower])"
   ]
  },
  {
   "cell_type": "markdown",
   "id": "aaacb515-cbd7-46df-8133-659424ebe065",
   "metadata": {},
   "source": [
    "According to our classifier, the new data point is a setosa flower with probability 0.95."
   ]
  },
  {
   "cell_type": "markdown",
   "id": "d58aa80f-d4c3-4eac-a462-2c5e59ebc551",
   "metadata": {},
   "source": [
    "Note that we can use this function to visualize the decision surface of our classifier and draw the boundary that delimits the two classes by marking points with p=0.5. In short, the function creates a grid of data points in the range of our X/y values and evaluates their probability using our logreg estimator."
   ]
  },
  {
   "cell_type": "code",
   "execution_count": 25,
   "id": "334c8fd4-662f-4c95-a606-592276627460",
   "metadata": {},
   "outputs": [],
   "source": [
    "import numpy as np\n",
    "\n",
    "# Helper function\n",
    "def decision_surface(ax, X, y, logreg):\n",
    "    # Plot data points\n",
    "    setosa_idx = y == 1  # Setosa data points\n",
    "\n",
    "    plt.scatter(\n",
    "        X[:, 0][setosa_idx], X[:, 1][setosa_idx], color=\"C3\", label=\"setosa\"\n",
    "    )  # Setosa\n",
    "    plt.scatter(\n",
    "        X[:, 0][~setosa_idx], X[:, 1][~setosa_idx], color=\"C0\", label=\"other\"\n",
    "    )  # Versicolor and virginica\n",
    "\n",
    "    # Create a grid of values\n",
    "    xlim, ylim = ax.get_xlim(), ax.get_ylim()\n",
    "    x_values = np.linspace(*xlim, num=40)\n",
    "    y_values = np.linspace(*ylim, num=40)\n",
    "    xx, yy = np.meshgrid(x_values, y_values)\n",
    "    points = np.c_[xx.flatten(), yy.flatten()]\n",
    "\n",
    "    # Probability for positive class (setosa)\n",
    "    probs = logreg.predict_proba(points)\n",
    "    prob_setosa = probs[:, 1]\n",
    "\n",
    "    # Draw decision boundary (p=0.5)\n",
    "    zz = prob_setosa.reshape(xx.shape)\n",
    "    plt.contour(xx, yy, zz, levels=[0.5], colors=\"gray\")\n",
    "\n",
    "    # Plot decision surface with level curves\n",
    "    plt.contourf(xx, yy, zz, 10, alpha=0.3, cmap=plt.cm.coolwarm)\n",
    "\n",
    "    # Add labels\n",
    "    plt.xlabel(\"petal length (cm)\")\n",
    "    plt.ylabel(\"petal width (cm)\")\n",
    "    plt.legend()\n",
    "    plt.colorbar(label=\"probability\")\n",
    "    plt.show()"
   ]
  },
  {
   "cell_type": "code",
   "execution_count": 26,
   "id": "73851c4c-0e49-4079-b1ef-5e5c5089d03a",
   "metadata": {},
   "outputs": [
    {
     "data": {
      "image/png": "[encoded data removed]",
      "text/plain": [
       "<Figure size 432x288 with 2 Axes>"
      ]
     },
     "metadata": {
      "needs_background": "light"
     },
     "output_type": "display_data"
    }
   ],
   "source": [
    "# Plot decision surface\n",
    "fig = plt.figure()\n",
    "decision_surface(fig.gca(), X, y, logreg)"
   ]
  },
  {
   "cell_type": "markdown",
   "id": "badeb35c-c156-4cc4-8f55-71aec883b284",
   "metadata": {},
   "source": [
    "We use a red/blue scale to plot the decision surface. Regions in red are associated with probabilities close to one and regions in blue with probabilities close to zero. The gray line delimits points with p<0.5 from points with p>0.5."
   ]
  },
  {
   "cell_type": "markdown",
   "id": "4f98a4b7-0559-4e5d-8b82-b17c07cb2ea3",
   "metadata": {},
   "source": [
    "**Multiclass Classification**"
   ]
  },
  {
   "cell_type": "markdown",
   "id": "45677c7f-096d-41d8-b564-1c25a863e263",
   "metadata": {},
   "source": [
    "In this unit, we will discuss two different ways to apply logistic regressions to the multiclass case.\n",
    "\n",
    "1. Using softmax regression which directly generalizes logistic regressions to multiple classes.\n",
    "2. Using the one-vs.-one (OvO) and the one-vs.-rest (OvR) strategies that convert the multiclass classification problem into several binary classifications.\n",
    "\n",
    "Note that the second option is not specific to logistic regressions and can use any set of binary classifiers to solve a multiclass classification problem."
   ]
  },
  {
   "cell_type": "markdown",
   "id": "f4ee80f7-b0ff-4e7c-a5f0-f022d06b37ee",
   "metadata": {},
   "source": [
    "it’s common to try both the one-vs.-rest (OvR) strategy and softmax regression, and see which one gives the best results."
   ]
  },
  {
   "cell_type": "code",
   "execution_count": 27,
   "id": "caa09552-50cc-41d5-8eae-6eab87ef637d",
   "metadata": {},
   "outputs": [],
   "source": [
    "# Create X/y arrays\n",
    "X = iris['data'][:, [2, 3]] # Keep only petal features\n",
    "y = iris['target']"
   ]
  },
  {
   "cell_type": "code",
   "execution_count": 28,
   "id": "bb35c6c5-a43d-4530-842d-60b8cacc9bf5",
   "metadata": {},
   "outputs": [
    {
     "data": {
      "image/png": "[encoded data removed]",
      "text/plain": [
       "<Figure size 432x288 with 1 Axes>"
      ]
     },
     "metadata": {
      "needs_background": "light"
     },
     "output_type": "display_data"
    }
   ],
   "source": [
    "%matplotlib inline\n",
    "import matplotlib.pyplot as plt\n",
    "\n",
    "# Plot data\n",
    "setosa_idx = (y == 0) # Setosa points\n",
    "versicolor_idx = (y == 1) # Versicolor points\n",
    "virginica_idx = (y==2) # Virginica points\n",
    "\n",
    "plt.scatter(X[:, 0][setosa_idx], X[:, 1][setosa_idx], c='C3', label='setosa')\n",
    "plt.scatter(X[:, 0][versicolor_idx], X[:, 1][versicolor_idx], c='C2', label='versicolor')\n",
    "plt.scatter(X[:, 0][virginica_idx], X[:, 1][virginica_idx], c='C0', label='virginica')\n",
    "\n",
    "# Set labels\n",
    "plt.xlabel('petal length (cm)')\n",
    "plt.ylabel('petal width (cm)')\n",
    "plt.legend()\n",
    "plt.show()"
   ]
  },
  {
   "cell_type": "code",
   "execution_count": 29,
   "id": "0db93a0a-e7cc-4d7d-be1d-a0deda5fb81d",
   "metadata": {},
   "outputs": [],
   "source": [
    "from sklearn.model_selection import train_test_split\n",
    "\n",
    "# Split into train/test sets\n",
    "X_tr, X_te, y_tr, y_te = train_test_split(\n",
    "    X, y, test_size=0.3, random_state=0)"
   ]
  },
  {
   "cell_type": "markdown",
   "id": "6c99f735-e6da-4e9e-8316-e347a53c0add",
   "metadata": {},
   "source": [
    "*Multiclass logistic regression with OvR*"
   ]
  },
  {
   "cell_type": "markdown",
   "id": "6ef521c9-dee4-45bf-aae5-ec295772bd80",
   "metadata": {},
   "source": [
    "By default, the LogisticRegression estimator uses the one-vs.-rest (OvR) strategy for multiclass classification in all Scikit-learn versions prior to version 0.22. The later versions use softmax regression by default."
   ]
  },
  {
   "cell_type": "code",
   "execution_count": 30,
   "id": "5f674e50-205d-487f-a914-dcc3219201d8",
   "metadata": {},
   "outputs": [
    {
     "name": "stdout",
     "output_type": "stream",
     "text": [
      "Accuracy: 0.800\n"
     ]
    }
   ],
   "source": [
    "from sklearn.linear_model import LogisticRegression\n",
    "from sklearn.preprocessing import StandardScaler\n",
    "from sklearn.pipeline import make_pipeline\n",
    "\n",
    "# Create the estimator\n",
    "logreg = make_pipeline(\n",
    "    StandardScaler(), LogisticRegression(multi_class='ovr', solver='liblinear'))\n",
    "\n",
    "# Fit it to train data\n",
    "logreg.fit(X_tr, y_tr)\n",
    "\n",
    "# Accuracy on test set\n",
    "accuracy = logreg.score(X_te, y_te)\n",
    "print('Accuracy: {:.3f}'.format(accuracy))"
   ]
  },
  {
   "cell_type": "markdown",
   "id": "9c793645-7a39-44ec-8095-deeda206cf70",
   "metadata": {},
   "source": [
    "In this code, we create the classifier, fit it to the train data and evaluate it on the test set. We get an accuracy around 80%. We can see on the plot from above that each category occupies a different region. The separation between versicolor and virginica flowers is not entirely clear, but we should be able to create a classifier with an accuracy close to 100%."
   ]
  },
  {
   "cell_type": "markdown",
   "id": "7563d03c-077a-459a-937e-6e315a29876f",
   "metadata": {},
   "source": [
    "The issue comes from the regularization term. By default, Scikit-learn adds an \n",
    "L\n",
    "2\n",
    " term to the loss function of the logistic model. In our case, the regularization strength is too large and our model is underfitting. It’s not possible to remove this regularization term from the LogisticRegression object, but we can reduce its impact with the C parameter which is the inverse of the regularization strength.\n",
    "\n"
   ]
  },
  {
   "cell_type": "code",
   "execution_count": 31,
   "id": "33e3baa1-17de-45a4-b918-b97bbbe30d70",
   "metadata": {},
   "outputs": [
    {
     "name": "stdout",
     "output_type": "stream",
     "text": [
      "Accuracy: 0.978\n"
     ]
    }
   ],
   "source": [
    "# Create the estimator\n",
    "logreg = make_pipeline(\n",
    "    # C: inverse of regularization strength\n",
    "    StandardScaler(), LogisticRegression(C=1000, multi_class='ovr', solver='liblinear'))\n",
    "\n",
    "# Fit it to train data\n",
    "logreg.fit(X_tr, y_tr)\n",
    "\n",
    "# Accuracy on test set\n",
    "accuracy = logreg.score(X_te, y_te)\n",
    "print('Accuracy: {:.3f}'.format(accuracy))"
   ]
  },
  {
   "cell_type": "markdown",
   "id": "b67b1d81-3e8e-4ef8-91be-38cb051d6900",
   "metadata": {},
   "source": [
    " In the code from above, we set it to a thousand which means that the penalization term has a small impact on the overall loss value, and we get an accuracy around 98%."
   ]
  },
  {
   "cell_type": "markdown",
   "id": "2d3e822e-afcb-4072-9e3a-d997ff5e86d1",
   "metadata": {},
   "source": [
    "Predict new data points"
   ]
  },
  {
   "cell_type": "code",
   "execution_count": 32,
   "id": "80ff2ca5-d4fc-4eb8-b611-829bea345448",
   "metadata": {},
   "outputs": [
    {
     "data": {
      "text/plain": [
       "array([[8.62023737e-08, 5.51329272e-01, 4.48670642e-01]])"
      ]
     },
     "execution_count": 32,
     "metadata": {},
     "output_type": "execute_result"
    }
   ],
   "source": [
    "# New flower\n",
    "new_flower = [\n",
    "    5, # petal length (cm)\n",
    "    1.5, # petal width (cm)\n",
    "]\n",
    "\n",
    "# Predict probabilities\n",
    "logreg.predict_proba([new_flower])"
   ]
  },
  {
   "cell_type": "markdown",
   "id": "ccaf47a3-efda-4c9c-a698-2aae3d89620f",
   "metadata": {},
   "source": [
    "In the OvR strategy, there is a classifier for each class that estimates the probability that new data points belongs to it. In this code, the predict_proba() function returns these probabilities normalized such that they sum to one. For instance, if our three classifiers return p1=0.5, p2=0.5 and p3=1, then the function will return [0.25, 0.25, 0.5].\n",
    "\n",
    "In our example, the second category has the largest probability with p=0.55 and the point is classified as a versicolor iris flower. We can verify that using the predict() function"
   ]
  },
  {
   "cell_type": "code",
   "execution_count": 33,
   "id": "ec505e62-2050-44e3-b1d9-5e52d90cf33c",
   "metadata": {},
   "outputs": [
    {
     "data": {
      "text/plain": [
       "array([1])"
      ]
     },
     "execution_count": 33,
     "metadata": {},
     "output_type": "execute_result"
    }
   ],
   "source": [
    "# Predict class with highest probability\n",
    "logreg.predict([new_flower])"
   ]
  },
  {
   "cell_type": "markdown",
   "id": "b4d05afd-4453-4d1d-bfe4-ab7f1dcd5c47",
   "metadata": {},
   "source": [
    "*Softmax Regression*"
   ]
  },
  {
   "cell_type": "code",
   "execution_count": 35,
   "id": "a1c545a8-0089-429a-8616-8816cb3bc567",
   "metadata": {},
   "outputs": [
    {
     "name": "stdout",
     "output_type": "stream",
     "text": [
      "Solver liblinear does not support a multinomial backend.\n"
     ]
    }
   ],
   "source": [
    "# Create the estimator\n",
    "logreg = make_pipeline(\n",
    "    StandardScaler(), LogisticRegression(multi_class='multinomial', solver='liblinear'))\n",
    "\n",
    "# Fit it to train data\n",
    "try:\n",
    "    logreg.fit(X_tr, y_tr)\n",
    "except Exception as e:\n",
    "    print(e) # Solver liblinear does not support a multinomial backend."
   ]
  },
  {
   "cell_type": "markdown",
   "id": "dce0d240-2e4a-4a1f-9f76-4de29b54c4b3",
   "metadata": {},
   "source": [
    "use solver saga (Stochastic Average Gradient descent) supports both OVR and multinomial classification."
   ]
  },
  {
   "cell_type": "code",
   "execution_count": 36,
   "id": "98944fef-07a0-4c71-b067-539c53bdda98",
   "metadata": {},
   "outputs": [
    {
     "name": "stdout",
     "output_type": "stream",
     "text": [
      "Accuracy: 0.956\n"
     ]
    }
   ],
   "source": [
    "# Create the estimator\n",
    "logreg = make_pipeline(\n",
    "    StandardScaler(), LogisticRegression(multi_class='multinomial', solver='saga'))\n",
    "\n",
    "# Fit it to train data\n",
    "logreg.fit(X_tr, y_tr)\n",
    "\n",
    "# Accuracy on test set\n",
    "accuracy = logreg.score(X_te, y_te)\n",
    "print('Accuracy: {:.3f}'.format(accuracy)) # Prints: 0.956"
   ]
  },
  {
   "cell_type": "markdown",
   "id": "6d46779a-fab8-4e51-895c-49d83ee07d0c",
   "metadata": {},
   "source": [
    "Accuracy slightly lower than OvR"
   ]
  },
  {
   "cell_type": "markdown",
   "id": "b4a8b9fe-a872-4ed9-b72c-8828a66f450a",
   "metadata": {},
   "source": [
    "Aim to increase accuracy by introducing C"
   ]
  },
  {
   "cell_type": "code",
   "execution_count": 37,
   "id": "7067a822-1ff2-45e5-bd91-5f38026f17f4",
   "metadata": {},
   "outputs": [
    {
     "name": "stdout",
     "output_type": "stream",
     "text": [
      "Accuracy: 0.978\n"
     ]
    }
   ],
   "source": [
    "# Create the estimator\n",
    "logreg = make_pipeline(\n",
    "    StandardScaler(), LogisticRegression(C=10, multi_class='multinomial', solver='saga'))\n",
    "\n",
    "# Fit it to train data\n",
    "logreg.fit(X_tr, y_tr)\n",
    "\n",
    "# Accuracy on test set\n",
    "accuracy = logreg.score(X_te, y_te)\n",
    "print('Accuracy: {:.3f}'.format(accuracy))"
   ]
  },
  {
   "cell_type": "markdown",
   "id": "85e3f873-01d8-4461-b76a-bac691211e2a",
   "metadata": {},
   "source": [
    "**Cross Validation**"
   ]
  },
  {
   "cell_type": "markdown",
   "id": "3d84c359-87ba-499c-9fc4-c22278890e1a",
   "metadata": {},
   "source": [
    "Scikit-learn implements several cross-validator objects that we can use to perform cross-validation. The KFold one implements the k-fold strategy. We can set the number of folds with the n_splits attribute."
   ]
  },
  {
   "cell_type": "code",
   "execution_count": 39,
   "id": "7e80cafa-671c-4517-81fa-6a18244b6f5f",
   "metadata": {},
   "outputs": [],
   "source": [
    "# Create X/y arrays\n",
    "X = iris[\"data\"]\n",
    "y = iris[\"target\"]\n",
    "\n",
    "from sklearn.model_selection import KFold\n",
    "\n",
    "# Create k-fold object\n",
    "kfold = KFold(n_splits=3)"
   ]
  },
  {
   "cell_type": "markdown",
   "id": "4cdb6ed3-8205-4047-ace0-7b2568c50a19",
   "metadata": {},
   "source": [
    "Evaluate the generalization performance of a LogisticRegression() estimator with the one-vs.-rest (OvR) multiclass strategy."
   ]
  },
  {
   "cell_type": "code",
   "execution_count": 40,
   "id": "5e4cc0e5-e15c-4039-9fc7-b4b1e1f5c3f6",
   "metadata": {},
   "outputs": [],
   "source": [
    "from sklearn.linear_model import LogisticRegression\n",
    "from sklearn.preprocessing import StandardScaler\n",
    "from sklearn.pipeline import make_pipeline\n",
    "\n",
    "# Create a logistic regression\n",
    "logreg = make_pipeline(\n",
    "    StandardScaler(), LogisticRegression(C=1000, solver=\"liblinear\", multi_class=\"ovr\")\n",
    ")"
   ]
  },
  {
   "cell_type": "markdown",
   "id": "ac67a062-502c-46fc-bf79-d0528d7acad7",
   "metadata": {},
   "source": [
    "Apply cross validation"
   ]
  },
  {
   "cell_type": "code",
   "execution_count": 41,
   "id": "885e5481-d0a0-489d-9599-4828d31d428e",
   "metadata": {},
   "outputs": [
    {
     "data": {
      "text/plain": [
       "dict_keys(['fit_time', 'score_time', 'test_score', 'train_score'])"
      ]
     },
     "execution_count": 41,
     "metadata": {},
     "output_type": "execute_result"
    }
   ],
   "source": [
    "from sklearn.model_selection import cross_validate\n",
    "\n",
    "# Apply cross-validation\n",
    "scores = cross_validate(logreg, X, y, cv=kfold, return_train_score=True)\n",
    "\n",
    "# The \"scores\" variable is a dictionary with the scores\n",
    "scores.keys()"
   ]
  },
  {
   "cell_type": "markdown",
   "id": "faad4727-3631-4850-a805-9294060d4fa0",
   "metadata": {},
   "source": [
    "The function takes the estimator, the X/y data and our cross-validator object as arguments, and returns a dictionary with the results. Each entry is a list with one value for each fold.\n",
    "\n",
    "* fit_time - time to fit the estimator\n",
    "* score_time - time to evaluate the estimator\n",
    "* train_score - performance on the (k−1) parts to train the estimator\n",
    "* test_score - performance on the remaining “validation set”\n"
   ]
  },
  {
   "cell_type": "code",
   "execution_count": 42,
   "id": "c409d029-3a3a-4ed8-8b18-7bc07ae9d7d1",
   "metadata": {},
   "outputs": [
    {
     "name": "stdout",
     "output_type": "stream",
     "text": [
      "Train scores: [0.98 1.   1.  ]\n",
      "Test scores: [0. 0. 0.]\n"
     ]
    }
   ],
   "source": [
    "print(\"Train scores:\", scores[\"train_score\"])\n",
    "print(\"Test scores:\", scores[\"test_score\"])"
   ]
  },
  {
   "cell_type": "markdown",
   "id": "2635fca2-4671-40b9-b269-fc480900b8b9",
   "metadata": {},
   "source": [
    "We can see that the train scores (accuracy) are close to one, but the test scores are all zero. By default, the KFold object splits the data into k parts without shuffling. This can cause issues when the target values are ordered."
   ]
  },
  {
   "cell_type": "markdown",
   "id": "1a377825-c734-4cdf-8c88-5cce22c23861",
   "metadata": {},
   "source": [
    "The KFold object provides a shuffle parameter to shuffle the data before splitting it into k parts. Note that we can set the seed number with the random_state attribute"
   ]
  },
  {
   "cell_type": "code",
   "execution_count": 43,
   "id": "f3a4f683-f27b-4cf2-9a37-b111592cf3b0",
   "metadata": {},
   "outputs": [],
   "source": [
    "# Create k-fold object\n",
    "kfold = KFold(n_splits=3, shuffle=True, random_state=0)"
   ]
  },
  {
   "cell_type": "code",
   "execution_count": 44,
   "id": "1b8d7063-06cc-4680-814b-af966deb4eff",
   "metadata": {},
   "outputs": [
    {
     "name": "stdout",
     "output_type": "stream",
     "text": [
      "Train scores: [0.98 0.96 0.98]\n",
      "Test scores: [0.98 0.96 0.96]\n"
     ]
    }
   ],
   "source": [
    "# Apply cross-validation\n",
    "scores = cross_validate(logreg, X, y, cv=kfold, return_train_score=True)\n",
    "\n",
    "print(\"Train scores:\", scores[\"train_score\"])\n",
    "print(\"Test scores:\", scores[\"test_score\"])"
   ]
  },
  {
   "cell_type": "markdown",
   "id": "27f239e3-9e56-4a3f-8f54-d1e62edfc198",
   "metadata": {},
   "source": [
    "Note that we can also pass an integer value to the cv attribute. In this case, the cross_validate() function automatically creates a k-fold cross-validator object and sets its k value"
   ]
  },
  {
   "cell_type": "code",
   "execution_count": 45,
   "id": "81b911d1-73c7-4c5c-9526-b46120732a57",
   "metadata": {},
   "outputs": [
    {
     "name": "stdout",
     "output_type": "stream",
     "text": [
      "Train scores: [0.95 0.97 0.99]\n",
      "Test scores: [0.98 0.94 0.94]\n"
     ]
    }
   ],
   "source": [
    "# Apply cross-validation\n",
    "scores = cross_validate(logreg, X, y, cv=3, return_train_score=True)\n",
    "\n",
    "print(\"Train scores:\", scores[\"train_score\"])\n",
    "print(\"Test scores:\", scores[\"test_score\"])"
   ]
  },
  {
   "cell_type": "markdown",
   "id": "5532c08e-b63d-4d74-a985-5551a828d7c7",
   "metadata": {},
   "source": [
    "By default, it uses a variant of k-fold called stratified k-fold for classification tasks. This strategy ensures that none of the k parts has a category that is under- or over-represented. Hence, we get slightly different accuracy scores in the code from above.\n",
    "\n",
    "The most commonly used variants are 3, 5 or 10-fold cross-validations. Let’s use the 10-fold one to get a final generalization error estimate for our iris classifier."
   ]
  },
  {
   "cell_type": "code",
   "execution_count": 46,
   "id": "610c4391-8b15-4a95-b241-4cc86d9c5f40",
   "metadata": {},
   "outputs": [
    {
     "name": "stdout",
     "output_type": "stream",
     "text": [
      "Train mean: 0.975 std: 0.008\n",
      "Test mean: 0.960 std: 0.061\n"
     ]
    }
   ],
   "source": [
    "import numpy as np\n",
    "\n",
    "# Apply cross-validation\n",
    "scores = cross_validate(logreg, X, y, cv=10, return_train_score=True)\n",
    "\n",
    "# Get train/test scores\n",
    "train_scores = scores[\"train_score\"]\n",
    "test_scores = scores[\"test_score\"]\n",
    "\n",
    "# Print summary\n",
    "print(\n",
    "    \"Train mean: {:.3f} std: {:.3f}\".format(np.mean(train_scores), np.std(train_scores))\n",
    ")\n",
    "\n",
    "print(\"Test mean: {:.3f} std: {:.3f}\".format(np.mean(test_scores), np.std(test_scores)))"
   ]
  },
  {
   "cell_type": "markdown",
   "id": "bb0ec13b-1575-4d65-8438-231f268183b5",
   "metadata": {},
   "source": [
    "*Shuffle Split Strategy*"
   ]
  },
  {
   "cell_type": "code",
   "execution_count": 47,
   "id": "b053c1e3-0cd0-4ecc-a241-bf33fc512d4f",
   "metadata": {},
   "outputs": [
    {
     "name": "stdout",
     "output_type": "stream",
     "text": [
      "Test mean: 0.955 std: 0.052\n"
     ]
    }
   ],
   "source": [
    "from sklearn.model_selection import ShuffleSplit\n",
    "\n",
    "# Try \"shuffle split\" strategy\n",
    "cv_type = ShuffleSplit(n_splits=10, test_size=20, random_state=0)\n",
    "\n",
    "# Apply cross-validation\n",
    "scores = cross_validate(logreg, X, y, cv=cv_type, return_train_score=True)\n",
    "\n",
    "# Test scores\n",
    "test_scores = scores[\"test_score\"]\n",
    "print(\"Test mean: {:.3f} std: {:.3f}\".format(np.mean(test_scores), np.std(test_scores)))"
   ]
  },
  {
   "cell_type": "markdown",
   "id": "d18cd49e-2510-464b-883d-cc552a971628",
   "metadata": {},
   "source": [
    "**Grid Search with Cross Validation**"
   ]
  },
  {
   "cell_type": "code",
   "execution_count": 48,
   "id": "2318f1b8-d7cf-47f2-8bb2-cf7f78c0919a",
   "metadata": {},
   "outputs": [],
   "source": [
    "from sklearn.linear_model import LogisticRegression\n",
    "from sklearn.preprocessing import StandardScaler\n",
    "from sklearn.pipeline import Pipeline\n",
    "\n",
    "# Create pipeline\n",
    "pipe = Pipeline(\n",
    "    [\n",
    "        (\"scaler\", StandardScaler()),\n",
    "        (\"logreg\", LogisticRegression(multi_class=\"ovr\", solver=\"liblinear\")),\n",
    "    ]\n",
    ")"
   ]
  },
  {
   "cell_type": "markdown",
   "id": "d9fdb7c0-cf00-4022-a7f8-22e2021cf0c7",
   "metadata": {},
   "source": [
    "Instead of splitting the data into a single train/validation pair to estimate the generalization error of the different hyperparameter combinations, we can use cross-validation which has two advantages\n",
    "\n",
    "* It returns better estimates since we perform evaluation several times\n",
    "* All the training data is being used i.e. validation data is reused as training data across different folds\n",
    "\n",
    "It’s important to note that cross-validation is also more computationally costly, we perform the fit/eval loop several times. For this reason, we typically keep the simple train/valid/test set strategy for computationally costly models when we have enough data."
   ]
  },
  {
   "cell_type": "code",
   "execution_count": 49,
   "id": "a9cbaf1f-9816-4b2b-a09b-e7cfe59f689b",
   "metadata": {},
   "outputs": [],
   "source": [
    "from sklearn.model_selection import GridSearchCV\n",
    "import numpy as np\n",
    "\n",
    "# Create cross-validation object\n",
    "grid = {\"logreg__C\": np.logspace(-4, 4, num=10)}\n",
    "grid_cv = GridSearchCV(pipe, grid, cv=5, return_train_score=True)"
   ]
  },
  {
   "cell_type": "code",
   "execution_count": 50,
   "id": "e0b96abb-7417-43cf-9866-089161f01292",
   "metadata": {},
   "outputs": [
    {
     "data": {
      "text/plain": [
       "dict_keys(['mean_fit_time', 'std_fit_time', 'mean_score_time', 'std_score_time', 'param_logreg__C', 'params', 'split0_test_score', 'split1_test_score', 'split2_test_score', 'split3_test_score', 'split4_test_score', 'mean_test_score', 'std_test_score', 'rank_test_score', 'split0_train_score', 'split1_train_score', 'split2_train_score', 'split3_train_score', 'split4_train_score', 'mean_train_score', 'std_train_score'])"
      ]
     },
     "execution_count": 50,
     "metadata": {},
     "output_type": "execute_result"
    }
   ],
   "source": [
    "from sklearn import datasets\n",
    "\n",
    "# Load dataset\n",
    "iris = datasets.load_iris()\n",
    "\n",
    "# Create X/y arrays\n",
    "X = iris[\"data\"]\n",
    "y = iris[\"target\"]\n",
    "\n",
    "# Fit estimator\n",
    "grid_cv.fit(X, y)\n",
    "\n",
    "# Get the results with \"cv_results_\"\n",
    "grid_cv.cv_results_.keys()"
   ]
  },
  {
   "cell_type": "markdown",
   "id": "43ba22c5-e9d2-42ac-932a-2c0bf9db02a3",
   "metadata": {},
   "source": [
    "The cross-validation results are stored in a cv_results_ dictionary attribute. In particular, the mean_train_score and mean_test_score entries contain the mean scores on the train and validation sets for each combination of hyperparameters"
   ]
  },
  {
   "cell_type": "code",
   "execution_count": 51,
   "id": "e8c6be3a-0ecc-436c-b242-f6eeb5de5e77",
   "metadata": {},
   "outputs": [
    {
     "data": {
      "text/plain": [
       "array([0.8       , 0.81333333, 0.82      , 0.82666667, 0.86      ,\n",
       "       0.92      , 0.95333333, 0.96      , 0.96      , 0.96      ])"
      ]
     },
     "execution_count": 51,
     "metadata": {},
     "output_type": "execute_result"
    }
   ],
   "source": [
    "# Mean test scores\n",
    "grid_cv.cv_results_[\"mean_test_score\"]"
   ]
  },
  {
   "cell_type": "markdown",
   "id": "f518b95c-3c39-4838-b5d0-e00ddb8256df",
   "metadata": {},
   "source": [
    "In this case, the largest C values (small regularization strengths) have the best test accuracy. Better displayed DF"
   ]
  },
  {
   "cell_type": "code",
   "execution_count": 52,
   "id": "b43dd440-dff5-46d7-bc4d-b587bc78447a",
   "metadata": {},
   "outputs": [
    {
     "data": {
      "text/html": [
       "<div>\n",
       "<style scoped>\n",
       "    .dataframe tbody tr th:only-of-type {\n",
       "        vertical-align: middle;\n",
       "    }\n",
       "\n",
       "    .dataframe tbody tr th {\n",
       "        vertical-align: top;\n",
       "    }\n",
       "\n",
       "    .dataframe thead th {\n",
       "        text-align: right;\n",
       "    }\n",
       "</style>\n",
       "<table border=\"1\" class=\"dataframe\">\n",
       "  <thead>\n",
       "    <tr style=\"text-align: right;\">\n",
       "      <th></th>\n",
       "      <th>mean_test_score</th>\n",
       "      <th>std_test_score</th>\n",
       "      <th>mean_train_score</th>\n",
       "      <th>std_train_score</th>\n",
       "      <th>param_logreg__C</th>\n",
       "    </tr>\n",
       "  </thead>\n",
       "  <tbody>\n",
       "    <tr>\n",
       "      <th>7</th>\n",
       "      <td>0.960000</td>\n",
       "      <td>0.024944</td>\n",
       "      <td>0.966667</td>\n",
       "      <td>0.011785</td>\n",
       "      <td>166.810054</td>\n",
       "    </tr>\n",
       "    <tr>\n",
       "      <th>8</th>\n",
       "      <td>0.960000</td>\n",
       "      <td>0.024944</td>\n",
       "      <td>0.975000</td>\n",
       "      <td>0.010541</td>\n",
       "      <td>1291.549665</td>\n",
       "    </tr>\n",
       "    <tr>\n",
       "      <th>9</th>\n",
       "      <td>0.960000</td>\n",
       "      <td>0.024944</td>\n",
       "      <td>0.976667</td>\n",
       "      <td>0.013333</td>\n",
       "      <td>10000.0</td>\n",
       "    </tr>\n",
       "    <tr>\n",
       "      <th>6</th>\n",
       "      <td>0.953333</td>\n",
       "      <td>0.033993</td>\n",
       "      <td>0.963333</td>\n",
       "      <td>0.006667</td>\n",
       "      <td>21.544347</td>\n",
       "    </tr>\n",
       "    <tr>\n",
       "      <th>5</th>\n",
       "      <td>0.920000</td>\n",
       "      <td>0.061824</td>\n",
       "      <td>0.948333</td>\n",
       "      <td>0.011055</td>\n",
       "      <td>2.782559</td>\n",
       "    </tr>\n",
       "    <tr>\n",
       "      <th>4</th>\n",
       "      <td>0.860000</td>\n",
       "      <td>0.061101</td>\n",
       "      <td>0.881667</td>\n",
       "      <td>0.009718</td>\n",
       "      <td>0.359381</td>\n",
       "    </tr>\n",
       "    <tr>\n",
       "      <th>3</th>\n",
       "      <td>0.826667</td>\n",
       "      <td>0.057349</td>\n",
       "      <td>0.835000</td>\n",
       "      <td>0.015275</td>\n",
       "      <td>0.046416</td>\n",
       "    </tr>\n",
       "    <tr>\n",
       "      <th>2</th>\n",
       "      <td>0.820000</td>\n",
       "      <td>0.080554</td>\n",
       "      <td>0.821667</td>\n",
       "      <td>0.020138</td>\n",
       "      <td>0.005995</td>\n",
       "    </tr>\n",
       "    <tr>\n",
       "      <th>1</th>\n",
       "      <td>0.813333</td>\n",
       "      <td>0.077746</td>\n",
       "      <td>0.808333</td>\n",
       "      <td>0.018257</td>\n",
       "      <td>0.000774</td>\n",
       "    </tr>\n",
       "    <tr>\n",
       "      <th>0</th>\n",
       "      <td>0.800000</td>\n",
       "      <td>0.066667</td>\n",
       "      <td>0.803333</td>\n",
       "      <td>0.017159</td>\n",
       "      <td>0.0001</td>\n",
       "    </tr>\n",
       "  </tbody>\n",
       "</table>\n",
       "</div>"
      ],
      "text/plain": [
       "   mean_test_score  std_test_score  mean_train_score  std_train_score  \\\n",
       "7         0.960000        0.024944          0.966667         0.011785   \n",
       "8         0.960000        0.024944          0.975000         0.010541   \n",
       "9         0.960000        0.024944          0.976667         0.013333   \n",
       "6         0.953333        0.033993          0.963333         0.006667   \n",
       "5         0.920000        0.061824          0.948333         0.011055   \n",
       "4         0.860000        0.061101          0.881667         0.009718   \n",
       "3         0.826667        0.057349          0.835000         0.015275   \n",
       "2         0.820000        0.080554          0.821667         0.020138   \n",
       "1         0.813333        0.077746          0.808333         0.018257   \n",
       "0         0.800000        0.066667          0.803333         0.017159   \n",
       "\n",
       "  param_logreg__C  \n",
       "7      166.810054  \n",
       "8     1291.549665  \n",
       "9         10000.0  \n",
       "6       21.544347  \n",
       "5        2.782559  \n",
       "4        0.359381  \n",
       "3        0.046416  \n",
       "2        0.005995  \n",
       "1        0.000774  \n",
       "0          0.0001  "
      ]
     },
     "execution_count": 52,
     "metadata": {},
     "output_type": "execute_result"
    }
   ],
   "source": [
    "import pandas as pd\n",
    "\n",
    "# Collect results in a DataFrame\n",
    "cv_results = pd.DataFrame(grid_cv.cv_results_)\n",
    "\n",
    "# Print a few interesting columns\n",
    "cols = [\n",
    "    \"mean_test_score\",\n",
    "    \"std_test_score\",\n",
    "    \"mean_train_score\",\n",
    "    \"std_train_score\",\n",
    "    \"param_logreg__C\",\n",
    "]\n",
    "cv_results[cols].sort_values(\"mean_test_score\", ascending=False)"
   ]
  },
  {
   "cell_type": "markdown",
   "id": "3c2b5864-8859-4535-9f54-b9b714687941",
   "metadata": {},
   "source": [
    "Plot the training and validation curves to better see the effect of C."
   ]
  },
  {
   "cell_type": "code",
   "execution_count": 53,
   "id": "c951db62-dbb3-4766-afb0-1204038591e2",
   "metadata": {},
   "outputs": [
    {
     "data": {
      "image/png": "[encoded data removed]",
      "text/plain": [
       "<Figure size 432x288 with 1 Axes>"
      ]
     },
     "metadata": {
      "needs_background": "light"
     },
     "output_type": "display_data"
    }
   ],
   "source": [
    "%matplotlib inline\n",
    "import matplotlib.pyplot as plt\n",
    "\n",
    "# Plot training/validation accuracy curves\n",
    "plt.semilogx(cv_results[\"param_logreg__C\"], cv_results[\"mean_train_score\"], label='training accuracy')\n",
    "plt.semilogx(cv_results[\"param_logreg__C\"], cv_results[\"mean_test_score\"],  label='validation accuracy')\n",
    "plt.xlabel('Regularization strength (C)')\n",
    "plt.ylabel('Accuracy')\n",
    "plt.title(\"Evolution of training/validation accuracy with $C$\")\n",
    "plt.legend()\n",
    "plt.show()\n"
   ]
  },
  {
   "cell_type": "markdown",
   "id": "0f32d3eb-44de-4a42-9b42-36635cd54c23",
   "metadata": {},
   "source": [
    "It seems that regularization isn’t helpful in our case. Our logistic regression model isn’t overfitting and adding regularization hurts performance i.e. underfitting."
   ]
  },
  {
   "cell_type": "markdown",
   "id": "45537e5a-fb68-44a5-9351-f91ad261768a",
   "metadata": {},
   "source": [
    "*Making Predictions*"
   ]
  },
  {
   "cell_type": "markdown",
   "id": "a5f45d95-e3f5-4040-af6c-ba1c0a2a04d2",
   "metadata": {},
   "source": [
    "The GridSearchCV object has a refit parameter which is set to True by default - it automatically refits the best estimator to the entire train data and saves it in a best_estimator_ attribute."
   ]
  },
  {
   "cell_type": "code",
   "execution_count": 54,
   "id": "a72fc0a4-f31e-4453-b3dd-fe5dd7fe8bae",
   "metadata": {},
   "outputs": [
    {
     "data": {
      "text/plain": [
       "array([0, 0, 0, 0, 0, 0, 0, 0, 0, 0, 0, 0, 0, 0, 0, 0, 0, 0, 0, 0, 0, 0,\n",
       "       0, 0, 0, 0, 0, 0, 0, 0, 0, 0, 0, 0, 0, 0, 0, 0, 0, 0, 0, 0, 0, 0,\n",
       "       0, 0, 0, 0, 0, 0, 1, 1, 1, 1, 1, 1, 1, 1, 1, 1, 1, 1, 1, 1, 1, 1,\n",
       "       1, 1, 1, 1, 2, 1, 1, 1, 1, 1, 1, 2, 1, 1, 1, 1, 1, 2, 1, 1, 1, 1,\n",
       "       1, 1, 1, 1, 1, 1, 1, 1, 1, 1, 1, 1, 2, 2, 2, 2, 2, 2, 2, 2, 2, 2,\n",
       "       2, 2, 2, 2, 2, 2, 2, 2, 2, 1, 2, 2, 2, 2, 2, 2, 2, 2, 2, 2, 2, 2,\n",
       "       2, 1, 2, 2, 2, 2, 2, 2, 2, 2, 2, 2, 2, 2, 2, 2, 2, 2])"
      ]
     },
     "execution_count": 54,
     "metadata": {},
     "output_type": "execute_result"
    }
   ],
   "source": [
    "# Compute predictions with the \"best_estimator_\" attribute\n",
    "grid_cv.best_estimator_.predict(X)\n",
    "\n",
    "# Or with the grid search object directly\n",
    "grid_cv.predict(X)"
   ]
  },
  {
   "cell_type": "markdown",
   "id": "9d7bf44c-13db-4ca2-b55d-57131c4a043f",
   "metadata": {},
   "source": [
    "*LogisticRegressionCV object*"
   ]
  },
  {
   "cell_type": "markdown",
   "id": "56e23d56-3f6d-4308-bfa5-3a63ec728759",
   "metadata": {},
   "source": [
    "LogisticRegressionCV let’s us define a list of C values to tune with cross-validated grid search"
   ]
  },
  {
   "cell_type": "code",
   "execution_count": 55,
   "id": "59785b96-1646-49cd-9c2f-57221f6ff9d2",
   "metadata": {},
   "outputs": [],
   "source": [
    "from sklearn.linear_model import LogisticRegressionCV\n",
    "\n",
    "# Create estimator\n",
    "logreg_cv = LogisticRegressionCV(\n",
    "    Cs=[0.1, 1, 10], cv=5, multi_class=\"ovr\", solver=\"liblinear\"\n",
    ")"
   ]
  },
  {
   "cell_type": "markdown",
   "id": "d402cd58-0a7a-46e2-9d7e-2b8e60085cbe",
   "metadata": {},
   "source": [
    "Estimators with built-in cross-validation are usually more efficient than the generic GridSearchCV object. However, they don’t integrate with pipelines. More specifically, we cannot pass a set of preprocessing steps to apply to each training fold. Instead, we have to preprocess the data globally before the estimator"
   ]
  },
  {
   "cell_type": "code",
   "execution_count": 56,
   "id": "66e775b0-18a4-4071-8a43-a74ec4a24e17",
   "metadata": {},
   "outputs": [
    {
     "data": {
      "text/plain": [
       "LogisticRegressionCV(Cs=[0.1, 1, 10], cv=5, multi_class='ovr',\n",
       "                     solver='liblinear')"
      ]
     },
     "execution_count": 56,
     "metadata": {},
     "output_type": "execute_result"
    }
   ],
   "source": [
    "from sklearn.preprocessing import scale\n",
    "\n",
    "# Fit the estimator\n",
    "logreg_cv.fit(scale(X), y)"
   ]
  },
  {
   "cell_type": "markdown",
   "id": "75b4d986-0965-4806-af1c-d8f7c36c88d4",
   "metadata": {},
   "source": [
    "In this case, we standardize the entire input data which implies that we used data from the validation folds which isn’t optimal i.e. compute standardization mean/std on all data."
   ]
  },
  {
   "cell_type": "markdown",
   "id": "5d3f5383-83da-44dc-a524-5894192c1993",
   "metadata": {},
   "source": [
    "Due to the One-versus-Rest (OvR) strategy, it has one entry per class. For instance, let’s print the cross-validated results from our “class 1” vs “classes 2, 3” classifier"
   ]
  },
  {
   "cell_type": "code",
   "execution_count": 57,
   "id": "28aaef2c-ec76-4429-ba6f-a521e762b557",
   "metadata": {},
   "outputs": [
    {
     "data": {
      "text/plain": [
       "array([[1., 1., 1.],\n",
       "       [1., 1., 1.],\n",
       "       [1., 1., 1.],\n",
       "       [1., 1., 1.],\n",
       "       [1., 1., 1.]])"
      ]
     },
     "execution_count": 57,
     "metadata": {},
     "output_type": "execute_result"
    }
   ],
   "source": [
    "# Scores for class 1 (Setosa)\n",
    "logreg_cv.scores_[0]"
   ]
  },
  {
   "cell_type": "code",
   "execution_count": 58,
   "id": "4eb5b94a-3865-40f4-9502-ace25d46ac24",
   "metadata": {},
   "outputs": [
    {
     "data": {
      "text/plain": [
       "array([[0.66666667, 0.66666667, 0.63333333],\n",
       "       [0.7       , 0.7       , 0.7       ],\n",
       "       [0.66666667, 0.76666667, 0.73333333],\n",
       "       [0.8       , 0.76666667, 0.76666667],\n",
       "       [0.73333333, 0.76666667, 0.76666667]])"
      ]
     },
     "execution_count": 58,
     "metadata": {},
     "output_type": "execute_result"
    }
   ],
   "source": [
    "# Scores for class 2 (Versicolor)\n",
    "logreg_cv.scores_[1]"
   ]
  },
  {
   "cell_type": "code",
   "execution_count": 59,
   "id": "3a04fd0a-afb5-408b-a977-d07645a900bd",
   "metadata": {},
   "outputs": [
    {
     "data": {
      "text/plain": [
       "array([0.71333333, 0.73333333, 0.72      ])"
      ]
     },
     "execution_count": 59,
     "metadata": {},
     "output_type": "execute_result"
    }
   ],
   "source": [
    "# Mean score per C value across folds\n",
    "logreg_cv.scores_[1].mean(axis=0)"
   ]
  },
  {
   "cell_type": "markdown",
   "id": "ce0a0f08-7230-44ad-8d4c-fadba69cfcef",
   "metadata": {},
   "source": [
    "Hence, the LogisticRegressionCV object will use the second C value C=1 for the virginica class. We can verify this by printing the C values for the three classes"
   ]
  },
  {
   "cell_type": "code",
   "execution_count": 60,
   "id": "071850e0-0749-4a02-9c9d-fa19d7143ffc",
   "metadata": {},
   "outputs": [
    {
     "name": "stdout",
     "output_type": "stream",
     "text": [
      "[ 0.1  1.  10. ]\n"
     ]
    }
   ],
   "source": [
    "print(logreg_cv.C_)"
   ]
  },
  {
   "cell_type": "code",
   "execution_count": null,
   "id": "69810290-fee4-4ed7-8cc4-ac25e84b4729",
   "metadata": {},
   "outputs": [],
   "source": []
  }
 ],
 "metadata": {
  "kernelspec": {
   "display_name": "Python [conda env:adsml] *",
   "language": "python",
   "name": "conda-env-adsml-py"
  },
  "language_info": {
   "codemirror_mode": {
    "name": "ipython",
    "version": 3
   },
   "file_extension": ".py",
   "mimetype": "text/x-python",
   "name": "python",
   "nbconvert_exporter": "python",
   "pygments_lexer": "ipython3",
   "version": "3.9.7"
  }
 },
 "nbformat": 4,
 "nbformat_minor": 5
}
