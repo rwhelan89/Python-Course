{
 "cells": [
  {
   "cell_type": "code",
   "execution_count": 18,
   "id": "36e4327f-7278-40ec-a2b1-097d16147354",
   "metadata": {},
   "outputs": [],
   "source": [
    "import pandas as pd"
   ]
  },
  {
   "cell_type": "code",
   "execution_count": 84,
   "id": "26f394ff-239f-4731-a5d3-7e83985dab87",
   "metadata": {},
   "outputs": [],
   "source": [
    "import numpy as np\n",
    "\n",
    "# Load data\n",
    "with np.load(\"features_train.npz\", allow_pickle=False) as npz_file:\n",
    "    df_train = dict(npz_file.items())\n",
    "    \n",
    "\n",
    "X = df_train[\"features\"]\n",
    "labels = df_train['labels']\n",
    "y = np.argmax(labels,axis=-1)"
   ]
  },
  {
   "cell_type": "markdown",
   "id": "a2f77c03-0fac-4955-b76c-e336ea65bf21",
   "metadata": {},
   "source": [
    "Scree Plot"
   ]
  },
  {
   "cell_type": "markdown",
   "id": "d3a1c218-85eb-40e9-bde4-06d5dd57e06e",
   "metadata": {},
   "source": [
    "PCA analysis requires data to be standardized."
   ]
  },
  {
   "cell_type": "code",
   "execution_count": 85,
   "id": "c2411afb-4e7b-466e-8859-4506e5a44b80",
   "metadata": {},
   "outputs": [],
   "source": [
    "from sklearn.decomposition import PCA\n",
    "from sklearn.preprocessing import StandardScaler\n",
    "\n",
    "# Create Standard scaler\n",
    "scaler = StandardScaler()\n",
    "\n",
    "# Rescale data\n",
    "X_rescaled = scaler.fit_transform(X)\n",
    "\n",
    "# Create PCA transformer\n",
    "pca2 = PCA(n_components=2)\n",
    "\n",
    "# Apply PCA to rescaled data\n",
    "X_2d_rescaled = pca2.fit_transform(X_rescaled)"
   ]
  },
  {
   "cell_type": "code",
   "execution_count": 70,
   "id": "557df06a-e322-4e7a-a723-58d8381044d1",
   "metadata": {},
   "outputs": [
    {
     "data": {
      "text/html": [
       "<div>\n",
       "<style scoped>\n",
       "    .dataframe tbody tr th:only-of-type {\n",
       "        vertical-align: middle;\n",
       "    }\n",
       "\n",
       "    .dataframe tbody tr th {\n",
       "        vertical-align: top;\n",
       "    }\n",
       "\n",
       "    .dataframe thead th {\n",
       "        text-align: right;\n",
       "    }\n",
       "</style>\n",
       "<table border=\"1\" class=\"dataframe\">\n",
       "  <thead>\n",
       "    <tr style=\"text-align: right;\">\n",
       "      <th></th>\n",
       "      <th>variance</th>\n",
       "      <th>1st component</th>\n",
       "      <th>2nd component</th>\n",
       "    </tr>\n",
       "  </thead>\n",
       "  <tbody>\n",
       "    <tr>\n",
       "      <th>1234</th>\n",
       "      <td>1.000001</td>\n",
       "      <td>0.069954</td>\n",
       "      <td>-0.012925</td>\n",
       "    </tr>\n",
       "    <tr>\n",
       "      <th>1147</th>\n",
       "      <td>1.000000</td>\n",
       "      <td>0.069161</td>\n",
       "      <td>-0.011487</td>\n",
       "    </tr>\n",
       "    <tr>\n",
       "      <th>374</th>\n",
       "      <td>1.000000</td>\n",
       "      <td>0.066324</td>\n",
       "      <td>-0.016739</td>\n",
       "    </tr>\n",
       "    <tr>\n",
       "      <th>49</th>\n",
       "      <td>1.000000</td>\n",
       "      <td>0.065426</td>\n",
       "      <td>-0.002943</td>\n",
       "    </tr>\n",
       "    <tr>\n",
       "      <th>200</th>\n",
       "      <td>1.000000</td>\n",
       "      <td>0.065200</td>\n",
       "      <td>-0.023558</td>\n",
       "    </tr>\n",
       "    <tr>\n",
       "      <th>...</th>\n",
       "      <td>...</td>\n",
       "      <td>...</td>\n",
       "      <td>...</td>\n",
       "    </tr>\n",
       "    <tr>\n",
       "      <th>323</th>\n",
       "      <td>1.000001</td>\n",
       "      <td>-0.060842</td>\n",
       "      <td>-0.051800</td>\n",
       "    </tr>\n",
       "    <tr>\n",
       "      <th>1197</th>\n",
       "      <td>1.000000</td>\n",
       "      <td>-0.061627</td>\n",
       "      <td>-0.020838</td>\n",
       "    </tr>\n",
       "    <tr>\n",
       "      <th>172</th>\n",
       "      <td>0.999999</td>\n",
       "      <td>-0.061883</td>\n",
       "      <td>-0.010668</td>\n",
       "    </tr>\n",
       "    <tr>\n",
       "      <th>1129</th>\n",
       "      <td>1.000001</td>\n",
       "      <td>-0.062075</td>\n",
       "      <td>-0.014142</td>\n",
       "    </tr>\n",
       "    <tr>\n",
       "      <th>466</th>\n",
       "      <td>1.000001</td>\n",
       "      <td>-0.065253</td>\n",
       "      <td>0.002956</td>\n",
       "    </tr>\n",
       "  </tbody>\n",
       "</table>\n",
       "<p>1280 rows × 3 columns</p>\n",
       "</div>"
      ],
      "text/plain": [
       "      variance  1st component  2nd component\n",
       "1234  1.000001       0.069954      -0.012925\n",
       "1147  1.000000       0.069161      -0.011487\n",
       "374   1.000000       0.066324      -0.016739\n",
       "49    1.000000       0.065426      -0.002943\n",
       "200   1.000000       0.065200      -0.023558\n",
       "...        ...            ...            ...\n",
       "323   1.000001      -0.060842      -0.051800\n",
       "1197  1.000000      -0.061627      -0.020838\n",
       "172   0.999999      -0.061883      -0.010668\n",
       "1129  1.000001      -0.062075      -0.014142\n",
       "466   1.000001      -0.065253       0.002956\n",
       "\n",
       "[1280 rows x 3 columns]"
      ]
     },
     "execution_count": 70,
     "metadata": {},
     "output_type": "execute_result"
    }
   ],
   "source": [
    "# Create DataFrame with variance and principal components\n",
    "results_df2 = pd.DataFrame(\n",
    "    {\n",
    "        \"variance\": X_rescaled.var(axis=0),\n",
    "        \"1st component\": pca2.components_[0],\n",
    "        \"2nd component\": pca2.components_[1],\n",
    "    }\n",
    ")\n",
    "\n",
    "# Sort DataFrame by the coefficients of the 1st loading vector\n",
    "results_df2.sort_values(\"1st component\", ascending=False)"
   ]
  },
  {
   "cell_type": "code",
   "execution_count": null,
   "id": "861e9e6b-fd38-43ae-a4c5-0fbbfa394008",
   "metadata": {},
   "outputs": [],
   "source": [
    "vehicle_num = [0, 1, 2, 3, 4, 5]\n",
    "vehicle_name = ['bike', 'car', 'motorcycle', 'other', 'truck', 'van']\n",
    "vehicle_cat = dict(zip(, test_values))"
   ]
  },
  {
   "cell_type": "code",
   "execution_count": 89,
   "id": "ece28663-cad4-4c0e-8cc3-b85f92ec0cc2",
   "metadata": {},
   "outputs": [
    {
     "data": {
      "image/png": "[encoded data removed]",
      "text/plain": [
       "<Figure size 432x288 with 1 Axes>"
      ]
     },
     "metadata": {
      "needs_background": "light"
     },
     "output_type": "display_data"
    }
   ],
   "source": [
    "\n",
    "\n",
    "# Plot each kind of wine\n",
    "for vehicle in [0, 1, 2, 3, 4 , 5]:\n",
    "    # Wine samples of this type\n",
    "    idx = y == vehicle\n",
    "\n",
    "    # Plot their components\n",
    "    plt.scatter(X_2d_rescaled[idx, 0], X_2d_rescaled[idx, 1], label=\"type {}\".format(vehicle))\n",
    "\n",
    "# Labels and legend\n",
    "plt.legend()\n",
    "plt.xlabel(\"1st component\")\n",
    "plt.ylabel(\"2nd component\")\n",
    "plt.show()"
   ]
  },
  {
   "cell_type": "code",
   "execution_count": null,
   "id": "2e6e59bb-487f-4695-940a-acc073aed17a",
   "metadata": {},
   "outputs": [],
   "source": []
  },
  {
   "cell_type": "code",
   "execution_count": 88,
   "id": "5f1e92a5-41a6-4293-9c66-4a25a075c225",
   "metadata": {},
   "outputs": [
    {
     "data": {
      "image/png": "[encoded data removed]",
      "text/plain": [
       "<Figure size 432x288 with 1 Axes>"
      ]
     },
     "metadata": {
      "needs_background": "light"
     },
     "output_type": "display_data"
    }
   ],
   "source": [
    "import numpy as np\n",
    "import matplotlib.pyplot as plt\n",
    "%matplotlib inline\n",
    "\n",
    "# Create bar plot\n",
    "xcor = np.arange(1, len(pve) + 1)  # 1,2,..,n_components\n",
    "plt.bar(xcor, pve)\n",
    "plt.xticks(xcor)\n",
    "\n",
    "# Add cumulative sum\n",
    "pve_cumsum = np.cumsum(pve)\n",
    "plt.step(\n",
    "    xcor + 0.5,  # 1.5,2.5,..,n_components+0.5\n",
    "    pve_cumsum,  # Cumulative sum\n",
    "    label=\"cumulative\",\n",
    ")\n",
    "\n",
    "# Add labels\n",
    "plt.xlabel(\"principal component\")\n",
    "plt.ylabel(\"proportion of variance explained\")\n",
    "plt.xticks(rotation=90)\n",
    "plt.legend()\n",
    "plt.show()"
   ]
  },
  {
   "cell_type": "markdown",
   "id": "21b0f7a7-aac0-420e-8b0f-04fe60b862fc",
   "metadata": {},
   "source": [
    "32 PCA components explain approx 100% of the variance. (1 10%, 2 20%)"
   ]
  },
  {
   "cell_type": "code",
   "execution_count": null,
   "id": "d84b3c9e-e2b0-4081-9715-a9657fb9e6f3",
   "metadata": {},
   "outputs": [],
   "source": []
  }
 ],
 "metadata": {
  "kernelspec": {
   "display_name": "Python [conda env:adsml] *",
   "language": "python",
   "name": "conda-env-adsml-py"
  },
  "language_info": {
   "codemirror_mode": {
    "name": "ipython",
    "version": 3
   },
   "file_extension": ".py",
   "mimetype": "text/x-python",
   "name": "python",
   "nbconvert_exporter": "python",
   "pygments_lexer": "ipython3",
   "version": "3.9.7"
  }
 },
 "nbformat": 4,
 "nbformat_minor": 5
}
