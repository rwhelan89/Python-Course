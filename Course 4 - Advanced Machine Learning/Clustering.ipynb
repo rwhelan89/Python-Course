{
 "cells": [
  {
   "cell_type": "markdown",
   "id": "09be8f33-8bfb-43c2-b6ff-72601c29df8c",
   "metadata": {},
   "source": [
    "Supervised learning = Model relationship betwen set of input variables X and target variable y. Now moving onto unspervised learning where no explicit target variable y to predict."
   ]
  },
  {
   "cell_type": "markdown",
   "id": "fa00bcb7-c638-4b0d-b0a4-8336afb87676",
   "metadata": {},
   "source": [
    "*Clustering* is the task of finding groups of similar observations in the dataset. Unsupervised as do not in advance what groups are and dont have example of data points and group assignments."
   ]
  },
  {
   "cell_type": "markdown",
   "id": "9a799602-bf7c-48be-b3cb-2bebd86bc13f",
   "metadata": {},
   "source": [
    "*Dimensionality reduction* is task of reducing dimensionality of our dataset ie number of features."
   ]
  },
  {
   "cell_type": "markdown",
   "id": "740b3687-8260-4e57-a931-292685d72077",
   "metadata": {},
   "source": [
    "**k-means algorithm**"
   ]
  },
  {
   "cell_type": "markdown",
   "id": "b9c7e881-06c4-4af8-afd4-24d0d9b495f2",
   "metadata": {},
   "source": [
    "The goal of k-means is to form k groups that minimize a measure called inertia which is simply defined as the sum of the squared distances between each point and the center of their cluster. In the k-means jargon, these centers are called the centroids. The k-means algorithm minimizes inertia by following a simple procedure that can be summarized in three steps."
   ]
  },
  {
   "cell_type": "markdown",
   "id": "0be5ec6b-0324-481a-af19-d959386b7d9b",
   "metadata": {},
   "source": [
    "(1) choose k initial centroids\n",
    "repeat until convergence:\n",
    "\t(2) match points to the closest centroid\n",
    "\t(3) recenter centroids"
   ]
  },
  {
   "cell_type": "markdown",
   "id": "3ae64c74-ee3f-4b26-87b5-d8f24d84ccff",
   "metadata": {},
   "source": [
    "k-means algorithm works well if underlying assumptions are met ie nice rounded shape or know numbers in advance"
   ]
  },
  {
   "cell_type": "markdown",
   "id": "8895a19a-6a56-4029-9bb6-b84def6057a2",
   "metadata": {},
   "source": [
    "**Scikit-learn implementation**"
   ]
  },
  {
   "cell_type": "code",
   "execution_count": 2,
   "id": "2e1cafdc-3909-43f0-87bc-dee759c6df21",
   "metadata": {},
   "outputs": [],
   "source": [
    "from sklearn import datasets\n",
    "\n",
    "# Load dataset\n",
    "iris = datasets.load_iris()\n",
    "\n",
    "# Load array of input values X\n",
    "X = iris[\"data\"]"
   ]
  },
  {
   "cell_type": "markdown",
   "id": "5e7162bf-f5e8-4f01-9262-89389e37b180",
   "metadata": {},
   "source": [
    "We know there are 3 flowers so set clusters to 3"
   ]
  },
  {
   "cell_type": "code",
   "execution_count": 4,
   "id": "2fd1dc2b-85cd-4862-bb55-841e40f22031",
   "metadata": {},
   "outputs": [
    {
     "data": {
      "text/plain": [
       "KMeans(n_clusters=3, random_state=0)"
      ]
     },
     "execution_count": 4,
     "metadata": {},
     "output_type": "execute_result"
    }
   ],
   "source": [
    "from sklearn.cluster import KMeans\n",
    "\n",
    "# Create k-means object\n",
    "kmeans = KMeans(n_clusters=3, random_state=0)  # Fix results\n",
    "\n",
    "# Fit it to the data\n",
    "kmeans.fit(X, y=None)"
   ]
  },
  {
   "cell_type": "markdown",
   "id": "ce4737e6-43f9-46b2-ac8a-a5a8a50e804d",
   "metadata": {},
   "source": [
    "Explicitly set y=none for clarity"
   ]
  },
  {
   "cell_type": "code",
   "execution_count": 5,
   "id": "73f4537c-dde0-43bd-8890-bb18cb14ab57",
   "metadata": {},
   "outputs": [
    {
     "data": {
      "text/plain": [
       "array([1, 1, 1, 1, 1, 1, 1, 1, 1, 1, 1, 1, 1, 1, 1, 1, 1, 1, 1, 1, 1, 1,\n",
       "       1, 1, 1, 1, 1, 1, 1, 1, 1, 1, 1, 1, 1, 1, 1, 1, 1, 1, 1, 1, 1, 1,\n",
       "       1, 1, 1, 1, 1, 1, 0, 0, 2, 0, 0, 0, 0, 0, 0, 0, 0, 0, 0, 0, 0, 0,\n",
       "       0, 0, 0, 0, 0, 0, 0, 0, 0, 0, 0, 2, 0, 0, 0, 0, 0, 0, 0, 0, 0, 0,\n",
       "       0, 0, 0, 0, 0, 0, 0, 0, 0, 0, 0, 0, 2, 0, 2, 2, 2, 2, 0, 2, 2, 2,\n",
       "       2, 2, 2, 0, 0, 2, 2, 2, 2, 0, 2, 0, 2, 0, 2, 2, 0, 0, 2, 2, 2, 2,\n",
       "       2, 0, 2, 2, 2, 2, 0, 2, 2, 2, 0, 2, 2, 2, 0, 2, 2, 0])"
      ]
     },
     "execution_count": 5,
     "metadata": {},
     "output_type": "execute_result"
    }
   ],
   "source": [
    "kmeans.labels_"
   ]
  },
  {
   "cell_type": "code",
   "execution_count": 8,
   "id": "59902658-c006-44ea-afc4-de6f07f0ede0",
   "metadata": {},
   "outputs": [
    {
     "data": {
      "text/plain": [
       "array([[5.9016129 , 2.7483871 , 4.39354839, 1.43387097],\n",
       "       [5.006     , 3.428     , 1.462     , 0.246     ],\n",
       "       [6.85      , 3.07368421, 5.74210526, 2.07105263]])"
      ]
     },
     "execution_count": 8,
     "metadata": {},
     "output_type": "execute_result"
    }
   ],
   "source": [
    "kmeans.cluster_centers_"
   ]
  },
  {
   "cell_type": "code",
   "execution_count": 9,
   "id": "86619a0f-37c8-4dab-ad37-e73497249800",
   "metadata": {},
   "outputs": [
    {
     "data": {
      "text/plain": [
       "array([1, 1, 1, 1, 1, 1, 1, 1, 1, 1, 1, 1, 1, 1, 1, 1, 1, 1, 1, 1, 1, 1,\n",
       "       1, 1, 1, 1, 1, 1, 1, 1, 1, 1, 1, 1, 1, 1, 1, 1, 1, 1, 1, 1, 1, 1,\n",
       "       1, 1, 1, 1, 1, 1, 0, 0, 2, 0, 0, 0, 0, 0, 0, 0, 0, 0, 0, 0, 0, 0,\n",
       "       0, 0, 0, 0, 0, 0, 0, 0, 0, 0, 0, 2, 0, 0, 0, 0, 0, 0, 0, 0, 0, 0,\n",
       "       0, 0, 0, 0, 0, 0, 0, 0, 0, 0, 0, 0, 2, 0, 2, 2, 2, 2, 0, 2, 2, 2,\n",
       "       2, 2, 2, 0, 0, 2, 2, 2, 2, 0, 2, 0, 2, 0, 2, 2, 0, 0, 2, 2, 2, 2,\n",
       "       2, 0, 2, 2, 2, 2, 0, 2, 2, 2, 0, 2, 2, 2, 0, 2, 2, 0])"
      ]
     },
     "execution_count": 9,
     "metadata": {},
     "output_type": "execute_result"
    }
   ],
   "source": [
    "# Match new data points to the closest centroids\n",
    "kmeans.predict(X)  # Equivalent to kmeans.labels_"
   ]
  },
  {
   "cell_type": "code",
   "execution_count": 10,
   "id": "d4d4103d-41ea-4298-8f81-f3236f822015",
   "metadata": {},
   "outputs": [
    {
     "data": {
      "image/png": "[encoded data removed]",
      "text/plain": [
       "<Figure size 432x288 with 1 Axes>"
      ]
     },
     "metadata": {
      "needs_background": "light"
     },
     "output_type": "display_data"
    }
   ],
   "source": [
    "%matplotlib inline\n",
    "import matplotlib.pyplot as plt\n",
    "\n",
    "# Plot clusters\n",
    "for cluster in [0, 1, 2]:\n",
    "    # Get points in this cluster\n",
    "    idx = kmeans.labels_ == cluster\n",
    "\n",
    "    # Plot points\n",
    "    plt.scatter(\n",
    "        X[idx, 2],  # Third column: petal length\n",
    "        X[idx, 3],  # Fourth column: petal width\n",
    "        label=\"cluster {}\".format(cluster),\n",
    "    )\n",
    "\n",
    "    # Plot centroid\n",
    "    centroid = kmeans.cluster_centers_[cluster]\n",
    "    plt.plot(centroid[2], centroid[3], marker=\"*\", color=\"black\", markersize=18)\n",
    "\n",
    "# Add legend and labels\n",
    "plt.legend()\n",
    "plt.xlabel(\"petal length (cm)\")\n",
    "plt.ylabel(\"petal width (cm)\")\n",
    "plt.show()"
   ]
  },
  {
   "cell_type": "code",
   "execution_count": null,
   "id": "b4c809d6-b6d0-4e8d-923e-b364bddb7e15",
   "metadata": {},
   "outputs": [],
   "source": []
  }
 ],
 "metadata": {
  "kernelspec": {
   "display_name": "Python [conda env:adsml] *",
   "language": "python",
   "name": "conda-env-adsml-py"
  },
  "language_info": {
   "codemirror_mode": {
    "name": "ipython",
    "version": 3
   },
   "file_extension": ".py",
   "mimetype": "text/x-python",
   "name": "python",
   "nbconvert_exporter": "python",
   "pygments_lexer": "ipython3",
   "version": "3.9.7"
  }
 },
 "nbformat": 4,
 "nbformat_minor": 5
}
