{
 "cells": [
  {
   "cell_type": "markdown",
   "id": "371cd62e-203a-45f0-aae3-3c769226cc03",
   "metadata": {},
   "source": [
    "Bias-variance trade-off:\n",
    "\n",
    "1. Models with a high bias (underfitting) usually have a low variance.\n",
    "2. Models with a low bias usually have a high variance (overfitting)."
   ]
  },
  {
   "cell_type": "markdown",
   "id": "2074fe77-d57f-4b9d-bd8a-3d36595d213c",
   "metadata": {},
   "source": [
    "Bias-variance decomposition:\n",
    "\n",
    "   *Generalization error = Bias^2 + Variance + Irreducible Error*\n",
    "    "
   ]
  },
  {
   "cell_type": "markdown",
   "id": "4a402347-4c74-4c4d-85a0-81e5ad7fc493",
   "metadata": {},
   "source": [
    "Minimizing generalization error one of main goals of machine learning and many ways to do this:\n",
    "\n",
    "1. By tuning the complexity of the model using grid search\n",
    "2. By reducing the bias or the variance directly"
   ]
  },
  {
   "cell_type": "markdown",
   "id": "44e6ee74-1616-4ee5-9a38-caf6ddcd4ffa",
   "metadata": {},
   "source": [
    "**Grid Search using Parameter Grid**"
   ]
  },
  {
   "cell_type": "markdown",
   "id": "8f4208f4-b01e-4e3a-933d-939eca45a3dc",
   "metadata": {},
   "source": [
    "*start by fitting k-NN Classifier*"
   ]
  },
  {
   "cell_type": "code",
   "execution_count": 1,
   "id": "dcca8e4b-31b3-4f70-b398-03ea70f73f26",
   "metadata": {},
   "outputs": [
    {
     "data": {
      "text/html": [
       "<div>\n",
       "<style scoped>\n",
       "    .dataframe tbody tr th:only-of-type {\n",
       "        vertical-align: middle;\n",
       "    }\n",
       "\n",
       "    .dataframe tbody tr th {\n",
       "        vertical-align: top;\n",
       "    }\n",
       "\n",
       "    .dataframe thead th {\n",
       "        text-align: right;\n",
       "    }\n",
       "</style>\n",
       "<table border=\"1\" class=\"dataframe\">\n",
       "  <thead>\n",
       "    <tr style=\"text-align: right;\">\n",
       "      <th></th>\n",
       "      <th>age</th>\n",
       "      <th>trestbps</th>\n",
       "      <th>chol</th>\n",
       "      <th>thalach</th>\n",
       "      <th>oldpeak</th>\n",
       "      <th>ca</th>\n",
       "      <th>disease</th>\n",
       "    </tr>\n",
       "  </thead>\n",
       "  <tbody>\n",
       "    <tr>\n",
       "      <th>0</th>\n",
       "      <td>63</td>\n",
       "      <td>145</td>\n",
       "      <td>233</td>\n",
       "      <td>150</td>\n",
       "      <td>2.3</td>\n",
       "      <td>0</td>\n",
       "      <td>absence</td>\n",
       "    </tr>\n",
       "    <tr>\n",
       "      <th>1</th>\n",
       "      <td>67</td>\n",
       "      <td>160</td>\n",
       "      <td>286</td>\n",
       "      <td>108</td>\n",
       "      <td>1.5</td>\n",
       "      <td>3</td>\n",
       "      <td>presence</td>\n",
       "    </tr>\n",
       "    <tr>\n",
       "      <th>2</th>\n",
       "      <td>67</td>\n",
       "      <td>120</td>\n",
       "      <td>229</td>\n",
       "      <td>129</td>\n",
       "      <td>2.6</td>\n",
       "      <td>2</td>\n",
       "      <td>presence</td>\n",
       "    </tr>\n",
       "    <tr>\n",
       "      <th>3</th>\n",
       "      <td>37</td>\n",
       "      <td>130</td>\n",
       "      <td>250</td>\n",
       "      <td>187</td>\n",
       "      <td>3.5</td>\n",
       "      <td>0</td>\n",
       "      <td>absence</td>\n",
       "    </tr>\n",
       "    <tr>\n",
       "      <th>4</th>\n",
       "      <td>41</td>\n",
       "      <td>130</td>\n",
       "      <td>204</td>\n",
       "      <td>172</td>\n",
       "      <td>1.4</td>\n",
       "      <td>0</td>\n",
       "      <td>absence</td>\n",
       "    </tr>\n",
       "  </tbody>\n",
       "</table>\n",
       "</div>"
      ],
      "text/plain": [
       "   age  trestbps  chol  thalach  oldpeak  ca   disease\n",
       "0   63       145   233      150      2.3   0   absence\n",
       "1   67       160   286      108      1.5   3  presence\n",
       "2   67       120   229      129      2.6   2  presence\n",
       "3   37       130   250      187      3.5   0   absence\n",
       "4   41       130   204      172      1.4   0   absence"
      ]
     },
     "execution_count": 1,
     "metadata": {},
     "output_type": "execute_result"
    }
   ],
   "source": [
    "import pandas as pd\n",
    "\n",
    "# Load data\n",
    "data_df = pd.read_csv(\"c4_heart-numerical.csv\")\n",
    "\n",
    "# Create X/y arrays\n",
    "X = data_df.drop(\"disease\", axis=1).values\n",
    "y = data_df.disease.values\n",
    "\n",
    "data_df.head()"
   ]
  },
  {
   "cell_type": "code",
   "execution_count": 2,
   "id": "c8c7ff75-a32f-4016-9b0b-c7454eb69ec9",
   "metadata": {},
   "outputs": [],
   "source": [
    "from sklearn.model_selection import train_test_split\n",
    "\n",
    "# Split data into train/test sets\n",
    "X_tr, X_te, y_tr, y_te = train_test_split(X, y, test_size=0.3, random_state=0)"
   ]
  },
  {
   "cell_type": "markdown",
   "id": "ffecfa29-8cde-4172-ab09-244c61d7353e",
   "metadata": {},
   "source": [
    "Using default values ie without setting any parameters:"
   ]
  },
  {
   "cell_type": "code",
   "execution_count": 3,
   "id": "1469f31f-581b-457b-936f-6f215fa1c73c",
   "metadata": {},
   "outputs": [
    {
     "name": "stdout",
     "output_type": "stream",
     "text": [
      "Accuracy: 0.747\n"
     ]
    }
   ],
   "source": [
    "from sklearn.pipeline import Pipeline\n",
    "from sklearn.preprocessing import StandardScaler\n",
    "from sklearn.neighbors import KNeighborsClassifier\n",
    "\n",
    "# Create a k-NN classifier with default values\n",
    "pipe = Pipeline([(\"scaler\", StandardScaler()), (\"knn\", KNeighborsClassifier())])\n",
    "\n",
    "# Fit to train data\n",
    "pipe.fit(X_tr, y_tr)\n",
    "\n",
    "# Evaluate on test set\n",
    "accuracy = pipe.score(X_te, y_te)\n",
    "print(\"Accuracy: {:.3f}\".format(accuracy))"
   ]
  },
  {
   "cell_type": "markdown",
   "id": "d79dffdd-660a-4f3d-a3d6-56ca6f51bb57",
   "metadata": {},
   "source": [
    "*Grid Search for multiple parameters*"
   ]
  },
  {
   "cell_type": "markdown",
   "id": "23fe5b95-682d-459c-8113-d58dc19aec1b",
   "metadata": {},
   "source": [
    "To improve k-NN classifier need to tune hyperparameters:\n",
    "\n",
    "1. n_neighbors - the number of neighbors.\n",
    "2. p - the distance metric. Scikit-learn implements the L1 & L2 ones.\n",
    "3. weights - The weighting function for the majority vote.\n",
    "\n",
    "When doing the majority vote, the classifier can use a weighting function. By default, all points have the same weight. This corresponds to the 'uniform' strategy. However, we can also give more weights to closer data points. For instance, the 'distance' strategy assigns a weight inversely proportional to their distance."
   ]
  },
  {
   "cell_type": "code",
   "execution_count": 5,
   "id": "d9ad19cc-85b4-4511-88a0-9093eb553fe8",
   "metadata": {},
   "outputs": [],
   "source": [
    "import numpy as np\n",
    "\n",
    "# Define a set of reasonable values\n",
    "k_values = np.arange(1, 21)  # 1, 2, 3, .., 20\n",
    "weights_functions = [\"uniform\", \"distance\"]\n",
    "distance_types = [1, 2]  # L1, L2 distances"
   ]
  },
  {
   "cell_type": "code",
   "execution_count": 6,
   "id": "8f71a910-efd0-42b7-9e44-307f1fc252bf",
   "metadata": {},
   "outputs": [],
   "source": [
    "# Create a k-NN classifier\n",
    "pipe = Pipeline([(\"scaler\", StandardScaler()), (\"knn\", KNeighborsClassifier())])\n",
    "\n",
    "# Save accuracy on test set\n",
    "test_scores = []\n",
    "\n",
    "# Grid search\n",
    "for k in k_values:\n",
    "    for f in weights_functions:\n",
    "        for d in distance_types:\n",
    "            # Set hyperparameters\n",
    "            pipe.set_params(knn__n_neighbors=k, knn__weights=f, knn__p=d)\n",
    "\n",
    "            # Fit a k-NN classifier\n",
    "            pipe.fit(X_tr, y_tr)\n",
    "\n",
    "            # Evaluate on test set\n",
    "            accuracy = pipe.score(X_te, y_te)\n",
    "\n",
    "            # Save accuracy\n",
    "            test_scores.append(\n",
    "                {\n",
    "                    \"knn__n_neighbors\": k,\n",
    "                    \"knn__weights\": f,\n",
    "                    \"knn__p\": d,\n",
    "                    \"accuracy\": accuracy,\n",
    "                }\n",
    "            )"
   ]
  },
  {
   "cell_type": "code",
   "execution_count": 7,
   "id": "fd2d175c-e197-40de-bbad-5327c52faba6",
   "metadata": {},
   "outputs": [
    {
     "data": {
      "text/html": [
       "<div>\n",
       "<style scoped>\n",
       "    .dataframe tbody tr th:only-of-type {\n",
       "        vertical-align: middle;\n",
       "    }\n",
       "\n",
       "    .dataframe tbody tr th {\n",
       "        vertical-align: top;\n",
       "    }\n",
       "\n",
       "    .dataframe thead th {\n",
       "        text-align: right;\n",
       "    }\n",
       "</style>\n",
       "<table border=\"1\" class=\"dataframe\">\n",
       "  <thead>\n",
       "    <tr style=\"text-align: right;\">\n",
       "      <th></th>\n",
       "      <th>knn__n_neighbors</th>\n",
       "      <th>knn__weights</th>\n",
       "      <th>knn__p</th>\n",
       "      <th>accuracy</th>\n",
       "    </tr>\n",
       "  </thead>\n",
       "  <tbody>\n",
       "    <tr>\n",
       "      <th>14</th>\n",
       "      <td>4</td>\n",
       "      <td>distance</td>\n",
       "      <td>1</td>\n",
       "      <td>0.813187</td>\n",
       "    </tr>\n",
       "    <tr>\n",
       "      <th>28</th>\n",
       "      <td>8</td>\n",
       "      <td>uniform</td>\n",
       "      <td>1</td>\n",
       "      <td>0.813187</td>\n",
       "    </tr>\n",
       "    <tr>\n",
       "      <th>12</th>\n",
       "      <td>4</td>\n",
       "      <td>uniform</td>\n",
       "      <td>1</td>\n",
       "      <td>0.802198</td>\n",
       "    </tr>\n",
       "    <tr>\n",
       "      <th>32</th>\n",
       "      <td>9</td>\n",
       "      <td>uniform</td>\n",
       "      <td>1</td>\n",
       "      <td>0.802198</td>\n",
       "    </tr>\n",
       "    <tr>\n",
       "      <th>30</th>\n",
       "      <td>8</td>\n",
       "      <td>distance</td>\n",
       "      <td>1</td>\n",
       "      <td>0.802198</td>\n",
       "    </tr>\n",
       "  </tbody>\n",
       "</table>\n",
       "</div>"
      ],
      "text/plain": [
       "    knn__n_neighbors knn__weights  knn__p  accuracy\n",
       "14                 4     distance       1  0.813187\n",
       "28                 8      uniform       1  0.813187\n",
       "12                 4      uniform       1  0.802198\n",
       "32                 9      uniform       1  0.802198\n",
       "30                 8     distance       1  0.802198"
      ]
     },
     "execution_count": 7,
     "metadata": {},
     "output_type": "execute_result"
    }
   ],
   "source": [
    "# Create DataFrame with test scores\n",
    "scores_df = pd.DataFrame(test_scores)\n",
    "\n",
    "# Top five scores\n",
    "scores_df.sort_values(by=\"accuracy\", ascending=False).head()"
   ]
  },
  {
   "cell_type": "markdown",
   "id": "653f66cb-81dc-4843-a20d-ab4e098a1eb4",
   "metadata": {},
   "source": [
    "Can see its possible to achieve 80% accuracy with L1 distance metric, however becomes complicated quickly if more hyperparameters to tune or several different grids to evaluate."
   ]
  },
  {
   "cell_type": "markdown",
   "id": "2a11b549-81e5-4f4c-b23b-28f0eae73197",
   "metadata": {},
   "source": [
    "**Grid Search using ParameterGird**"
   ]
  },
  {
   "cell_type": "markdown",
   "id": "46c2663c-ad05-4596-ad11-805956ac3c00",
   "metadata": {},
   "source": [
    "Takes a dictionary of (parameter, values) pairs"
   ]
  },
  {
   "cell_type": "code",
   "execution_count": 8,
   "id": "fcabf7f1-dde5-4462-a9e8-ea57eaa89bea",
   "metadata": {},
   "outputs": [
    {
     "name": "stdout",
     "output_type": "stream",
     "text": [
      "Number of combinations: 80\n"
     ]
    }
   ],
   "source": [
    "from sklearn.model_selection import ParameterGrid\n",
    "\n",
    "# Define a grid of values\n",
    "grid = ParameterGrid(\n",
    "    {\n",
    "        \"knn__n_neighbors\": k_values,\n",
    "        \"knn__weights\": weights_functions,\n",
    "        \"knn__p\": distance_types,\n",
    "    }\n",
    ")\n",
    "\n",
    "# Print the number of combinations\n",
    "print(\"Number of combinations:\", len(grid))\n",
    "# Prints: 80"
   ]
  },
  {
   "cell_type": "markdown",
   "id": "7f91aa33-46f7-46ea-9c15-1d9b68d1985d",
   "metadata": {},
   "source": [
    "This grid variable represents all combinations of paramters and can use it as a list."
   ]
  },
  {
   "cell_type": "code",
   "execution_count": 9,
   "id": "f56c7131-a0ed-4a54-b957-65d8c551e787",
   "metadata": {},
   "outputs": [
    {
     "name": "stdout",
     "output_type": "stream",
     "text": [
      "{'knn__n_neighbors': 1, 'knn__p': 1, 'knn__weights': 'uniform'}\n",
      "{'knn__n_neighbors': 1, 'knn__p': 1, 'knn__weights': 'distance'}\n",
      "{'knn__n_neighbors': 1, 'knn__p': 2, 'knn__weights': 'uniform'}\n",
      "{'knn__n_neighbors': 1, 'knn__p': 2, 'knn__weights': 'distance'}\n",
      "{'knn__n_neighbors': 2, 'knn__p': 1, 'knn__weights': 'uniform'}\n"
     ]
    }
   ],
   "source": [
    "# Iterate through each combination of parameters\n",
    "for params_dict in list(grid)[\n",
    "    :5\n",
    "]:  # We use list(iter) in order to be able to slice and show only 5 first elements\n",
    "    print(params_dict)"
   ]
  },
  {
   "cell_type": "markdown",
   "id": "30f43b4a-8f9d-4d13-83b9-c5fc19cc9d2e",
   "metadata": {},
   "source": [
    "Each iteration contains a dictionary with current combination of values. We can now use this to spply within grid search:"
   ]
  },
  {
   "cell_type": "code",
   "execution_count": 10,
   "id": "7c01d472-493d-4768-8280-7c1bb3b3dbec",
   "metadata": {},
   "outputs": [],
   "source": [
    "# Create k-NN classifier\n",
    "pipe = Pipeline([(\"scaler\", StandardScaler()), (\"knn\", KNeighborsClassifier())])\n",
    "\n",
    "# Save accuracy on test set\n",
    "test_scores = []\n",
    "\n",
    "for params_dict in grid:\n",
    "    # Set parameters\n",
    "    pipe.set_params(**params_dict)\n",
    "\n",
    "    # Fit a k-NN classifier\n",
    "    pipe.fit(X_tr, y_tr)\n",
    "\n",
    "    # Save accuracy on test set\n",
    "    params_dict[\"accuracy\"] = pipe.score(X_te, y_te)\n",
    "\n",
    "    # Save result\n",
    "    test_scores.append(params_dict)"
   ]
  },
  {
   "cell_type": "markdown",
   "id": "63a513ab-8efe-42de-8898-6ec74ed17248",
   "metadata": {},
   "source": [
    "** as using kwargs syntax which is way to work with keyword arguments. in short, idea set arguments to function using dictionary of (keyword, value)"
   ]
  },
  {
   "cell_type": "code",
   "execution_count": 11,
   "id": "66e5166f-d9f6-40af-ae56-6a5618437cd6",
   "metadata": {},
   "outputs": [
    {
     "data": {
      "text/plain": [
       "Pipeline(steps=[('scaler', StandardScaler()),\n",
       "                ('knn', KNeighborsClassifier(n_neighbors=1, p=1))])"
      ]
     },
     "execution_count": 11,
     "metadata": {},
     "output_type": "execute_result"
    }
   ],
   "source": [
    "# Value of params_dict for the first combination\n",
    "params_dict = {\"knn__n_neighbors\": 1, \"knn__p\": 1, \"knn__weights\": \"uniform\"}\n",
    "\n",
    "# Setting the parameters using the **kwargs syntax\n",
    "pipe.set_params(**params_dict)\n",
    "\n",
    "# .. is equivalent to\n",
    "pipe.set_params(knn__n_neighbors=1, knn__p=1, knn__weights=\"uniform\")"
   ]
  },
  {
   "cell_type": "code",
   "execution_count": 12,
   "id": "55dd2197-62dc-4b73-84fc-1e202d904b36",
   "metadata": {},
   "outputs": [
    {
     "data": {
      "text/html": [
       "<div>\n",
       "<style scoped>\n",
       "    .dataframe tbody tr th:only-of-type {\n",
       "        vertical-align: middle;\n",
       "    }\n",
       "\n",
       "    .dataframe tbody tr th {\n",
       "        vertical-align: top;\n",
       "    }\n",
       "\n",
       "    .dataframe thead th {\n",
       "        text-align: right;\n",
       "    }\n",
       "</style>\n",
       "<table border=\"1\" class=\"dataframe\">\n",
       "  <thead>\n",
       "    <tr style=\"text-align: right;\">\n",
       "      <th></th>\n",
       "      <th>knn__n_neighbors</th>\n",
       "      <th>knn__p</th>\n",
       "      <th>knn__weights</th>\n",
       "      <th>accuracy</th>\n",
       "    </tr>\n",
       "  </thead>\n",
       "  <tbody>\n",
       "    <tr>\n",
       "      <th>28</th>\n",
       "      <td>8</td>\n",
       "      <td>1</td>\n",
       "      <td>uniform</td>\n",
       "      <td>0.813187</td>\n",
       "    </tr>\n",
       "    <tr>\n",
       "      <th>13</th>\n",
       "      <td>4</td>\n",
       "      <td>1</td>\n",
       "      <td>distance</td>\n",
       "      <td>0.813187</td>\n",
       "    </tr>\n",
       "    <tr>\n",
       "      <th>32</th>\n",
       "      <td>9</td>\n",
       "      <td>1</td>\n",
       "      <td>uniform</td>\n",
       "      <td>0.802198</td>\n",
       "    </tr>\n",
       "    <tr>\n",
       "      <th>12</th>\n",
       "      <td>4</td>\n",
       "      <td>1</td>\n",
       "      <td>uniform</td>\n",
       "      <td>0.802198</td>\n",
       "    </tr>\n",
       "    <tr>\n",
       "      <th>37</th>\n",
       "      <td>10</td>\n",
       "      <td>1</td>\n",
       "      <td>distance</td>\n",
       "      <td>0.802198</td>\n",
       "    </tr>\n",
       "  </tbody>\n",
       "</table>\n",
       "</div>"
      ],
      "text/plain": [
       "    knn__n_neighbors  knn__p knn__weights  accuracy\n",
       "28                 8       1      uniform  0.813187\n",
       "13                 4       1     distance  0.813187\n",
       "32                 9       1      uniform  0.802198\n",
       "12                 4       1      uniform  0.802198\n",
       "37                10       1     distance  0.802198"
      ]
     },
     "execution_count": 12,
     "metadata": {},
     "output_type": "execute_result"
    }
   ],
   "source": [
    "# Create DataFrame with test scores\n",
    "scores_df = pd.DataFrame(test_scores)\n",
    "\n",
    "# Top five scores\n",
    "scores_df.sort_values(by=\"accuracy\", ascending=False).head()"
   ]
  },
  {
   "cell_type": "markdown",
   "id": "bb4c0394-ece1-467d-8b01-82a6c5c5bb63",
   "metadata": {},
   "source": [
    "**Multiple Grids**"
   ]
  },
  {
   "cell_type": "code",
   "execution_count": 13,
   "id": "74ac5b23-7ec4-4c63-8c85-4402362c6753",
   "metadata": {},
   "outputs": [
    {
     "data": {
      "text/plain": [
       "[{'knn__n_neighbors': 2, 'knn__p': 1},\n",
       " {'knn__n_neighbors': 2, 'knn__p': 2},\n",
       " {'knn__n_neighbors': 3, 'knn__p': 1},\n",
       " {'knn__n_neighbors': 3, 'knn__p': 2},\n",
       " {'knn__p': 1, 'knn__weights': 'uniform'},\n",
       " {'knn__p': 1, 'knn__weights': 'distance'},\n",
       " {'knn__p': 2, 'knn__weights': 'uniform'},\n",
       " {'knn__p': 2, 'knn__weights': 'distance'}]"
      ]
     },
     "execution_count": 13,
     "metadata": {},
     "output_type": "execute_result"
    }
   ],
   "source": [
    "# Define two grids\n",
    "grid = ParameterGrid(\n",
    "    [\n",
    "        {\"knn__n_neighbors\": [2, 3], \"knn__p\": [1, 2]},\n",
    "        {\"knn__weights\": [\"uniform\", \"distance\"], \"knn__p\": [1, 2]},\n",
    "    ]\n",
    ")\n",
    "\n",
    "# List combinations\n",
    "list(grid)"
   ]
  },
  {
   "cell_type": "markdown",
   "id": "a0de4855-a87b-41f1-9cee-fd8ff237c914",
   "metadata": {},
   "source": [
    "Both grids missing part of required Hparams but can set to default value"
   ]
  },
  {
   "cell_type": "code",
   "execution_count": 14,
   "id": "bde8a055-d7cd-43e7-9f7c-46f5d26f5d0d",
   "metadata": {},
   "outputs": [
    {
     "data": {
      "text/plain": [
       "[{'knn__n_neighbors': 2, 'knn__p': 1, 'knn__weights': 'uniform'},\n",
       " {'knn__n_neighbors': 2, 'knn__p': 2, 'knn__weights': 'uniform'},\n",
       " {'knn__n_neighbors': 3, 'knn__p': 1, 'knn__weights': 'uniform'},\n",
       " {'knn__n_neighbors': 3, 'knn__p': 2, 'knn__weights': 'uniform'},\n",
       " {'knn__n_neighbors': 5, 'knn__p': 1, 'knn__weights': 'uniform'},\n",
       " {'knn__n_neighbors': 5, 'knn__p': 1, 'knn__weights': 'distance'},\n",
       " {'knn__n_neighbors': 5, 'knn__p': 2, 'knn__weights': 'uniform'},\n",
       " {'knn__n_neighbors': 5, 'knn__p': 2, 'knn__weights': 'distance'}]"
      ]
     },
     "execution_count": 14,
     "metadata": {},
     "output_type": "execute_result"
    }
   ],
   "source": [
    "# Define two grids\n",
    "grid = ParameterGrid(\n",
    "    [\n",
    "        {\n",
    "            \"knn__n_neighbors\": [2, 3],\n",
    "            \"knn__weights\": [\"uniform\"],  # Default value: uniform\n",
    "            \"knn__p\": [1, 2],\n",
    "        },\n",
    "        {\n",
    "            \"knn__n_neighbors\": [5],  # Default value: 5\n",
    "            \"knn__weights\": [\"uniform\", \"distance\"],\n",
    "            \"knn__p\": [1, 2],\n",
    "        },\n",
    "    ]\n",
    ")\n",
    "\n",
    "# List combinations\n",
    "list(grid)"
   ]
  },
  {
   "cell_type": "markdown",
   "id": "0482d460-eb78-4b4c-9675-a0b4333d55d2",
   "metadata": {},
   "source": [
    "**Optional Steps**"
   ]
  },
  {
   "cell_type": "markdown",
   "id": "1a9e5642-c86e-4057-ad28-b8d90bdb1dbe",
   "metadata": {},
   "source": [
    "Possible to disable a step by setting it to None... eg without standardization would be:"
   ]
  },
  {
   "cell_type": "code",
   "execution_count": 15,
   "id": "7df36b11-dc06-49e3-9d9a-d36f84d2394b",
   "metadata": {},
   "outputs": [
    {
     "data": {
      "text/plain": [
       "[{'knn__n_neighbors': 5, 'scaler': None},\n",
       " {'knn__n_neighbors': 5, 'scaler': StandardScaler()},\n",
       " {'knn__n_neighbors': 10, 'scaler': None},\n",
       " {'knn__n_neighbors': 10, 'scaler': StandardScaler()},\n",
       " {'knn__n_neighbors': 15, 'scaler': None},\n",
       " {'knn__n_neighbors': 15, 'scaler': StandardScaler()}]"
      ]
     },
     "execution_count": 15,
     "metadata": {},
     "output_type": "execute_result"
    }
   ],
   "source": [
    "# Grid with optional steps\n",
    "grid = ParameterGrid(\n",
    "    {\n",
    "        \"scaler\": [None, StandardScaler()],\n",
    "        \"knn__n_neighbors\": [5, 10, 15],\n",
    "    }\n",
    ")\n",
    "\n",
    "# List combinations\n",
    "list(grid)"
   ]
  },
  {
   "cell_type": "code",
   "execution_count": null,
   "id": "6360d970-1b28-4ad8-b793-de6285c1a609",
   "metadata": {},
   "outputs": [],
   "source": []
  }
 ],
 "metadata": {
  "kernelspec": {
   "display_name": "Python [conda env:adsml] *",
   "language": "python",
   "name": "conda-env-adsml-py"
  },
  "language_info": {
   "codemirror_mode": {
    "name": "ipython",
    "version": 3
   },
   "file_extension": ".py",
   "mimetype": "text/x-python",
   "name": "python",
   "nbconvert_exporter": "python",
   "pygments_lexer": "ipython3",
   "version": "3.9.7"
  }
 },
 "nbformat": 4,
 "nbformat_minor": 5
}
